{
 "cells": [
  {
   "cell_type": "code",
   "execution_count": null,
   "id": "c7c78a9e",
   "metadata": {},
   "outputs": [],
   "source": [
    "import os\n",
    "from dotenv import load_dotenv\n",
    "load_dotenv()"
   ]
  },
  {
   "cell_type": "code",
   "execution_count": null,
   "id": "5e363481",
   "metadata": {},
   "outputs": [],
   "source": [
    "from openai import OpenAI\n",
    "import os\n",
    "client = OpenAI(\n",
    "    api_.key = os.getenv('OPENAI_API_KEY')\n",
    ")\n",
    "models = client.models.list()\n",
    "for model in models:\n",
    "    print(model.id)"
   ]
  },
  {
   "cell_type": "code",
   "execution_count": null,
   "id": "4e31b552",
   "metadata": {},
   "outputs": [],
   "source": [
    "from google.cloud import speech\n",
    "import openai\n",
    "import os\n",
    "\n",
    "os.environ[\"GOOGLE_APPLICATION_CREDENTIALS\"] = os.getenv('GOOGLE_APPLICATION_CREDENTIAL_SERVICE')\n",
    "\n",
    "def transcribe_audio(audio_file_path):\n",
    "    client = speech.SpeechClient()\n",
    "    with open(audio_file_path, \"rb\") as audio_file:\n",
    "        audio = speech.RecognitionAudio(content=audio_file.read())\n",
    "    \n",
    "    config = speech.RecognitionConfig(\n",
    "        encoding=speech.RecognitionConfig.AudioEncoding.LINEAR16,\n",
    "        sample_rate_hertz=16000,\n",
    "        language_code=\"en-US\",\n",
    "    )\n",
    "\n",
    "    response = client.recognize(config=config, audio=audio)\n",
    "    transcript = \" \".join([result.alternatives[0].transcript for result in response.results])\n",
    "    return transcript\n",
    "\n",
    "def summarize_text(text, model=\"gpt-4o-mini-2024-07-18\"):\n",
    "    openai.api_key = os.getenv(\"OPENAI_API_KEY\")\n",
    "    response = openai.ChatCompletion.create(\n",
    "        model=model,\n",
    "        messages=[\n",
    "            {\"role\": \"system\", \"content\": \"Summarize the following text.\"},\n",
    "            {\"role\": \"user\", \"content\": text}\n",
    "        ]\n",
    "    )\n",
    "    return response.choices[0].message[\"content\"]\n",
    "\n",
    "audio_file = \"test.wav\"\n",
    "transcript = transcribe_audio(audio_file)\n",
    "summary = summarize_text(transcript)\n",
    "print(\"Transcript:\", transcript)\n",
    "print(\"Summary:\", summary)\n"
   ]
  }
 ],
 "metadata": {
  "kernelspec": {
   "display_name": "Python 3 (ipykernel)",
   "language": "python",
   "name": "python3"
  },
  "language_info": {
   "codemirror_mode": {
    "name": "ipython",
    "version": 3
   },
   "file_extension": ".py",
   "mimetype": "text/x-python",
   "name": "python",
   "nbconvert_exporter": "python",
   "pygments_lexer": "ipython3",
   "version": "3.11.5"
  }
 },
 "nbformat": 4,
 "nbformat_minor": 5
}
