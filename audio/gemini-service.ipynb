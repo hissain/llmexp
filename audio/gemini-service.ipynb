{
 "cells": [
  {
   "cell_type": "code",
   "execution_count": null,
   "id": "f34673b8",
   "metadata": {},
   "outputs": [],
   "source": [
    "import os\n",
    "from dotenv import load_dotenv\n",
    "\n",
    "load_dotenv()"
   ]
  },
  {
   "cell_type": "code",
   "execution_count": null,
   "id": "6799f36d",
   "metadata": {},
   "outputs": [],
   "source": [
    "import google.generativeai as genai\n",
    "for m in genai.list_models():\n",
    "    if 'generateContent' in m.supported_generation_methods:\n",
    "        print(m.name)"
   ]
  },
  {
   "cell_type": "code",
   "execution_count": null,
   "id": "f4591b3d",
   "metadata": {},
   "outputs": [],
   "source": [
    "model = genai.GenerativeModel('gemini-1.5-pro-latest')"
   ]
  },
  {
   "cell_type": "code",
   "execution_count": null,
   "id": "45f18759",
   "metadata": {},
   "outputs": [],
   "source": [
    "response = model.generate_content(\"Please provide a list of the most influential people in the world.\")\n",
    "print(response.text)"
   ]
  },
  {
   "cell_type": "code",
   "execution_count": null,
   "id": "09809753",
   "metadata": {},
   "outputs": [],
   "source": [
    "import os\n",
    "os.environ['GOOGLE_APPLICATION_CREDENTIALS'] = os.getenv('GOOGLE_APPLICATION_CREDENTIAL_SERVICE')\n",
    "google_project_id = os.getenv('GOOGLE_PROJECT_ID')\n",
    "location = 'us-central1'"
   ]
  },
  {
   "cell_type": "code",
   "execution_count": null,
   "id": "66bf7f9b",
   "metadata": {},
   "outputs": [],
   "source": [
    "from google.cloud import aiplatform\n",
    "aiplatform.init(project=google_project_id, location=location)"
   ]
  },
  {
   "cell_type": "code",
   "execution_count": null,
   "id": "9c070849",
   "metadata": {},
   "outputs": [],
   "source": [
    "def summarize_audio(project_id: str) -> str:\n",
    "\n",
    "    import vertexai\n",
    "    from vertexai.generative_models import GenerativeModel, Part\n",
    "\n",
    "    vertexai.init(project=project_id, location=\"us-central1\")\n",
    "\n",
    "    model = GenerativeModel(model_name=\"gemini-1.5-pro-preview-0409\")\n",
    "\n",
    "    prompt = \"\"\"\n",
    "    Please provide a summary for the audio.\n",
    "    \"\"\"\n",
    "\n",
    "    audio_file_uri = \"test.wav\"\n",
    "    audio_file = Part.from_uri(audio_file_uri, mime_type=\"audio/wav\")\n",
    "\n",
    "    contents = [audio_file, prompt]\n",
    "\n",
    "    response = model.generate_content(contents)\n",
    "    print(response.text)\n",
    "\n",
    "    return response.text"
   ]
  },
  {
   "cell_type": "code",
   "execution_count": null,
   "id": "8c7e8de7",
   "metadata": {},
   "outputs": [],
   "source": [
    "summary = summarize_audio(google_project_id)"
   ]
  }
 ],
 "metadata": {
  "kernelspec": {
   "display_name": "Python 3 (ipykernel)",
   "language": "python",
   "name": "python3"
  },
  "language_info": {
   "codemirror_mode": {
    "name": "ipython",
    "version": 3
   },
   "file_extension": ".py",
   "mimetype": "text/x-python",
   "name": "python",
   "nbconvert_exporter": "python",
   "pygments_lexer": "ipython3",
   "version": "3.11.5"
  }
 },
 "nbformat": 4,
 "nbformat_minor": 5
}
