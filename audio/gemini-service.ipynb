{
 "cells": [
  {
   "cell_type": "code",
   "execution_count": 22,
   "id": "94c49858",
   "metadata": {},
   "outputs": [
    {
     "data": {
      "text/plain": [
       "True"
      ]
     },
     "execution_count": 22,
     "metadata": {},
     "output_type": "execute_result"
    }
   ],
   "source": [
    "import os\n",
    "from dotenv import load_dotenv\n",
    "load_dotenv()"
   ]
  },
  {
   "cell_type": "code",
   "execution_count": 23,
   "id": "b610d9b6",
   "metadata": {},
   "outputs": [
    {
     "name": "stdout",
     "output_type": "stream",
     "text": [
      "models/chat-bison-001\n",
      "models/text-bison-001\n",
      "models/embedding-gecko-001\n",
      "models/gemini-1.0-pro-latest\n",
      "models/gemini-1.0-pro\n",
      "models/gemini-pro\n",
      "models/gemini-1.0-pro-001\n",
      "models/gemini-1.0-pro-vision-latest\n",
      "models/gemini-pro-vision\n",
      "models/gemini-1.5-pro-latest\n",
      "models/gemini-1.5-pro-001\n",
      "models/gemini-1.5-pro-002\n",
      "models/gemini-1.5-pro\n",
      "models/gemini-1.5-pro-exp-0801\n",
      "models/gemini-1.5-pro-exp-0827\n",
      "models/gemini-1.5-flash-latest\n",
      "models/gemini-1.5-flash-001\n",
      "models/gemini-1.5-flash-001-tuning\n",
      "models/gemini-1.5-flash\n",
      "models/gemini-1.5-flash-exp-0827\n",
      "models/gemini-1.5-flash-002\n",
      "models/gemini-1.5-flash-8b\n",
      "models/gemini-1.5-flash-8b-001\n",
      "models/gemini-1.5-flash-8b-latest\n",
      "models/gemini-1.5-flash-8b-exp-0827\n",
      "models/gemini-1.5-flash-8b-exp-0924\n",
      "models/gemini-2.0-flash-exp\n",
      "models/gemini-exp-1206\n",
      "models/gemini-exp-1121\n",
      "models/gemini-exp-1114\n",
      "models/gemini-2.0-flash-thinking-exp\n",
      "models/gemini-2.0-flash-thinking-exp-1219\n",
      "models/learnlm-1.5-pro-experimental\n",
      "models/embedding-001\n",
      "models/text-embedding-004\n",
      "models/aqa\n"
     ]
    }
   ],
   "source": [
    "import google.generativeai as genai\n",
    "for m in genai.list_models():\n",
    "    #if 'generateContent' in m.supported_generation_methods:\n",
    "    print(m.name)"
   ]
  },
  {
   "cell_type": "code",
   "execution_count": 32,
   "id": "cbdf096b",
   "metadata": {},
   "outputs": [],
   "source": [
    "model = genai.GenerativeModel('gemini-1.5-flash')"
   ]
  },
  {
   "cell_type": "code",
   "execution_count": 34,
   "id": "6b9617d2",
   "metadata": {},
   "outputs": [
    {
     "name": "stdout",
     "output_type": "stream",
     "text": [
      "Defining \"influence\" is subjective and depends on the criteria used (political power, economic power, cultural impact, etc.).  There's no single definitive list, and any attempt will be inherently biased and incomplete. However, here's a list of individuals frequently cited as highly influential in various spheres, acknowledging the limitations of such a compilation:\n",
      "\n",
      "**Political Leaders:**\n",
      "\n",
      "* **Xi Jinping (China):**  Leader of the Chinese Communist Party, significantly shaping global geopolitics.\n",
      "* **Joe Biden (USA):** President of the United States, influencing global economics and foreign policy.\n",
      "* **Vladimir Putin (Russia):** President of Russia, a key figure in international relations and a significant geopolitical actor.\n",
      "* **Narendra Modi (India):** Prime Minister of India, leading the world's largest democracy and a major economic power.\n",
      "\n",
      "\n",
      "**Business Leaders:**\n",
      "\n",
      "* **Elon Musk (Tesla, SpaceX):**  Transformative figure in electric vehicles, space exploration, and social media.\n",
      "* **Jeff Bezos (Amazon):** Founder of Amazon, profoundly impacting e-commerce and global logistics.\n",
      "* **Mark Zuckerberg (Meta):** Founder of Facebook/Meta, wielding significant influence over social media and data.\n",
      "\n",
      "\n",
      "**Religious Leaders:**\n",
      "\n",
      "* **Pope Francis:** Head of the Catholic Church, influential in global social and moral discourse.\n",
      "\n",
      "\n",
      "**Activists and Thought Leaders:**\n",
      "\n",
      "* **Greta Thunberg:**  Prominent climate activist with global reach and influence on environmental policy.\n",
      "\n",
      "\n",
      "**It's important to note:**  This list is not exhaustive and excludes many other influential individuals across diverse fields like science, technology, medicine, and the arts.  The influence of these individuals is also constantly evolving.  Furthermore, the power dynamics shift frequently, making any such list a snapshot in time.  Finally, focusing solely on individuals overlooks the power of collective movements and organizations.\n",
      "\n"
     ]
    }
   ],
   "source": [
    "response = model.generate_content(\"Please provide a list of the most influential people in the world.\")\n",
    "print(response.text)"
   ]
  },
  {
   "cell_type": "code",
   "execution_count": null,
   "id": "5c743dd2",
   "metadata": {},
   "outputs": [],
   "source": [
    "import os\n",
    "os.environ['GOOGLE_APPLICATION_CREDENTIALS'] = os.getenv('GOOGLE_APPLICATION_CREDENTIAL_SERVICE')\n",
    "google_project_id = os.getenv('GOOGLE_PROJECT_ID')\n",
    "location = 'us-central1'"
   ]
  },
  {
   "cell_type": "code",
   "execution_count": null,
   "id": "98e1c0db",
   "metadata": {},
   "outputs": [],
   "source": [
    "from google.cloud import aiplatform\n",
    "aiplatform.init(project=google_project_id, location=location)"
   ]
  },
  {
   "cell_type": "code",
   "execution_count": null,
   "id": "e7178119",
   "metadata": {},
   "outputs": [],
   "source": [
    "def summarize_audio(project_id: str) -> str:\n",
    "\n",
    "    import vertexai\n",
    "    from vertexai.generative_models import GenerativeModel, Part\n",
    "\n",
    "    vertexai.init(project=project_id, location=\"us-central1\")\n",
    "\n",
    "    model = GenerativeModel(model_name=\"gemini-1.5-pro\")\n",
    "\n",
    "    prompt = \"\"\"\n",
    "    Please provide a summary for the audio.\n",
    "    \"\"\"\n",
    "\n",
    "    audio_file_uri = \"test.wav\"\n",
    "    audio_file = Part.from_uri(audio_file_uri, mime_type=\"audio/wav\")\n",
    "\n",
    "    contents = [audio_file, prompt]\n",
    "\n",
    "    response = model.generate_content(contents)\n",
    "    print(response.text)\n",
    "\n",
    "    return response.text"
   ]
  },
  {
   "cell_type": "code",
   "execution_count": null,
   "id": "1ce0dab7",
   "metadata": {},
   "outputs": [],
   "source": [
    "summary = summarize_audio(google_project_id)"
   ]
  }
 ],
 "metadata": {
  "kernelspec": {
   "display_name": "Python 3 (ipykernel)",
   "language": "python",
   "name": "python3"
  },
  "language_info": {
   "codemirror_mode": {
    "name": "ipython",
    "version": 3
   },
   "file_extension": ".py",
   "mimetype": "text/x-python",
   "name": "python",
   "nbconvert_exporter": "python",
   "pygments_lexer": "ipython3",
   "version": "3.11.5"
  }
 },
 "nbformat": 4,
 "nbformat_minor": 5
}
