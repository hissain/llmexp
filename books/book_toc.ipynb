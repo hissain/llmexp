{
 "cells": [
  {
   "cell_type": "code",
   "execution_count": 3,
   "id": "4a0d6d8a",
   "metadata": {},
   "outputs": [],
   "source": [
    "import requests\n",
    "import json\n",
    "import pandas as pd\n",
    "import re\n",
    "\n",
    "ollama_url_gen = \"http://localhost:11434/api/generate\"\n",
    "ollama_model_name = \"phi3\"\n",
    "\n",
    "def generate_toc_prompt(subject):\n",
    "    return f\"\"\"\n",
    "You are an expert assistant specializing in creating structured and logical book outlines.\n",
    "Your task is to generate a detailed Table of Contents for a book on the given subject.\n",
    "Each chapter must have a title, and chapters can include subsections and examples where applicable.\n",
    "The Table of Contents should be well-structured, logically ordered, and strictly formatted as a valid JSON object without any extra text.\n",
    "\n",
    "Format:\n",
    "{{\n",
    "    \"Table_of_Contents\": [\n",
    "        {{\n",
    "            \"Chapter 1\": \"Title of Chapter\",\n",
    "            \"Sections\": [\n",
    "                \"Section 1.1: Title of Section\",\n",
    "                \"Section 1.2: Title of Section\"\n",
    "            ]\n",
    "        }},\n",
    "        {{\n",
    "            \"Chapter 2\": \"Title of Chapter\",\n",
    "            \"Sections\": [\n",
    "                \"Section 2.1: Title of Section\",\n",
    "                \"Section 2.2: Title of Section\"\n",
    "            ]\n",
    "        }}\n",
    "    ]\n",
    "}}\n",
    "\n",
    "Subject: {subject}\n",
    "\"\"\"\n",
    "    payload = {\"model\": model, \"prompt\": prompt, \"stream\": False}\n",
    "    headers = {\"Content-Type\": \"application/json\"}\n",
    "    response = requests.post(ollama_url_gen, headers=headers, data=json.dumps(payload))\n",
    "    \n",
    "    if response.status_code != 200:\n",
    "        raise Exception(f\"Error from Ollama: {response.text}\")\n",
    "    \n",
    "    content = response.json().get(\"response\", \"\")\n",
    "    try:\n",
    "        # Extract potential JSON array or object\n",
    "        json_match = re.search(r\"\\{.*\\}|\\[.*\\]\", content, re.DOTALL)\n",
    "        if json_match:\n",
    "            raw_json = json_match.group()\n",
    "            \n",
    "            # Attempt to fix common issues, such as missing commas between JSON objects\n",
    "            sanitized_json = re.sub(r'(\\}|\"[^\"]*\")\\s*(\"[^\"]*\":)', r'\\1,\\2', raw_json)\n",
    "            return json.loads(sanitized_json)\n",
    "        else:\n",
    "            raise Exception(f\"Valid JSON not found in response: {content}\")\n",
    "    except json.JSONDecodeError as e:\n",
    "        raise Exception(f\"Failed to parse JSON response after sanitization: {sanitized_json}\") from e\n",
    "\n",
    "try:\n",
    "    toc = generate_toc(\"Prompt Engineering\")\n",
    "    print(json.dumps(toc, indent=4))\n",
    "except Exception as e:\n",
    "    print(str(e))\n"
   ]
  },
  {
   "cell_type": "code",
   "execution_count": 4,
   "id": "587866ed",
   "metadata": {},
   "outputs": [
    {
     "ename": "Exception",
     "evalue": "Failed to parse JSON response: {\n    \"Table_of_Contents\": [\n        {\n            \"Chapter 1\": \"Introduction to Prompt Engineering\"\n        },\n        {\n            \"Chapter 2\": \"History and Evolution of Chatbots\",\n            \"Section 2.1\": \"Early Developments in AI Communication\",\n            \"Section 2.2\": \"The Advent of Natural Language Processing (NLP)\"\n        },\n        {\n            \"Chapter 3\": \"Principles and Techniques of Prompt Engineering\"\n            \"Section 3.1\": \"Understanding the Principles behind Chatbot Interaction\",\n            \"Section 3.2\": \"Various Strategies in Crafting Effective Prompts\",\n            \"Example Section 3.2.a\": \"Case Studies on Successful and Failed Communication with AI\"        \n        },\n        {\n            \"Chapter 4\": \"Data Collection and Analysis for Optimizing Chatbot Responses\"\n            \"Section 4.1\": \"Methods of Data Gathering\",\n            \"Section 4.2\": \"Analyze Patterns in AI Conversations to Improve Interaction Quality\",        \n            \"Example Section 4.2.a\": \"Analyzing Chatbot Log Files for Trend Identification\"    \n        },\n        {\n            \"Chapter 5\": \"Tools and Technologies used in Prompt Engineering\",\n            \"Section 5.1\": \"Overview of Common Tools Used by Engineers (Linguistic Analysis Software, AI Development Frameworks)\",                        \n            \"Example Section 5.2.a\": \"Comparative Study: GPT-3 vs BERT for Prompt Design\",            \n            \"Section 5.2\": \"Choosing the Right Tools and Technologies\"          \n        },   \n        {\n            \"Chapter 6\": \"Ethical Considerations in AI Interaction, including Privacy Issues & Misinformation Risks\",\n            \"Section 6.1\": \"Privacy Laws Impacting User Data Handling and Storage during Chatbot Engagement\"             \n        },            \n    ]    \n}",
     "output_type": "error",
     "traceback": [
      "\u001b[0;31m---------------------------------------------------------------------------\u001b[0m",
      "\u001b[0;31mJSONDecodeError\u001b[0m                           Traceback (most recent call last)",
      "Cell \u001b[0;32mIn[3], line 29\u001b[0m, in \u001b[0;36mgenerate_toc\u001b[0;34m(subject, model)\u001b[0m\n\u001b[1;32m     28\u001b[0m sanitized_json \u001b[38;5;241m=\u001b[39m re\u001b[38;5;241m.\u001b[39msub(\u001b[38;5;124mr\u001b[39m\u001b[38;5;124m\"\u001b[39m\u001b[38;5;124m,\u001b[39m\u001b[38;5;124m\\\u001b[39m\u001b[38;5;124ms*]\u001b[39m\u001b[38;5;124m\"\u001b[39m, \u001b[38;5;124m\"\u001b[39m\u001b[38;5;124m]\u001b[39m\u001b[38;5;124m\"\u001b[39m, raw_json)\n\u001b[0;32m---> 29\u001b[0m qa_pairs \u001b[38;5;241m=\u001b[39m \u001b[43mjson\u001b[49m\u001b[38;5;241;43m.\u001b[39;49m\u001b[43mloads\u001b[49m\u001b[43m(\u001b[49m\u001b[43msanitized_json\u001b[49m\u001b[43m)\u001b[49m\n\u001b[1;32m     30\u001b[0m \u001b[38;5;28;01mreturn\u001b[39;00m qa_pairs\n",
      "File \u001b[0;32m~/anaconda3/lib/python3.11/json/__init__.py:346\u001b[0m, in \u001b[0;36mloads\u001b[0;34m(s, cls, object_hook, parse_float, parse_int, parse_constant, object_pairs_hook, **kw)\u001b[0m\n\u001b[1;32m    343\u001b[0m \u001b[38;5;28;01mif\u001b[39;00m (\u001b[38;5;28mcls\u001b[39m \u001b[38;5;129;01mis\u001b[39;00m \u001b[38;5;28;01mNone\u001b[39;00m \u001b[38;5;129;01mand\u001b[39;00m object_hook \u001b[38;5;129;01mis\u001b[39;00m \u001b[38;5;28;01mNone\u001b[39;00m \u001b[38;5;129;01mand\u001b[39;00m\n\u001b[1;32m    344\u001b[0m         parse_int \u001b[38;5;129;01mis\u001b[39;00m \u001b[38;5;28;01mNone\u001b[39;00m \u001b[38;5;129;01mand\u001b[39;00m parse_float \u001b[38;5;129;01mis\u001b[39;00m \u001b[38;5;28;01mNone\u001b[39;00m \u001b[38;5;129;01mand\u001b[39;00m\n\u001b[1;32m    345\u001b[0m         parse_constant \u001b[38;5;129;01mis\u001b[39;00m \u001b[38;5;28;01mNone\u001b[39;00m \u001b[38;5;129;01mand\u001b[39;00m object_pairs_hook \u001b[38;5;129;01mis\u001b[39;00m \u001b[38;5;28;01mNone\u001b[39;00m \u001b[38;5;129;01mand\u001b[39;00m \u001b[38;5;129;01mnot\u001b[39;00m kw):\n\u001b[0;32m--> 346\u001b[0m     \u001b[38;5;28;01mreturn\u001b[39;00m \u001b[43m_default_decoder\u001b[49m\u001b[38;5;241;43m.\u001b[39;49m\u001b[43mdecode\u001b[49m\u001b[43m(\u001b[49m\u001b[43ms\u001b[49m\u001b[43m)\u001b[49m\n\u001b[1;32m    347\u001b[0m \u001b[38;5;28;01mif\u001b[39;00m \u001b[38;5;28mcls\u001b[39m \u001b[38;5;129;01mis\u001b[39;00m \u001b[38;5;28;01mNone\u001b[39;00m:\n",
      "File \u001b[0;32m~/anaconda3/lib/python3.11/json/decoder.py:337\u001b[0m, in \u001b[0;36mJSONDecoder.decode\u001b[0;34m(self, s, _w)\u001b[0m\n\u001b[1;32m    333\u001b[0m \u001b[38;5;250m\u001b[39m\u001b[38;5;124;03m\"\"\"Return the Python representation of ``s`` (a ``str`` instance\u001b[39;00m\n\u001b[1;32m    334\u001b[0m \u001b[38;5;124;03mcontaining a JSON document).\u001b[39;00m\n\u001b[1;32m    335\u001b[0m \n\u001b[1;32m    336\u001b[0m \u001b[38;5;124;03m\"\"\"\u001b[39;00m\n\u001b[0;32m--> 337\u001b[0m obj, end \u001b[38;5;241m=\u001b[39m \u001b[38;5;28;43mself\u001b[39;49m\u001b[38;5;241;43m.\u001b[39;49m\u001b[43mraw_decode\u001b[49m\u001b[43m(\u001b[49m\u001b[43ms\u001b[49m\u001b[43m,\u001b[49m\u001b[43m \u001b[49m\u001b[43midx\u001b[49m\u001b[38;5;241;43m=\u001b[39;49m\u001b[43m_w\u001b[49m\u001b[43m(\u001b[49m\u001b[43ms\u001b[49m\u001b[43m,\u001b[49m\u001b[43m \u001b[49m\u001b[38;5;241;43m0\u001b[39;49m\u001b[43m)\u001b[49m\u001b[38;5;241;43m.\u001b[39;49m\u001b[43mend\u001b[49m\u001b[43m(\u001b[49m\u001b[43m)\u001b[49m\u001b[43m)\u001b[49m\n\u001b[1;32m    338\u001b[0m end \u001b[38;5;241m=\u001b[39m _w(s, end)\u001b[38;5;241m.\u001b[39mend()\n",
      "File \u001b[0;32m~/anaconda3/lib/python3.11/json/decoder.py:353\u001b[0m, in \u001b[0;36mJSONDecoder.raw_decode\u001b[0;34m(self, s, idx)\u001b[0m\n\u001b[1;32m    352\u001b[0m \u001b[38;5;28;01mtry\u001b[39;00m:\n\u001b[0;32m--> 353\u001b[0m     obj, end \u001b[38;5;241m=\u001b[39m \u001b[38;5;28;43mself\u001b[39;49m\u001b[38;5;241;43m.\u001b[39;49m\u001b[43mscan_once\u001b[49m\u001b[43m(\u001b[49m\u001b[43ms\u001b[49m\u001b[43m,\u001b[49m\u001b[43m \u001b[49m\u001b[43midx\u001b[49m\u001b[43m)\u001b[49m\n\u001b[1;32m    354\u001b[0m \u001b[38;5;28;01mexcept\u001b[39;00m \u001b[38;5;167;01mStopIteration\u001b[39;00m \u001b[38;5;28;01mas\u001b[39;00m err:\n",
      "\u001b[0;31mJSONDecodeError\u001b[0m: Expecting ',' delimiter: line 12 column 13 (char 411)",
      "\nDuring handling of the above exception, another exception occurred:\n",
      "\u001b[0;31mException\u001b[0m                                 Traceback (most recent call last)",
      "Cell \u001b[0;32mIn[4], line 1\u001b[0m\n\u001b[0;32m----> 1\u001b[0m \u001b[43mgenerate_toc\u001b[49m\u001b[43m(\u001b[49m\u001b[38;5;124;43m\"\u001b[39;49m\u001b[38;5;124;43mPrompt Engineering\u001b[39;49m\u001b[38;5;124;43m\"\u001b[39;49m\u001b[43m)\u001b[49m\n",
      "Cell \u001b[0;32mIn[3], line 34\u001b[0m, in \u001b[0;36mgenerate_toc\u001b[0;34m(subject, model)\u001b[0m\n\u001b[1;32m     32\u001b[0m         \u001b[38;5;28;01mraise\u001b[39;00m \u001b[38;5;167;01mException\u001b[39;00m(\u001b[38;5;124mf\u001b[39m\u001b[38;5;124m\"\u001b[39m\u001b[38;5;124mValid JSON not found in response: \u001b[39m\u001b[38;5;132;01m{\u001b[39;00mcontent\u001b[38;5;132;01m}\u001b[39;00m\u001b[38;5;124m\"\u001b[39m)\n\u001b[1;32m     33\u001b[0m \u001b[38;5;28;01mexcept\u001b[39;00m json\u001b[38;5;241m.\u001b[39mJSONDecodeError \u001b[38;5;28;01mas\u001b[39;00m e:\n\u001b[0;32m---> 34\u001b[0m     \u001b[38;5;28;01mraise\u001b[39;00m \u001b[38;5;167;01mException\u001b[39;00m(\u001b[38;5;124mf\u001b[39m\u001b[38;5;124m\"\u001b[39m\u001b[38;5;124mFailed to parse JSON response: \u001b[39m\u001b[38;5;132;01m{\u001b[39;00mcontent\u001b[38;5;132;01m}\u001b[39;00m\u001b[38;5;124m\"\u001b[39m)\n",
      "\u001b[0;31mException\u001b[0m: Failed to parse JSON response: {\n    \"Table_of_Contents\": [\n        {\n            \"Chapter 1\": \"Introduction to Prompt Engineering\"\n        },\n        {\n            \"Chapter 2\": \"History and Evolution of Chatbots\",\n            \"Section 2.1\": \"Early Developments in AI Communication\",\n            \"Section 2.2\": \"The Advent of Natural Language Processing (NLP)\"\n        },\n        {\n            \"Chapter 3\": \"Principles and Techniques of Prompt Engineering\"\n            \"Section 3.1\": \"Understanding the Principles behind Chatbot Interaction\",\n            \"Section 3.2\": \"Various Strategies in Crafting Effective Prompts\",\n            \"Example Section 3.2.a\": \"Case Studies on Successful and Failed Communication with AI\"        \n        },\n        {\n            \"Chapter 4\": \"Data Collection and Analysis for Optimizing Chatbot Responses\"\n            \"Section 4.1\": \"Methods of Data Gathering\",\n            \"Section 4.2\": \"Analyze Patterns in AI Conversations to Improve Interaction Quality\",        \n            \"Example Section 4.2.a\": \"Analyzing Chatbot Log Files for Trend Identification\"    \n        },\n        {\n            \"Chapter 5\": \"Tools and Technologies used in Prompt Engineering\",\n            \"Section 5.1\": \"Overview of Common Tools Used by Engineers (Linguistic Analysis Software, AI Development Frameworks)\",                        \n            \"Example Section 5.2.a\": \"Comparative Study: GPT-3 vs BERT for Prompt Design\",            \n            \"Section 5.2\": \"Choosing the Right Tools and Technologies\"          \n        },   \n        {\n            \"Chapter 6\": \"Ethical Considerations in AI Interaction, including Privacy Issues & Misinformation Risks\",\n            \"Section 6.1\": \"Privacy Laws Impacting User Data Handling and Storage during Chatbot Engagement\"             \n        },            \n    ]    \n}"
     ]
    }
   ],
   "source": [
    "generate_toc(\"Prompt Engineering\") Please return the JSON strictly formatted, with commas between all sections, and avoid including any additional text outside the JSON object.\n"
   ]
  }
 ],
 "metadata": {
  "kernelspec": {
   "display_name": "Python (myenv)",
   "language": "python",
   "name": "myenv"
  },
  "language_info": {
   "codemirror_mode": {
    "name": "ipython",
    "version": 3
   },
   "file_extension": ".py",
   "mimetype": "text/x-python",
   "name": "python",
   "nbconvert_exporter": "python",
   "pygments_lexer": "ipython3",
   "version": "3.11.5"
  }
 },
 "nbformat": 4,
 "nbformat_minor": 5
}
