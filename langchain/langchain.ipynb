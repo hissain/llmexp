{
 "cells": [
  {
   "cell_type": "code",
   "execution_count": 5,
   "id": "a7405b29",
   "metadata": {},
   "outputs": [
    {
     "data": {
      "text/plain": [
       "True"
      ]
     },
     "execution_count": 5,
     "metadata": {},
     "output_type": "execute_result"
    }
   ],
   "source": [
    "import os\n",
    "from dotenv import load_dotenv\n",
    "\n",
    "load_dotenv()\n",
    "\n",
    "#print(os.environ.get('OPENAI_API_KEY'))"
   ]
  },
  {
   "cell_type": "code",
   "execution_count": 6,
   "id": "64fec478",
   "metadata": {},
   "outputs": [],
   "source": [
    "import json\n",
    "from rich.console import Console\n",
    "from rich.table import Table\n",
    "\n",
    "def pretty_print(item):\n",
    "    console = Console()\n",
    "    with console.pager(styles=True):\n",
    "        console.print(item)"
   ]
  },
  {
   "cell_type": "code",
   "execution_count": 8,
   "id": "30dea6bc",
   "metadata": {},
   "outputs": [
    {
     "name": "stdout",
     "output_type": "stream",
     "text": [
      "Marker \u001b[32m'prompt_log'\u001b[0m:\n",
      "\u001b[33mmessages\u001b[0m=\u001b[1m[\u001b[0m\u001b[1;35mHumanMessage\u001b[0m\u001b[1m(\u001b[0m\u001b[33mcontent\u001b[0m=\u001b[32m\"\\ncontext: \u001b[0m\u001b[32m{\u001b[0m\u001b[32m'context': 'Robert bunked school on last Monday.', 'question': 'When \u001b[0m\n",
      "\u001b[32mdid Robert bunked school?'\u001b[0m\u001b[32m}\u001b[0m\u001b[32m\\nquestion: \u001b[0m\u001b[32m{\u001b[0m\u001b[32m'context': 'Robert bunked school on last Monday.', 'question': 'When did \u001b[0m\n",
      "\u001b[32mRobert bunked school?'\u001b[0m\u001b[32m}\u001b[0m\u001b[32m\\nanswer:\\n\"\u001b[0m, \u001b[33madditional_kwargs\u001b[0m=\u001b[1m{\u001b[0m\u001b[1m}\u001b[0m, \u001b[33mresponse_metadata\u001b[0m=\u001b[1m{\u001b[0m\u001b[1m}\u001b[0m\u001b[1m)\u001b[0m\u001b[1m]\u001b[0m\n",
      "\n"
     ]
    },
    {
     "data": {
      "text/html": [
       "<pre style=\"white-space:pre;overflow-x:auto;line-height:normal;font-family:Menlo,'DejaVu Sans Mono',consolas,'Courier New',monospace\"></pre>\n"
      ],
      "text/plain": []
     },
     "metadata": {},
     "output_type": "display_data"
    },
    {
     "name": "stdout",
     "output_type": "stream",
     "text": [
      "The answer to the question is: Last Monday.\n"
     ]
    },
    {
     "data": {
      "text/html": [
       "<pre style=\"white-space:pre;overflow-x:auto;line-height:normal;font-family:Menlo,'DejaVu Sans Mono',consolas,'Courier New',monospace\"></pre>\n"
      ],
      "text/plain": []
     },
     "metadata": {},
     "output_type": "display_data"
    }
   ],
   "source": [
    "from langchain_ollama import OllamaLLM\n",
    "from langchain_core.prompts import ChatPromptTemplate, PromptTemplate\n",
    "from langchain_core.output_parsers import StrOutputParser\n",
    "from langchain_core.runnables import RunnablePassthrough, RunnableMap\n",
    "\n",
    "llm = OllamaLLM(base_url='http://localhost:11434', model=\"llama3.2:latest\")\n",
    "\n",
    "template = \"\"\"\n",
    "context: {context}\n",
    "question: {question}\n",
    "answer:\n",
    "\"\"\"\n",
    "prompt = ChatPromptTemplate.from_template(template)\n",
    "\n",
    "def log(marker, log_data):\n",
    "    pretty_print(f\"Marker '{marker}':\\n{log_data}\\n\")\n",
    "    return log_data\n",
    "\n",
    "qa_chain = (\n",
    "    {\n",
    "        \"context\": RunnablePassthrough(),\n",
    "        \"question\": RunnablePassthrough(),\n",
    "    }\n",
    "    | prompt | (lambda x: log(\"prompt_log\" , x))\n",
    "    | llm\n",
    "    | StrOutputParser()\n",
    ")\n",
    "\n",
    "context = \"Robert bunked school on last Monday.\"\n",
    "question = \"When did Robert bunked school?\"\n",
    "\n",
    "result = qa_chain.invoke({\"context\": context, \"question\": question})\n",
    "pretty_print(result)"
   ]
  },
  {
   "cell_type": "code",
   "execution_count": 11,
   "id": "ad458d24",
   "metadata": {},
   "outputs": [
    {
     "name": "stdout",
     "output_type": "stream",
     "text": [
      "Marker 'prompt_log':\n",
      "messages=[HumanMessage(content=\"\\ncontext: {'context': 'Robert bunked school last Monday.', 'question': 'When did Robert bunk school?'}\\nquestion: {'context': 'Robert bunked school last Monday.', 'question': 'When did Robert bunk school?'}\\nanswer:\\n\", additional_kwargs={}, response_metadata={})]\n",
      "\n",
      "Final Result:\n",
      " Robert bunked school last Monday.\n"
     ]
    }
   ],
   "source": [
    "from langchain.chat_models import ChatOpenAI\n",
    "from langchain.prompts import ChatPromptTemplate, PromptTemplate\n",
    "from langchain.schema import HumanMessage\n",
    "from langchain_core.output_parsers import StrOutputParser\n",
    "from langchain.chains import LLMChain\n",
    "from langchain.schema.runnable import RunnableMap, RunnablePassthrough\n",
    "\n",
    "# Initialize the OpenAI client\n",
    "llm = ChatOpenAI(\n",
    "    model=\"gpt-4o-mini\",\n",
    "    #model=\"gpt-3.5-turbo\",  # Specify the OpenAI model (e.g., \"gpt-3.5-turbo\" or \"gpt-4\")\n",
    "    temperature=0.0\n",
    ")\n",
    "\n",
    "# Define the template\n",
    "template = \"\"\"\n",
    "context: {context}\n",
    "question: {question}\n",
    "answer:\n",
    "\"\"\"\n",
    "prompt = ChatPromptTemplate.from_template(template)\n",
    "\n",
    "# Define a logging function\n",
    "def log(marker, log_data):\n",
    "    print(f\"Marker '{marker}':\\n{log_data}\\n\")\n",
    "    return log_data\n",
    "\n",
    "# Create the QA chain\n",
    "qa_chain = (\n",
    "    RunnableMap(\n",
    "        {\n",
    "            \"context\": RunnablePassthrough(),\n",
    "            \"question\": RunnablePassthrough(),\n",
    "        }\n",
    "    )\n",
    "    | prompt\n",
    "    | (lambda x: log(\"prompt_log\", x))  # Log the intermediate prompt\n",
    "    | llm\n",
    "    | StrOutputParser()  # Parse the LLM output into a string\n",
    ")\n",
    "\n",
    "# Input data\n",
    "context = \"Robert bunked school last Monday.\"\n",
    "question = \"When did Robert bunk school?\"\n",
    "\n",
    "# Invoke the chain\n",
    "result = qa_chain.invoke({\"context\": context, \"question\": question})\n",
    "\n",
    "# Display the result\n",
    "print(\"Final Result:\\n\", result)"
   ]
  },
  {
   "cell_type": "code",
   "execution_count": 14,
   "id": "b4ffe091",
   "metadata": {},
   "outputs": [
    {
     "name": "stdout",
     "output_type": "stream",
     "text": [
      "Function calls itself,  \n",
      "Layers deep in logic's mind,  \n",
      "Endless loop of thought.\n"
     ]
    }
   ],
   "source": [
    "from openai import OpenAI\n",
    "client = OpenAI()\n",
    "\n",
    "completion = client.chat.completions.create(\n",
    "    model=\"gpt-4o-mini\",\n",
    "    messages=[\n",
    "        {\"role\": \"system\", \"content\": \"You are a helpful assistant.\"},\n",
    "        {\n",
    "            \"role\": \"user\",\n",
    "            \"content\": \"Write a haiku about recursion in programming.\"\n",
    "        }\n",
    "    ]\n",
    ")\n",
    "\n",
    "print(completion.choices[0].message.content)"
   ]
  }
 ],
 "metadata": {
  "kernelspec": {
   "display_name": "Python 3 (ipykernel)",
   "language": "python",
   "name": "python3"
  },
  "language_info": {
   "codemirror_mode": {
    "name": "ipython",
    "version": 3
   },
   "file_extension": ".py",
   "mimetype": "text/x-python",
   "name": "python",
   "nbconvert_exporter": "python",
   "pygments_lexer": "ipython3",
   "version": "3.11.5"
  }
 },
 "nbformat": 4,
 "nbformat_minor": 5
}
