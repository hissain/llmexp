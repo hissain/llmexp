{
 "cells": [
  {
   "cell_type": "code",
   "execution_count": null,
   "id": "cf01f415",
   "metadata": {},
   "outputs": [],
   "source": [
    "from openai import OpenAI\n",
    "import streamlit as st\n",
    "\n",
    "client = OpenAI(\n",
    "    base_url=\"http://localhost:8000/v1\",\n",
    "    api_key=\"tom\",\n",
    ")\n",
    "\n",
    "if \"messages\" not in st.session_state:\n",
    "    st.session_state[\"messages\"] = [\n",
    "        {\n",
    "            \"role\": \"system\",\n",
    "            \"content\": \"\"\"You are a helpful assistant. If you do not know the answer, reply I don't know \n",
    "                don't make things up.\"\"\",\n",
    "        }\n",
    "    ]\n",
    "\n",
    "st.title(\"🚀 LLaMa CPP Local OpenAI server\")\n",
    "for message in st.session_state.messages:\n",
    "    st.chat_message(message[\"role\"]).markdown(message[\"content\"])\n",
    "\n",
    "prompt = st.chat_input(\"Pass your input here\")\n",
    "if prompt:\n",
    "    st.chat_message(\"user\").markdown(prompt)\n",
    "    st.session_state.messages.append({\"role\": \"user\", \"content\": prompt})\n",
    "\n",
    "    response = client.chat.completions.create(\n",
    "        model=\"llama.cpp/models/mistral-7b-instruct-v0.1.Q4_0.gguf\",\n",
    "        messages=st.session_state.messages,\n",
    "        stream=True,\n",
    "    )\n",
    "\n",
    "    complete_response = \"\"\n",
    "    with st.chat_message(\"assistant\"):\n",
    "        message_placeholder = st.empty()\n",
    "        for chunk in response:\n",
    "            if chunk.choices[0].delta.content is not None:\n",
    "                complete_response += chunk.choices[0].delta.content\n",
    "                message_placeholder.markdown(complete_response + \"|\")\n",
    "                message_placeholder.markdown(complete_response)\n",
    "    st.session_state.messages.append(\n",
    "        {\"role\": \"assistant\", \"content\": complete_response}\n",
    "    )"
   ]
  }
 ],
 "metadata": {
  "kernelspec": {
   "display_name": "Python (myenv)",
   "language": "python",
   "name": "myenv"
  },
  "language_info": {
   "codemirror_mode": {
    "name": "ipython",
    "version": 3
   },
   "file_extension": ".py",
   "mimetype": "text/x-python",
   "name": "python",
   "nbconvert_exporter": "python",
   "pygments_lexer": "ipython3",
   "version": "3.11.5"
  }
 },
 "nbformat": 4,
 "nbformat_minor": 5
}
