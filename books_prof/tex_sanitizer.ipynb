{
 "cells": [
  {
   "cell_type": "code",
   "execution_count": 3,
   "id": "9a194810",
   "metadata": {},
   "outputs": [
    {
     "name": "stdout",
     "output_type": "stream",
     "text": [
      "/Users/hissain/git/github/llmexp/books_prof/fallacy\n"
     ]
    }
   ],
   "source": [
    "import os\n",
    "os.chdir('/Users/hissain/git/github/llmexp/books_prof/fallacy')\n",
    "print(os.getcwd())"
   ]
  },
  {
   "cell_type": "code",
   "execution_count": 4,
   "id": "5fc3f4a3",
   "metadata": {},
   "outputs": [
    {
     "name": "stdout",
     "output_type": "stream",
     "text": [
      "Converted Markdown-style headers in bias.tex. Output saved to bias.tex.\n"
     ]
    }
   ],
   "source": [
    "import re\n",
    "\n",
    "def convert_hash_to_latex(file_path, output_path=None):\n",
    "    output_path = output_path or file_path\n",
    "    \n",
    "    with open(file_path, 'r') as file:\n",
    "        content = file.readlines()\n",
    "    \n",
    "    def replace_header(line):\n",
    "        if line.startswith('### '):  # Triple hash -> Subsubsection\n",
    "            return re.sub(r'^### (.*)', r'\\\\subsubsection{\\1}', line)\n",
    "        elif line.startswith('## '):  # Double hash -> Subsection\n",
    "            return re.sub(r'^## (.*)', r'\\\\subsection{\\1}', line)\n",
    "        elif line.startswith('# '):  # Single hash -> Section\n",
    "            return re.sub(r'^# (.*)', r'\\\\section{\\1}', line)\n",
    "        else:\n",
    "            return line\n",
    "    \n",
    "    updated_content = [replace_header(line) for line in content]\n",
    "    \n",
    "    with open(output_path, 'w') as file:\n",
    "        file.writelines(updated_content)\n",
    "    \n",
    "    print(f\"Converted Markdown-style headers in {file_path}. Output saved to {output_path}.\")\n",
    "\n",
    "convert_hash_to_latex('bias.tex')"
   ]
  },
  {
   "cell_type": "code",
   "execution_count": 5,
   "id": "373cdcbd",
   "metadata": {},
   "outputs": [],
   "source": [
    "import re\n",
    "\n",
    "def convert_markdown_to_latex(file_path, output_path=None):\n",
    "    \"\"\"\n",
    "    Converts Markdown-style headers, bold, italic, and lists to LaTeX equivalents in a file.\n",
    "    \n",
    "    Parameters:\n",
    "        file_path (str): Path to the input Markdown-like file.\n",
    "        output_path (str, optional): Path to save the modified file. Defaults to overwriting the input file.\n",
    "    \n",
    "    Returns:\n",
    "        None\n",
    "    \"\"\"\n",
    "    output_path = output_path or file_path\n",
    "    \n",
    "    # Read the content\n",
    "    with open(file_path, 'r') as file:\n",
    "        content = file.readlines()\n",
    "    \n",
    "    # Process each line to replace Markdown elements\n",
    "    def replace_markdown(line):\n",
    "        # Headers\n",
    "        if line.startswith('### '):  # Triple hash -> Subsubsection\n",
    "            line = re.sub(r'^### (.*)', r'\\\\subsubsection{\\1}', line)\n",
    "        elif line.startswith('## '):  # Double hash -> Subsection\n",
    "            line = re.sub(r'^## (.*)', r'\\\\subsection{\\1}', line)\n",
    "        elif line.startswith('# '):  # Single hash -> Section\n",
    "            line = re.sub(r'^# (.*)', r'\\\\section{\\1}', line)\n",
    "        \n",
    "        # Bold (**text** or __text__)\n",
    "        line = re.sub(r'\\*\\*(.*?)\\*\\*', r'\\\\textbf{\\1}', line)\n",
    "        line = re.sub(r'__(.*?)__', r'\\\\textbf{\\1}', line)\n",
    "        \n",
    "        # Italic (*text* or _text_)\n",
    "        line = re.sub(r'\\*(.*?)\\*', r'\\\\textit{\\1}', line)\n",
    "        line = re.sub(r'_(.*?)_', r'\\\\textit{\\1}', line)\n",
    "        \n",
    "        # Unordered lists (- or * or +)\n",
    "        line = re.sub(r'^\\s*[-*+] (.*)', r'\\\\item \\1', line)\n",
    "        \n",
    "        return line\n",
    "    \n",
    "    # Prepare LaTeX document environment for lists\n",
    "    def wrap_list_environment(lines):\n",
    "        \"\"\"\n",
    "        Wraps \\item lines with appropriate list environments.\n",
    "        \"\"\"\n",
    "        inside_itemize = False\n",
    "        processed_lines = []\n",
    "        \n",
    "        for line in lines:\n",
    "            if line.startswith('\\\\item '):\n",
    "                if not inside_itemize:\n",
    "                    processed_lines.append('\\\\begin{itemize}\\n')\n",
    "                    inside_itemize = True\n",
    "            else:\n",
    "                if inside_itemize:\n",
    "                    processed_lines.append('\\\\end{itemize}\\n')\n",
    "                    inside_itemize = False\n",
    "            processed_lines.append(line)\n",
    "        \n",
    "        if inside_itemize:\n",
    "            processed_lines.append('\\\\end{itemize}\\n')  # Close the environment if still open\n",
    "        \n",
    "        return processed_lines\n",
    "    \n",
    "    # Apply replacements\n",
    "    updated_content = [replace_markdown(line) for line in content]\n",
    "    updated_content = wrap_list_environment(updated_content)\n",
    "    \n",
    "    # Write back to the file\n",
    "    with open(output_path, 'w') as file:\n",
    "        file.writelines(updated_content)\n",
    "    \n",
    "    print(f\"Converted Markdown-style elements in {file_path}. Output saved to {output_path}.\")\n"
   ]
  },
  {
   "cell_type": "code",
   "execution_count": 6,
   "id": "bd6b5e05",
   "metadata": {},
   "outputs": [
    {
     "name": "stdout",
     "output_type": "stream",
     "text": [
      "Converted Markdown-style elements in bias_bkp.tex. Output saved to bias.tex.\n"
     ]
    }
   ],
   "source": [
    "convert_markdown_to_latex('bias_bkp.tex', 'bias.tex')"
   ]
  }
 ],
 "metadata": {
  "kernelspec": {
   "display_name": "Python 3 (ipykernel)",
   "language": "python",
   "name": "python3"
  },
  "language_info": {
   "codemirror_mode": {
    "name": "ipython",
    "version": 3
   },
   "file_extension": ".py",
   "mimetype": "text/x-python",
   "name": "python",
   "nbconvert_exporter": "python",
   "pygments_lexer": "ipython3",
   "version": "3.11.5"
  }
 },
 "nbformat": 4,
 "nbformat_minor": 5
}
