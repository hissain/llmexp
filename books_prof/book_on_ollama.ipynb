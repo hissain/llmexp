{
 "cells": [
  {
   "cell_type": "code",
   "execution_count": 43,
   "metadata": {},
   "outputs": [
    {
     "data": {
      "text/plain": [
       "True"
      ]
     },
     "execution_count": 43,
     "metadata": {},
     "output_type": "execute_result"
    }
   ],
   "source": [
    "import os\n",
    "from dotenv import load_dotenv\n",
    "\n",
    "load_dotenv()"
   ]
  },
  {
   "cell_type": "code",
   "execution_count": 44,
   "metadata": {},
   "outputs": [],
   "source": [
    "#!apt-get update\n",
    "#!apt-get install -y python3-dev graphviz libgraphviz-dev pkg-config\n",
    "#!apt-get install -y latexmk\n",
    "#!apt-get install -y texlive-latex-extra\n",
    "#!apt-get install -y texlive-science\n",
    "#%pip install -qU langchain-openai\n",
    "#%pip install pygraphviz\n",
    "#%pip install pylatex\n",
    "\n",
    "import os\n",
    "import re\n",
    "import json\n",
    "import networkx as nx\n",
    "from IPython.display import Markdown\n",
    "from langchain_openai import ChatOpenAI\n",
    "from langchain_core.prompts import PromptTemplate\n",
    "from langchain_core.output_parsers import PydanticOutputParser\n",
    "from pydantic import BaseModel, Field, validator\n",
    "from typing import List, Optional\n",
    "\n",
    "import matplotlib.pyplot as plt\n",
    "from networkx.drawing.nx_agraph import graphviz_layout\n",
    "\n",
    "from pylatex import Command, Document, Section, Subsection, Package\n",
    "from pylatex.section import Chapter\n",
    "from pylatex.utils import NoEscape\n",
    "\n",
    "from rich.console import Console\n",
    "from rich.syntax import Syntax\n",
    "from rich.table import Table"
   ]
  },
  {
   "cell_type": "code",
   "execution_count": 45,
   "metadata": {},
   "outputs": [],
   "source": [
    "def pretty_print(item):\n",
    "    console = Console()\n",
    "    with console.pager(styles=True):\n",
    "        console.print(item)"
   ]
  },
  {
   "cell_type": "markdown",
   "metadata": {
    "id": "tzRAYxwdU8jh"
   },
   "source": [
    "## Specification Formulation\n",
    "\n",
    "After entering the following, press [Run All Cells (Ctrl + F9)]."
   ]
  },
  {
   "cell_type": "code",
   "execution_count": 46,
   "metadata": {
    "id": "caSeJzWrUqYM"
   },
   "outputs": [],
   "source": [
    "book_location = '/Users/hissain/git/github/llmexp/books_prof/quantum'\n",
    "book_content = \"Undertanding Quantum Computing\" #@param {type:\"string\"}\n",
    "book_author = \"Md. Sazzad Hissain Khan\"\n",
    "n_pages = 30\n",
    "n_lines_per_page = 40\n",
    "\n",
    "target_readers = \"Common university 1st or 2nd year students in department of Computer Science.\" #@param {type:\"string\"}\n",
    "equation_frequency_level = 1 #@param {type:\"slider\", min:1, max:5, step:1}\n",
    "do_consider_outline = True #@param {type:\"boolean\"}\n",
    "do_consider_previous_sections = True #@param {type:\"boolean\"}\n",
    "do_consider_previous_sections_detail = False #@param {type:\"boolean\"}\n",
    "additional_requirements = \"Try to be factual and verbose while describing any concept. Also put examples.\" #@param {type:\"string\"}\n",
    "\n",
    "# Parameters\n",
    "max_depth = 2  # If 1, only sections; if 2, includes subsections, and so on.\n",
    "max_output_pages = 1.5  # Maximum number of pages output by the LLM\n",
    "\n",
    "book_node_name = \"book\"  # Name of the root node\n",
    "\n",
    "if do_consider_previous_sections:\n",
    "    n_previous_sections = 1\n",
    "else:\n",
    "    n_previous_sections = 0"
   ]
  },
  {
   "cell_type": "code",
   "execution_count": 47,
   "metadata": {},
   "outputs": [
    {
     "name": "stdout",
     "output_type": "stream",
     "text": [
      "Book location: /Users/hissain/git/github/llmexp/books_prof/quantum\n",
      "Absolute book location: /Users/hissain/git/github/llmexp/books_prof/quantum\n",
      "Current working directory: /Users/hissain/git/github/llmexp/books_prof/quantum\n"
     ]
    }
   ],
   "source": [
    "print(f\"Book location: {book_location}\")\n",
    "book_location = os.path.abspath(book_location)\n",
    "print(f\"Absolute book location: {book_location}\")\n",
    "os.makedirs(book_location, exist_ok=True)\n",
    "os.chdir(book_location)\n",
    "print(f\"Current working directory: {os.getcwd()}\")"
   ]
  },
  {
   "cell_type": "markdown",
   "metadata": {
    "id": "spXv6uEbsxis"
   },
   "source": [
    "## Prompt Definition"
   ]
  },
  {
   "cell_type": "code",
   "execution_count": 66,
   "metadata": {
    "id": "6QvuipAzsz3c"
   },
   "outputs": [],
   "source": [
    "# Common Prompt\n",
    "prompt_common = f\"\"\"\n",
    "You are an expert assistant for generating content of technical professional books. You will be writing a book on the following topic: {book_content}.\n",
    "The total number of pages in the book is about {n_pages}, with an estimated {n_lines_per_page} lines per page. Please consider using polite and professional tone.\n",
    "\"\"\"\n",
    "\n",
    "if target_readers != \"\":\n",
    "    prompt_common += f\" The intended readers of the book are as follows:\\n {target_readers}\"\n",
    "    \n",
    "if additional_requirements != \"\":\n",
    "    prompt_common += f\" Additionally, please take the following into consideration:\\n {additional_requirements}\"\n",
    "    \n",
    "prompt_abstract = \"\"\"\n",
    "You are a LaTeX expert and a creative writer. Your task is to generate an abstract and a disclaimer for a book in LaTeX format.\n",
    "Title of the book is \"{title}\". {summary}\n",
    "\n",
    "That book has following chapters, {toc_list}\n",
    "\n",
    "### Output Format:\n",
    "Provide the output strictly in LaTeX format, including the following:\n",
    "- A section titled \"Abstract\" summarizing the book's purpose and topics covered in 10 detail sentences.\n",
    "- A section titled \"Disclaimer\" stating that the content was generated by an AI and may contain inaccuracies in 5 to 8 detail sentences.\n",
    "\n",
    "### Example LaTeX Output:\n",
    "\n",
    "\\\\section*{{Abstract}}\n",
    "[Your generated abstract goes here.]\n",
    "\n",
    "\\\\section*{{Disclaimer}}\n",
    "[Your generated disclaimer goes here.]\n",
    "\n",
    "### Instructions:\n",
    "- Do not include explanations or comments outside the LaTeX code.\n",
    "- Replace placeholders with fully realized content.\n",
    "- Do not start or end with backticks. For example, do not add ```latex or ``` delimiters at the begining or end of response.\n",
    "- Do not include document class, preamble, or any unnecessary elements. Focus only on content.\n",
    "\"\"\"\n",
    "\n",
    "# Prompt for Generating Book and Chapter Titles and Summaries\n",
    "prompt_book_title = prompt_common + \"\"\"\n",
    "Now please write the title and summary for the book and each chapter in the following JSON format.\n",
    "The book summary should not only provide an overview but also mention the primary objectives, scope, and depth of the content, in about 5-8 detailed sentences.\n",
    "Each chapter summary should also contain about 2 to 3 detail sentences.\n",
    "Please also consider the page allocation for each chapter in units of 0.1, like 0.8 pages.\n",
    "Additionally, consider whether each chapter needs further division based on semantic cohesion (needsSubdivision), and answer true or false.\n",
    "Do not include any speculative or unverified information. Please avoid writing chapter numbers in the titles.\n",
    "The number of sections should vary as needed. \n",
    "Please do not include any extra introductory or conclusory message outside the expected json format.\n",
    "Enclose the json content between ```json and ``` delimiters.\n",
    "\n",
    "Please do not include any other json keys except what have been asked for in the following output format.\n",
    "The output format should be strictly as follows:\n",
    "\n",
    "```json\n",
    "{{\n",
    "\"title\": \"\",\n",
    "\"summary\": \"\",\n",
    "\"childs\":\n",
    "    [\n",
    "        {{\"title\": \"\", \"summary\": \"\", \"n_pages\": , \"needsSubdivision\": }},\n",
    "        {{\"title\": \"\", \"summary\": \"\", \"n_pages\": , \"needsSubdivision\": }},\n",
    "        {{\"title\": \"\", \"summary\": \"\", \"n_pages\": , \"needsSubdivision\": }}\n",
    "    ]\n",
    "}}\n",
    "```\n",
    "\"\"\"\n",
    "\n",
    "# Prompt for Section Division\n",
    "prompt_section_list_creation = prompt_common + \"\"\"\n",
    "To help you, I am also providing you the summary of the book as follows:\n",
    "{book_summary}\n",
    "\n",
    "As part of that, your current task is to create content across {n_pages} pages, assuming {n_lines_per_page} lines per page for the chapter or section, \"{target}\" of the book.\n",
    "The summary for the section is as follows:\n",
    "{section_summary}\n",
    "\n",
    "Your task also is to divide this chapter or section into multiple parts and output the titles and summaries of each part in the following JSON format.\n",
    "Also, consider the page allocation for each part in units of 0.1, like 0.8 pages.\n",
    "Additionally, consider whether each part needs further division based on semantic cohesion (needsSubdivision) and answer true or false.\n",
    "Please avoid including section numbers in the titles. \n",
    "Please do not include any extra introductory or conclusory message outside the expected format.\n",
    "Enclose the json content between ```json and ``` delimiters.\n",
    "\n",
    "The output format should be strictly as follows:\n",
    "\n",
    "```json\n",
    "[\n",
    "    {{\"title\": \"\", \"summary\": \"\", \"n_pages\": , \"needsSubdivision\": }},\n",
    "    {{\"title\": \"\", \"summary\": \"\", \"n_pages\": , \"needsSubdivision\": }}\n",
    "]\n",
    "```\n",
    "\"\"\"\n",
    "\n",
    "# Prompt for Generating Main Content\n",
    "prompt_content_creation = prompt_common + \"\"\"\n",
    "\n",
    "As part of that, now, you as a LeTex expert writing the book with the title \"{book_title}\" and the summary of the book is as follows:\n",
    "{book_summary}\n",
    "\n",
    "{toc_and_summary}\n",
    "{previous_sections}. \n",
    "\n",
    "For readability and consistency, you may summarize what have been discussed in the previous part and whats is being discussed in the current one.\n",
    "\n",
    "Now, I would like you to create TeX content for the current section on: {target}, across {n_pages} pages, assuming {n_lines_per_page} lines per page. \n",
    "The summary for the current section whose content you will generate is as follows: {section_summary}. Please generate the tex content.\n",
    "\n",
    "Please output the content in the following format:\n",
    "- Enclose the LaTeX content strictly between the delimiters `<|tex_start|>` and `<|tex_end|>`, as shown below:\n",
    "    - The LaTeX output **must start with** `<|tex_start|>` delimiter.\n",
    "    - The LaTeX output **must end with** `<|tex_end|>` delimiter.\n",
    "- Do not include any other explanations, comments outside these delimiters.\n",
    "- Do not return markdown tags instead return Latex tags where necessary. \n",
    "    For example, instead of `# `, `## `, `### ` return section, subsection and subsubsection tags of LateX as requied. Also same for itemize items.\n",
    "- Carefully, escape special characters `&` as `\\&` to ensure valid LaTeX.\n",
    "- Do not include backtick sequences or any unrelated formatting not part of LaTeX syntax.\n",
    "- The LaTeX snippet should be formatted as part of a book chapter and include proper LaTeX syntax for sections, subsections, mathematical equations (if necessary), lists, and text formatting. \n",
    "- Use balanced and valid LaTeX tags (e.g., properly closed brackets, environments, and commands).\n",
    "- Avoid non-standard Unicode symbols that may break LaTeX compilation. Use only standard LaTeX symbols.\n",
    "- Replace special characters with their LaTeX-safe equivalents (e.g., replace & with \\&, % with \\%, etc.).\n",
    "- Do not include document class, preamble, or any unnecessary elements. Focus only on content.\n",
    "- Use the `<|tex_start|>` and `<|tex_end|>` delimiters **only once** in the output response: at the beginning and at the end of the response respectively.\n",
    "\n",
    "Output format:\n",
    "    <|tex_start|>\n",
    "    tex response\n",
    "    <|tex_end|>\n",
    "\"\"\""
   ]
  },
  {
   "cell_type": "markdown",
   "metadata": {
    "id": "M5cjjEOefAJR"
   },
   "source": [
    "## Graph Creation"
   ]
  },
  {
   "cell_type": "code",
   "execution_count": 58,
   "metadata": {
    "id": "5x6iAEg2fAR7"
   },
   "outputs": [],
   "source": [
    "book_graph = nx.DiGraph(book_content=book_content, target_readers=target_readers, equation_frequency_level=equation_frequency_level, additional_requirements=additional_requirements)"
   ]
  },
  {
   "cell_type": "code",
   "execution_count": 59,
   "metadata": {},
   "outputs": [
    {
     "name": "stdout",
     "output_type": "stream",
     "text": [
      "\u001b[1m{\u001b[0m\n",
      "    \u001b[32m'book_content'\u001b[0m: \u001b[32m'Undertanding Quantum Computing'\u001b[0m,\n",
      "    \u001b[32m'target_readers'\u001b[0m: \u001b[32m'Common university 1st or 2nd year students in department of Computer Science.'\u001b[0m,\n",
      "    \u001b[32m'equation_frequency_level'\u001b[0m: \u001b[1;36m1\u001b[0m,\n",
      "    \u001b[32m'additional_requirements'\u001b[0m: \u001b[32m'Try to be factual and verbose while describing any concept. Also put examples.'\u001b[0m\n",
      "\u001b[1m}\u001b[0m\n"
     ]
    },
    {
     "data": {
      "text/html": [
       "<pre style=\"white-space:pre;overflow-x:auto;line-height:normal;font-family:Menlo,'DejaVu Sans Mono',consolas,'Courier New',monospace\"></pre>\n"
      ],
      "text/plain": []
     },
     "metadata": {},
     "output_type": "display_data"
    }
   ],
   "source": [
    "pretty_print(book_graph.graph)"
   ]
  },
  {
   "cell_type": "markdown",
   "metadata": {
    "id": "muWhg5hpTLId"
   },
   "source": [
    "## Title and Chapter Creation"
   ]
  },
  {
   "cell_type": "code",
   "execution_count": 60,
   "metadata": {
    "id": "tbrOoC1oj_Ou"
   },
   "outputs": [],
   "source": [
    "def extract_book_and_chapter_contents(markdown_text):\n",
    "    \"\"\"\n",
    "    Function that extracts the first JSON data found in Markdown text\n",
    "    and converts it to a Python dictionary.\n",
    "\n",
    "    Args:\n",
    "        markdown_text (str): A string in Markdown format, assumed to contain\n",
    "        JSON-formatted data within it.\n",
    "\n",
    "    Returns:\n",
    "        dict or None: Returns a dictionary if a valid JSON is found;\n",
    "        returns None if no JSON is found or parsing fails.\n",
    "    \"\"\"\n",
    "\n",
    "    # Find the starting point of JSON in the Markdown\n",
    "    start_index = markdown_text.find('{')\n",
    "    if start_index == -1:\n",
    "        return None\n",
    "\n",
    "    # Traverse the entire string and check the balance of nested braces\n",
    "    brace_count = 0\n",
    "    for i in range(start_index, len(markdown_text)):\n",
    "        if markdown_text[i] == '{':\n",
    "            brace_count += 1\n",
    "        elif markdown_text[i] == '}':\n",
    "            brace_count -= 1\n",
    "\n",
    "        # Extract when braces are balanced\n",
    "        if brace_count == 0:\n",
    "            json_string = markdown_text[start_index:i+1]\n",
    "            try:\n",
    "                # Convert to JSON format\n",
    "                json_data = json.loads(json_string)\n",
    "                pretty_print(json_data)\n",
    "                return json_data\n",
    "            except json.JSONDecodeError as e:\n",
    "                print(f\"JSON parsing error: {e}\")\n",
    "                return None\n",
    "            return\n",
    "\n",
    "    # If no closing brace is found\n",
    "    return None"
   ]
  },
  {
   "cell_type": "markdown",
   "metadata": {
    "id": "ISN0KhB-kAuo"
   },
   "source": [
    "### Output by LLM"
   ]
  },
  {
   "cell_type": "code",
   "execution_count": 52,
   "metadata": {},
   "outputs": [],
   "source": [
    "def log_prompt(log):\n",
    "    print(\"Prompt text: \" + str(log))\n",
    "    return log"
   ]
  },
  {
   "cell_type": "code",
   "execution_count": 62,
   "metadata": {
    "id": "ptwpNLJNTDuf",
    "scrolled": false
   },
   "outputs": [
    {
     "name": "stdout",
     "output_type": "stream",
     "text": [
      "Prompt text: text='\\nYou are an expert assistant for generating content of technical professional books. You will be writing a book on the following topic: Undertanding Quantum Computing.\\nThe total number of pages in the book is about 30, with an estimated 40 lines per page. Please consider using polite and professional tone.\\n The intended readers of the book are as follows:\\n Common university 1st or 2nd year students in department of Computer Science. Additionally, please take the following into consideration:\\n Try to be factual and verbose while describing any concept. Also put examples.\\nNow please write the title and summary for the book and each chapter in the following JSON format.\\nThe book summary should not only provide an overview but also mention the primary objectives, scope, and depth of the content, in about 5-8 detailed sentences.\\nEach chapter summary should also contain about 2 to 3 detail sentences.\\nPlease also consider the page allocation for each chapter in units of 0.1, like 0.8 pages.\\nAdditionally, consider whether each chapter needs further division based on semantic cohesion (needsSubdivision), and answer true or false.\\nDo not include any speculative or unverified information. Please avoid writing chapter numbers in the titles.\\nThe number of sections should vary as needed. \\nPlease do not include any extra introductory or conclusory message outside the expected json format.\\nEnclose the json content between ```json and ``` delimiters.\\n\\nPlease do not include any other json keys except what have been asked for in the following output format.\\nThe output format should be strictly as follows:\\n\\n```json\\n{\\n\"title\": \"\",\\n\"summary\": \"\",\\n\"childs\":\\n    [\\n        {\"title\": \"\", \"summary\": \"\", \"n_pages\": , \"needsSubdivision\": },\\n        {\"title\": \"\", \"summary\": \"\", \"n_pages\": , \"needsSubdivision\": },\\n        {\"title\": \"\", \"summary\": \"\", \"n_pages\": , \"needsSubdivision\": }\\n    ]\\n}\\n```\\n'\n",
      "\u001b[1m{\u001b[0m\n",
      "    \u001b[32m'title'\u001b[0m: \u001b[32m'Understanding Quantum Computing'\u001b[0m,\n",
      "    \u001b[32m'summary'\u001b[0m: \u001b[32m\"This book provides an in-depth introduction to the fundamentals of quantum computing, its \u001b[0m\n",
      "\u001b[32mapplications, and its impact on the field of computer science. The primary objectives of this book are to educate \u001b[0m\n",
      "\u001b[32mfirst and second-year computer science students about the principles and concepts of quantum computing. The scope \u001b[0m\n",
      "\u001b[32mof the book covers the basics of quantum mechanics, quantum bits \u001b[0m\u001b[32m(\u001b[0m\u001b[32mqubits\u001b[0m\u001b[32m)\u001b[0m\u001b[32m, quantum algorithms, and quantum \u001b[0m\n",
      "\u001b[32mcomputing applications. The content is designed to provide a comprehensive understanding of quantum computing, its \u001b[0m\n",
      "\u001b[32mhistory, and its current state. The book aims to bridge the gap between theoretical knowledge and practical \u001b[0m\n",
      "\u001b[32mapplications. It will be beneficial for students who want to explore the field of quantum computing in depth. The \u001b[0m\n",
      "\u001b[32mbook's primary audience includes undergraduate computer science students. \"\u001b[0m,\n",
      "    \u001b[32m'childs'\u001b[0m: \u001b[1m[\u001b[0m\n",
      "        \u001b[1m{\u001b[0m\n",
      "            \u001b[32m'title'\u001b[0m: \u001b[32m'Introduction to Quantum Mechanics'\u001b[0m,\n",
      "            \u001b[32m'summary'\u001b[0m: \u001b[32m'This chapter introduces the fundamental concepts of quantum mechanics, including \u001b[0m\n",
      "\u001b[32mwave-particle duality, uncertainty principle, and Schrödinger equation. It provides an overview of the history of \u001b[0m\n",
      "\u001b[32mquantum mechanics and its development.'\u001b[0m,\n",
      "            \u001b[32m'n_pages'\u001b[0m: \u001b[1;36m1.0\u001b[0m,\n",
      "            \u001b[32m'needsSubdivision'\u001b[0m: \u001b[3;91mFalse\u001b[0m\n",
      "        \u001b[1m}\u001b[0m,\n",
      "        \u001b[1m{\u001b[0m\n",
      "            \u001b[32m'title'\u001b[0m: \u001b[32m'Quantum Bits \u001b[0m\u001b[32m(\u001b[0m\u001b[32mQubits\u001b[0m\u001b[32m)\u001b[0m\u001b[32m and Quantum Computing Fundamentals'\u001b[0m,\n",
      "            \u001b[32m'summary'\u001b[0m: \u001b[32m'This chapter explains the basics of qubits, including their properties, measurement, and \u001b[0m\n",
      "\u001b[32mentanglement. It also introduces the concept of quantum gates and quantum computing architecture.'\u001b[0m,\n",
      "            \u001b[32m'n_pages'\u001b[0m: \u001b[1;36m0.8\u001b[0m,\n",
      "            \u001b[32m'needsSubdivision'\u001b[0m: \u001b[3;91mFalse\u001b[0m\n",
      "        \u001b[1m}\u001b[0m,\n",
      "        \u001b[1m{\u001b[0m\n",
      "            \u001b[32m'title'\u001b[0m: \u001b[32m'Quantum Algorithms and Applications'\u001b[0m,\n",
      "            \u001b[32m'summary'\u001b[0m: \u001b[32m\"This chapter discusses various quantum algorithms, including Shor's algorithm, Grover's \u001b[0m\n",
      "\u001b[32malgorithm, and Simon's algorithm. It also explores the applications of quantum computing in cryptography, \u001b[0m\n",
      "\u001b[32moptimization, and machine learning.\"\u001b[0m,\n",
      "            \u001b[32m'n_pages'\u001b[0m: \u001b[1;36m1.2\u001b[0m,\n",
      "            \u001b[32m'needsSubdivision'\u001b[0m: \u001b[3;92mTrue\u001b[0m\n",
      "        \u001b[1m}\u001b[0m,\n",
      "        \u001b[1m{\u001b[0m\n",
      "            \u001b[32m'title'\u001b[0m: \u001b[32m'Quantum Computing and Classical Computing'\u001b[0m,\n",
      "            \u001b[32m'summary'\u001b[0m: \u001b[32m'This chapter compares the principles of classical computing with those of quantum \u001b[0m\n",
      "\u001b[32mcomputing. It discusses the advantages and disadvantages of quantum computing.'\u001b[0m,\n",
      "            \u001b[32m'n_pages'\u001b[0m: \u001b[1;36m0.5\u001b[0m,\n",
      "            \u001b[32m'needsSubdivision'\u001b[0m: \u001b[3;91mFalse\u001b[0m\n",
      "        \u001b[1m}\u001b[0m\n",
      "    \u001b[1m]\u001b[0m\n",
      "\u001b[1m}\u001b[0m\n"
     ]
    },
    {
     "data": {
      "text/html": [
       "<pre style=\"white-space:pre;overflow-x:auto;line-height:normal;font-family:Menlo,'DejaVu Sans Mono',consolas,'Courier New',monospace\"></pre>\n"
      ],
      "text/plain": []
     },
     "metadata": {},
     "output_type": "display_data"
    }
   ],
   "source": [
    "from langchain_ollama import OllamaLLM\n",
    "from langchain_openai import ChatOpenAI\n",
    "from langchain_core.prompts import PromptTemplate\n",
    "\n",
    "llm = OllamaLLM(base_url='http://localhost:11434', model=\"llama3.2:latest\")\n",
    "#llm = ChatOpenAI(model=\"gpt-4o-mini\")\n",
    "\n",
    "prompt = PromptTemplate.from_template(prompt_book_title)\n",
    "\n",
    "chain = prompt | (lambda x: log_prompt(x)) | llm\n",
    "result = chain.invoke(\n",
    "    {\n",
    "        \"book_content\": book_content,\n",
    "        \"target_readers\": target_readers,\n",
    "        \"n_pages\": n_pages,\n",
    "        \"n_lines_per_page\": n_lines_per_page,\n",
    "        \"additional_requirements\": additional_requirements\n",
    "   }\n",
    ")\n",
    "\n",
    "book_json = extract_book_and_chapter_contents(result)"
   ]
  },
  {
   "cell_type": "code",
   "execution_count": 65,
   "metadata": {},
   "outputs": [
    {
     "name": "stdout",
     "output_type": "stream",
     "text": [
      "Prompt text: text='\\nYou are a LaTeX expert and a creative writer. Your task is to generate an abstract and a disclaimer for a book in LaTeX format.\\nTitle of the book is \"Understanding Quantum Computing\". This book provides an in-depth introduction to the fundamentals of quantum computing, its applications, and its impact on the field of computer science. The primary objectives of this book are to educate first and second-year computer science students about the principles and concepts of quantum computing. The scope of the book covers the basics of quantum mechanics, quantum bits (qubits), quantum algorithms, and quantum computing applications. The content is designed to provide a comprehensive understanding of quantum computing, its history, and its current state. The book aims to bridge the gap between theoretical knowledge and practical applications. It will be beneficial for students who want to explore the field of quantum computing in depth. The book\\'s primary audience includes undergraduate computer science students. \\n\\nThat book has following chapters, [\\'Introduction to Quantum Mechanics\\', \\'Quantum Bits (Qubits) and Quantum Computing Fundamentals\\', \\'Quantum Algorithms and Applications\\', \\'Quantum Computing and Classical Computing\\']\\n\\n### Output Format:\\nProvide the output strictly in LaTeX format, including the following:\\n- A section titled \"Abstract\" summarizing the book\\'s purpose and topics covered in 10 detail sentences.\\n- A section titled \"Disclaimer\" stating that the content was generated by an AI and may contain inaccuracies in 5 to 8 detail sentences.\\n\\n### Example LaTeX Output:\\n\\n\\\\section*{Abstract}\\n[Your generated abstract goes here.]\\n\\n\\\\section*{Disclaimer}\\n[Your generated disclaimer goes here.]\\n\\n### Instructions:\\n- Do not include explanations or comments outside the LaTeX code.\\n- Replace placeholders with fully realized content.\\n- Do not start or end with backticks. For example, do not add ```latex or ``` delimiters at the begining or end of response.\\n- Do not include document class, preamble, or any unnecessary elements. Focus only on content.\\n'\n",
      "\\section*\u001b[1m{\u001b[0mAbstract\u001b[1m}\u001b[0m\n",
      "\n",
      "Understanding Quantum Computing is an in-depth introduction to the fundamentals of quantum computing, its \n",
      "applications, and its impact on computer science. The book aims to educate first and second-year computer science \n",
      "students about the principles and concepts of quantum computing. It covers the basics of quantum mechanics, quantum\n",
      "bits \u001b[1m(\u001b[0mqubits\u001b[1m)\u001b[0m, and quantum algorithms. The content provides a comprehensive understanding of quantum computing, its\n",
      "history, and its current state. The primary objective is to bridge the gap between theoretical knowledge and \n",
      "practical applications. The book's focus on undergraduate computer science students who want to explore the field \n",
      "of quantum computing in depth is also highlighted. The chapters \u001b[32m\"Introduction to Quantum Mechanics\"\u001b[0m, \u001b[32m\"Quantum Bits \u001b[0m\n",
      "\u001b[32m(\u001b[0m\u001b[32mQubits\u001b[0m\u001b[32m)\u001b[0m\u001b[32m and Quantum Computing Fundamentals\"\u001b[0m, \u001b[32m\"Quantum Algorithms and Applications\"\u001b[0m, and \u001b[32m\"Quantum Computing and \u001b[0m\n",
      "\u001b[32mClassical Computing\"\u001b[0m form the core of the book. This comprehensive guide covers topics such as superposition, \n",
      "entanglement, quantum measurement, and quantum error correction. It also delves into real-world applications of \n",
      "quantum computing, including cryptography and optimization problems. By the end of this book, readers will gain a \n",
      "thorough understanding of quantum computing principles and their practical implications.\n",
      "\n",
      "\\section*\u001b[1m{\u001b[0mDisclaimer\u001b[1m}\u001b[0m\n",
      "\n",
      "The content of \u001b[32m\"Understanding Quantum Computing\"\u001b[0m was generated by an AI using available knowledge up to December \n",
      "\u001b[1;36m2023\u001b[0m. While the output is based on a vast amount of information, it may contain inaccuracies or outdated data due \n",
      "to the dynamic nature of quantum computing research. The book aims to provide a general introduction to the field \n",
      "and its applications but should not be considered as a definitive or exhaustive resource. Readers are advised to \n",
      "verify specific concepts and results with up-to-date academic sources or expert opinions. Additionally, some \n",
      "examples and case studies in the book might contain simplifications or assumptions for the sake of clarity, which \n",
      "may not accurately reflect real-world scenarios or experimental results.\n"
     ]
    },
    {
     "data": {
      "text/html": [
       "<pre style=\"white-space:pre;overflow-x:auto;line-height:normal;font-family:Menlo,'DejaVu Sans Mono',consolas,'Courier New',monospace\"></pre>\n"
      ],
      "text/plain": []
     },
     "metadata": {},
     "output_type": "display_data"
    }
   ],
   "source": [
    "def generate_abstract(title, summary, book_toc_list):    \n",
    "    prompt = PromptTemplate.from_template(prompt_abstract)\n",
    "    chain = prompt | (lambda x: log_prompt(x)) | llm\n",
    "    result = chain.invoke(\n",
    "        {\n",
    "            \"title\": book_title,\n",
    "            \"summary\": book_summary,\n",
    "            \"toc_list\": book_toc_list,\n",
    "       }\n",
    "    )\n",
    "    return result\n",
    "\n",
    "book_title = book_json['title']\n",
    "book_summary = book_json['summary']\n",
    "book_toc_list = [chapter['title'] for chapter in book_json['childs']]\n",
    "\n",
    "book_abstract = generate_abstract(book_title, book_summary, book_toc_list)\n",
    "pretty_print(book_abstract)"
   ]
  },
  {
   "cell_type": "markdown",
   "metadata": {
    "id": "mhgOs-a4kJ59"
   },
   "source": [
    "### Storing Results in the Book Graph"
   ]
  },
  {
   "cell_type": "code",
   "execution_count": 67,
   "metadata": {
    "id": "xdrOGJfqBcf-"
   },
   "outputs": [],
   "source": [
    "# About the book\n",
    "book_graph.add_nodes_from([(book_node_name, {\"title\": book_json[\"title\"], \"summary\": book_json[\"summary\"], \"n_pages\": n_pages, \"needsSubdivision\": True})])\n",
    "\n",
    "# About chapters (sections)\n",
    "book_graph.add_nodes_from([(str(idx+1), child) for idx, child in enumerate(book_json[\"childs\"])])\n",
    "book_graph.add_edges_from([(book_node_name, str(idx+1)) for idx in range(len(book_json[\"childs\"]))])"
   ]
  },
  {
   "cell_type": "markdown",
   "metadata": {
    "id": "wc84vrut-pZ9"
   },
   "source": [
    "## Title and Structure Verification"
   ]
  },
  {
   "cell_type": "markdown",
   "metadata": {
    "id": "WW4r36Pr-_Po"
   },
   "source": [
    "### Displaying Title and Structure"
   ]
  },
  {
   "cell_type": "code",
   "execution_count": 68,
   "metadata": {
    "colab": {
     "base_uri": "https://localhost:8080/",
     "height": 926
    },
    "id": "vzGKlqImWtl4",
    "outputId": "c4c26c3a-a0cd-47da-bbd0-e836af5be9bf"
   },
   "outputs": [
    {
     "data": {
      "text/markdown": [
       "\n",
       " ## Title: Understanding Quantum Computing (Page Count: 30)\n",
       " This book provides an in-depth introduction to the fundamentals of quantum computing, its applications, and its impact on the field of computer science. The primary objectives of this book are to educate first and second-year computer science students about the principles and concepts of quantum computing. The scope of the book covers the basics of quantum mechanics, quantum bits (qubits), quantum algorithms, and quantum computing applications. The content is designed to provide a comprehensive understanding of quantum computing, its history, and its current state. The book aims to bridge the gap between theoretical knowledge and practical applications. It will be beneficial for students who want to explore the field of quantum computing in depth. The book's primary audience includes undergraduate computer science students. \n",
       " ### Chapter 1: Introduction to Quantum Mechanics (Page Count: 1.0)\n",
       "This chapter introduces the fundamental concepts of quantum mechanics, including wave-particle duality, uncertainty principle, and Schrödinger equation. It provides an overview of the history of quantum mechanics and its development.\n",
       " ### Chapter 2: Quantum Bits (Qubits) and Quantum Computing Fundamentals (Page Count: 0.8)\n",
       "This chapter explains the basics of qubits, including their properties, measurement, and entanglement. It also introduces the concept of quantum gates and quantum computing architecture.\n",
       " ### Chapter 3: Quantum Algorithms and Applications (Page Count: 1.2)\n",
       "This chapter discusses various quantum algorithms, including Shor's algorithm, Grover's algorithm, and Simon's algorithm. It also explores the applications of quantum computing in cryptography, optimization, and machine learning.\n",
       " ### Chapter 4: Quantum Computing and Classical Computing (Page Count: 0.5)\n",
       "This chapter compares the principles of classical computing with those of quantum computing. It discusses the advantages and disadvantages of quantum computing."
      ],
      "text/plain": [
       "<IPython.core.display.Markdown object>"
      ]
     },
     "execution_count": 68,
     "metadata": {},
     "output_type": "execute_result"
    }
   ],
   "source": [
    "book_node = book_graph.nodes[book_node_name]\n",
    "\n",
    "content_md = \"\"\n",
    "content_md += \"\\n ## Title: \" + book_node[\"title\"] + \" (Page Count: \" + str(book_node[\"n_pages\"]) + \")\"\n",
    "content_md += \"\\n \" + book_node[\"summary\"]\n",
    "for idx, child_node_name in enumerate(book_graph.successors(book_node_name)):\n",
    "    child_node = book_graph.nodes[child_node_name]\n",
    "    content_md += \"\\n ### Chapter \" + str(idx+1) + \": \" + child_node[\"title\"] + \" (Page Count: \" + str(child_node[\"n_pages\"]) + \")\"\n",
    "    content_md += \"\\n\" + child_node[\"summary\"]\n",
    "\n",
    "Markdown(content_md)"
   ]
  },
  {
   "cell_type": "markdown",
   "metadata": {
    "id": "dfXBblAq_mx6"
   },
   "source": [
    "## Book Graph Creation"
   ]
  },
  {
   "cell_type": "markdown",
   "metadata": {
    "id": "TaiIwjSjknP5"
   },
   "source": [
    "### Function Definition"
   ]
  },
  {
   "cell_type": "code",
   "execution_count": 69,
   "metadata": {
    "id": "KgA7TIry_W2D"
   },
   "outputs": [],
   "source": [
    "def extract_section_list(markdown_text):\n",
    "\n",
    "    pattern = r'```json\\s*(.*?)\\s*```'\n",
    "    match = re.search(pattern, markdown_text, re.DOTALL)\n",
    "\n",
    "    if match:\n",
    "        json_string = match.group(1)\n",
    "        data = json.loads(json_string)\n",
    "        return data\n",
    "    else:\n",
    "        print(\"JSON data not found.\")\n",
    "        return None\n",
    "\n",
    "import re\n",
    "\n",
    "def extract_section_content(markdown_text):\n",
    "    # Regex pattern to match multiple possible start and end delimiters\n",
    "    pattern = r'(?:<\\\\?\\|tex_start\\\\?\\|>|<\\\\/tex_start\\\\?>)\\s*(.*?)\\s*(?:<\\\\?\\|tex_end\\\\?\\|>|<\\\\/tex_end\\\\?>|\\\\_\\|tex_end\\_\\|)'\n",
    "    match = re.search(pattern, markdown_text, re.DOTALL)  # Search across lines (re.DOTALL)\n",
    "    if match:\n",
    "        tex_string = match.group(1)  # Extract content between the delimiters\n",
    "        return tex_string\n",
    "    else:\n",
    "        print(\"TeX data not found.\")  # Handle cases with missing delimiters\n",
    "        return markdown_text\n",
    "\n",
    "\n",
    "def get_equation_frequency(equation_frequency_level):\n",
    "    if equation_frequency_level == 1:\n",
    "        return \"Avoid using equations whenever possible, and explain all concepts in simple words. Use equations only when absolutely necessary and keep it to a minimum.\"\n",
    "    elif equation_frequency_level == 2:\n",
    "        return \"Use equations sparingly, focusing primarily on explanations in prose. Use simple equations only if necessary.\"\n",
    "    elif equation_frequency_level == 3:\n",
    "        return \"Combine equations and prose explanations in a balanced way. Use equations to illustrate key concepts, supplementing with prose where needed.\"\n",
    "    elif equation_frequency_level == 4:\n",
    "        return \"Use equations actively to precisely convey concepts and relationships. However, important explanations should also be supplemented with prose.\"\n",
    "    elif equation_frequency_level == 5:\n",
    "        return \"Use equations extensively. Express as many concepts and relationships as possible through equations.\""
   ]
  },
  {
   "cell_type": "markdown",
   "metadata": {
    "id": "h67SUYLNkfjh"
   },
   "source": [
    "### LLM Chapter, Section, Subsection Generation"
   ]
  },
  {
   "cell_type": "code",
   "execution_count": 73,
   "metadata": {
    "id": "fvZSOTxb4kpT",
    "scrolled": false
   },
   "outputs": [
    {
     "name": "stdout",
     "output_type": "stream",
     "text": [
      "\u001b[1m{\u001b[0m\n",
      "    \u001b[32m'title'\u001b[0m: \u001b[32m'Introduction to Quantum Mechanics'\u001b[0m,\n",
      "    \u001b[32m'summary'\u001b[0m: \u001b[32m'This chapter introduces the fundamental concepts of quantum mechanics, including wave-particle \u001b[0m\n",
      "\u001b[32mduality, uncertainty principle, and Schrödinger equation. It provides an overview of the history of quantum \u001b[0m\n",
      "\u001b[32mmechanics and its development.'\u001b[0m,\n",
      "    \u001b[32m'n_pages'\u001b[0m: \u001b[1;36m1.0\u001b[0m,\n",
      "    \u001b[32m'needsSubdivision'\u001b[0m: \u001b[3;91mFalse\u001b[0m\n",
      "\u001b[1m}\u001b[0m\n"
     ]
    },
    {
     "data": {
      "text/html": [
       "<pre style=\"white-space:pre;overflow-x:auto;line-height:normal;font-family:Menlo,'DejaVu Sans Mono',consolas,'Courier New',monospace\"></pre>\n"
      ],
      "text/plain": []
     },
     "metadata": {},
     "output_type": "display_data"
    },
    {
     "name": "stdout",
     "output_type": "stream",
     "text": [
      "\u001b[1m{\u001b[0m\n",
      "    \u001b[32m'title'\u001b[0m: \u001b[32m'Quantum Bits \u001b[0m\u001b[32m(\u001b[0m\u001b[32mQubits\u001b[0m\u001b[32m)\u001b[0m\u001b[32m and Quantum Computing Fundamentals'\u001b[0m,\n",
      "    \u001b[32m'summary'\u001b[0m: \u001b[32m'This chapter explains the basics of qubits, including their properties, measurement, and \u001b[0m\n",
      "\u001b[32mentanglement. It also introduces the concept of quantum gates and quantum computing architecture.'\u001b[0m,\n",
      "    \u001b[32m'n_pages'\u001b[0m: \u001b[1;36m0.8\u001b[0m,\n",
      "    \u001b[32m'needsSubdivision'\u001b[0m: \u001b[3;91mFalse\u001b[0m\n",
      "\u001b[1m}\u001b[0m\n"
     ]
    },
    {
     "data": {
      "text/html": [
       "<pre style=\"white-space:pre;overflow-x:auto;line-height:normal;font-family:Menlo,'DejaVu Sans Mono',consolas,'Courier New',monospace\"></pre>\n"
      ],
      "text/plain": []
     },
     "metadata": {},
     "output_type": "display_data"
    },
    {
     "name": "stdout",
     "output_type": "stream",
     "text": [
      "\u001b[1m{\u001b[0m\n",
      "    \u001b[32m'title'\u001b[0m: \u001b[32m'Quantum Algorithms and Applications'\u001b[0m,\n",
      "    \u001b[32m'summary'\u001b[0m: \u001b[32m\"This chapter discusses various quantum algorithms, including Shor's algorithm, Grover's algorithm, \u001b[0m\n",
      "\u001b[32mand Simon's algorithm. It also explores the applications of quantum computing in cryptography, optimization, and \u001b[0m\n",
      "\u001b[32mmachine learning.\"\u001b[0m,\n",
      "    \u001b[32m'n_pages'\u001b[0m: \u001b[1;36m1.2\u001b[0m,\n",
      "    \u001b[32m'needsSubdivision'\u001b[0m: \u001b[3;92mTrue\u001b[0m\n",
      "\u001b[1m}\u001b[0m\n"
     ]
    },
    {
     "data": {
      "text/html": [
       "<pre style=\"white-space:pre;overflow-x:auto;line-height:normal;font-family:Menlo,'DejaVu Sans Mono',consolas,'Courier New',monospace\"></pre>\n"
      ],
      "text/plain": []
     },
     "metadata": {},
     "output_type": "display_data"
    },
    {
     "name": "stdout",
     "output_type": "stream",
     "text": [
      "Prompt text: text='\\nYou are an expert assistant for generating content of technical professional books. You will be writing a book on the following topic: Undertanding Quantum Computing.\\nThe total number of pages in the book is about 30, with an estimated 40 lines per page. Please consider using polite and professional tone.\\n The intended readers of the book are as follows:\\n Common university 1st or 2nd year students in department of Computer Science. Additionally, please take the following into consideration:\\n Try to be factual and verbose while describing any concept. Also put examples.\\nTo help you, I am also providing you the summary of the book as follows:\\nThis book provides an in-depth introduction to the fundamentals of quantum computing, its applications, and its impact on the field of computer science. The primary objectives of this book are to educate first and second-year computer science students about the principles and concepts of quantum computing. The scope of the book covers the basics of quantum mechanics, quantum bits (qubits), quantum algorithms, and quantum computing applications. The content is designed to provide a comprehensive understanding of quantum computing, its history, and its current state. The book aims to bridge the gap between theoretical knowledge and practical applications. It will be beneficial for students who want to explore the field of quantum computing in depth. The book\\'s primary audience includes undergraduate computer science students. \\n\\nAs part of that, your current task is to create content across 1.2 pages, assuming 40 lines per page for the chapter or section, \"Quantum Algorithms and Applications\" of the book.\\nThe summary for the section is as follows:\\nThis chapter discusses various quantum algorithms, including Shor\\'s algorithm, Grover\\'s algorithm, and Simon\\'s algorithm. It also explores the applications of quantum computing in cryptography, optimization, and machine learning.\\n\\nYour task also is to divide this chapter or section into multiple parts and output the titles and summaries of each part in the following JSON format.\\nAlso, consider the page allocation for each part in units of 0.1, like 0.8 pages.\\nAdditionally, consider whether each part needs further division based on semantic cohesion (needsSubdivision) and answer true or false.\\nPlease avoid including section numbers in the titles. \\nPlease do not include any extra introductory or conclusory message outside the expected format.\\nEnclose the json content between ```json and ``` delimiters.\\n\\nThe output format should be strictly as follows:\\n\\n```json\\n[\\n    {\"title\": \"\", \"summary\": \"\", \"n_pages\": , \"needsSubdivision\": },\\n    {\"title\": \"\", \"summary\": \"\", \"n_pages\": , \"needsSubdivision\": }\\n]\\n```\\n'\n",
      "\u001b[1m[\u001b[0m\n",
      "    \u001b[1m{\u001b[0m\n",
      "        \u001b[32m'title'\u001b[0m: \u001b[32m'Introduction to Quantum Algorithms'\u001b[0m,\n",
      "        \u001b[32m'summary'\u001b[0m: \u001b[32m'This section introduces various quantum algorithms that utilize quantum mechanics principles.'\u001b[0m,\n",
      "        \u001b[32m'n_pages'\u001b[0m: \u001b[1;36m0.8\u001b[0m,\n",
      "        \u001b[32m'needsSubdivision'\u001b[0m: \u001b[3;91mFalse\u001b[0m\n",
      "    \u001b[1m}\u001b[0m,\n",
      "    \u001b[1m{\u001b[0m\n",
      "        \u001b[32m'title'\u001b[0m: \u001b[32m'Applications of Quantum Computing'\u001b[0m,\n",
      "        \u001b[32m'summary'\u001b[0m: \u001b[32m'This part delves into the applications of quantum computing in cryptography, optimization, and \u001b[0m\n",
      "\u001b[32mmachine learning.'\u001b[0m,\n",
      "        \u001b[32m'n_pages'\u001b[0m: \u001b[1;36m0.9\u001b[0m,\n",
      "        \u001b[32m'needsSubdivision'\u001b[0m: \u001b[3;91mFalse\u001b[0m\n",
      "    \u001b[1m}\u001b[0m,\n",
      "    \u001b[1m{\u001b[0m\n",
      "        \u001b[32m'title'\u001b[0m: \u001b[32m'Real-World Applications of Quantum Algorithms'\u001b[0m,\n",
      "        \u001b[32m'summary'\u001b[0m: \u001b[32m\"This section explores the real-world applications of Shor's algorithm and Grover's algorithm.\"\u001b[0m,\n",
      "        \u001b[32m'n_pages'\u001b[0m: \u001b[1;36m0.3\u001b[0m,\n",
      "        \u001b[32m'needsSubdivision'\u001b[0m: \u001b[3;92mTrue\u001b[0m\n",
      "    \u001b[1m}\u001b[0m\n",
      "\u001b[1m]\u001b[0m\n"
     ]
    },
    {
     "data": {
      "text/html": [
       "<pre style=\"white-space:pre;overflow-x:auto;line-height:normal;font-family:Menlo,'DejaVu Sans Mono',consolas,'Courier New',monospace\"></pre>\n"
      ],
      "text/plain": []
     },
     "metadata": {},
     "output_type": "display_data"
    },
    {
     "name": "stdout",
     "output_type": "stream",
     "text": [
      "\u001b[1m{\u001b[0m\n",
      "    \u001b[32m'title'\u001b[0m: \u001b[32m'Quantum Computing and Classical Computing'\u001b[0m,\n",
      "    \u001b[32m'summary'\u001b[0m: \u001b[32m'This chapter compares the principles of classical computing with those of quantum computing. It \u001b[0m\n",
      "\u001b[32mdiscusses the advantages and disadvantages of quantum computing.'\u001b[0m,\n",
      "    \u001b[32m'n_pages'\u001b[0m: \u001b[1;36m0.5\u001b[0m,\n",
      "    \u001b[32m'needsSubdivision'\u001b[0m: \u001b[3;91mFalse\u001b[0m\n",
      "\u001b[1m}\u001b[0m\n"
     ]
    },
    {
     "data": {
      "text/html": [
       "<pre style=\"white-space:pre;overflow-x:auto;line-height:normal;font-family:Menlo,'DejaVu Sans Mono',consolas,'Courier New',monospace\"></pre>\n"
      ],
      "text/plain": []
     },
     "metadata": {},
     "output_type": "display_data"
    },
    {
     "name": "stdout",
     "output_type": "stream",
     "text": [
      "\u001b[1m{\u001b[0m\n",
      "    \u001b[32m'title'\u001b[0m: \u001b[32m'Introduction to Quantum Algorithms'\u001b[0m,\n",
      "    \u001b[32m'summary'\u001b[0m: \u001b[32m'This section introduces various quantum algorithms that utilize quantum mechanics principles.'\u001b[0m,\n",
      "    \u001b[32m'n_pages'\u001b[0m: \u001b[1;36m0.8\u001b[0m,\n",
      "    \u001b[32m'needsSubdivision'\u001b[0m: \u001b[3;91mFalse\u001b[0m\n",
      "\u001b[1m}\u001b[0m\n"
     ]
    },
    {
     "data": {
      "text/html": [
       "<pre style=\"white-space:pre;overflow-x:auto;line-height:normal;font-family:Menlo,'DejaVu Sans Mono',consolas,'Courier New',monospace\"></pre>\n"
      ],
      "text/plain": []
     },
     "metadata": {},
     "output_type": "display_data"
    },
    {
     "name": "stdout",
     "output_type": "stream",
     "text": [
      "\u001b[1m{\u001b[0m\n",
      "    \u001b[32m'title'\u001b[0m: \u001b[32m'Applications of Quantum Computing'\u001b[0m,\n",
      "    \u001b[32m'summary'\u001b[0m: \u001b[32m'This part delves into the applications of quantum computing in cryptography, optimization, and \u001b[0m\n",
      "\u001b[32mmachine learning.'\u001b[0m,\n",
      "    \u001b[32m'n_pages'\u001b[0m: \u001b[1;36m0.9\u001b[0m,\n",
      "    \u001b[32m'needsSubdivision'\u001b[0m: \u001b[3;91mFalse\u001b[0m\n",
      "\u001b[1m}\u001b[0m\n"
     ]
    },
    {
     "data": {
      "text/html": [
       "<pre style=\"white-space:pre;overflow-x:auto;line-height:normal;font-family:Menlo,'DejaVu Sans Mono',consolas,'Courier New',monospace\"></pre>\n"
      ],
      "text/plain": []
     },
     "metadata": {},
     "output_type": "display_data"
    },
    {
     "name": "stdout",
     "output_type": "stream",
     "text": [
      "\u001b[1m{\u001b[0m\n",
      "    \u001b[32m'title'\u001b[0m: \u001b[32m'Real-World Applications of Quantum Algorithms'\u001b[0m,\n",
      "    \u001b[32m'summary'\u001b[0m: \u001b[32m\"This section explores the real-world applications of Shor's algorithm and Grover's algorithm.\"\u001b[0m,\n",
      "    \u001b[32m'n_pages'\u001b[0m: \u001b[1;36m0.3\u001b[0m,\n",
      "    \u001b[32m'needsSubdivision'\u001b[0m: \u001b[3;92mTrue\u001b[0m\n",
      "\u001b[1m}\u001b[0m\n"
     ]
    },
    {
     "data": {
      "text/html": [
       "<pre style=\"white-space:pre;overflow-x:auto;line-height:normal;font-family:Menlo,'DejaVu Sans Mono',consolas,'Courier New',monospace\"></pre>\n"
      ],
      "text/plain": []
     },
     "metadata": {},
     "output_type": "display_data"
    }
   ],
   "source": [
    "book_node = book_graph.nodes[book_node_name]\n",
    "next_parent_list = [book_node_name]\n",
    "\n",
    "for depth in range(max_depth):\n",
    "    parent_list = next_parent_list\n",
    "    next_parent_list = []\n",
    "    for parent_node_name in parent_list:\n",
    "        for _, child_node_name in enumerate(book_graph.successors(parent_node_name)):\n",
    "            parant_node = book_graph.nodes[parent_node_name]\n",
    "            child_node = book_graph.nodes[child_node_name]\n",
    "\n",
    "            pretty_print(child_node)\n",
    "            if (child_node[\"needsSubdivision\"] or float(child_node[\"n_pages\"]) >= max_output_pages) and depth < max_depth-1:\n",
    "\n",
    "                # Output by LLM\n",
    "                prompt = PromptTemplate.from_template(prompt_section_list_creation)\n",
    "                chain = prompt | (lambda x: log_prompt(x)) | llm\n",
    "\n",
    "                result = chain.invoke(\n",
    "                    {\n",
    "                        \"book_title\": book_node[\"title\"],\n",
    "                        \"book_summary\": book_node[\"summary\"],\n",
    "                        \"equation_frequency\": get_equation_frequency(book_graph.graph[\"equation_frequency_level\"]),\n",
    "                        \"target\": child_node[\"title\"],\n",
    "                        \"n_pages\": child_node[\"n_pages\"],\n",
    "                        \"n_lines_per_page\": n_lines_per_page,\n",
    "                        \"section_summary\": child_node[\"summary\"]\n",
    "                    }\n",
    "                )\n",
    "\n",
    "                # Convert output to dictionary format\n",
    "                section_json = extract_section_list(result)\n",
    "                pretty_print(section_json)\n",
    "\n",
    "                # Create graph nodes and store results\n",
    "                if section_json:\n",
    "                    book_graph.add_nodes_from([(child_node_name + \"-\" + str(idx+1), grandchild) for idx, grandchild in enumerate(section_json)])\n",
    "                    book_graph.add_edges_from([(child_node_name, child_node_name + \"-\" + str(idx+1)) for idx in range(len(section_json))])\n",
    "\n",
    "                    # Only set as the next parent if subdivided\n",
    "                    next_parent_list.append(child_node_name)\n",
    "\n",
    "            elif depth == (max_depth-1) or (child_node and not child_node[\"needsSubdivision\"]):\n",
    "\n",
    "                # Create graph nodes and store results\n",
    "                book_graph.add_nodes_from([(child_node_name + \"-p\", {\"content_file_path\": child_node_name + \"-p.tex\"})])\n",
    "                book_graph.add_edges_from([(child_node_name, child_node_name + \"-p\")])\n",
    "\n",
    "            else:\n",
    "                print(\"Error: needsSubdivision attribute is not set\")"
   ]
  },
  {
   "cell_type": "markdown",
   "metadata": {
    "id": "zp4RAdzFe-LT"
   },
   "source": [
    "### LLM Outline Generation"
   ]
  },
  {
   "cell_type": "code",
   "execution_count": 75,
   "metadata": {
    "id": "X5V5j0SWUb_G"
   },
   "outputs": [],
   "source": [
    "def extract_content_list(string_list):\n",
    "    \"\"\"\n",
    "    This function extracts only the strings that match a specific pattern\n",
    "    (a combination of numbers and hyphens ending in '-p') from the input string_list\n",
    "    and returns them as a new list.\n",
    "    \"\"\"\n",
    "    pattern = r'(?:\\d+-)*\\d+-p'\n",
    "    return [s for s in string_list if re.match(pattern, s)]\n",
    "\n",
    "def custom_sort_key(s):\n",
    "    \"\"\"\n",
    "    This function splits the string s by the numerical parts,\n",
    "    converting them into a list of integers,\n",
    "    thereby generating a custom key for numerical sorting.\n",
    "    \"\"\"\n",
    "    parts = re.split(r'[-p]', s)\n",
    "    return [int(part) for part in parts if part != '']\n",
    "\n",
    "def sort_strings(string_list):\n",
    "    \"\"\"\n",
    "    This function sorts the input string_list using the custom key\n",
    "    defined by the custom_sort_key function and returns the sorted list.\n",
    "    \"\"\"\n",
    "    sorted_strings = sorted(string_list, key=custom_sort_key)\n",
    "    return sorted_strings\n",
    "\n",
    "def sort_leaf_nodes(book_graph):\n",
    "    \"\"\"\n",
    "    This function extracts the leaf nodes of book_graph based on a specific pattern\n",
    "    and returns a list sorted in numerical order.\n",
    "\n",
    "    Arguments:\n",
    "    - book_graph: A graph object with nodes labeled by strings\n",
    "\n",
    "    Returns:\n",
    "    - sorted_content_str_list: A sorted list of strings\n",
    "    \"\"\"\n",
    "    # Extract strings matching a specific pattern from the nodes of book_graph\n",
    "    content_str_list = extract_content_list(list(book_graph.nodes))\n",
    "\n",
    "    # Sort the extracted list of strings using a custom key\n",
    "    sorted_content_str_list = sort_strings(content_str_list)\n",
    "\n",
    "    return sorted_content_str_list\n",
    "\n",
    "def generate_outline(book_graph, book_node_name):\n",
    "    \"\"\"\n",
    "    A function to output the chapter structure to be considered for the main text output.\n",
    "    \"\"\"\n",
    "\n",
    "    toc_and_summary = \"The outline of the book is as following:\\n\"\n",
    "\n",
    "    # Sort the leaf nodes with content in order\n",
    "    sorted_content_str_list = sort_leaf_nodes(book_graph)\n",
    "\n",
    "    # Create the table of contents\n",
    "    toc_and_summary += \"# \" + book_graph.nodes[book_node_name][\"title\"] + \"\\n\"\n",
    "    toc_and_summary += book_graph.nodes[book_node_name][\"summary\"] + \"\\n\"\n",
    "\n",
    "    for heading_number_str in sorted_content_str_list:\n",
    "        heading_number = custom_sort_key(heading_number_str)\n",
    "\n",
    "        # Chapter\n",
    "        if len(heading_number[1:]) == 0 or all(x == 1 for x in heading_number[1:]):\n",
    "            node_name = \"-\".join(map(str, heading_number[0:1]))\n",
    "            toc_and_summary += \"## \" + book_graph.nodes[node_name][\"title\"] + \"\\n\"\n",
    "            #toc_and_summary += book_graph.nodes[node_name][\"summary\"] + \"\\n\"\n",
    "\n",
    "        # Section\n",
    "        if (len(heading_number[2:]) == 0 and len(heading_number[:2]) > 1) or (len(heading_number[2:]) > 0 and all(x == 1 for x in heading_number[2:])):\n",
    "            node_name = \"-\".join(map(str, heading_number[0:2]))\n",
    "            toc_and_summary += \"### \" + book_graph.nodes[node_name][\"title\"] + \"\\n\"\n",
    "            #toc_and_summary += book_graph.nodes[node_name][\"summary\"] + \"\\n\"\n",
    "\n",
    "        # Subsection\n",
    "        if (len(heading_number[3:]) == 0 and len(heading_number[:3]) > 2) or (len(heading_number[3:]) > 0 and all(x == 1 for x in heading_number[3:])):\n",
    "            node_name = \"-\".join(map(str, heading_number[0:3]))\n",
    "            toc_and_summary += \"#### \" + book_graph.nodes[node_name][\"title\"] + \"\\n\"\n",
    "            #toc_and_summary += book_graph.nodes[node_name][\"summary\"] + \"\\n\"\n",
    "\n",
    "    return toc_and_summary\n",
    "\n",
    "def slide_list_with_new_title_and_content(title, summary, original_list):\n",
    "    # Create a shifted list, adding a new element (a dictionary with title and content) at the 0th position\n",
    "    slid_list = [{\"title\": title, \"summary\": summary}] + original_list[:-1]\n",
    "    return slid_list\n",
    "\n",
    "def generate_prompt_for_previous_sections(previous_sections_content_list, n_previous_sections):\n",
    "    \"\"\"\n",
    "    This function generates a prompt based on previous sections.\n",
    "    \"\"\"\n",
    "    prompt = \"\"\n",
    "\n",
    "    for i in range(n_previous_sections):\n",
    "        i_previous_section = previous_sections_content_list[i]\n",
    "        title = i_previous_section[\"title\"]\n",
    "        summary = i_previous_section[\"summary\"]\n",
    "        prompt += f\" Among these book outlines, lets assume, the previous section discussed in this book was titled with `{title}` and {summary}\\n\"\n",
    "    return prompt"
   ]
  },
  {
   "cell_type": "markdown",
   "metadata": {
    "id": "panRk8LBUdHL"
   },
   "source": [
    "### LLM Detail TEX Generation"
   ]
  },
  {
   "cell_type": "code",
   "execution_count": 76,
   "metadata": {
    "id": "YX1GXy4te-Z2",
    "scrolled": false
   },
   "outputs": [
    {
     "name": "stdout",
     "output_type": "stream",
     "text": [
      "Prompt text: text=\"\\nYou are an expert assistant for generating content of technical professional books. You will be writing a book on the following topic: Undertanding Quantum Computing.\\nThe total number of pages in the book is about 30, with an estimated 40 lines per page. Please consider using polite and professional tone.\\n The intended readers of the book are as follows:\\n Common university 1st or 2nd year students in department of Computer Science. Additionally, please take the following into consideration:\\n Try to be factual and verbose while describing any concept. Also put examples.\\n\\nAs part of that, now, you are and LaTex expert writing the book of the title: Understanding Quantum Computing and the summary of the book is as follows:\\nThis book provides an in-depth introduction to the fundamentals of quantum computing, its applications, and its impact on the field of computer science. The primary objectives of this book are to educate first and second-year computer science students about the principles and concepts of quantum computing. The scope of the book covers the basics of quantum mechanics, quantum bits (qubits), quantum algorithms, and quantum computing applications. The content is designed to provide a comprehensive understanding of quantum computing, its history, and its current state. The book aims to bridge the gap between theoretical knowledge and practical applications. It will be beneficial for students who want to explore the field of quantum computing in depth. The book's primary audience includes undergraduate computer science students. \\n\\nThe outline of the book is as following:\\n# Understanding Quantum Computing\\nThis book provides an in-depth introduction to the fundamentals of quantum computing, its applications, and its impact on the field of computer science. The primary objectives of this book are to educate first and second-year computer science students about the principles and concepts of quantum computing. The scope of the book covers the basics of quantum mechanics, quantum bits (qubits), quantum algorithms, and quantum computing applications. The content is designed to provide a comprehensive understanding of quantum computing, its history, and its current state. The book aims to bridge the gap between theoretical knowledge and practical applications. It will be beneficial for students who want to explore the field of quantum computing in depth. The book's primary audience includes undergraduate computer science students. \\n## Introduction to Quantum Mechanics\\n## Quantum Bits (Qubits) and Quantum Computing Fundamentals\\n## Quantum Algorithms and Applications\\n### Introduction to Quantum Algorithms\\n### Applications of Quantum Computing\\n### Real-World Applications of Quantum Algorithms\\n## Quantum Computing and Classical Computing\\n\\n Among these book outlines, lets assume, the previous section discussed in this book was titled with `None` and None\\n. \\n\\nFor readability and consistency, you may summarize what have been discussed in the previous part and whats is being discussed in the current one.\\n\\nNow, I would like you to create TeX content for the current section on: Introduction to Quantum Mechanics, across 1.0 pages, assuming 40 lines per page. \\nThe summary for the current section whose content you will generate is as follows: This chapter introduces the fundamental concepts of quantum mechanics, including wave-particle duality, uncertainty principle, and Schrödinger equation. It provides an overview of the history of quantum mechanics and its development.. Please generate the tex content.\\n\\nPlease output the content in the following format:\\n- Enclose the LaTeX content strictly between the delimiters `<|tex_start|>` and `<|tex_end|>`, as shown below:\\n    - The LaTeX output **must start with** `<|tex_start|>` delimiter.\\n    - The LaTeX output **must end with** `<|tex_end|>` delimiter.\\n- Do not include any other explanations, comments outside these delimiters.\\n- Do not return markdown tags instead return Latex tags where necessary. \\n    For example, instead of `# `, `## `, `### ` return section, subsection and subsubsection tags of LateX as requied. Also same for itemize items.\\n- Carefully, escape special characters `&` as `\\\\&` to ensure valid LaTeX.\\n- Do not include backtick sequences or any unrelated formatting not part of LaTeX syntax.\\n- The LaTeX snippet should be formatted as part of a book chapter and include proper LaTeX syntax for sections, subsections, mathematical equations (if necessary), lists, and text formatting. \\n- Use balanced and valid LaTeX tags (e.g., properly closed brackets, environments, and commands).\\n- Avoid non-standard Unicode symbols that may break LaTeX compilation. Use only standard LaTeX symbols.\\n- Replace special characters with their LaTeX-safe equivalents (e.g., replace & with \\\\&, % with \\\\%, etc.).\\n- Do not include document class, preamble, or any unnecessary elements. Focus only on content.\\n- Use the `<|tex_start|>` and `<|tex_end|>` delimiters **only once** in the output response: at the beginning and at the end of the response respectively.\\n\\nOutput format:\\n    <|tex_start|>\\n    tex response\\n    <|tex_end|>\\n\"\n",
      "\u001b[1m<\u001b[0m\u001b[1;95m|tex_start|\u001b[0m\u001b[39m>\u001b[0m\n",
      "\n",
      "\u001b[39m\\ chapter\u001b[0m\u001b[1;39m{\u001b[0m\u001b[39mIntroduction to Quantum Mechanics\u001b[0m\u001b[1;39m}\u001b[0m\n",
      "\n",
      "\u001b[39m\\section*\u001b[0m\u001b[1;39m{\u001b[0m\u001b[39mWave-Particle Duality\u001b[0m\u001b[1;39m}\u001b[0m\n",
      "\n",
      "\u001b[39mQuantum mechanics introduces a fundamental concept that challenges our understanding of the behavior of matter and \u001b[0m\n",
      "\u001b[39menergy at the atomic and subatomic level. Wave-particle duality is a phenomenon where particles, such as electrons \u001b[0m\n",
      "\u001b[39mand photons, can exhibit both wave-like and particle-like properties.\u001b[0m\n",
      "\n",
      "\u001b[39mMathematically, this can be represented by the wave function $\\\u001b[0m\u001b[1;35mpsi\u001b[0m\u001b[1;39m(\u001b[0m\u001b[39mx\u001b[0m\u001b[1;39m)\u001b[0m\u001b[39m$, which encodes the probability amplitude of \u001b[0m\n",
      "\u001b[39mfinding a particle in a particular state at position $x$. The wave function satisfies the time-dependent \u001b[0m\n",
      "\u001b[39mSchrödinger equation:\u001b[0m\n",
      "\n",
      "\u001b[1;39m[\u001b[0m\n",
      "\u001b[39mi\\hbar \\frac\u001b[0m\u001b[1;39m{\u001b[0m\u001b[39m\\partial \\psi\u001b[0m\u001b[1;39m}\u001b[0m\u001b[1;39m{\u001b[0m\u001b[39m\\partial t\u001b[0m\u001b[1;39m}\u001b[0m\u001b[39m = H \\psi\u001b[0m\n",
      "\u001b[39m\\\u001b[0m\u001b[1;39m]\u001b[0m\n",
      "\n",
      "\u001b[39mwhere $H$ is the Hamiltonian operator, representing the total energy of the system.\u001b[0m\n",
      "\n",
      "\u001b[39mIn terms of the Heisenberg uncertainty principle, it states that certain pairs of physical properties, such as \u001b[0m\n",
      "\u001b[39mposition and momentum, cannot both be precisely known at the same time. This fundamental limit on our ability to \u001b[0m\n",
      "\u001b[39mmeasure some properties simultaneously is a direct consequence of wave-particle duality.\u001b[0m\n",
      "\n",
      "\u001b[39m\\subsection*\u001b[0m\u001b[1;39m{\u001b[0m\u001b[39mUncertainty Principle\u001b[0m\u001b[1;39m}\u001b[0m\n",
      "\n",
      "\u001b[39mThe uncertainty principle can be mathematically expressed using the following equation:\u001b[0m\n",
      "\n",
      "\u001b[1;39m[\u001b[0m\n",
      "\u001b[39m\\Delta x \\cdot \\Delta p \\geq \\frac\u001b[0m\u001b[1;39m{\u001b[0m\u001b[39m\\hbar\u001b[0m\u001b[1;39m}\u001b[0m\u001b[1;39m{\u001b[0m\u001b[1;36m2\u001b[0m\u001b[1;39m}\u001b[0m\n",
      "\u001b[39m\\\u001b[0m\u001b[1;39m]\u001b[0m\n",
      "\n",
      "\u001b[39mwhere $\\Delta x$ and $\\Delta p$ are the uncertainties in position and momentum, respectively.\u001b[0m\n",
      "\n",
      "\u001b[39mThis fundamental limit has significant implications for our understanding of the behavior of particles at the \u001b[0m\n",
      "\u001b[39mquantum level.\u001b[0m\n",
      "\n",
      "\u001b[39m\\subsection*\u001b[0m\u001b[1;39m{\u001b[0m\u001b[39mSchrödinger Equation\u001b[0m\u001b[1;39m}\u001b[0m\n",
      "\n",
      "\u001b[39mThe time-dependent Schrödinger equation is a central equation in quantum mechanics that describes the \u001b[0m\n",
      "\u001b[39mtime-evolution of a quantum system. It was first introduced by Erwin Schrödinger in \u001b[0m\u001b[1;36m1926\u001b[0m\u001b[39m and has since become a \u001b[0m\n",
      "\u001b[39mcornerstone of quantum theory.\u001b[0m\n",
      "\n",
      "\u001b[39mMathematically, the Schrödinger equation can be written as:\u001b[0m\n",
      "\n",
      "\u001b[1;39m[\u001b[0m\n",
      "\u001b[39mi\\hbar \\frac\u001b[0m\u001b[1;39m{\u001b[0m\u001b[39m\\partial \\psi\u001b[0m\u001b[1;39m}\u001b[0m\u001b[1;39m{\u001b[0m\u001b[39m\\partial t\u001b[0m\u001b[1;39m}\u001b[0m\u001b[39m = H \\psi\u001b[0m\n",
      "\u001b[39m\\\u001b[0m\u001b[1;39m]\u001b[0m\n",
      "\n",
      "\u001b[39mwhere $\\\u001b[0m\u001b[1;35mpsi\u001b[0m\u001b[1;39m(\u001b[0m\u001b[39mx,t\u001b[0m\u001b[1;39m)\u001b[0m\u001b[39m$ is the wave function of the system, $H$ is the Hamiltonian operator, and $t$ is time.\u001b[0m\n",
      "\n",
      "\u001b[39mSolving the Schrödinger equation is crucial for predicting the behavior of quantum systems, including their energy \u001b[0m\n",
      "\u001b[39mlevels and transition probabilities.\u001b[0m\n",
      "\n",
      "\u001b[39m\\section*\u001b[0m\u001b[1;39m{\u001b[0m\u001b[39mHistory of Quantum Mechanics\u001b[0m\u001b[1;39m}\u001b[0m\n",
      "\n",
      "\u001b[39mQuantum mechanics has a rich history that spans several decades. The concept of wave-particle duality was first \u001b[0m\n",
      "\u001b[39mintroduced by Louis de Broglie in \u001b[0m\u001b[1;36m1924\u001b[0m\u001b[39m, who proposed that particles, such as electrons, could exhibit wave-like \u001b[0m\n",
      "\u001b[39mbehavior.\u001b[0m\n",
      "\n",
      "\u001b[39mThe development of quantum mechanics involved significant contributions from many scientists, including Niels Bohr,\u001b[0m\n",
      "\u001b[39mWerner Heisenberg, and Erwin Schrödinger. Their work laid the foundation for our modern understanding of quantum \u001b[0m\n",
      "\u001b[39mtheory.\u001b[0m\n",
      "\n",
      "\u001b[39m\\subsection*\u001b[0m\u001b[1;39m{\u001b[0m\u001b[39mEarly Developments\u001b[0m\u001b[1;39m}\u001b[0m\n",
      "\n",
      "\u001b[39mIn the early 20th century, scientists such as Max Planck and Albert Einstein made significant contributions to the \u001b[0m\n",
      "\u001b[39mdevelopment of quantum mechanics. Planck introduced the concept of quantized energy in \u001b[0m\u001b[1;36m1900\u001b[0m\u001b[39m, while Einstein's work \u001b[0m\n",
      "\u001b[39mon the photoelectric effect led to a deeper understanding of light-matter interactions.\u001b[0m\n",
      "\n",
      "\u001b[39mThese early developments laid the groundwork for the development of quantum mechanics as we know it today.\u001b[0m\n",
      "\n",
      "\u001b[39m\\subsection*\u001b[0m\u001b[1;39m{\u001b[0m\u001b[39mQuantum Field Theory\u001b[0m\u001b[1;39m}\u001b[0m\n",
      "\n",
      "\u001b[39mIn recent years, there has been significant progress in the development of quantum field theory, which is an \u001b[0m\n",
      "\u001b[39mextension of quantum mechanics that describes the behavior of particles in terms of fields rather than particles \u001b[0m\n",
      "\u001b[39mthemselves. Quantum field theory has far-reaching implications for our understanding of particle physics and the \u001b[0m\n",
      "\u001b[39mbehavior of matter at the quantum level.\u001b[0m\n",
      "\n",
      "\u001b[39mQuantum field theory is a complex and active area of research, with significant contributions from many scientists \u001b[0m\n",
      "\u001b[39maround the world.\u001b[0m\n",
      "\n",
      "\u001b[39m\\section*\u001b[0m\u001b[1;39m{\u001b[0m\u001b[39mConclusion\u001b[0m\u001b[1;39m}\u001b[0m\n",
      "\n",
      "\u001b[39mIn conclusion, this chapter has provided an introduction to the fundamental concepts of quantum mechanics, \u001b[0m\n",
      "\u001b[39mincluding wave-particle duality, uncertainty principle, and Schrödinger equation. We have also touched on the \u001b[0m\n",
      "\u001b[39mhistory of quantum mechanics and its development over the years.\u001b[0m\n",
      "\n",
      "\u001b[39mThe next section will delve deeper into the world of quantum bits \u001b[0m\u001b[1;39m(\u001b[0m\u001b[39mqubits\u001b[0m\u001b[1;39m)\u001b[0m\u001b[39m and quantum computing fundamentals.\u001b[0m\n",
      "\n",
      "\u001b[39m<|tex_end|\u001b[0m\u001b[1m>\u001b[0m\n"
     ]
    },
    {
     "data": {
      "text/html": [
       "<pre style=\"white-space:pre;overflow-x:auto;line-height:normal;font-family:Menlo,'DejaVu Sans Mono',consolas,'Courier New',monospace\"></pre>\n"
      ],
      "text/plain": []
     },
     "metadata": {},
     "output_type": "display_data"
    },
    {
     "name": "stdout",
     "output_type": "stream",
     "text": [
      "Prompt text: text=\"\\nYou are an expert assistant for generating content of technical professional books. You will be writing a book on the following topic: Undertanding Quantum Computing.\\nThe total number of pages in the book is about 30, with an estimated 40 lines per page. Please consider using polite and professional tone.\\n The intended readers of the book are as follows:\\n Common university 1st or 2nd year students in department of Computer Science. Additionally, please take the following into consideration:\\n Try to be factual and verbose while describing any concept. Also put examples.\\n\\nAs part of that, now, you are and LaTex expert writing the book of the title: Understanding Quantum Computing and the summary of the book is as follows:\\nThis book provides an in-depth introduction to the fundamentals of quantum computing, its applications, and its impact on the field of computer science. The primary objectives of this book are to educate first and second-year computer science students about the principles and concepts of quantum computing. The scope of the book covers the basics of quantum mechanics, quantum bits (qubits), quantum algorithms, and quantum computing applications. The content is designed to provide a comprehensive understanding of quantum computing, its history, and its current state. The book aims to bridge the gap between theoretical knowledge and practical applications. It will be beneficial for students who want to explore the field of quantum computing in depth. The book's primary audience includes undergraduate computer science students. \\n\\nThe outline of the book is as following:\\n# Understanding Quantum Computing\\nThis book provides an in-depth introduction to the fundamentals of quantum computing, its applications, and its impact on the field of computer science. The primary objectives of this book are to educate first and second-year computer science students about the principles and concepts of quantum computing. The scope of the book covers the basics of quantum mechanics, quantum bits (qubits), quantum algorithms, and quantum computing applications. The content is designed to provide a comprehensive understanding of quantum computing, its history, and its current state. The book aims to bridge the gap between theoretical knowledge and practical applications. It will be beneficial for students who want to explore the field of quantum computing in depth. The book's primary audience includes undergraduate computer science students. \\n## Introduction to Quantum Mechanics\\n## Quantum Bits (Qubits) and Quantum Computing Fundamentals\\n## Quantum Algorithms and Applications\\n### Introduction to Quantum Algorithms\\n### Applications of Quantum Computing\\n### Real-World Applications of Quantum Algorithms\\n## Quantum Computing and Classical Computing\\n\\n Among these book outlines, lets assume, the previous section discussed in this book was titled with `Introduction to Quantum Mechanics` and This chapter introduces the fundamental concepts of quantum mechanics, including wave-particle duality, uncertainty principle, and Schrödinger equation. It provides an overview of the history of quantum mechanics and its development.\\n. \\n\\nFor readability and consistency, you may summarize what have been discussed in the previous part and whats is being discussed in the current one.\\n\\nNow, I would like you to create TeX content for the current section on: Quantum Bits (Qubits) and Quantum Computing Fundamentals, across 0.8 pages, assuming 40 lines per page. \\nThe summary for the current section whose content you will generate is as follows: This chapter explains the basics of qubits, including their properties, measurement, and entanglement. It also introduces the concept of quantum gates and quantum computing architecture.. Please generate the tex content.\\n\\nPlease output the content in the following format:\\n- Enclose the LaTeX content strictly between the delimiters `<|tex_start|>` and `<|tex_end|>`, as shown below:\\n    - The LaTeX output **must start with** `<|tex_start|>` delimiter.\\n    - The LaTeX output **must end with** `<|tex_end|>` delimiter.\\n- Do not include any other explanations, comments outside these delimiters.\\n- Do not return markdown tags instead return Latex tags where necessary. \\n    For example, instead of `# `, `## `, `### ` return section, subsection and subsubsection tags of LateX as requied. Also same for itemize items.\\n- Carefully, escape special characters `&` as `\\\\&` to ensure valid LaTeX.\\n- Do not include backtick sequences or any unrelated formatting not part of LaTeX syntax.\\n- The LaTeX snippet should be formatted as part of a book chapter and include proper LaTeX syntax for sections, subsections, mathematical equations (if necessary), lists, and text formatting. \\n- Use balanced and valid LaTeX tags (e.g., properly closed brackets, environments, and commands).\\n- Avoid non-standard Unicode symbols that may break LaTeX compilation. Use only standard LaTeX symbols.\\n- Replace special characters with their LaTeX-safe equivalents (e.g., replace & with \\\\&, % with \\\\%, etc.).\\n- Do not include document class, preamble, or any unnecessary elements. Focus only on content.\\n- Use the `<|tex_start|>` and `<|tex_end|>` delimiters **only once** in the output response: at the beginning and at the end of the response respectively.\\n\\nOutput format:\\n    <|tex_start|>\\n    tex response\\n    <|tex_end|>\\n\"\n",
      "\u001b[1m<\u001b[0m\u001b[1;95m|tex_start|\u001b[0m\u001b[39m>\u001b[0m\n",
      "\n",
      "\u001b[39m\\chapter\u001b[0m\u001b[1;39m{\u001b[0m\u001b[39mQuantum Bits \u001b[0m\u001b[1;39m(\u001b[0m\u001b[39mQubits\u001b[0m\u001b[1;39m)\u001b[0m\u001b[39m and Quantum Computing Fundamentals\u001b[0m\u001b[1;39m}\u001b[0m\n",
      "\n",
      "\u001b[39m\\section\u001b[0m\u001b[1;39m{\u001b[0m\u001b[39mIntroduction to Qubits\u001b[0m\u001b[1;39m}\u001b[0m\n",
      "\n",
      "\u001b[39mA qubit is the fundamental unit of quantum information, analogous to a classical bit. Unlike classical bits that \u001b[0m\n",
      "\u001b[39mcan exist in one of two states \u001b[0m\u001b[1;39m(\u001b[0m\u001b[1;36m0\u001b[0m\u001b[39m or \u001b[0m\u001b[1;36m1\u001b[0m\u001b[1;39m)\u001b[0m\u001b[39m, qubits can exist in multiple states simultaneously due to their \u001b[0m\n",
      "\u001b[39msuperposition property.\u001b[0m\n",
      "\n",
      "\u001b[39mThe key properties of qubits are:\u001b[0m\n",
      "\n",
      "\u001b[39m- \\textit\u001b[0m\u001b[1;39m{\u001b[0m\u001b[39mSuperposition\u001b[0m\u001b[1;39m}\u001b[0m\u001b[39m: A qubit can exist in multiple states at the same time, represented mathematically as \u001b[0m\n",
      "\u001b[39m$\\alpha |\u001b[0m\u001b[1;36m0\u001b[0m\u001b[39m\\rangle + \\beta |\u001b[0m\u001b[1;36m1\u001b[0m\u001b[39m\\rangle$, where $|\\alpha|^\u001b[0m\u001b[1;36m2\u001b[0m\u001b[39m + |\\beta|^\u001b[0m\u001b[1;36m2\u001b[0m\u001b[39m = \u001b[0m\u001b[1;36m1\u001b[0m\u001b[39m$.\u001b[0m\n",
      "\u001b[39m- \\textit\u001b[0m\u001b[1;39m{\u001b[0m\u001b[39mEntanglement\u001b[0m\u001b[1;39m}\u001b[0m\u001b[39m: Qubits can become entangled when two or more qubits are connected in a way that the state \u001b[0m\n",
      "\u001b[39mof one qubit is dependent on the state of the other qubits, even when they are separated by large distances.\u001b[0m\n",
      "\n",
      "\u001b[39m\\subsection\u001b[0m\u001b[1;39m{\u001b[0m\u001b[39mMeasurement of Qubits\u001b[0m\u001b[1;39m}\u001b[0m\n",
      "\n",
      "\u001b[39mWhen measuring a qubit, it collapses from its superposition state to a single state \u001b[0m\u001b[1;39m(\u001b[0m\u001b[1;36m0\u001b[0m\u001b[39m or \u001b[0m\u001b[1;36m1\u001b[0m\u001b[1;39m)\u001b[0m\u001b[39m. The act of \u001b[0m\n",
      "\u001b[39mmeasurement itself can also affect the outcome due to the Heisenberg Uncertainty Principle, which states that \u001b[0m\n",
      "\u001b[39mcertain properties of a particle cannot be precisely known at the same time.\u001b[0m\n",
      "\n",
      "\u001b[39mThe probability of finding a qubit in each state after measurement is given by:\u001b[0m\n",
      "\n",
      "\u001b[1;35mP\u001b[0m\u001b[1;39m(\u001b[0m\u001b[1;36m0\u001b[0m\u001b[1;39m)\u001b[0m\u001b[39m = $|\\alpha|^\u001b[0m\u001b[1;36m2\u001b[0m\u001b[39m$\u001b[0m\n",
      "\n",
      "\u001b[1;35mP\u001b[0m\u001b[1;39m(\u001b[0m\u001b[1;36m1\u001b[0m\u001b[1;39m)\u001b[0m\u001b[39m = $|\\beta|^\u001b[0m\u001b[1;36m2\u001b[0m\u001b[39m$\u001b[0m\n",
      "\n",
      "\u001b[39m\\subsection\u001b[0m\u001b[1;39m{\u001b[0m\u001b[39mQuantum Gates and Quantum Computing Architecture\u001b[0m\u001b[1;39m}\u001b[0m\n",
      "\n",
      "\u001b[39mQuantum gates are the quantum equivalent of logic gates in classical computing. They perform operations on qubits \u001b[0m\n",
      "\u001b[39mto manipulate their states.\u001b[0m\n",
      "\n",
      "\u001b[39mThe basic building blocks of a quantum computer are:\u001b[0m\n",
      "\n",
      "\u001b[39m- \\textit\u001b[0m\u001b[1;39m{\u001b[0m\u001b[39mQubits\u001b[0m\u001b[1;39m}\u001b[0m\u001b[39m: The fundamental units of quantum information.\u001b[0m\n",
      "\u001b[39m- \\textit\u001b[0m\u001b[1;39m{\u001b[0m\u001b[39mQuantum gates\u001b[0m\u001b[1;39m}\u001b[0m\u001b[39m: Operations that manipulate the states of qubits.\u001b[0m\n",
      "\u001b[39m- \\textit\u001b[0m\u001b[1;39m{\u001b[0m\u001b[39mQuantum circuits\u001b[0m\u001b[1;39m}\u001b[0m\u001b[39m: A sequence of quantum gates applied to qubits.\u001b[0m\n",
      "\n",
      "\u001b[39m\\subsection\u001b[0m\u001b[1;39m{\u001b[0m\u001b[39mQuantum Error Correction\u001b[0m\u001b[1;39m}\u001b[0m\n",
      "\n",
      "\u001b[39mDue to the fragile nature of qubits, errors can occur during computation. Quantum error correction techniques are \u001b[0m\n",
      "\u001b[39mused to detect and correct these errors, ensuring the reliability of quantum computations.\u001b[0m\n",
      "\n",
      "\u001b[39mThe most common technique is the \\textit\u001b[0m\u001b[1;39m{\u001b[0m\u001b[39mShor code\u001b[0m\u001b[1;39m}\u001b[0m\u001b[39m, which encodes data in a way that allows for detection and \u001b[0m\n",
      "\u001b[39mcorrection of errors.\u001b[0m\n",
      "\n",
      "\u001b[39m\\subsection\u001b[0m\u001b[1;39m{\u001b[0m\u001b[39mQuantum Computing Models\u001b[0m\u001b[1;39m}\u001b[0m\n",
      "\n",
      "\u001b[39mThere are several models of quantum computing, including:\u001b[0m\n",
      "\n",
      "\u001b[39m- \\textit\u001b[0m\u001b[1;39m{\u001b[0m\u001b[39mUniversal Quantum Computer \u001b[0m\u001b[1;39m(\u001b[0m\u001b[39mUQC\u001b[0m\u001b[1;39m)\u001b[0m\u001b[1;39m}\u001b[0m\u001b[39m: A theoretical model that can perform any computation that can be \u001b[0m\n",
      "\u001b[39mperformed by a classical computer.\u001b[0m\n",
      "\u001b[39m- \\textit\u001b[0m\u001b[1;39m{\u001b[0m\u001b[39mTopological Quantum Computer \u001b[0m\u001b[1;39m(\u001b[0m\u001b[39mTQC\u001b[0m\u001b[1;39m)\u001b[0m\u001b[1;39m}\u001b[0m\u001b[39m: A type of quantum computer based on topological phases of matter.\u001b[0m\n",
      "\n",
      "\u001b[39m\\subsection\u001b[0m\u001b[1;39m{\u001b[0m\u001b[39mQuantum Algorithm Applications\u001b[0m\u001b[1;39m}\u001b[0m\n",
      "\n",
      "\u001b[39mSeveral quantum algorithms have been proposed and implemented, including:\u001b[0m\n",
      "\n",
      "\u001b[39m- \\textit\u001b[0m\u001b[1;39m{\u001b[0m\u001b[39mShor's algorithm\u001b[0m\u001b[1;39m}\u001b[0m\u001b[39m for factorization\u001b[0m\n",
      "\u001b[39m- \\textit\u001b[0m\u001b[1;39m{\u001b[0m\u001b[39mGrover's algorithm\u001b[0m\u001b[1;39m}\u001b[0m\u001b[39m for searching an unsorted database\u001b[0m\n",
      "\n",
      "\u001b[39mThese algorithms demonstrate the potential of quantum computing to solve complex problems exponentially faster than\u001b[0m\n",
      "\u001b[39mclassical computers.\u001b[0m\n",
      "\n",
      "\u001b[39m\\subsection\u001b[0m\u001b[1;39m{\u001b[0m\u001b[39mReal-World Applications of Quantum Algorithms\u001b[0m\u001b[1;39m}\u001b[0m\n",
      "\n",
      "\u001b[39mQuantum algorithms have been applied in several real-world scenarios, including:\u001b[0m\n",
      "\n",
      "\u001b[39m- \\textit\u001b[0m\u001b[1;39m{\u001b[0m\u001b[39mCryptography\u001b[0m\u001b[1;39m}\u001b[0m\u001b[39m: Quantum algorithms can break certain types of classical encryption.\u001b[0m\n",
      "\u001b[39m- \\textit\u001b[0m\u001b[1;39m{\u001b[0m\u001b[39mOptimization\u001b[0m\u001b[1;39m}\u001b[0m\u001b[39m: Quantum algorithms can be used to optimize complex systems.\u001b[0m\n",
      "\u001b[39m- \\textit\u001b[0m\u001b[1;39m{\u001b[0m\u001b[39mSimulation\u001b[0m\u001b[1;39m}\u001b[0m\u001b[39m: Quantum algorithms can simulate the behavior of quantum systems.\u001b[0m\n",
      "\n",
      "\u001b[39m\\subsection\u001b[0m\u001b[1;39m{\u001b[0m\u001b[39mQuantum Computing and Classical Computing Comparison\u001b[0m\u001b[1;39m}\u001b[0m\n",
      "\n",
      "\u001b[39mClassical computers use bits \u001b[0m\u001b[1;39m(\u001b[0m\u001b[1;36m0\u001b[0m\u001b[39m or \u001b[0m\u001b[1;36m1\u001b[0m\u001b[1;39m)\u001b[0m\u001b[39m to perform computations, while quantum computers use qubits. The key \u001b[0m\n",
      "\u001b[39mdifferences between classical and quantum computing are:\u001b[0m\n",
      "\n",
      "\u001b[39m- \\textit\u001b[0m\u001b[1;39m{\u001b[0m\u001b[39mScalability\u001b[0m\u001b[1;39m}\u001b[0m\u001b[39m: Quantum computers have the potential to scale exponentially with the number of qubits.\u001b[0m\n",
      "\u001b[39m- \\textit\u001b[0m\u001b[1;39m{\u001b[0m\u001b[39mSpeedup\u001b[0m\u001b[1;39m}\u001b[0m\u001b[39m: Quantum computers can solve certain problems much faster than classical computers.\u001b[0m\n",
      "\n",
      "\u001b[39mHowever, quantum computing also comes with challenges such as:\u001b[0m\n",
      "\n",
      "\u001b[39m- \\textit\u001b[0m\u001b[1;39m{\u001b[0m\u001b[39mError correction\u001b[0m\u001b[1;39m}\u001b[0m\n",
      "\u001b[39m- \\textit\u001b[0m\u001b[1;39m{\u001b[0m\u001b[39mQuantum noise\u001b[0m\u001b[1;39m}\u001b[0m\n",
      "\n",
      "\u001b[39m\\section\u001b[0m\u001b[1;39m{\u001b[0m\u001b[39mConclusion\u001b[0m\u001b[1;39m}\u001b[0m\n",
      "\n",
      "\u001b[39mIn this chapter, we introduced the basics of qubits, including their properties and measurement. We also discussed \u001b[0m\n",
      "\u001b[39mquantum gates, quantum computing architecture, quantum error correction, and quantum computing models. Finally, we \u001b[0m\n",
      "\u001b[39mexplored real-world applications of quantum algorithms and compared classical and quantum computing.\u001b[0m\n",
      "\n",
      "\u001b[39m<|tex_end|\u001b[0m\u001b[1m>\u001b[0m\n"
     ]
    },
    {
     "data": {
      "text/html": [
       "<pre style=\"white-space:pre;overflow-x:auto;line-height:normal;font-family:Menlo,'DejaVu Sans Mono',consolas,'Courier New',monospace\"></pre>\n"
      ],
      "text/plain": []
     },
     "metadata": {},
     "output_type": "display_data"
    },
    {
     "name": "stdout",
     "output_type": "stream",
     "text": [
      "Prompt text: text=\"\\nYou are an expert assistant for generating content of technical professional books. You will be writing a book on the following topic: Undertanding Quantum Computing.\\nThe total number of pages in the book is about 30, with an estimated 40 lines per page. Please consider using polite and professional tone.\\n The intended readers of the book are as follows:\\n Common university 1st or 2nd year students in department of Computer Science. Additionally, please take the following into consideration:\\n Try to be factual and verbose while describing any concept. Also put examples.\\n\\nAs part of that, now, you are and LaTex expert writing the book of the title: Understanding Quantum Computing and the summary of the book is as follows:\\nThis book provides an in-depth introduction to the fundamentals of quantum computing, its applications, and its impact on the field of computer science. The primary objectives of this book are to educate first and second-year computer science students about the principles and concepts of quantum computing. The scope of the book covers the basics of quantum mechanics, quantum bits (qubits), quantum algorithms, and quantum computing applications. The content is designed to provide a comprehensive understanding of quantum computing, its history, and its current state. The book aims to bridge the gap between theoretical knowledge and practical applications. It will be beneficial for students who want to explore the field of quantum computing in depth. The book's primary audience includes undergraduate computer science students. \\n\\nThe outline of the book is as following:\\n# Understanding Quantum Computing\\nThis book provides an in-depth introduction to the fundamentals of quantum computing, its applications, and its impact on the field of computer science. The primary objectives of this book are to educate first and second-year computer science students about the principles and concepts of quantum computing. The scope of the book covers the basics of quantum mechanics, quantum bits (qubits), quantum algorithms, and quantum computing applications. The content is designed to provide a comprehensive understanding of quantum computing, its history, and its current state. The book aims to bridge the gap between theoretical knowledge and practical applications. It will be beneficial for students who want to explore the field of quantum computing in depth. The book's primary audience includes undergraduate computer science students. \\n## Introduction to Quantum Mechanics\\n## Quantum Bits (Qubits) and Quantum Computing Fundamentals\\n## Quantum Algorithms and Applications\\n### Introduction to Quantum Algorithms\\n### Applications of Quantum Computing\\n### Real-World Applications of Quantum Algorithms\\n## Quantum Computing and Classical Computing\\n\\n Among these book outlines, lets assume, the previous section discussed in this book was titled with `Quantum Bits (Qubits) and Quantum Computing Fundamentals` and This chapter explains the basics of qubits, including their properties, measurement, and entanglement. It also introduces the concept of quantum gates and quantum computing architecture.\\n. \\n\\nFor readability and consistency, you may summarize what have been discussed in the previous part and whats is being discussed in the current one.\\n\\nNow, I would like you to create TeX content for the current section on: Introduction to Quantum Algorithms, across 0.8 pages, assuming 40 lines per page. \\nThe summary for the current section whose content you will generate is as follows: This section introduces various quantum algorithms that utilize quantum mechanics principles.. Please generate the tex content.\\n\\nPlease output the content in the following format:\\n- Enclose the LaTeX content strictly between the delimiters `<|tex_start|>` and `<|tex_end|>`, as shown below:\\n    - The LaTeX output **must start with** `<|tex_start|>` delimiter.\\n    - The LaTeX output **must end with** `<|tex_end|>` delimiter.\\n- Do not include any other explanations, comments outside these delimiters.\\n- Do not return markdown tags instead return Latex tags where necessary. \\n    For example, instead of `# `, `## `, `### ` return section, subsection and subsubsection tags of LateX as requied. Also same for itemize items.\\n- Carefully, escape special characters `&` as `\\\\&` to ensure valid LaTeX.\\n- Do not include backtick sequences or any unrelated formatting not part of LaTeX syntax.\\n- The LaTeX snippet should be formatted as part of a book chapter and include proper LaTeX syntax for sections, subsections, mathematical equations (if necessary), lists, and text formatting. \\n- Use balanced and valid LaTeX tags (e.g., properly closed brackets, environments, and commands).\\n- Avoid non-standard Unicode symbols that may break LaTeX compilation. Use only standard LaTeX symbols.\\n- Replace special characters with their LaTeX-safe equivalents (e.g., replace & with \\\\&, % with \\\\%, etc.).\\n- Do not include document class, preamble, or any unnecessary elements. Focus only on content.\\n- Use the `<|tex_start|>` and `<|tex_end|>` delimiters **only once** in the output response: at the beginning and at the end of the response respectively.\\n\\nOutput format:\\n    <|tex_start|>\\n    tex response\\n    <|tex_end|>\\n\"\n",
      "\u001b[1m<\u001b[0m\u001b[1;95m|tex_start|\u001b[0m\u001b[39m>\u001b[0m\n",
      "\n",
      "\u001b[39m\\chapter\u001b[0m\u001b[1;39m{\u001b[0m\u001b[39mIntroduction to Quantum Algorithms\u001b[0m\u001b[1;39m}\u001b[0m\n",
      "\u001b[39m\\section\u001b[0m\u001b[1;39m{\u001b[0m\u001b[39mQuantum Algorithm Fundamentals\u001b[0m\u001b[1;39m}\u001b[0m\n",
      "\n",
      "\u001b[39mQuantum algorithms are a crucial aspect of quantum computing, and they form the basis for solving problems that are\u001b[0m\n",
      "\u001b[39mcurrently intractable using classical computers. The primary goal of quantum algorithms is to utilize quantum \u001b[0m\n",
      "\u001b[39mmechanics principles to solve complex computational problems more efficiently.\u001b[0m\n",
      "\n",
      "\u001b[39mSome fundamental concepts of quantum algorithms include:\u001b[0m\n",
      "\n",
      "\u001b[39m\\begin\u001b[0m\u001b[1;39m{\u001b[0m\u001b[39mitemize\u001b[0m\u001b[1;39m}\u001b[0m\n",
      "\u001b[39m\\item Quantum parallelism: This refers to the ability of a quantum computer to perform many calculations \u001b[0m\n",
      "\u001b[39msimultaneously, thanks to its use of qubits.\u001b[0m\n",
      "\u001b[39m\\item Quantum interference: This phenomenon allows for the constructive and destructive interference of quantum \u001b[0m\n",
      "\u001b[39mstates, leading to improved computational accuracy.\u001b[0m\n",
      "\u001b[39m\\item Superposition: Qubits can exist in multiple states simultaneously, which enables quantum computers to process\u001b[0m\n",
      "\u001b[39mvast amounts of information concurrently.\u001b[0m\n",
      "\n",
      "\u001b[39mQuantum algorithms are designed to exploit these principles to solve problems more efficiently. Some examples of \u001b[0m\n",
      "\u001b[39mquantum algorithms include:\u001b[0m\n",
      "\n",
      "\u001b[39m- Grover's algorithm for searching an unsorted database\u001b[0m\n",
      "\u001b[39m- Shor's algorithm for factoring large numbers\u001b[0m\n",
      "\u001b[39m- Quantum Approximate Optimization Algorithm \u001b[0m\u001b[1;39m(\u001b[0m\u001b[39mQAOA\u001b[0m\u001b[1;39m)\u001b[0m\u001b[39m for optimization problems\u001b[0m\n",
      "\n",
      "\u001b[39mThese quantum algorithms demonstrate the power and potential of quantum computing in solving complex computational \u001b[0m\n",
      "\u001b[39mproblems.\u001b[0m\n",
      "\n",
      "\u001b[39m\\section\u001b[0m\u001b[1;39m{\u001b[0m\u001b[39mQuantum Algorithm Implementations\u001b[0m\u001b[1;39m}\u001b[0m\n",
      "\n",
      "\u001b[39mIn addition to these theoretical foundations, various implementations of quantum algorithms have been developed. \u001b[0m\n",
      "\u001b[39mThese include:\u001b[0m\n",
      "\n",
      "\u001b[39m- Quantum circuit models: This involves representing quantum computations as a sequence of quantum gates applied to\u001b[0m\n",
      "\u001b[39mqubits.\u001b[0m\n",
      "\u001b[39m- Adiabatic quantum computation: This approach uses a continuous-time quantum system to solve optimization \u001b[0m\n",
      "\u001b[39mproblems.\u001b[0m\n",
      "\n",
      "\u001b[39mThese implementations are essential for developing practical applications of quantum computing and demonstrate the \u001b[0m\n",
      "\u001b[39mversatility of quantum algorithms in solving complex problems.\u001b[0m\n",
      "\n",
      "\u001b[39m\\section\u001b[0m\u001b[1;39m{\u001b[0m\u001b[39mQuantum Algorithm Applications\u001b[0m\u001b[1;39m}\u001b[0m\n",
      "\n",
      "\u001b[39mQuantum algorithms have numerous applications across various fields, including:\u001b[0m\n",
      "\n",
      "\u001b[39m- Cryptography: Quantum algorithms can break certain classical encryption methods, but they also provide new ways \u001b[0m\n",
      "\u001b[39mto secure data.\u001b[0m\n",
      "\u001b[39m- Optimization: Quantum algorithms like QAOA can be used for optimizing complex systems and finding the global \u001b[0m\n",
      "\u001b[39mminimum of a function.\u001b[0m\n",
      "\n",
      "\u001b[39mThese applications highlight the potential impact of quantum computing on solving real-world problems.\u001b[0m\n",
      "\n",
      "\u001b[39m<|tex_end|\u001b[0m\u001b[1m>\u001b[0m\n"
     ]
    },
    {
     "data": {
      "text/html": [
       "<pre style=\"white-space:pre;overflow-x:auto;line-height:normal;font-family:Menlo,'DejaVu Sans Mono',consolas,'Courier New',monospace\"></pre>\n"
      ],
      "text/plain": []
     },
     "metadata": {},
     "output_type": "display_data"
    },
    {
     "name": "stdout",
     "output_type": "stream",
     "text": [
      "Prompt text: text=\"\\nYou are an expert assistant for generating content of technical professional books. You will be writing a book on the following topic: Undertanding Quantum Computing.\\nThe total number of pages in the book is about 30, with an estimated 40 lines per page. Please consider using polite and professional tone.\\n The intended readers of the book are as follows:\\n Common university 1st or 2nd year students in department of Computer Science. Additionally, please take the following into consideration:\\n Try to be factual and verbose while describing any concept. Also put examples.\\n\\nAs part of that, now, you are and LaTex expert writing the book of the title: Understanding Quantum Computing and the summary of the book is as follows:\\nThis book provides an in-depth introduction to the fundamentals of quantum computing, its applications, and its impact on the field of computer science. The primary objectives of this book are to educate first and second-year computer science students about the principles and concepts of quantum computing. The scope of the book covers the basics of quantum mechanics, quantum bits (qubits), quantum algorithms, and quantum computing applications. The content is designed to provide a comprehensive understanding of quantum computing, its history, and its current state. The book aims to bridge the gap between theoretical knowledge and practical applications. It will be beneficial for students who want to explore the field of quantum computing in depth. The book's primary audience includes undergraduate computer science students. \\n\\nThe outline of the book is as following:\\n# Understanding Quantum Computing\\nThis book provides an in-depth introduction to the fundamentals of quantum computing, its applications, and its impact on the field of computer science. The primary objectives of this book are to educate first and second-year computer science students about the principles and concepts of quantum computing. The scope of the book covers the basics of quantum mechanics, quantum bits (qubits), quantum algorithms, and quantum computing applications. The content is designed to provide a comprehensive understanding of quantum computing, its history, and its current state. The book aims to bridge the gap between theoretical knowledge and practical applications. It will be beneficial for students who want to explore the field of quantum computing in depth. The book's primary audience includes undergraduate computer science students. \\n## Introduction to Quantum Mechanics\\n## Quantum Bits (Qubits) and Quantum Computing Fundamentals\\n## Quantum Algorithms and Applications\\n### Introduction to Quantum Algorithms\\n### Applications of Quantum Computing\\n### Real-World Applications of Quantum Algorithms\\n## Quantum Computing and Classical Computing\\n\\n Among these book outlines, lets assume, the previous section discussed in this book was titled with `Introduction to Quantum Algorithms` and This section introduces various quantum algorithms that utilize quantum mechanics principles.\\n. \\n\\nFor readability and consistency, you may summarize what have been discussed in the previous part and whats is being discussed in the current one.\\n\\nNow, I would like you to create TeX content for the current section on: Applications of Quantum Computing, across 0.9 pages, assuming 40 lines per page. \\nThe summary for the current section whose content you will generate is as follows: This part delves into the applications of quantum computing in cryptography, optimization, and machine learning.. Please generate the tex content.\\n\\nPlease output the content in the following format:\\n- Enclose the LaTeX content strictly between the delimiters `<|tex_start|>` and `<|tex_end|>`, as shown below:\\n    - The LaTeX output **must start with** `<|tex_start|>` delimiter.\\n    - The LaTeX output **must end with** `<|tex_end|>` delimiter.\\n- Do not include any other explanations, comments outside these delimiters.\\n- Do not return markdown tags instead return Latex tags where necessary. \\n    For example, instead of `# `, `## `, `### ` return section, subsection and subsubsection tags of LateX as requied. Also same for itemize items.\\n- Carefully, escape special characters `&` as `\\\\&` to ensure valid LaTeX.\\n- Do not include backtick sequences or any unrelated formatting not part of LaTeX syntax.\\n- The LaTeX snippet should be formatted as part of a book chapter and include proper LaTeX syntax for sections, subsections, mathematical equations (if necessary), lists, and text formatting. \\n- Use balanced and valid LaTeX tags (e.g., properly closed brackets, environments, and commands).\\n- Avoid non-standard Unicode symbols that may break LaTeX compilation. Use only standard LaTeX symbols.\\n- Replace special characters with their LaTeX-safe equivalents (e.g., replace & with \\\\&, % with \\\\%, etc.).\\n- Do not include document class, preamble, or any unnecessary elements. Focus only on content.\\n- Use the `<|tex_start|>` and `<|tex_end|>` delimiters **only once** in the output response: at the beginning and at the end of the response respectively.\\n\\nOutput format:\\n    <|tex_start|>\\n    tex response\\n    <|tex_end|>\\n\"\n",
      "\u001b[1m<\u001b[0m\u001b[1;95m|tex_start|\u001b[0m\u001b[1m>\u001b[0m\n",
      "\n",
      "# Applications of Quantum Computing\n",
      "\n",
      "Quantum computing has numerous applications across various fields, including cryptography, optimization, and \n",
      "machine learning. This section delves into some of the most promising areas where quantum computing is being \n",
      "utilized.\n",
      "\n",
      "## Cryptography and Security\n",
      "\n",
      "Quantum computers have the potential to break certain classical encryption algorithms, but they also enable new \n",
      "types of cryptographic protocols that are resistant to quantum attacks. Quantum key distribution \u001b[1m(\u001b[0mQKD\u001b[1m)\u001b[0m is a method \n",
      "of securely distributing cryptographic keys between two parties using quantum mechanics principles. QKD has been \n",
      "demonstrated in various experiments and is being explored for real-world applications.\n",
      "\n",
      "One notable example is the use of superdense coding, which allows for the transmission of multiple classical bits \n",
      "over a single qubit. This enables secure communication over long distances without the need for repeated key \n",
      "exchange or classical encryption.\n",
      "\n",
      "## Optimization and Machine Learning\n",
      "\n",
      "Quantum computers can efficiently solve certain optimization problems that are NP-hard on classical computers. \n",
      "Quantum algorithms like the Quantum Approximate Optimization Algorithm \u001b[1m(\u001b[0mQAOA\u001b[1m)\u001b[0m have been shown to be effective in \n",
      "solving complex optimization problems in fields like logistics, finance, and materials science.\n",
      "\n",
      "In machine learning, quantum computers can speed up certain types of computations, such as kernel methods and \n",
      "nearest neighbor searches. This enables faster training times for neural networks and other machine learning \n",
      "models.\n",
      "\n",
      "## Chemistry and Materials Science\n",
      "\n",
      "Quantum computers can be used to simulate the behavior of molecules and materials, enabling new discoveries in \n",
      "chemistry and materials science. Quantum algorithms like the Variational Quantum Eigensolver \u001b[1m(\u001b[0mVQE\u001b[1m)\u001b[0m have been shown \n",
      "to be effective in solving complex quantum chemical problems.\n",
      "\n",
      "The simulation of molecular systems is particularly important for understanding chemical reactions and properties \n",
      "of materials. This knowledge can lead to breakthroughs in fields like energy storage, catalysis, and \n",
      "pharmaceuticals.\n",
      "\n",
      "## Finance and Logistics\n",
      "\n",
      "Quantum computers can efficiently solve certain optimization problems that are relevant to finance and logistics. \n",
      "Quantum algorithms like the QAOA have been shown to be effective in solving complex optimization problems in these \n",
      "fields.\n",
      "\n",
      "For example, quantum computers can be used to optimize supply chain management, reducing costs and improving \n",
      "efficiency. They can also be used to analyze large datasets in finance, enabling faster decision-making and \n",
      "improved risk assessment.\n",
      "\n",
      "## Real-World Applications\n",
      "\n",
      "Several companies are already exploring the applications of quantum computing in various industries. For instance, \n",
      "IBM is using its Quantum Experience platform to develop quantum algorithms for optimization and machine learning \n",
      "tasks.\n",
      "\n",
      "Google has made significant breakthroughs in quantum computing, including the demonstration of a \u001b[1;36m53\u001b[0m-qubit quantum \n",
      "processor. Microsoft is also investing heavily in quantum computing, with plans to develop a \u001b[1;36m1\u001b[0m-million-qubit \n",
      "quantum computer by the mid-2020s.\n",
      "\n",
      "## Conclusion\n",
      "\n",
      "Quantum computing has numerous applications across various fields, from cryptography and optimization to machine \n",
      "learning and chemistry. As research continues to advance, we can expect to see more breakthroughs and real-world \n",
      "applications of this technology.\n"
     ]
    },
    {
     "data": {
      "text/html": [
       "<pre style=\"white-space:pre;overflow-x:auto;line-height:normal;font-family:Menlo,'DejaVu Sans Mono',consolas,'Courier New',monospace\"></pre>\n"
      ],
      "text/plain": []
     },
     "metadata": {},
     "output_type": "display_data"
    },
    {
     "name": "stdout",
     "output_type": "stream",
     "text": [
      "TeX data not found.\n",
      "Prompt text: text=\"\\nYou are an expert assistant for generating content of technical professional books. You will be writing a book on the following topic: Undertanding Quantum Computing.\\nThe total number of pages in the book is about 30, with an estimated 40 lines per page. Please consider using polite and professional tone.\\n The intended readers of the book are as follows:\\n Common university 1st or 2nd year students in department of Computer Science. Additionally, please take the following into consideration:\\n Try to be factual and verbose while describing any concept. Also put examples.\\n\\nAs part of that, now, you are and LaTex expert writing the book of the title: Understanding Quantum Computing and the summary of the book is as follows:\\nThis book provides an in-depth introduction to the fundamentals of quantum computing, its applications, and its impact on the field of computer science. The primary objectives of this book are to educate first and second-year computer science students about the principles and concepts of quantum computing. The scope of the book covers the basics of quantum mechanics, quantum bits (qubits), quantum algorithms, and quantum computing applications. The content is designed to provide a comprehensive understanding of quantum computing, its history, and its current state. The book aims to bridge the gap between theoretical knowledge and practical applications. It will be beneficial for students who want to explore the field of quantum computing in depth. The book's primary audience includes undergraduate computer science students. \\n\\nThe outline of the book is as following:\\n# Understanding Quantum Computing\\nThis book provides an in-depth introduction to the fundamentals of quantum computing, its applications, and its impact on the field of computer science. The primary objectives of this book are to educate first and second-year computer science students about the principles and concepts of quantum computing. The scope of the book covers the basics of quantum mechanics, quantum bits (qubits), quantum algorithms, and quantum computing applications. The content is designed to provide a comprehensive understanding of quantum computing, its history, and its current state. The book aims to bridge the gap between theoretical knowledge and practical applications. It will be beneficial for students who want to explore the field of quantum computing in depth. The book's primary audience includes undergraduate computer science students. \\n## Introduction to Quantum Mechanics\\n## Quantum Bits (Qubits) and Quantum Computing Fundamentals\\n## Quantum Algorithms and Applications\\n### Introduction to Quantum Algorithms\\n### Applications of Quantum Computing\\n### Real-World Applications of Quantum Algorithms\\n## Quantum Computing and Classical Computing\\n\\n Among these book outlines, lets assume, the previous section discussed in this book was titled with `Applications of Quantum Computing` and This part delves into the applications of quantum computing in cryptography, optimization, and machine learning.\\n. \\n\\nFor readability and consistency, you may summarize what have been discussed in the previous part and whats is being discussed in the current one.\\n\\nNow, I would like you to create TeX content for the current section on: Real-World Applications of Quantum Algorithms, across 0.3 pages, assuming 40 lines per page. \\nThe summary for the current section whose content you will generate is as follows: This section explores the real-world applications of Shor's algorithm and Grover's algorithm.. Please generate the tex content.\\n\\nPlease output the content in the following format:\\n- Enclose the LaTeX content strictly between the delimiters `<|tex_start|>` and `<|tex_end|>`, as shown below:\\n    - The LaTeX output **must start with** `<|tex_start|>` delimiter.\\n    - The LaTeX output **must end with** `<|tex_end|>` delimiter.\\n- Do not include any other explanations, comments outside these delimiters.\\n- Do not return markdown tags instead return Latex tags where necessary. \\n    For example, instead of `# `, `## `, `### ` return section, subsection and subsubsection tags of LateX as requied. Also same for itemize items.\\n- Carefully, escape special characters `&` as `\\\\&` to ensure valid LaTeX.\\n- Do not include backtick sequences or any unrelated formatting not part of LaTeX syntax.\\n- The LaTeX snippet should be formatted as part of a book chapter and include proper LaTeX syntax for sections, subsections, mathematical equations (if necessary), lists, and text formatting. \\n- Use balanced and valid LaTeX tags (e.g., properly closed brackets, environments, and commands).\\n- Avoid non-standard Unicode symbols that may break LaTeX compilation. Use only standard LaTeX symbols.\\n- Replace special characters with their LaTeX-safe equivalents (e.g., replace & with \\\\&, % with \\\\%, etc.).\\n- Do not include document class, preamble, or any unnecessary elements. Focus only on content.\\n- Use the `<|tex_start|>` and `<|tex_end|>` delimiters **only once** in the output response: at the beginning and at the end of the response respectively.\\n\\nOutput format:\\n    <|tex_start|>\\n    tex response\\n    <|tex_end|>\\n\"\n",
      "\u001b[1m[\u001b[0m\n",
      "\\begin\u001b[1m{\u001b[0malign*\u001b[1m}\u001b[0m\n",
      "  \\textbf\u001b[1m{\u001b[0mReal-World Applications of Quantum Algorithms\u001b[1m}\u001b[0m\\\\\n",
      "  \\\\\n",
      "  Shor's algorithm has numerous applications in various fields, including\\\\\n",
      "  cryptography, coding theory, and number theory.\\\\\n",
      "  \\\\\n",
      "  One significant application is in the breaking of RSA-based cryptographic systems.\n",
      "  \\end\u001b[1m{\u001b[0malign*\u001b[1m}\u001b[0m\n",
      "\\\u001b[1m]\u001b[0m\n",
      "\u001b[1m[\u001b[0m\n",
      "\\begin\u001b[1m{\u001b[0mitemize\u001b[1m}\u001b[0m\n",
      "    \\item Grover's algorithm has applications in searching unsorted databases efficiently.\n",
      "    \\item Quantum algorithms are being explored for optimization problems, such as\\\\\n",
      "      the traveling salesman problem and the knapsack problem.\\\\\n",
      "  \\end\u001b[1m{\u001b[0mitemize\u001b[1m}\u001b[0m\n",
      "\\\u001b[1m]\u001b[0m\n"
     ]
    },
    {
     "data": {
      "text/html": [
       "<pre style=\"white-space:pre;overflow-x:auto;line-height:normal;font-family:Menlo,'DejaVu Sans Mono',consolas,'Courier New',monospace\"></pre>\n"
      ],
      "text/plain": []
     },
     "metadata": {},
     "output_type": "display_data"
    },
    {
     "name": "stdout",
     "output_type": "stream",
     "text": [
      "TeX data not found.\n",
      "Prompt text: text=\"\\nYou are an expert assistant for generating content of technical professional books. You will be writing a book on the following topic: Undertanding Quantum Computing.\\nThe total number of pages in the book is about 30, with an estimated 40 lines per page. Please consider using polite and professional tone.\\n The intended readers of the book are as follows:\\n Common university 1st or 2nd year students in department of Computer Science. Additionally, please take the following into consideration:\\n Try to be factual and verbose while describing any concept. Also put examples.\\n\\nAs part of that, now, you are and LaTex expert writing the book of the title: Understanding Quantum Computing and the summary of the book is as follows:\\nThis book provides an in-depth introduction to the fundamentals of quantum computing, its applications, and its impact on the field of computer science. The primary objectives of this book are to educate first and second-year computer science students about the principles and concepts of quantum computing. The scope of the book covers the basics of quantum mechanics, quantum bits (qubits), quantum algorithms, and quantum computing applications. The content is designed to provide a comprehensive understanding of quantum computing, its history, and its current state. The book aims to bridge the gap between theoretical knowledge and practical applications. It will be beneficial for students who want to explore the field of quantum computing in depth. The book's primary audience includes undergraduate computer science students. \\n\\nThe outline of the book is as following:\\n# Understanding Quantum Computing\\nThis book provides an in-depth introduction to the fundamentals of quantum computing, its applications, and its impact on the field of computer science. The primary objectives of this book are to educate first and second-year computer science students about the principles and concepts of quantum computing. The scope of the book covers the basics of quantum mechanics, quantum bits (qubits), quantum algorithms, and quantum computing applications. The content is designed to provide a comprehensive understanding of quantum computing, its history, and its current state. The book aims to bridge the gap between theoretical knowledge and practical applications. It will be beneficial for students who want to explore the field of quantum computing in depth. The book's primary audience includes undergraduate computer science students. \\n## Introduction to Quantum Mechanics\\n## Quantum Bits (Qubits) and Quantum Computing Fundamentals\\n## Quantum Algorithms and Applications\\n### Introduction to Quantum Algorithms\\n### Applications of Quantum Computing\\n### Real-World Applications of Quantum Algorithms\\n## Quantum Computing and Classical Computing\\n\\n Among these book outlines, lets assume, the previous section discussed in this book was titled with `Real-World Applications of Quantum Algorithms` and This section explores the real-world applications of Shor's algorithm and Grover's algorithm.\\n. \\n\\nFor readability and consistency, you may summarize what have been discussed in the previous part and whats is being discussed in the current one.\\n\\nNow, I would like you to create TeX content for the current section on: Quantum Computing and Classical Computing, across 0.5 pages, assuming 40 lines per page. \\nThe summary for the current section whose content you will generate is as follows: This chapter compares the principles of classical computing with those of quantum computing. It discusses the advantages and disadvantages of quantum computing.. Please generate the tex content.\\n\\nPlease output the content in the following format:\\n- Enclose the LaTeX content strictly between the delimiters `<|tex_start|>` and `<|tex_end|>`, as shown below:\\n    - The LaTeX output **must start with** `<|tex_start|>` delimiter.\\n    - The LaTeX output **must end with** `<|tex_end|>` delimiter.\\n- Do not include any other explanations, comments outside these delimiters.\\n- Do not return markdown tags instead return Latex tags where necessary. \\n    For example, instead of `# `, `## `, `### ` return section, subsection and subsubsection tags of LateX as requied. Also same for itemize items.\\n- Carefully, escape special characters `&` as `\\\\&` to ensure valid LaTeX.\\n- Do not include backtick sequences or any unrelated formatting not part of LaTeX syntax.\\n- The LaTeX snippet should be formatted as part of a book chapter and include proper LaTeX syntax for sections, subsections, mathematical equations (if necessary), lists, and text formatting. \\n- Use balanced and valid LaTeX tags (e.g., properly closed brackets, environments, and commands).\\n- Avoid non-standard Unicode symbols that may break LaTeX compilation. Use only standard LaTeX symbols.\\n- Replace special characters with their LaTeX-safe equivalents (e.g., replace & with \\\\&, % with \\\\%, etc.).\\n- Do not include document class, preamble, or any unnecessary elements. Focus only on content.\\n- Use the `<|tex_start|>` and `<|tex_end|>` delimiters **only once** in the output response: at the beginning and at the end of the response respectively.\\n\\nOutput format:\\n    <|tex_start|>\\n    tex response\\n    <|tex_end|>\\n\"\n",
      "\u001b[1m<\u001b[0m\u001b[1;95m|tex_start|\u001b[0m\u001b[39m>\u001b[0m\n",
      "\n",
      "\u001b[39m# Chapter \u001b[0m\u001b[1;36m7\u001b[0m\u001b[39m: Quantum Computing and Classical Computing\u001b[0m\n",
      "\n",
      "\u001b[39m## Comparison of Principles\u001b[0m\n",
      "\n",
      "\u001b[39mQuantum computing is a fundamentally different approach to computation compared to classical computing. While \u001b[0m\n",
      "\u001b[39mclassical computers use bits \u001b[0m\u001b[1;39m(\u001b[0m\u001b[39m0s and 1s\u001b[0m\u001b[1;39m)\u001b[0m\u001b[39m to store and process information, quantum computers use qubits, which can \u001b[0m\n",
      "\u001b[39mexist in multiple states simultaneously.\u001b[0m\n",
      "\n",
      "\u001b[39m## Advantages of Quantum Computing\u001b[0m\n",
      "\n",
      "\u001b[39mQuantum computing has several advantages over classical computing:\u001b[0m\n",
      "\n",
      "\u001b[39m- **Exponential Scaling**: Quantum computers can solve certain problems much faster than classical computers, \u001b[0m\n",
      "\u001b[39mthanks to the principles of superposition and entanglement.\u001b[0m\n",
      "\u001b[39m- **Parallel Processing**: Quantum computers can perform many calculations simultaneously, making them well-suited \u001b[0m\n",
      "\u001b[39mfor tasks like simulating complex systems or factoring large numbers.\u001b[0m\n",
      "\n",
      "\u001b[39m## Disadvantages of Quantum Computing\u001b[0m\n",
      "\n",
      "\u001b[39mHowever, quantum computing also has some significant disadvantages:\u001b[0m\n",
      "\n",
      "\u001b[39m- **Error Prone**: Quantum computers are prone to errors due to the fragile nature of qubits. These errors can be \u001b[0m\n",
      "\u001b[39mdifficult and expensive to correct.\u001b[0m\n",
      "\u001b[39m- **Limited Control**: Quantum computers require precise control over the quantum states of qubits, which can be \u001b[0m\n",
      "\u001b[39mchallenging to maintain.\u001b[0m\n",
      "\n",
      "\u001b[39m## Classical Computing vs. Quantum Computing\u001b[0m\n",
      "\n",
      "\u001b[39mClassical computing is based on the principles of classical mechanics, where bits can only exist in one of two \u001b[0m\n",
      "\u001b[39mstates \u001b[0m\u001b[1;39m(\u001b[0m\u001b[1;36m0\u001b[0m\u001b[39m or \u001b[0m\u001b[1;36m1\u001b[0m\u001b[1;39m)\u001b[0m\u001b[39m. In contrast, quantum computing uses the principles of quantum mechanics, where qubits can exist in\u001b[0m\n",
      "\u001b[39mmultiple states simultaneously.\u001b[0m\n",
      "\n",
      "\u001b[39mThe trade-off between these approaches is significant: classical computers are reliable and easy to control, but \u001b[0m\n",
      "\u001b[39mthey are also limited in their ability to solve complex problems. Quantum computers, on the other hand, offer \u001b[0m\n",
      "\u001b[39mexponential scaling and parallel processing, but they are error-prone and difficult to control.\u001b[0m\n",
      "\n",
      "\u001b[39m<|tex_end|\u001b[0m\u001b[1m>\u001b[0m\n"
     ]
    },
    {
     "data": {
      "text/html": [
       "<pre style=\"white-space:pre;overflow-x:auto;line-height:normal;font-family:Menlo,'DejaVu Sans Mono',consolas,'Courier New',monospace\"></pre>\n"
      ],
      "text/plain": []
     },
     "metadata": {},
     "output_type": "display_data"
    }
   ],
   "source": [
    "# Output of chapter structure to consider when generating content\n",
    "toc_and_summary = \"\"\n",
    "if do_consider_outline:\n",
    "    toc_and_summary = generate_outline(book_graph, book_node_name)\n",
    "\n",
    "# Initialize a list of strings to store previous outputs\n",
    "previous_sections_content_list = [{\"title\": \"None\", \"summary\": \"None\"} for i in range(n_previous_sections)]\n",
    "\n",
    "# Sort the nodes containing the main content (leaf nodes) in order\n",
    "sorted_content_str_list = sort_leaf_nodes(book_graph)\n",
    "\n",
    "# Append the main content\n",
    "for heading_number_str in sorted_content_str_list:\n",
    "    heading_number = custom_sort_key(heading_number_str)\n",
    "\n",
    "    node_name = \"-\".join(map(str, heading_number))\n",
    "    node = book_graph.nodes[node_name]\n",
    "\n",
    "    # Generate output via LLM\n",
    "   \n",
    "    prompt = PromptTemplate.from_template(prompt_content_creation)\n",
    "    chain = prompt |  (lambda x: log_prompt(x))  | llm\n",
    "\n",
    "    result = chain.invoke(\n",
    "        {\n",
    "            \"book_title\": book_node[\"title\"],\n",
    "            \"book_summary\": book_node[\"summary\"],\n",
    "            \"toc_and_summary\": toc_and_summary,\n",
    "            \"previous_sections\": generate_prompt_for_previous_sections(previous_sections_content_list, n_previous_sections),\n",
    "            \"equation_frequency\": get_equation_frequency(book_graph.graph[\"equation_frequency_level\"]),\n",
    "            \"target\": node[\"title\"],\n",
    "            \"n_pages\": node[\"n_pages\"],\n",
    "            \"n_lines_per_page\": n_lines_per_page,\n",
    "            \"section_summary\": node[\"summary\"],\n",
    "        }\n",
    "    )\n",
    "\n",
    "    pretty_print(result)\n",
    "    contents_tex = extract_section_content(result)\n",
    "    with open(node_name + \"-p.tex\", mode='w', encoding='UTF-8') as f:\n",
    "        f.write(contents_tex)\n",
    "\n",
    "    # Retain past outputs\n",
    "    if do_consider_previous_sections:\n",
    "        previous_sections_content_list = slide_list_with_new_title_and_content(node[\"title\"], node[\"summary\"], previous_sections_content_list)"
   ]
  },
  {
   "cell_type": "code",
   "execution_count": 18,
   "metadata": {},
   "outputs": [
    {
     "name": "stdout",
     "output_type": "stream",
     "text": [
      "Current working directory: /Users/hissain/git/github/llmexp/books_prof/quantum2\n"
     ]
    }
   ],
   "source": [
    "print(f\"Current working directory: {os.getcwd()}\")\n",
    "with open(node_name + \"-p.tex\", mode='w', encoding='UTF-8') as f:\n",
    "    f.write(contents_tex)"
   ]
  },
  {
   "cell_type": "code",
   "execution_count": 19,
   "metadata": {},
   "outputs": [
    {
     "data": {
      "text/plain": [
       "'<|tex_start|>\\n\\n## Applications of Quantum Computing\\n\\nQuantum computing has numerous applications across various fields, including chemistry, materials science, machine learning, and more. In this chapter, we will explore some of the exciting potential applications of quantum computing.\\n\\n### Chemistry and Materials Science\\n\\nQuantum computers can simulate complex chemical reactions and molecular interactions, allowing for breakthroughs in materials science and drug discovery. The ability to efficiently process vast amounts of data enables simulations that would be impossible or impractical on classical computers.\\n\\nFor example, quantum computers can be used to optimize the design of new materials with specific properties, such as superconductors or nanomaterials. Additionally, quantum computers can simulate the behavior of molecules in different environments, enabling researchers to predict the efficacy of new medications.\\n\\n### Machine Learning and Artificial Intelligence\\n\\nQuantum computers have the potential to revolutionize machine learning and artificial intelligence by providing exponential speedup over classical computers. Quantum algorithms such as Quantum Approximate Optimization Algorithm (QAOA) and Variational Quantum Eigensolver (VQE) can be used for optimization problems, leading to breakthroughs in areas like image recognition and natural language processing.\\n\\nQuantum computers can also be used for unsupervised learning tasks, such as clustering and dimensionality reduction. This enables the discovery of hidden patterns and relationships in large datasets, which is crucial for many applications, including recommendation systems and predictive analytics.\\n\\n### Cryptography and Cybersecurity\\n\\nQuantum computers have the potential to break certain classical encryption algorithms, but they also provide new opportunities for quantum-resistant cryptography. Quantum key distribution (QKD) protocols can be used to securely distribute cryptographic keys between two parties, ensuring the confidentiality and integrity of sensitive information.\\n\\n### Optimization Problems\\n\\nQuantum computers can be used to solve complex optimization problems efficiently, which is crucial in fields like logistics, finance, and energy management. Quantum algorithms such as Linear Programming Relaxation (LPR) and Branch and Bound (BAB) can be used for linear programming and integer programming problems, leading to breakthroughs in areas like supply chain management and portfolio optimization.\\n\\n### Machine Learning with Quantum Computers\\n\\nQuantum computers have the potential to accelerate certain machine learning tasks, such as k-means clustering and principal component analysis (PCA). Quantum algorithms like Quantum Alternating Projection (QAP) and Quantum Principal Component Analysis (QPCA) can be used for dimensionality reduction and feature extraction, leading to breakthroughs in areas like image recognition and natural language processing.\\n\\nIn conclusion, quantum computing has numerous applications across various fields, including chemistry, materials science, machine learning, cryptography, optimization problems, and more. As the field continues to evolve, we can expect to see exciting breakthroughs in these areas and beyond.\\n\\n<|tex_end|>'"
      ]
     },
     "execution_count": 19,
     "metadata": {},
     "output_type": "execute_result"
    }
   ],
   "source": [
    "result"
   ]
  },
  {
   "cell_type": "markdown",
   "metadata": {
    "id": "r2LSx8U7PgLB"
   },
   "source": [
    "## Graph Tree Visualization"
   ]
  },
  {
   "cell_type": "code",
   "execution_count": 77,
   "metadata": {
    "colab": {
     "base_uri": "https://localhost:8080/",
     "height": 783
    },
    "id": "zslTqJiALTtk",
    "outputId": "25eceaf9-73af-4a7f-80a5-909543a81e20"
   },
   "outputs": [
    {
     "name": "stdout",
     "output_type": "stream",
     "text": [
      "The arrows starting from 'book' represent chapters, with sections below them and subsections below the sections.\n",
      "These nodes contain information such as the title and summary of each chapter or section.\n",
      "Additionally, the end nodes marked in red circles hold information on the content of the text.\n"
     ]
    },
    {
     "data": {
      "image/png": "[encoded data removed]",
      "text/plain": [
       "<Figure size 6000x3000 with 1 Axes>"
      ]
     },
     "metadata": {},
     "output_type": "display_data"
    }
   ],
   "source": [
    "pos = graphviz_layout(book_graph, prog=\"dot\")\n",
    "\n",
    "# matplotlib settings\n",
    "fig = plt.figure(figsize=(20, 10), dpi=300)\n",
    "ax = fig.add_subplot(1, 1, 1)\n",
    "\n",
    "# Color the leaf nodes (content nodes) in red\n",
    "node_color_list = [\"r\" if \"p\" in s else \"w\" for s in list(book_graph.nodes)]\n",
    "\n",
    "# draw the network\n",
    "nx.draw(book_graph,\n",
    "        ax=ax,\n",
    "        pos=pos,\n",
    "        with_labels=True,\n",
    "        node_size=300,\n",
    "        node_color=node_color_list,\n",
    "        alpha=0.3,\n",
    "        node_shape='.',\n",
    "        width=0.5)\n",
    "\n",
    "print(\"The arrows starting from 'book' represent chapters, with sections below them and subsections below the sections.\\nThese nodes contain information such as the title and summary of each chapter or section.\\nAdditionally, the end nodes marked in red circles hold information on the content of the text.\")"
   ]
  },
  {
   "cell_type": "markdown",
   "metadata": {
    "id": "Of2bOA5hPs0Q"
   },
   "source": [
    "## latexmkrc Generation"
   ]
  },
  {
   "cell_type": "code",
   "execution_count": 78,
   "metadata": {
    "colab": {
     "base_uri": "https://localhost:8080/"
    },
    "id": "pYXVeE97MhsD",
    "outputId": "9f6229a9-27f6-403b-859d-1f4c4a010be0"
   },
   "outputs": [
    {
     "name": "stdout",
     "output_type": "stream",
     "text": [
      "An error occurred while creating the file: [Errno 13] Permission denied: '/Users/hissain/.latexmkrc'\n"
     ]
    }
   ],
   "source": [
    "# Get the path of the home directory\n",
    "home_dir = os.path.expanduser(\"~\")\n",
    "\n",
    "# Create the path for the .latexmkrc file\n",
    "latexmkrc_path = os.path.join(home_dir, \".latexmkrc\")\n",
    "\n",
    "# Contents of the latexmkrc file\n",
    "content = '''$latex = 'pdflatex -synctex=1 -halt-on-error -interaction=nonstopmode %O %S';\n",
    "$bibtex = 'bibtex %O %S';\n",
    "$biber = 'biber %O %S';\n",
    "$makeindex = 'makeindex %O -o %D %S';\n",
    "$dvipdf = 'dvipdfmx %O -o %D %S';\n",
    "\n",
    "$max_repeat = 5;\n",
    "$pdf_mode = 1;'''\n",
    "\n",
    "# Create the file and write the content\n",
    "try:\n",
    "    with open(latexmkrc_path, \"w\") as file:\n",
    "        file.write(content)\n",
    "    print(f\".latexmkrc file has been created successfully at {latexmkrc_path}\")\n",
    "except IOError as e:\n",
    "    print(f\"An error occurred while creating the file: {e}\")"
   ]
  },
  {
   "cell_type": "markdown",
   "metadata": {
    "id": "iJzQSz1qPxtj"
   },
   "source": [
    "## LaTeX Generation Styles Setting"
   ]
  },
  {
   "cell_type": "code",
   "execution_count": 79,
   "metadata": {
    "id": "RtEA6rVWPv1R"
   },
   "outputs": [],
   "source": [
    "geometry_options = {\"tmargin\": \"3cm\", \"lmargin\": \"3cm\"}\n",
    "doc = Document(documentclass=\"report\", geometry_options=geometry_options)\n",
    "\n",
    "# Adding preamble and title\n",
    "doc.packages.append(Package('amsmath'))\n",
    "doc.packages.append(Package('amssymb'))\n",
    "doc.packages.append(Package('amsfonts'))\n",
    "doc.packages.append(Package('mathtools'))\n",
    "doc.packages.append(Package('bm'))\n",
    "doc.packages.append(Package('physics'))\n",
    "doc.packages.append(Package('inputenc', options=\"utf8\"))\n",
    "doc.packages.append(Package('listings'))\n",
    "doc.packages.append(Package('jvlisting'))\n",
    "doc.packages.append(Package('color'))\n",
    "doc.packages.append(Package('underscore', options=\"strings\"))\n",
    "\n",
    "# Adding title, author, and date to the preamble\n",
    "doc.preamble.append(Command(\"title\", book_graph.nodes[book_node_name][\"title\"]))\n",
    "doc.preamble.append(Command(\"author\", book_author))\n",
    "doc.preamble.append(Command(\"date\", NoEscape(r\"\\today\")))\n",
    "\n",
    "# Generating the title and table of contents\n",
    "doc.append(NoEscape(r\"\\maketitle\"))  # Generates the title with author and date\n",
    "doc.append(NoEscape(r\"\\tableofcontents\"))\n",
    "doc.append(NoEscape(r\"\\newpage\"))\n",
    "doc.append(NoEscape(book_abstract))\n",
    "\n",
    "# Setting up custom lstset for listings\n",
    "doc.append(NoEscape(r'\\lstset{backgroundcolor={\\color[gray]{.90}}, breaklines=true, breakindent=10pt, basicstyle=\\ttfamily\\scriptsize, commentstyle={\\itshape \\color[cmyk]{1,0.4,1,0}}, classoffset=0, keywordstyle={\\bfseries \\color[cmyk]{0,1,0,0}}, stringstyle={\\ttfamily \\color[rgb]{0,0,1}}, frame=TBrl, framesep=5pt, numbers=left, stepnumber=1, numberstyle=\\tiny, tabsize=4, captionpos=t}'))\n",
    "#doc.generate_pdf(\"book_with_abstract\", clean_tex=False)  # Generates the PDF"
   ]
  },
  {
   "cell_type": "code",
   "execution_count": 80,
   "metadata": {},
   "outputs": [],
   "source": [
    "import re\n",
    "\n",
    "def sanitize_content(content):\n",
    "    lines = content.splitlines()\n",
    "    \n",
    "    def replace_markdown(line):\n",
    "        # Headers\n",
    "        if line.startswith('### '):  # Triple hash -> Subsubsection\n",
    "            line = re.sub(r'^### (.*)', r'\\\\subsubsection{\\1}', line)\n",
    "        elif line.startswith('## '):  # Double hash -> Subsection\n",
    "            line = re.sub(r'^## (.*)', r'\\\\subsection{\\1}', line)\n",
    "        elif line.startswith('# '):  # Single hash -> Section\n",
    "            line = re.sub(r'^# (.*)', r'\\\\section{\\1}', line)\n",
    "        \n",
    "        # Bold (**text** or __text__)\n",
    "        line = re.sub(r'\\*\\*(.*?)\\*\\*', r'\\\\textbf{\\1}', line)\n",
    "        line = re.sub(r'__(.*?)__', r'\\\\textbf{\\1}', line)\n",
    "        \n",
    "        # Italic (*text* or _text_)\n",
    "        line = re.sub(r'\\*(.*?)\\*', r'\\\\textit{\\1}', line)\n",
    "        line = re.sub(r'_(.*?)_', r'\\\\textit{\\1}', line)\n",
    "        \n",
    "        # Unordered lists (- or * or +)\n",
    "        line = re.sub(r'^\\s*[-*+] (.*)', r'\\\\item \\1', line)\n",
    "        \n",
    "        return line\n",
    "    \n",
    "    # Prepare LaTeX document environment for lists\n",
    "    def wrap_list_environment(lines):\n",
    "        inside_itemize = False\n",
    "        processed_lines = []\n",
    "        \n",
    "        for line in lines:\n",
    "            if line.startswith('\\\\item '):\n",
    "                if not inside_itemize:\n",
    "                    processed_lines.append('\\\\begin{itemize}')\n",
    "                    inside_itemize = True\n",
    "            else:\n",
    "                if inside_itemize:\n",
    "                    processed_lines.append('\\\\end{itemize}')\n",
    "                    inside_itemize = False\n",
    "            processed_lines.append(line)\n",
    "        \n",
    "        if inside_itemize:\n",
    "            processed_lines.append('\\\\end{itemize}')  # Close the environment if still open\n",
    "        \n",
    "        return processed_lines\n",
    "    \n",
    "    # Apply replacements\n",
    "    updated_lines = [replace_markdown(line) for line in lines]\n",
    "    updated_lines = wrap_list_environment(updated_lines)\n",
    "    \n",
    "    # Join lines back into a single string\n",
    "    sanitized_content = '\\n'.join(updated_lines)\n",
    "    \n",
    "    return sanitized_content\n",
    "\n",
    "def escape_non_math_dollar_signs(tex_content):\n",
    "    def replacer(match):\n",
    "        return match.group(0).replace('$', '\\\\$') if match.group(0).count('$') == 1 else match.group(0)\n",
    "    \n",
    "    processed_content = re.sub(r'(?<!\\\\)(\\$.*?\\$)|(?<!\\\\)\\$', replacer, tex_content)\n",
    "    return processed_content"
   ]
  },
  {
   "cell_type": "code",
   "execution_count": 81,
   "metadata": {
    "id": "yN9GMsGGRX3i"
   },
   "outputs": [],
   "source": [
    "# Arrange nodes containing the main text content in order\n",
    "content_str_list = extract_content_list(list(book_graph.nodes))\n",
    "sorted_content_str_list = sort_strings(content_str_list)\n",
    "\n",
    "# Add main content\n",
    "for heading_number_str in sorted_content_str_list:\n",
    "    heading_number = custom_sort_key(heading_number_str)\n",
    "\n",
    "    # Add chapter title\n",
    "    if len(heading_number[1:]) == 0 or all(x == 1 for x in heading_number[1:]):\n",
    "        node_name = \"-\".join(map(str, heading_number[0:1]))\n",
    "        with doc.create(Chapter(book_graph.nodes[node_name][\"title\"], label=False)):\n",
    "            doc.append(NoEscape(book_graph.nodes[node_name][\"summary\"].replace(\"\\\\\\\\\",\"\\\\\")))\n",
    "\n",
    "    # Add section title\n",
    "    if (len(heading_number[2:]) == 0 and len(heading_number[:2]) > 1) or (len(heading_number[2:]) > 0 and all(x == 1 for x in heading_number[2:])):\n",
    "        node_name = \"-\".join(map(str, heading_number[0:2]))\n",
    "        with doc.create(Section(book_graph.nodes[node_name][\"title\"], label=False)):\n",
    "            doc.append(NoEscape(book_graph.nodes[node_name][\"summary\"].replace(\"\\\\\\\\\",\"\\\\\")))\n",
    "\n",
    "    # Add subsection title\n",
    "    if (len(heading_number[3:]) == 0 and len(heading_number[:3]) > 2) or (len(heading_number[3:]) > 0 and all(x == 1 for x in heading_number[3:])):\n",
    "        node_name = \"-\".join(map(str, heading_number[0:3]))\n",
    "        with doc.create(Subsection(book_graph.nodes[node_name][\"title\"], label=False)):\n",
    "            doc.append(NoEscape(book_graph.nodes[node_name][\"summary\"].replace(\"\\\\\\\\\",\"\\\\\")))\n",
    "\n",
    "    # Add main text content\n",
    "    tex_file_path = book_graph.nodes[heading_number_str][\"content_file_path\"]\n",
    "    try:\n",
    "        with open(tex_file_path, \"r\", encoding='UTF-8') as file:\n",
    "            tex_content = file.read()\n",
    "            tex_content = sanitize_content(tex_content)\n",
    "            tex_content = escape_non_math_dollar_signs(tex_content)\n",
    "            doc.append(NoEscape(tex_content))\n",
    "    except Exception as e:\n",
    "        print(e)"
   ]
  },
  {
   "cell_type": "markdown",
   "metadata": {
    "id": "58jBeL42P2SF"
   },
   "source": [
    "## PDF Generation"
   ]
  },
  {
   "cell_type": "code",
   "execution_count": 82,
   "metadata": {
    "colab": {
     "base_uri": "https://localhost:8080/"
    },
    "id": "DclfbWmyP2d2",
    "outputId": "8312337f-855c-4e70-ea10-958136f0e04b"
   },
   "outputs": [
    {
     "name": "stdout",
     "output_type": "stream",
     "text": [
      "Latexmk: This is Latexmk, John Collins, 17 March 2019, version: 4.63b.\n",
      "Rule 'pdflatex': The following rules & subrules became out-of-date:\n",
      "      'pdflatex'\n",
      "------------\n",
      "Run number 1 of rule 'pdflatex'\n",
      "------------\n",
      "------------\n",
      "Running 'pdflatex  --interaction=nonstopmode -recorder  \"/Users/hissain/git/github/llmexp/books_prof/quantum/Understanding Quantum Computing.tex\"'\n",
      "------------\n",
      "Latexmk: applying rule 'pdflatex'...\n",
      "This is pdfTeX, Version 3.14159265-2.6-1.40.20 (TeX Live 2019) (preloaded format=pdflatex)\n",
      " restricted \\write18 enabled.\n",
      "entering extended mode\n",
      "\n",
      "(/Users/hissain/git/github/llmexp/books_prof/quantum/Understanding Quantum Comp\n",
      "uting.tex\n",
      "LaTeX2e <2018-12-01>\n",
      "(/usr/local/texlive/2019/texmf-dist/tex/latex/base/report.cls\n",
      "Document Class: report 2018/09/03 v1.4i Standard LaTeX document class\n",
      "(/usr/local/texlive/2019/texmf-dist/tex/latex/base/size10.clo))\n",
      "(/usr/local/texlive/2019/texmf-dist/tex/latex/base/fontenc.sty\n",
      "(/usr/local/texlive/2019/texmf-dist/tex/latex/base/t1enc.def))\n",
      "(/usr/local/texlive/2019/texmf-dist/tex/latex/base/inputenc.sty)\n",
      "(/usr/local/texlive/2019/texmf-dist/tex/latex/lm/lmodern.sty)\n",
      "(/usr/local/texlive/2019/texmf-dist/tex/latex/base/textcomp.sty\n",
      "(/usr/local/texlive/2019/texmf-dist/tex/latex/base/ts1enc.def\n",
      "(/usr/local/texlive/2019/texmf-dist/tex/latex/base/ts1enc.dfu)))\n",
      "(/usr/local/texlive/2019/texmf-dist/tex/latex/lastpage/lastpage.sty)\n",
      "(/usr/local/texlive/2019/texmf-dist/tex/latex/geometry/geometry.sty\n",
      "(/usr/local/texlive/2019/texmf-dist/tex/latex/graphics/keyval.sty)\n",
      "(/usr/local/texlive/2019/texmf-dist/tex/generic/oberdiek/ifpdf.sty)\n",
      "(/usr/local/texlive/2019/texmf-dist/tex/generic/oberdiek/ifvtex.sty)\n",
      "(/usr/local/texlive/2019/texmf-dist/tex/generic/ifxetex/ifxetex.sty))\n",
      "(/usr/local/texlive/2019/texmf-dist/tex/latex/amsmath/amsmath.sty\n",
      "For additional information on amsmath, use the `?' option.\n",
      "(/usr/local/texlive/2019/texmf-dist/tex/latex/amsmath/amstext.sty\n",
      "(/usr/local/texlive/2019/texmf-dist/tex/latex/amsmath/amsgen.sty))\n",
      "(/usr/local/texlive/2019/texmf-dist/tex/latex/amsmath/amsbsy.sty)\n",
      "(/usr/local/texlive/2019/texmf-dist/tex/latex/amsmath/amsopn.sty))\n",
      "(/usr/local/texlive/2019/texmf-dist/tex/latex/amsfonts/amssymb.sty\n",
      "(/usr/local/texlive/2019/texmf-dist/tex/latex/amsfonts/amsfonts.sty))\n",
      "(/usr/local/texlive/2019/texmf-dist/tex/latex/mathtools/mathtools.sty\n",
      "(/usr/local/texlive/2019/texmf-dist/tex/latex/tools/calc.sty)\n",
      "(/usr/local/texlive/2019/texmf-dist/tex/latex/mathtools/mhsetup.sty))\n",
      "(/usr/local/texlive/2019/texmf-dist/tex/latex/tools/bm.sty)\n",
      "(/usr/local/texlive/2019/texmf-dist/tex/latex/physics/physics.sty\n",
      "(/usr/local/texlive/2019/texmf-dist/tex/latex/l3packages/xparse/xparse.sty\n",
      "(/usr/local/texlive/2019/texmf-dist/tex/latex/l3kernel/expl3.sty\n",
      "(/usr/local/texlive/2019/texmf-dist/tex/latex/l3kernel/expl3-code.tex)\n",
      "(/usr/local/texlive/2019/texmf-dist/tex/latex/l3kernel/l3pdfmode.def))))\n",
      "(/usr/local/texlive/2019/texmf-dist/tex/latex/listings/listings.sty\n",
      "(/usr/local/texlive/2019/texmf-dist/tex/latex/listings/lstmisc.sty)\n",
      "(/usr/local/texlive/2019/texmf-dist/tex/latex/listings/listings.cfg))\n",
      "(/usr/local/texlive/2019/texmf-dist/tex/latex/jvlisting/jvlisting.sty)\n",
      "(/usr/local/texlive/2019/texmf-dist/tex/latex/graphics/color.sty\n",
      "(/usr/local/texlive/2019/texmf-dist/tex/latex/graphics-cfg/color.cfg)\n",
      "(/usr/local/texlive/2019/texmf-dist/tex/latex/graphics-def/pdftex.def))\n",
      "(/usr/local/texlive/2019/texmf-dist/tex/latex/underscore/underscore.sty)\n",
      "(./Understanding Quantum Computing.aux)\n",
      "(/usr/local/texlive/2019/texmf-dist/tex/latex/base/ts1cmr.fd)\n",
      "(/usr/local/texlive/2019/texmf-dist/tex/latex/lm/t1lmr.fd)\n",
      "*geometry* driver: auto-detecting\n",
      "*geometry* detected driver: pdftex\n",
      "(/usr/local/texlive/2019/texmf-dist/tex/latex/graphics/graphicx.sty\n",
      "(/usr/local/texlive/2019/texmf-dist/tex/latex/graphics/graphics.sty\n",
      "(/usr/local/texlive/2019/texmf-dist/tex/latex/graphics/trig.sty)\n",
      "(/usr/local/texlive/2019/texmf-dist/tex/latex/graphics-cfg/graphics.cfg)))\n",
      "(/usr/local/texlive/2019/texmf-dist/tex/context/base/mkii/supp-pdf.mkii\n",
      "[Loading MPS to PDF converter (version 2006.09.02).]\n",
      ") (/usr/local/texlive/2019/texmf-dist/tex/latex/oberdiek/epstopdf-base.sty\n",
      "(/usr/local/texlive/2019/texmf-dist/tex/generic/oberdiek/infwarerr.sty)\n",
      "(/usr/local/texlive/2019/texmf-dist/tex/latex/oberdiek/grfext.sty\n",
      "(/usr/local/texlive/2019/texmf-dist/tex/generic/oberdiek/kvdefinekeys.sty\n",
      "(/usr/local/texlive/2019/texmf-dist/tex/generic/oberdiek/ltxcmds.sty)))\n",
      "(/usr/local/texlive/2019/texmf-dist/tex/latex/oberdiek/kvoptions.sty\n",
      "(/usr/local/texlive/2019/texmf-dist/tex/generic/oberdiek/kvsetkeys.sty\n",
      "(/usr/local/texlive/2019/texmf-dist/tex/generic/oberdiek/etexcmds.sty\n",
      "(/usr/local/texlive/2019/texmf-dist/tex/generic/oberdiek/ifluatex.sty))))\n",
      "(/usr/local/texlive/2019/texmf-dist/tex/generic/oberdiek/pdftexcmds.sty)\n",
      "(/usr/local/texlive/2019/texmf-dist/tex/latex/latexconfig/epstopdf-sys.cfg))\n",
      "(/usr/local/texlive/2019/texmf-dist/tex/latex/lm/ot1lmr.fd)\n",
      "(/usr/local/texlive/2019/texmf-dist/tex/latex/lm/omllmm.fd)\n",
      "(/usr/local/texlive/2019/texmf-dist/tex/latex/lm/omslmsy.fd)\n",
      "(/usr/local/texlive/2019/texmf-dist/tex/latex/lm/omxlmex.fd)\n",
      "(/usr/local/texlive/2019/texmf-dist/tex/latex/amsfonts/umsa.fd)\n",
      "(/usr/local/texlive/2019/texmf-dist/tex/latex/amsfonts/umsb.fd) [1{/usr/local/t\n",
      "exlive/2019/texmf-var/fonts/map/pdftex/updmap/pdftex.map}]\n",
      "No file \"Understanding Quantum Computing\".toc.\n",
      "[1] [2]\n",
      "Chapter 1.\n",
      "[3] [4]\n",
      "Chapter 2.\n",
      "[5]\n",
      "Chapter 3.\n",
      "(/usr/local/texlive/2019/texmf-dist/tex/latex/lm/ts1lmr.fd) [6] [7] [8]\n",
      "Chapter 4.\n",
      "[9]\n",
      "Chapter 5.\n",
      "\n",
      "! LaTeX Error: Something's wrong--perhaps a missing \\item.\n",
      "\n",
      "See the LaTeX manual or LaTeX Companion for explanation.\n",
      "Type  H <return>  for immediate help.\n",
      " ...                                              \n",
      "                                                  \n",
      "l.216 \\begin{itemize}\n",
      "                     \n",
      "[10] [11]\n",
      "\n",
      "! Package amsmath Error: Erroneous nesting of equation structures;\n",
      "(amsmath)                trying to recover with `aligned'.\n",
      "\n",
      "See the amsmath package documentation for explanation.\n",
      "Type  H <return>  for immediate help.\n",
      " ...                                              \n",
      "                                                  \n",
      "l.308   \\end{align*}\n",
      "                    \n",
      "[12]\n",
      "! Missing $ inserted.\n",
      "<inserted text> \n",
      "                $\n",
      "l.311 \\begin{itemize}\n",
      "                     [leftmargin=10pt]\n",
      "! Missing } inserted.\n",
      "<inserted text> \n",
      "                }\n",
      "l.311 \\begin{itemize}\n",
      "                     [leftmargin=10pt]\n",
      "! Missing \\endgroup inserted.\n",
      "<inserted text> \n",
      "                \\endgroup \n",
      "l.311 \\begin{itemize}\n",
      "                     [leftmargin=10pt]\n",
      "! Display math should end with $$.\n",
      "<to be read again> \n",
      "                   \\@@par \n",
      "l.311 \\begin{itemize}\n",
      "                     [leftmargin=10pt]\n",
      "! Extra }, or forgotten \\endgroup.\n",
      "\\@par ... \\@noitemerr {\\@@par }\\fi \\else {\\@@par }\n",
      "                                                  \\fi \n",
      "l.311 \\begin{itemize}\n",
      "                     [leftmargin=10pt]\n",
      "\n",
      "! LaTeX Error: Something's wrong--perhaps a missing \\item.\n",
      "\n",
      "See the LaTeX manual or LaTeX Companion for explanation.\n",
      "Type  H <return>  for immediate help.\n",
      " ...                                              \n",
      "                                                  \n",
      "l.312     \\item G\n",
      "                 rover's algorithm has applications in searching unsorted da...\n",
      "\n",
      "\n",
      "! LaTeX Error: Something's wrong--perhaps a missing \\item.\n",
      "\n",
      "See the LaTeX manual or LaTeX Companion for explanation.\n",
      "Type  H <return>  for immediate help.\n",
      " ...                                              \n",
      "                                                  \n",
      "l.312     \\item G\n",
      "                 rover's algorithm has applications in searching unsorted da...\n",
      "\n",
      "\n",
      "! LaTeX Error: Something's wrong--perhaps a missing \\item.\n",
      "\n",
      "See the LaTeX manual or LaTeX Companion for explanation.\n",
      "Type  H <return>  for immediate help.\n",
      " ...                                              \n",
      "                                                  \n",
      "l.312     \\item G\n",
      "                 rover's algorithm has applications in searching unsorted da...\n",
      "\n",
      "\n",
      "! LaTeX Error: Something's wrong--perhaps a missing \\item.\n",
      "\n",
      "See the LaTeX manual or LaTeX Companion for explanation.\n",
      "Type  H <return>  for immediate help.\n",
      " ...                                              \n",
      "                                                  \n",
      "l.313     \\item Q\n",
      "                 uantum algorithms are being explored for optimization probl...\n",
      "\n",
      "\n",
      "! LaTeX Error: Something's wrong--perhaps a missing \\item.\n",
      "\n",
      "See the LaTeX manual or LaTeX Companion for explanation.\n",
      "Type  H <return>  for immediate help.\n",
      " ...                                              \n",
      "                                                  \n",
      "l.313     \\item Q\n",
      "                 uantum algorithms are being explored for optimization probl...\n",
      "\n",
      "\n",
      "! LaTeX Error: Something's wrong--perhaps a missing \\item.\n",
      "\n",
      "See the LaTeX manual or LaTeX Companion for explanation.\n",
      "Type  H <return>  for immediate help.\n",
      " ...                                              \n",
      "                                                  \n",
      "l.313     \\item Q\n",
      "                 uantum algorithms are being explored for optimization probl...\n",
      "\n",
      "\n",
      "! LaTeX Error: Something's wrong--perhaps a missing \\item.\n",
      "\n",
      "See the LaTeX manual or LaTeX Companion for explanation.\n",
      "Type  H <return>  for immediate help.\n",
      " ...                                              \n",
      "                                                  \n",
      "l.315   \\end{itemize}\n",
      "                     \n",
      "\n",
      "Underfull \\hbox (badness 10000) in paragraph at lines 311--315\n",
      "\n",
      "\n",
      "! LaTeX Error: \\begin{equation*} on input line 310 ended by \\end{itemize}.\n",
      "\n",
      "See the LaTeX manual or LaTeX Companion for explanation.\n",
      "Type  H <return>  for immediate help.\n",
      " ...                                              \n",
      "                                                  \n",
      "l.315   \\end{itemize}\n",
      "                     \n",
      "\n",
      "! LaTeX Error: Bad math environment delimiter.\n",
      "\n",
      "See the LaTeX manual or LaTeX Companion for explanation.\n",
      "Type  H <return>  for immediate help.\n",
      " ...                                              \n",
      "                                                  \n",
      "l.316 \\]\n",
      "        %\n",
      "\n",
      "! LaTeX Error: \\begin{itemize} on input line 215 ended by \\end{equation*}.\n",
      "\n",
      "See the LaTeX manual or LaTeX Companion for explanation.\n",
      "Type  H <return>  for immediate help.\n",
      " ...                                              \n",
      "                                                  \n",
      "l.316 \\]\n",
      "        %\n",
      "! Missing $ inserted.\n",
      "<inserted text> \n",
      "                $\n",
      "l.316 \\]\n",
      "        %\n",
      "! Display math should end with $$.\n",
      "<to be read again> \n",
      "                   \\endgroup \n",
      "l.316 \\]\n",
      "        %\n",
      "[13]\n",
      "Chapter 6.\n",
      "[14]\n",
      "\n",
      "Package lastpage Warning: Rerun to get the references right on input line 350.\n",
      "\n",
      "\n",
      "AED: lastpage setting LastPage\n",
      "[15] (./Understanding Quantum Computing.aux)\n",
      "\n",
      "LaTeX Warning: Label(s) may have changed. Rerun to get cross-references right.\n",
      "\n",
      " )\n",
      "(see the transcript file for additional information){/usr/local/texlive/2019/te\n",
      "xmf-dist/fonts/enc/dvips/lm/lm-mathsy.enc}{/usr/local/texlive/2019/texmf-dist/f\n",
      "onts/enc/dvips/lm/lm-ec.enc}{/usr/local/texlive/2019/texmf-dist/fonts/enc/dvips\n",
      "/lm/lm-rm.enc}{/usr/local/texlive/2019/texmf-dist/fonts/enc/dvips/lm/lm-ts1.enc\n",
      "}{/usr/local/texlive/2019/texmf-dist/fonts/enc/dvips/lm/lm-mathit.enc}</usr/loc\n",
      "al/texlive/2019/texmf-dist/fonts/type1/public/lm/lmbx10.pfb></usr/local/texlive\n",
      "/2019/texmf-dist/fonts/type1/public/lm/lmbx12.pfb></usr/local/texlive/2019/texm\n",
      "f-dist/fonts/type1/public/lm/lmmi10.pfb></usr/local/texlive/2019/texmf-dist/fon\n",
      "ts/type1/public/lm/lmr10.pfb></usr/local/texlive/2019/texmf-dist/fonts/type1/pu\n",
      "blic/lm/lmr12.pfb></usr/local/texlive/2019/texmf-dist/fonts/type1/public/lm/lmr\n",
      "17.pfb></usr/local/texlive/2019/texmf-dist/fonts/type1/public/lm/lmr7.pfb></usr\n",
      "/local/texlive/2019/texmf-dist/fonts/type1/public/lm/lmri10.pfb></usr/local/tex\n",
      "live/2019/texmf-dist/fonts/type1/public/lm/lmsy10.pfb></usr/local/texlive/2019/\n",
      "texmf-dist/fonts/type1/public/lm/lmsy7.pfb></usr/local/texlive/2019/texmf-dist/\n",
      "fonts/type1/public/amsfonts/symbols/msbm10.pfb>\n",
      "Output written on \"Understanding Quantum Computing.pdf\" (16 pages, 211269 bytes\n",
      ").\n",
      "Transcript written on \"Understanding Quantum Computing.log\".\n",
      "Latexmk: Missing input file: 'Understanding Quantum Computing.toc' from line\n",
      "  'No file \"Understanding Quantum Computing\".toc.'\n",
      "Latexmk: References changed.\n",
      "Latexmk: References changed.\n",
      "Latexmk: Log file says output to 'Understanding Quantum Computing.pdf'\n",
      "Latexmk: Log file says output to 'Understanding Quantum Computing.pdf'\n",
      "Latexmk: Use the -f option to force complete processing,\n",
      " unless error was exceeding maximum runs, or warnings treated as errors.\n",
      "=== TeX engine is 'pdfTeX'\n",
      "Latexmk: Errors, so I did not complete making targets\n",
      "\n"
     ]
    }
   ],
   "source": [
    "# Compilation. A file named /content/textbook.pdf will be created\n",
    "n_displayed_line = 10\n",
    "isErrorOccured = False\n",
    "\n",
    "try:\n",
    "    doc.generate_pdf(book_node[\"title\"], compiler=\"latexmk\", clean_tex=True)\n",
    "    print('Generated!')\n",
    "except:\n",
    "    log_file_path = book_node[\"title\"] + \".log\"\n",
    "\n",
    "    # Read the contents of the log file\n",
    "    with open(log_file_path, \"r\", encoding=\"utf-8\", errors=\"ignore\") as file:\n",
    "        lines = file.readlines()\n",
    "\n",
    "    # Define error output pattern (file-line-error option format)\n",
    "    pattern = r'([a-zA-Z0-9_.]+):(\\d+): (.+)'\n",
    "\n",
    "    for i, line in enumerate(lines):\n",
    "        match = re.search(pattern, line)\n",
    "        if match:\n",
    "            isErrorOccured = True\n",
    "            print(f\"Line: {match.group(2)}\")\n",
    "            print(f\"Message: \\n  {match.group(3)}\")\n",
    "            for j in range(i+1, min(i+n_displayed_line, len(lines))):\n",
    "                print(lines[j].strip())\n",
    "            print(\"-\" * 40)"
   ]
  }
 ],
 "metadata": {
  "colab": {
   "include_colab_link": true,
   "provenance": []
  },
  "kernelspec": {
   "display_name": "Python 3 (ipykernel)",
   "language": "python",
   "name": "python3"
  },
  "language_info": {
   "codemirror_mode": {
    "name": "ipython",
    "version": 3
   },
   "file_extension": ".py",
   "mimetype": "text/x-python",
   "name": "python",
   "nbconvert_exporter": "python",
   "pygments_lexer": "ipython3",
   "version": "3.11.5"
  }
 },
 "nbformat": 4,
 "nbformat_minor": 1
}
