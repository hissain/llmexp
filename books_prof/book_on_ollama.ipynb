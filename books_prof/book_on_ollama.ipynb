{
 "cells": [
  {
   "cell_type": "code",
   "execution_count": 1,
   "metadata": {},
   "outputs": [],
   "source": [
    "from rich.console import Console\n",
    "from rich.syntax import Syntax\n",
    "from rich.table import Table\n",
    "\n",
    "def view(item):\n",
    "    console = Console()\n",
    "    with console.pager(styles=True):\n",
    "        console.print(item)"
   ]
  },
  {
   "cell_type": "markdown",
   "metadata": {
    "id": "tzRAYxwdU8jh"
   },
   "source": [
    "## Specification Formulation\n",
    "\n",
    "After entering the following, press [Run All Cells (Ctrl + F9)]."
   ]
  },
  {
   "cell_type": "code",
   "execution_count": 2,
   "metadata": {
    "id": "caSeJzWrUqYM"
   },
   "outputs": [],
   "source": [
    "# @markdown ## Required Fields\n",
    "# @markdown ### Content of the Textbook\n",
    "book_location = 'independence'\n",
    "book_content = \"Independence of Bangladesh, 1971\" #@param {type:\"string\"}\n",
    "# @markdown ### Approximate Number of Pages\n",
    "n_pages = 20 # @param {\"type\":\"integer\",\"placeholder\":\"40\"}\n",
    "# @markdown ### Output Format\n",
    "tex_output = True #@param {type:\"boolean\"}\n",
    "pdf_output = True #@param {type:\"boolean\"}\n",
    "md_output = False #@param {type:\"boolean\"}\n",
    "\n",
    "# @markdown ## Optional Fields\n",
    "# @markdown ### Intended Audience\n",
    "target_readers = \"A fourth-year university student who is already familiar history of Indian subcontinent and has started research on Independence of Bangladesh.\" #@param {type:\"string\"}\n",
    "# @markdown ### Frequency of Equations\n",
    "equation_frequency_level = 1 #@param {type:\"slider\", min:1, max:5, step:1}\n",
    "# @markdown ### Consider Chapter Structure and Organization in Content Generation\n",
    "do_consider_outline = True #@param {type:\"boolean\"}\n",
    "# @markdown ### Consider Previous Output in Content Generation\n",
    "do_consider_previous_sections = True #@param {type:\"boolean\"}\n",
    "do_consider_previous_sections_detail = False #@param {type:\"boolean\"}\n",
    "# @markdown ### Additional Requirements for Content\n",
    "additional_requirements = \"Try to explain the concept based on factual data.\" #@param {type:\"string\"}\n",
    "\n",
    "if book_content == \"\":\n",
    "    print('\\033[31m'+'Please specify the content of the textbook.'+'\\033[0m')\n",
    "if n_pages == 0:\n",
    "    print('\\033[31m'+'Please specify the number of pages.'+'\\033[0m')"
   ]
  },
  {
   "cell_type": "code",
   "execution_count": 3,
   "metadata": {},
   "outputs": [
    {
     "name": "stdout",
     "output_type": "stream",
     "text": [
      "Current working directory: /Users/hissain/git/github/llmexp/books_prof/independence\n"
     ]
    }
   ],
   "source": [
    "import os\n",
    "\n",
    "if not os.path.exists(book_location):\n",
    "    os.makedirs(book_location)\n",
    "os.chdir(book_location)\n",
    "print(f\"Current working directory: {os.getcwd()}\")"
   ]
  },
  {
   "cell_type": "markdown",
   "metadata": {
    "id": "spXv6uEbsxis"
   },
   "source": [
    "## Prompt Definition"
   ]
  },
  {
   "cell_type": "code",
   "execution_count": null,
   "metadata": {
    "id": "6QvuipAzsz3c"
   },
   "outputs": [],
   "source": [
    "# Common Prompt\n",
    "prompt_common = f\"\"\"\n",
    "You are an expert assistant for generating content of technical professional books. You will be writing a book on the following topic: {book_content}.\n",
    "The total number of pages in the book is about {n_pages}, with an estimated 40 lines per page. Please consider using polite and professional tone.\n",
    "\"\"\"\n",
    "\n",
    "if target_readers != \"\":\n",
    "    prompt_common += f\"The intended readers of the book are as follows:\\n {target_readers}\"\n",
    "    \n",
    "if additional_requirements != \"\":\n",
    "    prompt_common += f\"Additionally, please take the following into consideration:\\n {additional_requirements}\"\n",
    "\n",
    "# Prompt for Generating Book and Chapter Titles and Summaries\n",
    "prompt_book_title = prompt_common + \"\"\"\n",
    "Based on the above given information, please provide the title and summary for the book and each chapter in the following JSON format.\n",
    "The book summary should not only provide an overview but also mention the primary objectives, scope, and depth of the content, in about 5-10 detailed sentences.\n",
    "Please also consider the page allocation for each chapter in units of 0.1, like 0.8 pages.\n",
    "Additionally, consider whether each chapter needs further division based on semantic cohesion (needsSubdivision), and answer true or false.\n",
    "Do not include any speculative or unverified information. Please avoid writing chapter numbers in the titles.\n",
    "The number of sections should vary as needed. \n",
    "Please do not include any extra introductory or conclusory message outside the expected json format.\n",
    "Enclose the json content between ```json and ``` delimiters.\n",
    "\n",
    "The output format should be strictly as follows:\n",
    "\n",
    "```json\n",
    "{{\n",
    "\"title\": \"\",\n",
    "\"summary\": \"\",\n",
    "\"childs\":\n",
    "    [\n",
    "        {{\"title\": \"\", \"summary\": \"\", \"n_pages\": , \"needsSubdivision\": }},\n",
    "        {{\"title\": \"\", \"summary\": \"\", \"n_pages\": , \"needsSubdivision\": }},\n",
    "        {{\"title\": \"\", \"summary\": \"\", \"n_pages\": , \"needsSubdivision\": }}\n",
    "    ]\n",
    "}}\n",
    "```\n",
    "\"\"\"\n",
    "\n",
    "# Prompt for Section Division\n",
    "prompt_section_list_creation = prompt_common + \"\"\"\n",
    "Based on the above information, I plan to create a book titled {book_title}. The book summary is as follows:\n",
    "{book_summary}\n",
    "For the section on {target}, I would like you to create content across {n_pages} pages, assuming 20 lines per page.\n",
    "The summary for this section is as follows:\n",
    "{section_summary}\n",
    "\n",
    "Please divide this section into multiple parts and output the titles and summaries of each part in the following JSON format.\n",
    "Also, consider the page allocation for each part in units of 0.1, like 0.8 pages.\n",
    "Additionally, consider whether each part needs further division based on semantic cohesion (needsSubdivision) and answer true or false.\n",
    "Please avoid including section numbers in the titles. \n",
    "Please do not include any extra introductory or conclusory message outside the expected format.\n",
    "Enclose the json content between ```json and ``` delimiters.\n",
    "\n",
    "The output format should be strictly as follows:\n",
    "\n",
    "```json\n",
    "[\n",
    "    {{\"title\": \"\", \"summary\": \"\", \"n_pages\": , \"needsSubdivision\": }},\n",
    "    {{\"title\": \"\", \"summary\": \"\", \"n_pages\": , \"needsSubdivision\": }}\n",
    "]\n",
    "```\n",
    "\"\"\"\n",
    "\n",
    "# Prompt for Generating Main Content\n",
    "prompt_content_creation = prompt_common + \"\"\"\n",
    "\n",
    "As part of that, Now, you are writing the book of the title: {book_title} and the summary of the book is as follows:\n",
    "{book_summary}\n",
    "\n",
    "The outlines of the book are as follows:\n",
    "{toc_and_summary}\n",
    "\n",
    "{previous_sections}.\n",
    "\n",
    "Now, I would like you to create LaTeX content for the current section on: {target}, across {n_pages} pages, assuming 20 lines per page. \n",
    "The summary for the current section whose content you will generate is as follows: {section_summary}. Please generate the content.\n",
    "\n",
    "Please output the content in the following format:\n",
    "- Enclose the LaTeX content strictly between the delimiters `<|tex_start|>` and `<|tex_end|>`, as shown below:\n",
    "    - The LaTeX content must **start** with `<|tex_start|>`.\n",
    "    - The LaTeX content must **end** with `<|tex_end|>`.\n",
    "- Do not include any other messages, comments, or text outside these delimiters.\n",
    "- If you have equations in generated response, for equations, use the `equation` or `align` environment; do not use nested environments. Avoid enclosing `align` blocks within additional brackets (e.g., `\\[ ... \\]`).\n",
    "- For programming code, use the `lstlisting` environment with the appropriate language option (e.g., `[language=Python]`).\n",
    "- Escape all special characters (e.g., `#` as `\\#`, `%` as `\\%`, `_` as `\\_`, `&` as `\\&`, etc.) to ensure valid LaTeX.\n",
    "- Do not include backtick sequences or any unrelated formatting not part of LaTeX syntax.\n",
    "- Use the `<|tex_start|>` and `<|tex_end|>` delimiters **only once** in the output response: at the beginning and end of the whole LaTeX content.\n",
    "\n",
    "Output format:\n",
    "    <|tex_start|>\n",
    "    Full LaTeX response.\n",
    "    <|tex_end|>\n",
    "\"\"\""
   ]
  },
  {
   "cell_type": "markdown",
   "metadata": {
    "id": "oV3gAYrto4GT"
   },
   "source": [
    "## Parameter Settings"
   ]
  },
  {
   "cell_type": "code",
   "execution_count": 5,
   "metadata": {
    "id": "TvppBhFjo3EF"
   },
   "outputs": [],
   "source": [
    "# Parameters\n",
    "max_depth = 2  # If 1, only sections; if 2, includes subsections, and so on.\n",
    "max_output_pages = 1.5  # Maximum number of pages output by the LLM\n",
    "\n",
    "book_node_name = \"book\"  # Name of the root node\n",
    "\n",
    "if do_consider_previous_sections:\n",
    "    n_previous_sections = 1\n",
    "else:\n",
    "    n_previous_sections = 0"
   ]
  },
  {
   "cell_type": "markdown",
   "metadata": {
    "id": "YhRrtxVSAxjw"
   },
   "source": [
    "## Library Installation and Import"
   ]
  },
  {
   "cell_type": "code",
   "execution_count": 6,
   "metadata": {
    "colab": {
     "base_uri": "https://localhost:8080/"
    },
    "id": "q3yeQIS2AxOa",
    "outputId": "20ee90ed-03a6-4687-bfcd-2ca8cbf2dfef"
   },
   "outputs": [],
   "source": [
    "#!apt-get update\n",
    "#!apt-get install -y python3-dev graphviz libgraphviz-dev pkg-config\n",
    "#!apt-get install -y latexmk\n",
    "#!apt-get install -y texlive-latex-extra\n",
    "#!apt-get install -y texlive-science\n",
    "#%pip install -qU langchain-openai\n",
    "#%pip install pygraphviz\n",
    "#%pip install pylatex\n",
    "\n",
    "import os\n",
    "import re\n",
    "import json\n",
    "import networkx as nx\n",
    "from IPython.display import Markdown\n",
    "from langchain_openai import ChatOpenAI\n",
    "from langchain_core.prompts import PromptTemplate\n",
    "from langchain_core.output_parsers import PydanticOutputParser\n",
    "from pydantic import BaseModel, Field, validator\n",
    "from typing import List, Optional\n",
    "\n",
    "import matplotlib.pyplot as plt\n",
    "from networkx.drawing.nx_agraph import graphviz_layout\n",
    "\n",
    "from pylatex import Command, Document, Section, Subsection, Package\n",
    "from pylatex.section import Chapter\n",
    "from pylatex.utils import NoEscape"
   ]
  },
  {
   "cell_type": "markdown",
   "metadata": {
    "id": "M5cjjEOefAJR"
   },
   "source": [
    "## Graph Creation"
   ]
  },
  {
   "cell_type": "code",
   "execution_count": 7,
   "metadata": {
    "id": "5x6iAEg2fAR7"
   },
   "outputs": [],
   "source": [
    "book_graph = nx.DiGraph(book_content=book_content, target_readers=target_readers, equation_frequency_level=equation_frequency_level, additional_requirements=additional_requirements)"
   ]
  },
  {
   "cell_type": "code",
   "execution_count": 8,
   "metadata": {},
   "outputs": [
    {
     "name": "stdout",
     "output_type": "stream",
     "text": [
      "\u001b[1m{\u001b[0m\n",
      "    \u001b[32m'book_content'\u001b[0m: \u001b[32m'A textbook on 1971 : Independence of Bangladesh'\u001b[0m,\n",
      "    \u001b[32m'target_readers'\u001b[0m: \u001b[32m'A fourth-year university student who is already familiar history of Indian subcontinent and \u001b[0m\n",
      "\u001b[32mhas started research on Independence of Bangladesh.'\u001b[0m,\n",
      "    \u001b[32m'equation_frequency_level'\u001b[0m: \u001b[1;36m1\u001b[0m,\n",
      "    \u001b[32m'additional_requirements'\u001b[0m: \u001b[32m'Try to explain the concept based on factual data.'\u001b[0m\n",
      "\u001b[1m}\u001b[0m\n"
     ]
    },
    {
     "data": {
      "text/html": [
       "<pre style=\"white-space:pre;overflow-x:auto;line-height:normal;font-family:Menlo,'DejaVu Sans Mono',consolas,'Courier New',monospace\"></pre>\n"
      ],
      "text/plain": []
     },
     "metadata": {},
     "output_type": "display_data"
    }
   ],
   "source": [
    "view(book_graph.graph)"
   ]
  },
  {
   "cell_type": "markdown",
   "metadata": {
    "id": "muWhg5hpTLId"
   },
   "source": [
    "## Title and Chapter Creation"
   ]
  },
  {
   "cell_type": "markdown",
   "metadata": {
    "id": "H7i5EKOOkBVG"
   },
   "source": [
    "### Function Definition"
   ]
  },
  {
   "cell_type": "code",
   "execution_count": 9,
   "metadata": {
    "id": "tbrOoC1oj_Ou"
   },
   "outputs": [],
   "source": [
    "def extract_book_and_chapter_contents(markdown_text):\n",
    "    \"\"\"\n",
    "    Function that extracts the first JSON data found in Markdown text\n",
    "    and converts it to a Python dictionary.\n",
    "\n",
    "    Args:\n",
    "        markdown_text (str): A string in Markdown format, assumed to contain\n",
    "        JSON-formatted data within it.\n",
    "\n",
    "    Returns:\n",
    "        dict or None: Returns a dictionary if a valid JSON is found;\n",
    "        returns None if no JSON is found or parsing fails.\n",
    "    \"\"\"\n",
    "\n",
    "    # Find the starting point of JSON in the Markdown\n",
    "    start_index = markdown_text.find('{')\n",
    "    if start_index == -1:\n",
    "        return None\n",
    "\n",
    "    # Traverse the entire string and check the balance of nested braces\n",
    "    brace_count = 0\n",
    "    for i in range(start_index, len(markdown_text)):\n",
    "        if markdown_text[i] == '{':\n",
    "            brace_count += 1\n",
    "        elif markdown_text[i] == '}':\n",
    "            brace_count -= 1\n",
    "\n",
    "        # Extract when braces are balanced\n",
    "        if brace_count == 0:\n",
    "            json_string = markdown_text[start_index:i+1]\n",
    "            try:\n",
    "                # Convert to JSON format\n",
    "                json_data = json.loads(json_string)\n",
    "                view(json_data)\n",
    "                return json_data\n",
    "            except json.JSONDecodeError as e:\n",
    "                print(f\"JSON parsing error: {e}\")\n",
    "                return None\n",
    "            return\n",
    "\n",
    "    # If no closing brace is found\n",
    "    return None"
   ]
  },
  {
   "cell_type": "markdown",
   "metadata": {
    "id": "ISN0KhB-kAuo"
   },
   "source": [
    "### Output by LLM"
   ]
  },
  {
   "cell_type": "code",
   "execution_count": 10,
   "metadata": {},
   "outputs": [],
   "source": [
    "def log_prompt(log):\n",
    "    print(\"Prompt text: \" + str(log))\n",
    "    return log"
   ]
  },
  {
   "cell_type": "code",
   "execution_count": 11,
   "metadata": {
    "id": "ptwpNLJNTDuf"
   },
   "outputs": [
    {
     "name": "stdout",
     "output_type": "stream",
     "text": [
      "Prompt text: text='\\nThe following content will be used to write a book.\\nA textbook on 1971 : Independence of Bangladesh\\nThe total number of pages in the book is 20, with an estimated 20 lines per page. Please write in a polite tone.\\nThe intended readers are as follows:\\n A fourth-year university student who is already familiar history of Indian subcontinent and has started research on Independence of Bangladesh.Additionally, please take the following into consideration:\\n Try to explain the concept based on factual data.\\nBased on the above, please provide the title and summary for the book and each chapter in the following JSON format.\\nThe book summary should not only provide an overview but also mention the primary objectives, scope, and depth of the content, in about 5-10 detailed sentences.\\nPlease also consider the page allocation for each chapter in units of 0.1, like 0.8 pages.\\nAdditionally, consider whether each chapter needs further division based on semantic cohesion (needsSubdivision), and answer true or false.\\nDo not include any speculative or unverified information. Please avoid writing chapter numbers in the titles.\\nThe number of sections should vary as needed. \\nPlease do not include any extra introductory or conclusory message outside the expected json format.\\nEnclose the json content between ```json and ``` delimiters.\\n\\nThe output format should be strictly as follows:\\n\\n```json\\n{\\n\"title\": \"\",\\n\"summary\": \"\",\\n\"childs\":\\n    [\\n        {\"title\": \"\", \"summary\": \"\", \"n_pages\": , \"needsSubdivision\": },\\n        {\"title\": \"\", \"summary\": \"\", \"n_pages\": , \"needsSubdivision\": },\\n        {\"title\": \"\", \"summary\": \"\", \"n_pages\": , \"needsSubdivision\": }\\n    ]\\n}\\n```\\n'\n",
      "\u001b[1m{\u001b[0m\n",
      "    \u001b[32m'title'\u001b[0m: \u001b[32m'The Independence of Bangladesh: A Historical Perspective'\u001b[0m,\n",
      "    \u001b[32m'summary'\u001b[0m: \u001b[32m\"This textbook provides a comprehensive understanding of the independence movement in Bangladesh, \u001b[0m\n",
      "\u001b[32mcovering its historical context, key events, and primary figures. The book aims to provide an in-depth analysis of \u001b[0m\n",
      "\u001b[32mthe subject, focusing on verifiable facts and data. By exploring the complexities of the independence struggle, \u001b[0m\n",
      "\u001b[32mreaders will gain a deeper understanding of the region's history and its impact on contemporary politics. This \u001b[0m\n",
      "\u001b[32mtextbook is designed for fourth-year university students with a background in the history of the Indian \u001b[0m\n",
      "\u001b[32msubcontinent, who are looking to expand their knowledge on this pivotal event. The primary objectives of this book \u001b[0m\n",
      "\u001b[32mare to provide an accurate account of historical events, to contextualize the independence movement within the \u001b[0m\n",
      "\u001b[32mbroader framework of South Asian history, and to foster critical thinking and analysis among readers. The scope of \u001b[0m\n",
      "\u001b[32mthe book encompasses the period from the early 20th century to the present day, with a focus on key figures, \u001b[0m\n",
      "\u001b[32mevents, and ideologies that shaped Bangladesh's struggle for independence. Through this text, readers will gain a \u001b[0m\n",
      "\u001b[32mnuanced understanding of the complex historical forces that led to the birth of Bangladesh as an independent \u001b[0m\n",
      "\u001b[32mnation.\"\u001b[0m,\n",
      "    \u001b[32m'childs'\u001b[0m: \u001b[1m[\u001b[0m\n",
      "        \u001b[1m{\u001b[0m\n",
      "            \u001b[32m'title'\u001b[0m: \u001b[32m'The Historical Context of Bangladesh'\u001b[0m,\n",
      "            \u001b[32m'summary'\u001b[0m: \u001b[32m'This chapter provides an overview of the historical background of Bangladesh, including its\u001b[0m\n",
      "\u001b[32mgeographical location, cultural heritage, and colonial legacy.'\u001b[0m,\n",
      "            \u001b[32m'n_pages'\u001b[0m: \u001b[1;36m0.8\u001b[0m,\n",
      "            \u001b[32m'needsSubdivision'\u001b[0m: \u001b[3;92mTrue\u001b[0m\n",
      "        \u001b[1m}\u001b[0m,\n",
      "        \u001b[1m{\u001b[0m\n",
      "            \u001b[32m'title'\u001b[0m: \u001b[32m'The Emergence of Bengali Nationalism'\u001b[0m,\n",
      "            \u001b[32m'summary'\u001b[0m: \u001b[32m'This chapter explores the rise of Bengali nationalism in the early 20th century, including \u001b[0m\n",
      "\u001b[32mkey figures such as Rabindranath Tagore and A.K. Fazlul Huq.'\u001b[0m,\n",
      "            \u001b[32m'n_pages'\u001b[0m: \u001b[1;36m0.9\u001b[0m,\n",
      "            \u001b[32m'needsSubdivision'\u001b[0m: \u001b[3;92mTrue\u001b[0m\n",
      "        \u001b[1m}\u001b[0m,\n",
      "        \u001b[1m{\u001b[0m\n",
      "            \u001b[32m'title'\u001b[0m: \u001b[32m'The Role of the Indian National Congress'\u001b[0m,\n",
      "            \u001b[32m'summary'\u001b[0m: \u001b[32m\"This chapter examines the role of the Indian National Congress in Bangladesh's struggle for\u001b[0m\n",
      "\u001b[32mindependence, including its impact on the country's politics and society.\"\u001b[0m,\n",
      "            \u001b[32m'n_pages'\u001b[0m: \u001b[1;36m1.0\u001b[0m,\n",
      "            \u001b[32m'needsSubdivision'\u001b[0m: \u001b[3;91mFalse\u001b[0m\n",
      "        \u001b[1m}\u001b[0m,\n",
      "        \u001b[1m{\u001b[0m\n",
      "            \u001b[32m'title'\u001b[0m: \u001b[32m'The Mass Uprising of 1952'\u001b[0m,\n",
      "            \u001b[32m'summary'\u001b[0m: \u001b[32m\"This chapter details the events surrounding the mass uprising of 1952, which marked a \u001b[0m\n",
      "\u001b[32mturning point in Bangladesh's struggle for independence.\"\u001b[0m,\n",
      "            \u001b[32m'n_pages'\u001b[0m: \u001b[1;36m0.7\u001b[0m,\n",
      "            \u001b[32m'needsSubdivision'\u001b[0m: \u001b[3;92mTrue\u001b[0m\n",
      "        \u001b[1m}\u001b[0m,\n",
      "        \u001b[1m{\u001b[0m\n",
      "            \u001b[32m'title'\u001b[0m: \u001b[32m'The Role of Pakistan and the United States'\u001b[0m,\n",
      "            \u001b[32m'summary'\u001b[0m: \u001b[32m\"This chapter explores the role of Pakistan and the United States in Bangladesh's struggle \u001b[0m\n",
      "\u001b[32mfor independence, including their diplomatic and military interventions.\"\u001b[0m,\n",
      "            \u001b[32m'n_pages'\u001b[0m: \u001b[1;36m1.1\u001b[0m,\n",
      "            \u001b[32m'needsSubdivision'\u001b[0m: \u001b[3;91mFalse\u001b[0m\n",
      "        \u001b[1m}\u001b[0m,\n",
      "        \u001b[1m{\u001b[0m\n",
      "            \u001b[32m'title'\u001b[0m: \u001b[32m'The Final Years of Independence'\u001b[0m,\n",
      "            \u001b[32m'summary'\u001b[0m: \u001b[32m\"This chapter examines the final years of Bangladesh's struggle for independence, including \u001b[0m\n",
      "\u001b[32mthe role of key figures such as Sheikh Mujibur Rahman and the eventual birth of Bangladesh in 1971.\"\u001b[0m,\n",
      "            \u001b[32m'n_pages'\u001b[0m: \u001b[1;36m0.9\u001b[0m,\n",
      "            \u001b[32m'needsSubdivision'\u001b[0m: \u001b[3;92mTrue\u001b[0m\n",
      "        \u001b[1m}\u001b[0m,\n",
      "        \u001b[1m{\u001b[0m\n",
      "            \u001b[32m'title'\u001b[0m: \u001b[32m'The Aftermath of Independence'\u001b[0m,\n",
      "            \u001b[32m'summary'\u001b[0m: \u001b[32m\"This chapter provides an overview of the impact of independence on Bangladesh's politics, \u001b[0m\n",
      "\u001b[32msociety, and economy.\"\u001b[0m,\n",
      "            \u001b[32m'n_pages'\u001b[0m: \u001b[1;36m0.8\u001b[0m,\n",
      "            \u001b[32m'needsSubdivision'\u001b[0m: \u001b[3;91mFalse\u001b[0m\n",
      "        \u001b[1m}\u001b[0m\n",
      "    \u001b[1m]\u001b[0m\n",
      "\u001b[1m}\u001b[0m\n"
     ]
    },
    {
     "data": {
      "text/html": [
       "<pre style=\"white-space:pre;overflow-x:auto;line-height:normal;font-family:Menlo,'DejaVu Sans Mono',consolas,'Courier New',monospace\"></pre>\n"
      ],
      "text/plain": []
     },
     "metadata": {},
     "output_type": "display_data"
    }
   ],
   "source": [
    "from langchain_ollama import OllamaLLM\n",
    "from langchain_core.prompts import PromptTemplate\n",
    "\n",
    "llm = OllamaLLM(base_url='http://localhost:11434', model=\"llama3.2:latest\")\n",
    "\n",
    "prompt = PromptTemplate.from_template(prompt_book_title)\n",
    "\n",
    "chain = prompt | (lambda x: log_prompt(x)) | llm\n",
    "result = chain.invoke(\n",
    "    {\n",
    "        \"book_content\": book_content,\n",
    "        \"target_readers\": target_readers,\n",
    "        \"n_pages\": n_pages,\n",
    "        \"additional_requirements\": additional_requirements\n",
    "   }\n",
    ")\n",
    "\n",
    "book_json = extract_book_and_chapter_contents(result)"
   ]
  },
  {
   "cell_type": "markdown",
   "metadata": {
    "id": "mhgOs-a4kJ59"
   },
   "source": [
    "### Storing Results in the Book Graph"
   ]
  },
  {
   "cell_type": "code",
   "execution_count": 12,
   "metadata": {
    "id": "xdrOGJfqBcf-"
   },
   "outputs": [],
   "source": [
    "# About the book\n",
    "book_graph.add_nodes_from([(book_node_name, {\"title\": book_json[\"title\"], \"summary\": book_json[\"summary\"], \"n_pages\": n_pages, \"needsSubdivision\": True})])\n",
    "\n",
    "# About chapters (sections)\n",
    "book_graph.add_nodes_from([(str(idx+1), child) for idx, child in enumerate(book_json[\"childs\"])])\n",
    "book_graph.add_edges_from([(book_node_name, str(idx+1)) for idx in range(len(book_json[\"childs\"]))])"
   ]
  },
  {
   "cell_type": "markdown",
   "metadata": {
    "id": "wc84vrut-pZ9"
   },
   "source": [
    "## Title and Structure Verification"
   ]
  },
  {
   "cell_type": "markdown",
   "metadata": {
    "id": "WW4r36Pr-_Po"
   },
   "source": [
    "### Displaying Title and Structure"
   ]
  },
  {
   "cell_type": "code",
   "execution_count": 13,
   "metadata": {
    "colab": {
     "base_uri": "https://localhost:8080/",
     "height": 926
    },
    "id": "vzGKlqImWtl4",
    "outputId": "c4c26c3a-a0cd-47da-bbd0-e836af5be9bf"
   },
   "outputs": [
    {
     "data": {
      "text/markdown": [
       "\n",
       " ## Title: The Independence of Bangladesh: A Historical Perspective (Page Count: 20)\n",
       " This textbook provides a comprehensive understanding of the independence movement in Bangladesh, covering its historical context, key events, and primary figures. The book aims to provide an in-depth analysis of the subject, focusing on verifiable facts and data. By exploring the complexities of the independence struggle, readers will gain a deeper understanding of the region's history and its impact on contemporary politics. This textbook is designed for fourth-year university students with a background in the history of the Indian subcontinent, who are looking to expand their knowledge on this pivotal event. The primary objectives of this book are to provide an accurate account of historical events, to contextualize the independence movement within the broader framework of South Asian history, and to foster critical thinking and analysis among readers. The scope of the book encompasses the period from the early 20th century to the present day, with a focus on key figures, events, and ideologies that shaped Bangladesh's struggle for independence. Through this text, readers will gain a nuanced understanding of the complex historical forces that led to the birth of Bangladesh as an independent nation.\n",
       " ### Chapter 1: The Historical Context of Bangladesh (Page Count: 0.8)\n",
       "This chapter provides an overview of the historical background of Bangladesh, including its geographical location, cultural heritage, and colonial legacy.\n",
       " ### Chapter 2: The Emergence of Bengali Nationalism (Page Count: 0.9)\n",
       "This chapter explores the rise of Bengali nationalism in the early 20th century, including key figures such as Rabindranath Tagore and A.K. Fazlul Huq.\n",
       " ### Chapter 3: The Role of the Indian National Congress (Page Count: 1.0)\n",
       "This chapter examines the role of the Indian National Congress in Bangladesh's struggle for independence, including its impact on the country's politics and society.\n",
       " ### Chapter 4: The Mass Uprising of 1952 (Page Count: 0.7)\n",
       "This chapter details the events surrounding the mass uprising of 1952, which marked a turning point in Bangladesh's struggle for independence.\n",
       " ### Chapter 5: The Role of Pakistan and the United States (Page Count: 1.1)\n",
       "This chapter explores the role of Pakistan and the United States in Bangladesh's struggle for independence, including their diplomatic and military interventions.\n",
       " ### Chapter 6: The Final Years of Independence (Page Count: 0.9)\n",
       "This chapter examines the final years of Bangladesh's struggle for independence, including the role of key figures such as Sheikh Mujibur Rahman and the eventual birth of Bangladesh in 1971.\n",
       " ### Chapter 7: The Aftermath of Independence (Page Count: 0.8)\n",
       "This chapter provides an overview of the impact of independence on Bangladesh's politics, society, and economy."
      ],
      "text/plain": [
       "<IPython.core.display.Markdown object>"
      ]
     },
     "execution_count": 13,
     "metadata": {},
     "output_type": "execute_result"
    }
   ],
   "source": [
    "book_node = book_graph.nodes[book_node_name]\n",
    "\n",
    "content_md = \"\"\n",
    "content_md += \"\\n ## Title: \" + book_node[\"title\"] + \" (Page Count: \" + str(book_node[\"n_pages\"]) + \")\"\n",
    "content_md += \"\\n \" + book_node[\"summary\"]\n",
    "for idx, child_node_name in enumerate(book_graph.successors(book_node_name)):\n",
    "    child_node = book_graph.nodes[child_node_name]\n",
    "    content_md += \"\\n ### Chapter \" + str(idx+1) + \": \" + child_node[\"title\"] + \" (Page Count: \" + str(child_node[\"n_pages\"]) + \")\"\n",
    "    content_md += \"\\n\" + child_node[\"summary\"]\n",
    "\n",
    "Markdown(content_md)\n"
   ]
  },
  {
   "cell_type": "markdown",
   "metadata": {
    "id": "dfXBblAq_mx6"
   },
   "source": [
    "## Book Graph Creation"
   ]
  },
  {
   "cell_type": "markdown",
   "metadata": {
    "id": "TaiIwjSjknP5"
   },
   "source": [
    "### Function Definition"
   ]
  },
  {
   "cell_type": "code",
   "execution_count": 32,
   "metadata": {
    "id": "KgA7TIry_W2D"
   },
   "outputs": [],
   "source": [
    "def extract_section_list(markdown_text):\n",
    "\n",
    "    pattern = r'```json\\s*(.*?)\\s*```'\n",
    "    match = re.search(pattern, markdown_text, re.DOTALL)\n",
    "\n",
    "    if match:\n",
    "        json_string = match.group(1)\n",
    "        data = json.loads(json_string)\n",
    "        return data\n",
    "    else:\n",
    "        print(\"JSON data not found.\")\n",
    "        return None\n",
    "\n",
    "def extract_section_content(markdown_text):\n",
    "    pattern = r'<\\|tex_start\\|>\\s*(.*?)\\s*<\\|tex_end\\|>'  # Regex to match custom delimiters\n",
    "    match = re.search(pattern, markdown_text, re.DOTALL)  # Search across lines (re.DOTALL)\n",
    "    if match:\n",
    "        tex_string = match.group(1)  # Extract content between the delimiters\n",
    "        return tex_string\n",
    "    else:\n",
    "        pattern = r'<\\|tex_start\\|>\\s*(.*?)\\s*<\\/\\|tex_end\\|>'  # Regex to match custom delimiters\n",
    "        match = re.search(pattern, markdown_text, re.DOTALL)  # Search across lines (re.DOTALL)\n",
    "        if match:\n",
    "            tex_string = match.group(1)  # Extract content between the delimiters\n",
    "            return tex_string\n",
    "        else:\n",
    "            print(\"TeX data not found.\")  # Handle cases with missing delimiters\n",
    "            return markdown_text\n",
    "\n",
    "\n",
    "def get_equation_frequency(equation_frequency_level):\n",
    "    if equation_frequency_level == 1:\n",
    "        return \"Avoid using equations whenever possible, and explain all concepts in simple words. Use equations only when absolutely necessary and keep it to a minimum.\"\n",
    "    elif equation_frequency_level == 2:\n",
    "        return \"Use equations sparingly, focusing primarily on explanations in prose. Use simple equations only if necessary.\"\n",
    "    elif equation_frequency_level == 3:\n",
    "        return \"Combine equations and prose explanations in a balanced way. Use equations to illustrate key concepts, supplementing with prose where needed.\"\n",
    "    elif equation_frequency_level == 4:\n",
    "        return \"Use equations actively to precisely convey concepts and relationships. However, important explanations should also be supplemented with prose.\"\n",
    "    elif equation_frequency_level == 5:\n",
    "        return \"Use equations extensively. Express as many concepts and relationships as possible through equations.\""
   ]
  },
  {
   "cell_type": "markdown",
   "metadata": {
    "id": "h67SUYLNkfjh"
   },
   "source": [
    "### LLMによる章立ての出力"
   ]
  },
  {
   "cell_type": "code",
   "execution_count": 15,
   "metadata": {
    "id": "fvZSOTxb4kpT",
    "scrolled": false
   },
   "outputs": [
    {
     "name": "stdout",
     "output_type": "stream",
     "text": [
      "\u001b[1m{\u001b[0m\n",
      "    \u001b[32m'title'\u001b[0m: \u001b[32m'The Historical Context of Bangladesh'\u001b[0m,\n",
      "    \u001b[32m'summary'\u001b[0m: \u001b[32m'This chapter provides an overview of the historical background of Bangladesh, including its \u001b[0m\n",
      "\u001b[32mgeographical location, cultural heritage, and colonial legacy.'\u001b[0m,\n",
      "    \u001b[32m'n_pages'\u001b[0m: \u001b[1;36m0.8\u001b[0m,\n",
      "    \u001b[32m'needsSubdivision'\u001b[0m: \u001b[3;92mTrue\u001b[0m\n",
      "\u001b[1m}\u001b[0m\n"
     ]
    },
    {
     "data": {
      "text/html": [
       "<pre style=\"white-space:pre;overflow-x:auto;line-height:normal;font-family:Menlo,'DejaVu Sans Mono',consolas,'Courier New',monospace\"></pre>\n"
      ],
      "text/plain": []
     },
     "metadata": {},
     "output_type": "display_data"
    },
    {
     "name": "stdout",
     "output_type": "stream",
     "text": [
      "Prompt text: text='\\nThe following content will be used to write a book.\\nA textbook on 1971 : Independence of Bangladesh\\nThe total number of pages in the book is 20, with an estimated 20 lines per page. Please write in a polite tone.\\nThe intended readers are as follows:\\n A fourth-year university student who is already familiar history of Indian subcontinent and has started research on Independence of Bangladesh.Additionally, please take the following into consideration:\\n Try to explain the concept based on factual data.\\nBased on the above information, I plan to create a book titled The Independence of Bangladesh: A Historical Perspective. The book summary is as follows:\\nThis textbook provides a comprehensive understanding of the independence movement in Bangladesh, covering its historical context, key events, and primary figures. The book aims to provide an in-depth analysis of the subject, focusing on verifiable facts and data. By exploring the complexities of the independence struggle, readers will gain a deeper understanding of the region\\'s history and its impact on contemporary politics. This textbook is designed for fourth-year university students with a background in the history of the Indian subcontinent, who are looking to expand their knowledge on this pivotal event. The primary objectives of this book are to provide an accurate account of historical events, to contextualize the independence movement within the broader framework of South Asian history, and to foster critical thinking and analysis among readers. The scope of the book encompasses the period from the early 20th century to the present day, with a focus on key figures, events, and ideologies that shaped Bangladesh\\'s struggle for independence. Through this text, readers will gain a nuanced understanding of the complex historical forces that led to the birth of Bangladesh as an independent nation.\\nFor the section on The Historical Context of Bangladesh, I would like to create content across 0.8 pages, assuming 40 lines per page.\\nThe summary for this section is as follows:\\nThis chapter provides an overview of the historical background of Bangladesh, including its geographical location, cultural heritage, and colonial legacy.\\nPlease divide this section into multiple parts and output the titles and summaries of each part in the following JSON format.\\nAlso, consider the page allocation for each part in units of 0.1, like 0.8 pages.\\nAdditionally, consider whether each part needs further division based on semantic cohesion (needsSubdivision) and answer true or false.\\nPlease avoid including section numbers in the titles. \\nPlease do not include any extra introductory or conclusory message outside the expected format.\\nEnclose the json content between ```json and ``` delimiters.\\n\\nThe output format should be strictly as follows:\\n\\n```json\\n[\\n    {\"title\": \"\", \"summary\": \"\", \"n_pages\": , \"needsSubdivision\": },\\n    {\"title\": \"\", \"summary\": \"\", \"n_pages\": , \"needsSubdivision\": }\\n]\\n```\\n'\n",
      "\u001b[1m[\u001b[0m\n",
      "    \u001b[1m{\u001b[0m\n",
      "        \u001b[32m'title'\u001b[0m: \u001b[32m'Geographical Location and Boundaries'\u001b[0m,\n",
      "        \u001b[32m'summary'\u001b[0m: \u001b[32m\"This part explores Bangladesh's geographical location within South Asia, its boundaries, and \u001b[0m\n",
      "\u001b[32mnatural resources.\"\u001b[0m,\n",
      "        \u001b[32m'n_pages'\u001b[0m: \u001b[1;36m0.8\u001b[0m,\n",
      "        \u001b[32m'needsSubdivision'\u001b[0m: \u001b[3;91mFalse\u001b[0m\n",
      "    \u001b[1m}\u001b[0m,\n",
      "    \u001b[1m{\u001b[0m\n",
      "        \u001b[32m'title'\u001b[0m: \u001b[32m'Cultural Heritage: Pre-Colonial Period'\u001b[0m,\n",
      "        \u001b[32m'summary'\u001b[0m: \u001b[32m'This section delves into the rich cultural heritage of Bangladesh, including its ancient \u001b[0m\n",
      "\u001b[32mcivilizations, Islamic influence, and traditional customs.'\u001b[0m,\n",
      "        \u001b[32m'n_pages'\u001b[0m: \u001b[1;36m0.8\u001b[0m,\n",
      "        \u001b[32m'needsSubdivision'\u001b[0m: \u001b[3;91mFalse\u001b[0m\n",
      "    \u001b[1m}\u001b[0m,\n",
      "    \u001b[1m{\u001b[0m\n",
      "        \u001b[32m'title'\u001b[0m: \u001b[32m'Colonial Legacy: British Rule in Bengal'\u001b[0m,\n",
      "        \u001b[32m'summary'\u001b[0m: \u001b[32m'This part examines the impact of British colonial rule on Bangladesh, including economic \u001b[0m\n",
      "\u001b[32mexploitation, administrative divisions, and cultural suppression.'\u001b[0m,\n",
      "        \u001b[32m'n_pages'\u001b[0m: \u001b[1;36m0.8\u001b[0m,\n",
      "        \u001b[32m'needsSubdivision'\u001b[0m: \u001b[3;91mFalse\u001b[0m\n",
      "    \u001b[1m}\u001b[0m,\n",
      "    \u001b[1m{\u001b[0m\n",
      "        \u001b[32m'title'\u001b[0m: \u001b[32m'The Role of Islam in Shaping Modern Bangladesh'\u001b[0m,\n",
      "        \u001b[32m'summary'\u001b[0m: \u001b[32m\"This section analyzes the significance of Islam in shaping modern Bangladesh's identity, \u001b[0m\n",
      "\u001b[32mpolitics, and society.\"\u001b[0m,\n",
      "        \u001b[32m'n_pages'\u001b[0m: \u001b[1;36m0.4\u001b[0m,\n",
      "        \u001b[32m'needsSubdivision'\u001b[0m: \u001b[3;92mTrue\u001b[0m\n",
      "    \u001b[1m}\u001b[0m\n",
      "\u001b[1m]\u001b[0m\n"
     ]
    },
    {
     "data": {
      "text/html": [
       "<pre style=\"white-space:pre;overflow-x:auto;line-height:normal;font-family:Menlo,'DejaVu Sans Mono',consolas,'Courier New',monospace\"></pre>\n"
      ],
      "text/plain": []
     },
     "metadata": {},
     "output_type": "display_data"
    },
    {
     "name": "stdout",
     "output_type": "stream",
     "text": [
      "\u001b[1m{\u001b[0m\n",
      "    \u001b[32m'title'\u001b[0m: \u001b[32m'The Emergence of Bengali Nationalism'\u001b[0m,\n",
      "    \u001b[32m'summary'\u001b[0m: \u001b[32m'This chapter explores the rise of Bengali nationalism in the early 20th century, including key \u001b[0m\n",
      "\u001b[32mfigures such as Rabindranath Tagore and A.K. Fazlul Huq.'\u001b[0m,\n",
      "    \u001b[32m'n_pages'\u001b[0m: \u001b[1;36m0.9\u001b[0m,\n",
      "    \u001b[32m'needsSubdivision'\u001b[0m: \u001b[3;92mTrue\u001b[0m\n",
      "\u001b[1m}\u001b[0m\n"
     ]
    },
    {
     "data": {
      "text/html": [
       "<pre style=\"white-space:pre;overflow-x:auto;line-height:normal;font-family:Menlo,'DejaVu Sans Mono',consolas,'Courier New',monospace\"></pre>\n"
      ],
      "text/plain": []
     },
     "metadata": {},
     "output_type": "display_data"
    },
    {
     "name": "stdout",
     "output_type": "stream",
     "text": [
      "Prompt text: text='\\nThe following content will be used to write a book.\\nA textbook on 1971 : Independence of Bangladesh\\nThe total number of pages in the book is 20, with an estimated 20 lines per page. Please write in a polite tone.\\nThe intended readers are as follows:\\n A fourth-year university student who is already familiar history of Indian subcontinent and has started research on Independence of Bangladesh.Additionally, please take the following into consideration:\\n Try to explain the concept based on factual data.\\nBased on the above information, I plan to create a book titled The Independence of Bangladesh: A Historical Perspective. The book summary is as follows:\\nThis textbook provides a comprehensive understanding of the independence movement in Bangladesh, covering its historical context, key events, and primary figures. The book aims to provide an in-depth analysis of the subject, focusing on verifiable facts and data. By exploring the complexities of the independence struggle, readers will gain a deeper understanding of the region\\'s history and its impact on contemporary politics. This textbook is designed for fourth-year university students with a background in the history of the Indian subcontinent, who are looking to expand their knowledge on this pivotal event. The primary objectives of this book are to provide an accurate account of historical events, to contextualize the independence movement within the broader framework of South Asian history, and to foster critical thinking and analysis among readers. The scope of the book encompasses the period from the early 20th century to the present day, with a focus on key figures, events, and ideologies that shaped Bangladesh\\'s struggle for independence. Through this text, readers will gain a nuanced understanding of the complex historical forces that led to the birth of Bangladesh as an independent nation.\\nFor the section on The Emergence of Bengali Nationalism, I would like to create content across 0.9 pages, assuming 40 lines per page.\\nThe summary for this section is as follows:\\nThis chapter explores the rise of Bengali nationalism in the early 20th century, including key figures such as Rabindranath Tagore and A.K. Fazlul Huq.\\nPlease divide this section into multiple parts and output the titles and summaries of each part in the following JSON format.\\nAlso, consider the page allocation for each part in units of 0.1, like 0.8 pages.\\nAdditionally, consider whether each part needs further division based on semantic cohesion (needsSubdivision) and answer true or false.\\nPlease avoid including section numbers in the titles. \\nPlease do not include any extra introductory or conclusory message outside the expected format.\\nEnclose the json content between ```json and ``` delimiters.\\n\\nThe output format should be strictly as follows:\\n\\n```json\\n[\\n    {\"title\": \"\", \"summary\": \"\", \"n_pages\": , \"needsSubdivision\": },\\n    {\"title\": \"\", \"summary\": \"\", \"n_pages\": , \"needsSubdivision\": }\\n]\\n```\\n'\n",
      "\u001b[1m[\u001b[0m\n",
      "    \u001b[1m{\u001b[0m\n",
      "        \u001b[32m'title'\u001b[0m: \u001b[32m'Early Beginnings of Bengali Nationalism'\u001b[0m,\n",
      "        \u001b[32m'summary'\u001b[0m: \u001b[32m'This part explores the roots of Bengali nationalism in the 19th and early 20th centuries, \u001b[0m\n",
      "\u001b[32mincluding the influence of the Indian independence movement and the role of key figures such as Bankim Chandra \u001b[0m\n",
      "\u001b[32mChattopadhyay.'\u001b[0m,\n",
      "        \u001b[32m'n_pages'\u001b[0m: \u001b[1;36m0.8\u001b[0m,\n",
      "        \u001b[32m'needsSubdivision'\u001b[0m: \u001b[3;91mFalse\u001b[0m\n",
      "    \u001b[1m}\u001b[0m,\n",
      "    \u001b[1m{\u001b[0m\n",
      "        \u001b[32m'title'\u001b[0m: \u001b[32m'The Role of Rabindranath Tagore'\u001b[0m,\n",
      "        \u001b[32m'summary'\u001b[0m: \u001b[32m'This section delves into the life and works of Rabindranath Tagore, a prominent Bengali poet, \u001b[0m\n",
      "\u001b[32mphilosopher, and politician who played a significant role in shaping Bengali nationalism.'\u001b[0m,\n",
      "        \u001b[32m'n_pages'\u001b[0m: \u001b[1;36m0.1\u001b[0m,\n",
      "        \u001b[32m'needsSubdivision'\u001b[0m: \u001b[3;91mFalse\u001b[0m\n",
      "    \u001b[1m}\u001b[0m,\n",
      "    \u001b[1m{\u001b[0m\n",
      "        \u001b[32m'title'\u001b[0m: \u001b[32m'The Leadership of A.K. Fazlul Huq'\u001b[0m,\n",
      "        \u001b[32m'summary'\u001b[0m: \u001b[32m'This part examines the leadership of A.K. Fazlul Huq, a key figure in the Bengal National \u001b[0m\n",
      "\u001b[32mCongress and a prominent advocate for Bengali rights within the Indian Empire.'\u001b[0m,\n",
      "        \u001b[32m'n_pages'\u001b[0m: \u001b[1;36m0.1\u001b[0m,\n",
      "        \u001b[32m'needsSubdivision'\u001b[0m: \u001b[3;91mFalse\u001b[0m\n",
      "    \u001b[1m}\u001b[0m,\n",
      "    \u001b[1m{\u001b[0m\n",
      "        \u001b[32m'title'\u001b[0m: \u001b[32m'The Dhaka University Movement'\u001b[0m,\n",
      "        \u001b[32m'summary'\u001b[0m: \u001b[32m'This section discusses the role of the Dhaka University movement, a student-led movement that \u001b[0m\n",
      "\u001b[32memerged in the 1920s and played a significant role in galvanizing Bengali nationalism.'\u001b[0m,\n",
      "        \u001b[32m'n_pages'\u001b[0m: \u001b[1;36m0.1\u001b[0m,\n",
      "        \u001b[32m'needsSubdivision'\u001b[0m: \u001b[3;91mFalse\u001b[0m\n",
      "    \u001b[1m}\u001b[0m\n",
      "\u001b[1m]\u001b[0m\n"
     ]
    },
    {
     "data": {
      "text/html": [
       "<pre style=\"white-space:pre;overflow-x:auto;line-height:normal;font-family:Menlo,'DejaVu Sans Mono',consolas,'Courier New',monospace\"></pre>\n"
      ],
      "text/plain": []
     },
     "metadata": {},
     "output_type": "display_data"
    },
    {
     "name": "stdout",
     "output_type": "stream",
     "text": [
      "\u001b[1m{\u001b[0m\n",
      "    \u001b[32m'title'\u001b[0m: \u001b[32m'The Role of the Indian National Congress'\u001b[0m,\n",
      "    \u001b[32m'summary'\u001b[0m: \u001b[32m\"This chapter examines the role of the Indian National Congress in Bangladesh's struggle for \u001b[0m\n",
      "\u001b[32mindependence, including its impact on the country's politics and society.\"\u001b[0m,\n",
      "    \u001b[32m'n_pages'\u001b[0m: \u001b[1;36m1.0\u001b[0m,\n",
      "    \u001b[32m'needsSubdivision'\u001b[0m: \u001b[3;91mFalse\u001b[0m\n",
      "\u001b[1m}\u001b[0m\n"
     ]
    },
    {
     "data": {
      "text/html": [
       "<pre style=\"white-space:pre;overflow-x:auto;line-height:normal;font-family:Menlo,'DejaVu Sans Mono',consolas,'Courier New',monospace\"></pre>\n"
      ],
      "text/plain": []
     },
     "metadata": {},
     "output_type": "display_data"
    },
    {
     "name": "stdout",
     "output_type": "stream",
     "text": [
      "\u001b[1m{\u001b[0m\n",
      "    \u001b[32m'title'\u001b[0m: \u001b[32m'The Mass Uprising of 1952'\u001b[0m,\n",
      "    \u001b[32m'summary'\u001b[0m: \u001b[32m\"This chapter details the events surrounding the mass uprising of 1952, which marked a turning point\u001b[0m\n",
      "\u001b[32min Bangladesh's struggle for independence.\"\u001b[0m,\n",
      "    \u001b[32m'n_pages'\u001b[0m: \u001b[1;36m0.7\u001b[0m,\n",
      "    \u001b[32m'needsSubdivision'\u001b[0m: \u001b[3;92mTrue\u001b[0m\n",
      "\u001b[1m}\u001b[0m\n"
     ]
    },
    {
     "data": {
      "text/html": [
       "<pre style=\"white-space:pre;overflow-x:auto;line-height:normal;font-family:Menlo,'DejaVu Sans Mono',consolas,'Courier New',monospace\"></pre>\n"
      ],
      "text/plain": []
     },
     "metadata": {},
     "output_type": "display_data"
    },
    {
     "name": "stdout",
     "output_type": "stream",
     "text": [
      "Prompt text: text='\\nThe following content will be used to write a book.\\nA textbook on 1971 : Independence of Bangladesh\\nThe total number of pages in the book is 20, with an estimated 20 lines per page. Please write in a polite tone.\\nThe intended readers are as follows:\\n A fourth-year university student who is already familiar history of Indian subcontinent and has started research on Independence of Bangladesh.Additionally, please take the following into consideration:\\n Try to explain the concept based on factual data.\\nBased on the above information, I plan to create a book titled The Independence of Bangladesh: A Historical Perspective. The book summary is as follows:\\nThis textbook provides a comprehensive understanding of the independence movement in Bangladesh, covering its historical context, key events, and primary figures. The book aims to provide an in-depth analysis of the subject, focusing on verifiable facts and data. By exploring the complexities of the independence struggle, readers will gain a deeper understanding of the region\\'s history and its impact on contemporary politics. This textbook is designed for fourth-year university students with a background in the history of the Indian subcontinent, who are looking to expand their knowledge on this pivotal event. The primary objectives of this book are to provide an accurate account of historical events, to contextualize the independence movement within the broader framework of South Asian history, and to foster critical thinking and analysis among readers. The scope of the book encompasses the period from the early 20th century to the present day, with a focus on key figures, events, and ideologies that shaped Bangladesh\\'s struggle for independence. Through this text, readers will gain a nuanced understanding of the complex historical forces that led to the birth of Bangladesh as an independent nation.\\nFor the section on The Mass Uprising of 1952, I would like to create content across 0.7 pages, assuming 40 lines per page.\\nThe summary for this section is as follows:\\nThis chapter details the events surrounding the mass uprising of 1952, which marked a turning point in Bangladesh\\'s struggle for independence.\\nPlease divide this section into multiple parts and output the titles and summaries of each part in the following JSON format.\\nAlso, consider the page allocation for each part in units of 0.1, like 0.8 pages.\\nAdditionally, consider whether each part needs further division based on semantic cohesion (needsSubdivision) and answer true or false.\\nPlease avoid including section numbers in the titles. \\nPlease do not include any extra introductory or conclusory message outside the expected format.\\nEnclose the json content between ```json and ``` delimiters.\\n\\nThe output format should be strictly as follows:\\n\\n```json\\n[\\n    {\"title\": \"\", \"summary\": \"\", \"n_pages\": , \"needsSubdivision\": },\\n    {\"title\": \"\", \"summary\": \"\", \"n_pages\": , \"needsSubdivision\": }\\n]\\n```\\n'\n",
      "\u001b[1m[\u001b[0m\n",
      "    \u001b[1m{\u001b[0m\n",
      "        \u001b[32m'title'\u001b[0m: \u001b[32m'Background to the Uprising'\u001b[0m,\n",
      "        \u001b[32m'summary'\u001b[0m: \u001b[32m'This part sets the stage for the mass uprising of 1952 by providing an overview of the social, \u001b[0m\n",
      "\u001b[32meconomic, and political context of the time.'\u001b[0m,\n",
      "        \u001b[32m'n_pages'\u001b[0m: \u001b[1;36m0.8\u001b[0m,\n",
      "        \u001b[32m'needsSubdivision'\u001b[0m: \u001b[3;92mTrue\u001b[0m\n",
      "    \u001b[1m}\u001b[0m,\n",
      "    \u001b[1m{\u001b[0m\n",
      "        \u001b[32m'title'\u001b[0m: \u001b[32m'The Student Movement'\u001b[0m,\n",
      "        \u001b[32m'summary'\u001b[0m: \u001b[32m'This section delves into the student movement that played a significant role in the mass \u001b[0m\n",
      "\u001b[32muprising, including key events and figures.'\u001b[0m,\n",
      "        \u001b[32m'n_pages'\u001b[0m: \u001b[1;36m0.2\u001b[0m,\n",
      "        \u001b[32m'needsSubdivision'\u001b[0m: \u001b[3;91mFalse\u001b[0m\n",
      "    \u001b[1m}\u001b[0m,\n",
      "    \u001b[1m{\u001b[0m\n",
      "        \u001b[32m'title'\u001b[0m: \u001b[32m'The Gariahat Riot and its Aftermath'\u001b[0m,\n",
      "        \u001b[32m'summary'\u001b[0m: \u001b[32m'This part examines the Gariahat riot and its impact on the subsequent mass uprising, \u001b[0m\n",
      "\u001b[32mhighlighting key events and consequences.'\u001b[0m,\n",
      "        \u001b[32m'n_pages'\u001b[0m: \u001b[1;36m0.8\u001b[0m,\n",
      "        \u001b[32m'needsSubdivision'\u001b[0m: \u001b[3;92mTrue\u001b[0m\n",
      "    \u001b[1m}\u001b[0m\n",
      "\u001b[1m]\u001b[0m\n"
     ]
    },
    {
     "data": {
      "text/html": [
       "<pre style=\"white-space:pre;overflow-x:auto;line-height:normal;font-family:Menlo,'DejaVu Sans Mono',consolas,'Courier New',monospace\"></pre>\n"
      ],
      "text/plain": []
     },
     "metadata": {},
     "output_type": "display_data"
    },
    {
     "name": "stdout",
     "output_type": "stream",
     "text": [
      "\u001b[1m{\u001b[0m\n",
      "    \u001b[32m'title'\u001b[0m: \u001b[32m'The Role of Pakistan and the United States'\u001b[0m,\n",
      "    \u001b[32m'summary'\u001b[0m: \u001b[32m\"This chapter explores the role of Pakistan and the United States in Bangladesh's struggle for \u001b[0m\n",
      "\u001b[32mindependence, including their diplomatic and military interventions.\"\u001b[0m,\n",
      "    \u001b[32m'n_pages'\u001b[0m: \u001b[1;36m1.1\u001b[0m,\n",
      "    \u001b[32m'needsSubdivision'\u001b[0m: \u001b[3;91mFalse\u001b[0m\n",
      "\u001b[1m}\u001b[0m\n"
     ]
    },
    {
     "data": {
      "text/html": [
       "<pre style=\"white-space:pre;overflow-x:auto;line-height:normal;font-family:Menlo,'DejaVu Sans Mono',consolas,'Courier New',monospace\"></pre>\n"
      ],
      "text/plain": []
     },
     "metadata": {},
     "output_type": "display_data"
    },
    {
     "name": "stdout",
     "output_type": "stream",
     "text": [
      "\u001b[1m{\u001b[0m\n",
      "    \u001b[32m'title'\u001b[0m: \u001b[32m'The Final Years of Independence'\u001b[0m,\n",
      "    \u001b[32m'summary'\u001b[0m: \u001b[32m\"This chapter examines the final years of Bangladesh's struggle for independence, including the role\u001b[0m\n",
      "\u001b[32mof key figures such as Sheikh Mujibur Rahman and the eventual birth of Bangladesh in 1971.\"\u001b[0m,\n",
      "    \u001b[32m'n_pages'\u001b[0m: \u001b[1;36m0.9\u001b[0m,\n",
      "    \u001b[32m'needsSubdivision'\u001b[0m: \u001b[3;92mTrue\u001b[0m\n",
      "\u001b[1m}\u001b[0m\n"
     ]
    },
    {
     "data": {
      "text/html": [
       "<pre style=\"white-space:pre;overflow-x:auto;line-height:normal;font-family:Menlo,'DejaVu Sans Mono',consolas,'Courier New',monospace\"></pre>\n"
      ],
      "text/plain": []
     },
     "metadata": {},
     "output_type": "display_data"
    },
    {
     "name": "stdout",
     "output_type": "stream",
     "text": [
      "Prompt text: text='\\nThe following content will be used to write a book.\\nA textbook on 1971 : Independence of Bangladesh\\nThe total number of pages in the book is 20, with an estimated 20 lines per page. Please write in a polite tone.\\nThe intended readers are as follows:\\n A fourth-year university student who is already familiar history of Indian subcontinent and has started research on Independence of Bangladesh.Additionally, please take the following into consideration:\\n Try to explain the concept based on factual data.\\nBased on the above information, I plan to create a book titled The Independence of Bangladesh: A Historical Perspective. The book summary is as follows:\\nThis textbook provides a comprehensive understanding of the independence movement in Bangladesh, covering its historical context, key events, and primary figures. The book aims to provide an in-depth analysis of the subject, focusing on verifiable facts and data. By exploring the complexities of the independence struggle, readers will gain a deeper understanding of the region\\'s history and its impact on contemporary politics. This textbook is designed for fourth-year university students with a background in the history of the Indian subcontinent, who are looking to expand their knowledge on this pivotal event. The primary objectives of this book are to provide an accurate account of historical events, to contextualize the independence movement within the broader framework of South Asian history, and to foster critical thinking and analysis among readers. The scope of the book encompasses the period from the early 20th century to the present day, with a focus on key figures, events, and ideologies that shaped Bangladesh\\'s struggle for independence. Through this text, readers will gain a nuanced understanding of the complex historical forces that led to the birth of Bangladesh as an independent nation.\\nFor the section on The Final Years of Independence, I would like to create content across 0.9 pages, assuming 40 lines per page.\\nThe summary for this section is as follows:\\nThis chapter examines the final years of Bangladesh\\'s struggle for independence, including the role of key figures such as Sheikh Mujibur Rahman and the eventual birth of Bangladesh in 1971.\\nPlease divide this section into multiple parts and output the titles and summaries of each part in the following JSON format.\\nAlso, consider the page allocation for each part in units of 0.1, like 0.8 pages.\\nAdditionally, consider whether each part needs further division based on semantic cohesion (needsSubdivision) and answer true or false.\\nPlease avoid including section numbers in the titles. \\nPlease do not include any extra introductory or conclusory message outside the expected format.\\nEnclose the json content between ```json and ``` delimiters.\\n\\nThe output format should be strictly as follows:\\n\\n```json\\n[\\n    {\"title\": \"\", \"summary\": \"\", \"n_pages\": , \"needsSubdivision\": },\\n    {\"title\": \"\", \"summary\": \"\", \"n_pages\": , \"needsSubdivision\": }\\n]\\n```\\n'\n",
      "\u001b[1m[\u001b[0m\n",
      "    \u001b[1m{\u001b[0m\n",
      "        \u001b[32m'title'\u001b[0m: \u001b[32m'Early 1970s: The Turn of Events'\u001b[0m,\n",
      "        \u001b[32m'summary'\u001b[0m: \u001b[32m'The period from January to June 1971 saw a significant escalation in protests and \u001b[0m\n",
      "\u001b[32mdemonstrations across East Pakistan, with widespread strikes and marches drawing attention from international \u001b[0m\n",
      "\u001b[32mmedia.'\u001b[0m,\n",
      "        \u001b[32m'n_pages'\u001b[0m: \u001b[32m'0.8'\u001b[0m,\n",
      "        \u001b[32m'needsSubdivision'\u001b[0m: \u001b[3;91mFalse\u001b[0m\n",
      "    \u001b[1m}\u001b[0m,\n",
      "    \u001b[1m{\u001b[0m\n",
      "        \u001b[32m'title'\u001b[0m: \u001b[32m\"Mujib's Leadership and the Formation of Awami League\"\u001b[0m,\n",
      "        \u001b[32m'summary'\u001b[0m: \u001b[32m\"Sheikh Mujibur Rahman's leadership played a pivotal role in galvanizing opposition to \u001b[0m\n",
      "\u001b[32mPakistan's military regime, leading to the formation of the Awami League as a united front against government \u001b[0m\n",
      "\u001b[32mrepression.\"\u001b[0m,\n",
      "        \u001b[32m'n_pages'\u001b[0m: \u001b[32m'0.7'\u001b[0m,\n",
      "        \u001b[32m'needsSubdivision'\u001b[0m: \u001b[3;91mFalse\u001b[0m\n",
      "    \u001b[1m}\u001b[0m,\n",
      "    \u001b[1m{\u001b[0m\n",
      "        \u001b[32m'title'\u001b[0m: \u001b[32m'Pakistani Military Crackdown and Mass Exodus'\u001b[0m,\n",
      "        \u001b[32m'summary'\u001b[0m: \u001b[32m'In March 1971, Pakistani forces launched a brutal crackdown on protesters in East Pakistan, \u001b[0m\n",
      "\u001b[32mleading to the mass exodus of refugees into India and drawing international condemnation.'\u001b[0m,\n",
      "        \u001b[32m'n_pages'\u001b[0m: \u001b[32m'0.7'\u001b[0m,\n",
      "        \u001b[32m'needsSubdivision'\u001b[0m: \u001b[3;91mFalse\u001b[0m\n",
      "    \u001b[1m}\u001b[0m,\n",
      "    \u001b[1m{\u001b[0m\n",
      "        \u001b[32m'title'\u001b[0m: \u001b[32m\"India's Role in Supporting Bangladesh\"\u001b[0m,\n",
      "        \u001b[32m'summary'\u001b[0m: \u001b[32m\"India provided significant military and economic support to the Bangladeshi rebels, with Prime \u001b[0m\n",
      "\u001b[32mMinister Indira Gandhi playing a key role in galvanizing international opposition to Pakistan's actions.\"\u001b[0m,\n",
      "        \u001b[32m'n_pages'\u001b[0m: \u001b[32m'0.7'\u001b[0m,\n",
      "        \u001b[32m'needsSubdivision'\u001b[0m: \u001b[3;91mFalse\u001b[0m\n",
      "    \u001b[1m}\u001b[0m,\n",
      "    \u001b[1m{\u001b[0m\n",
      "        \u001b[32m'title'\u001b[0m: \u001b[32m'The 6 November 1971 Attack'\u001b[0m,\n",
      "        \u001b[32m'summary'\u001b[0m: \u001b[32m\"On 6 November 1971, Pakistani forces launched a surprise attack on the Bengali Army's \u001b[0m\n",
      "\u001b[32mheadquarters in Dacca, marking the beginning of full-scale conflict between the two sides.\"\u001b[0m,\n",
      "        \u001b[32m'n_pages'\u001b[0m: \u001b[32m'0.8'\u001b[0m,\n",
      "        \u001b[32m'needsSubdivision'\u001b[0m: \u001b[3;91mFalse\u001b[0m\n",
      "    \u001b[1m}\u001b[0m,\n",
      "    \u001b[1m{\u001b[0m\n",
      "        \u001b[32m'title'\u001b[0m: \u001b[32m'The Fall of Dhaka'\u001b[0m,\n",
      "        \u001b[32m'summary'\u001b[0m: \u001b[32m'On December 10-14, 1971, Pakistani forces captured Dhaka, but were soon to be driven out by \u001b[0m\n",
      "\u001b[32mIndian and Mukti Bahini forces in one of the most decisive battles of the war.'\u001b[0m,\n",
      "        \u001b[32m'n_pages'\u001b[0m: \u001b[32m'0.9'\u001b[0m,\n",
      "        \u001b[32m'needsSubdivision'\u001b[0m: \u001b[3;92mTrue\u001b[0m\n",
      "    \u001b[1m}\u001b[0m\n",
      "\u001b[1m]\u001b[0m\n"
     ]
    },
    {
     "data": {
      "text/html": [
       "<pre style=\"white-space:pre;overflow-x:auto;line-height:normal;font-family:Menlo,'DejaVu Sans Mono',consolas,'Courier New',monospace\"></pre>\n"
      ],
      "text/plain": []
     },
     "metadata": {},
     "output_type": "display_data"
    },
    {
     "name": "stdout",
     "output_type": "stream",
     "text": [
      "\u001b[1m{\u001b[0m\n",
      "    \u001b[32m'title'\u001b[0m: \u001b[32m'The Aftermath of Independence'\u001b[0m,\n",
      "    \u001b[32m'summary'\u001b[0m: \u001b[32m\"This chapter provides an overview of the impact of independence on Bangladesh's politics, society, \u001b[0m\n",
      "\u001b[32mand economy.\"\u001b[0m,\n",
      "    \u001b[32m'n_pages'\u001b[0m: \u001b[1;36m0.8\u001b[0m,\n",
      "    \u001b[32m'needsSubdivision'\u001b[0m: \u001b[3;91mFalse\u001b[0m\n",
      "\u001b[1m}\u001b[0m\n"
     ]
    },
    {
     "data": {
      "text/html": [
       "<pre style=\"white-space:pre;overflow-x:auto;line-height:normal;font-family:Menlo,'DejaVu Sans Mono',consolas,'Courier New',monospace\"></pre>\n"
      ],
      "text/plain": []
     },
     "metadata": {},
     "output_type": "display_data"
    },
    {
     "name": "stdout",
     "output_type": "stream",
     "text": [
      "\u001b[1m{\u001b[0m\n",
      "    \u001b[32m'title'\u001b[0m: \u001b[32m'Geographical Location and Boundaries'\u001b[0m,\n",
      "    \u001b[32m'summary'\u001b[0m: \u001b[32m\"This part explores Bangladesh's geographical location within South Asia, its boundaries, and \u001b[0m\n",
      "\u001b[32mnatural resources.\"\u001b[0m,\n",
      "    \u001b[32m'n_pages'\u001b[0m: \u001b[1;36m0.8\u001b[0m,\n",
      "    \u001b[32m'needsSubdivision'\u001b[0m: \u001b[3;91mFalse\u001b[0m\n",
      "\u001b[1m}\u001b[0m\n"
     ]
    },
    {
     "data": {
      "text/html": [
       "<pre style=\"white-space:pre;overflow-x:auto;line-height:normal;font-family:Menlo,'DejaVu Sans Mono',consolas,'Courier New',monospace\"></pre>\n"
      ],
      "text/plain": []
     },
     "metadata": {},
     "output_type": "display_data"
    },
    {
     "name": "stdout",
     "output_type": "stream",
     "text": [
      "\u001b[1m{\u001b[0m\n",
      "    \u001b[32m'title'\u001b[0m: \u001b[32m'Cultural Heritage: Pre-Colonial Period'\u001b[0m,\n",
      "    \u001b[32m'summary'\u001b[0m: \u001b[32m'This section delves into the rich cultural heritage of Bangladesh, including its ancient \u001b[0m\n",
      "\u001b[32mcivilizations, Islamic influence, and traditional customs.'\u001b[0m,\n",
      "    \u001b[32m'n_pages'\u001b[0m: \u001b[1;36m0.8\u001b[0m,\n",
      "    \u001b[32m'needsSubdivision'\u001b[0m: \u001b[3;91mFalse\u001b[0m\n",
      "\u001b[1m}\u001b[0m\n"
     ]
    },
    {
     "data": {
      "text/html": [
       "<pre style=\"white-space:pre;overflow-x:auto;line-height:normal;font-family:Menlo,'DejaVu Sans Mono',consolas,'Courier New',monospace\"></pre>\n"
      ],
      "text/plain": []
     },
     "metadata": {},
     "output_type": "display_data"
    },
    {
     "name": "stdout",
     "output_type": "stream",
     "text": [
      "\u001b[1m{\u001b[0m\n",
      "    \u001b[32m'title'\u001b[0m: \u001b[32m'Colonial Legacy: British Rule in Bengal'\u001b[0m,\n",
      "    \u001b[32m'summary'\u001b[0m: \u001b[32m'This part examines the impact of British colonial rule on Bangladesh, including economic \u001b[0m\n",
      "\u001b[32mexploitation, administrative divisions, and cultural suppression.'\u001b[0m,\n",
      "    \u001b[32m'n_pages'\u001b[0m: \u001b[1;36m0.8\u001b[0m,\n",
      "    \u001b[32m'needsSubdivision'\u001b[0m: \u001b[3;91mFalse\u001b[0m\n",
      "\u001b[1m}\u001b[0m\n"
     ]
    },
    {
     "data": {
      "text/html": [
       "<pre style=\"white-space:pre;overflow-x:auto;line-height:normal;font-family:Menlo,'DejaVu Sans Mono',consolas,'Courier New',monospace\"></pre>\n"
      ],
      "text/plain": []
     },
     "metadata": {},
     "output_type": "display_data"
    },
    {
     "name": "stdout",
     "output_type": "stream",
     "text": [
      "\u001b[1m{\u001b[0m\n",
      "    \u001b[32m'title'\u001b[0m: \u001b[32m'The Role of Islam in Shaping Modern Bangladesh'\u001b[0m,\n",
      "    \u001b[32m'summary'\u001b[0m: \u001b[32m\"This section analyzes the significance of Islam in shaping modern Bangladesh's identity, politics, \u001b[0m\n",
      "\u001b[32mand society.\"\u001b[0m,\n",
      "    \u001b[32m'n_pages'\u001b[0m: \u001b[1;36m0.4\u001b[0m,\n",
      "    \u001b[32m'needsSubdivision'\u001b[0m: \u001b[3;92mTrue\u001b[0m\n",
      "\u001b[1m}\u001b[0m\n"
     ]
    },
    {
     "data": {
      "text/html": [
       "<pre style=\"white-space:pre;overflow-x:auto;line-height:normal;font-family:Menlo,'DejaVu Sans Mono',consolas,'Courier New',monospace\"></pre>\n"
      ],
      "text/plain": []
     },
     "metadata": {},
     "output_type": "display_data"
    },
    {
     "name": "stdout",
     "output_type": "stream",
     "text": [
      "\u001b[1m{\u001b[0m\n",
      "    \u001b[32m'title'\u001b[0m: \u001b[32m'Early Beginnings of Bengali Nationalism'\u001b[0m,\n",
      "    \u001b[32m'summary'\u001b[0m: \u001b[32m'This part explores the roots of Bengali nationalism in the 19th and early 20th centuries, including\u001b[0m\n",
      "\u001b[32mthe influence of the Indian independence movement and the role of key figures such as Bankim Chandra \u001b[0m\n",
      "\u001b[32mChattopadhyay.'\u001b[0m,\n",
      "    \u001b[32m'n_pages'\u001b[0m: \u001b[1;36m0.8\u001b[0m,\n",
      "    \u001b[32m'needsSubdivision'\u001b[0m: \u001b[3;91mFalse\u001b[0m\n",
      "\u001b[1m}\u001b[0m\n"
     ]
    },
    {
     "data": {
      "text/html": [
       "<pre style=\"white-space:pre;overflow-x:auto;line-height:normal;font-family:Menlo,'DejaVu Sans Mono',consolas,'Courier New',monospace\"></pre>\n"
      ],
      "text/plain": []
     },
     "metadata": {},
     "output_type": "display_data"
    },
    {
     "name": "stdout",
     "output_type": "stream",
     "text": [
      "\u001b[1m{\u001b[0m\n",
      "    \u001b[32m'title'\u001b[0m: \u001b[32m'The Role of Rabindranath Tagore'\u001b[0m,\n",
      "    \u001b[32m'summary'\u001b[0m: \u001b[32m'This section delves into the life and works of Rabindranath Tagore, a prominent Bengali poet, \u001b[0m\n",
      "\u001b[32mphilosopher, and politician who played a significant role in shaping Bengali nationalism.'\u001b[0m,\n",
      "    \u001b[32m'n_pages'\u001b[0m: \u001b[1;36m0.1\u001b[0m,\n",
      "    \u001b[32m'needsSubdivision'\u001b[0m: \u001b[3;91mFalse\u001b[0m\n",
      "\u001b[1m}\u001b[0m\n"
     ]
    },
    {
     "data": {
      "text/html": [
       "<pre style=\"white-space:pre;overflow-x:auto;line-height:normal;font-family:Menlo,'DejaVu Sans Mono',consolas,'Courier New',monospace\"></pre>\n"
      ],
      "text/plain": []
     },
     "metadata": {},
     "output_type": "display_data"
    },
    {
     "name": "stdout",
     "output_type": "stream",
     "text": [
      "\u001b[1m{\u001b[0m\n",
      "    \u001b[32m'title'\u001b[0m: \u001b[32m'The Leadership of A.K. Fazlul Huq'\u001b[0m,\n",
      "    \u001b[32m'summary'\u001b[0m: \u001b[32m'This part examines the leadership of A.K. Fazlul Huq, a key figure in the Bengal National Congress \u001b[0m\n",
      "\u001b[32mand a prominent advocate for Bengali rights within the Indian Empire.'\u001b[0m,\n",
      "    \u001b[32m'n_pages'\u001b[0m: \u001b[1;36m0.1\u001b[0m,\n",
      "    \u001b[32m'needsSubdivision'\u001b[0m: \u001b[3;91mFalse\u001b[0m\n",
      "\u001b[1m}\u001b[0m\n"
     ]
    },
    {
     "data": {
      "text/html": [
       "<pre style=\"white-space:pre;overflow-x:auto;line-height:normal;font-family:Menlo,'DejaVu Sans Mono',consolas,'Courier New',monospace\"></pre>\n"
      ],
      "text/plain": []
     },
     "metadata": {},
     "output_type": "display_data"
    },
    {
     "name": "stdout",
     "output_type": "stream",
     "text": [
      "\u001b[1m{\u001b[0m\n",
      "    \u001b[32m'title'\u001b[0m: \u001b[32m'The Dhaka University Movement'\u001b[0m,\n",
      "    \u001b[32m'summary'\u001b[0m: \u001b[32m'This section discusses the role of the Dhaka University movement, a student-led movement that \u001b[0m\n",
      "\u001b[32memerged in the 1920s and played a significant role in galvanizing Bengali nationalism.'\u001b[0m,\n",
      "    \u001b[32m'n_pages'\u001b[0m: \u001b[1;36m0.1\u001b[0m,\n",
      "    \u001b[32m'needsSubdivision'\u001b[0m: \u001b[3;91mFalse\u001b[0m\n",
      "\u001b[1m}\u001b[0m\n"
     ]
    },
    {
     "data": {
      "text/html": [
       "<pre style=\"white-space:pre;overflow-x:auto;line-height:normal;font-family:Menlo,'DejaVu Sans Mono',consolas,'Courier New',monospace\"></pre>\n"
      ],
      "text/plain": []
     },
     "metadata": {},
     "output_type": "display_data"
    },
    {
     "name": "stdout",
     "output_type": "stream",
     "text": [
      "\u001b[1m{\u001b[0m\n",
      "    \u001b[32m'title'\u001b[0m: \u001b[32m'Background to the Uprising'\u001b[0m,\n",
      "    \u001b[32m'summary'\u001b[0m: \u001b[32m'This part sets the stage for the mass uprising of 1952 by providing an overview of the social, \u001b[0m\n",
      "\u001b[32meconomic, and political context of the time.'\u001b[0m,\n",
      "    \u001b[32m'n_pages'\u001b[0m: \u001b[1;36m0.8\u001b[0m,\n",
      "    \u001b[32m'needsSubdivision'\u001b[0m: \u001b[3;92mTrue\u001b[0m\n",
      "\u001b[1m}\u001b[0m\n"
     ]
    },
    {
     "data": {
      "text/html": [
       "<pre style=\"white-space:pre;overflow-x:auto;line-height:normal;font-family:Menlo,'DejaVu Sans Mono',consolas,'Courier New',monospace\"></pre>\n"
      ],
      "text/plain": []
     },
     "metadata": {},
     "output_type": "display_data"
    },
    {
     "name": "stdout",
     "output_type": "stream",
     "text": [
      "\u001b[1m{\u001b[0m\n",
      "    \u001b[32m'title'\u001b[0m: \u001b[32m'The Student Movement'\u001b[0m,\n",
      "    \u001b[32m'summary'\u001b[0m: \u001b[32m'This section delves into the student movement that played a significant role in the mass uprising, \u001b[0m\n",
      "\u001b[32mincluding key events and figures.'\u001b[0m,\n",
      "    \u001b[32m'n_pages'\u001b[0m: \u001b[1;36m0.2\u001b[0m,\n",
      "    \u001b[32m'needsSubdivision'\u001b[0m: \u001b[3;91mFalse\u001b[0m\n",
      "\u001b[1m}\u001b[0m\n"
     ]
    },
    {
     "data": {
      "text/html": [
       "<pre style=\"white-space:pre;overflow-x:auto;line-height:normal;font-family:Menlo,'DejaVu Sans Mono',consolas,'Courier New',monospace\"></pre>\n"
      ],
      "text/plain": []
     },
     "metadata": {},
     "output_type": "display_data"
    },
    {
     "name": "stdout",
     "output_type": "stream",
     "text": [
      "\u001b[1m{\u001b[0m\n",
      "    \u001b[32m'title'\u001b[0m: \u001b[32m'The Gariahat Riot and its Aftermath'\u001b[0m,\n",
      "    \u001b[32m'summary'\u001b[0m: \u001b[32m'This part examines the Gariahat riot and its impact on the subsequent mass uprising, highlighting \u001b[0m\n",
      "\u001b[32mkey events and consequences.'\u001b[0m,\n",
      "    \u001b[32m'n_pages'\u001b[0m: \u001b[1;36m0.8\u001b[0m,\n",
      "    \u001b[32m'needsSubdivision'\u001b[0m: \u001b[3;92mTrue\u001b[0m\n",
      "\u001b[1m}\u001b[0m\n"
     ]
    },
    {
     "data": {
      "text/html": [
       "<pre style=\"white-space:pre;overflow-x:auto;line-height:normal;font-family:Menlo,'DejaVu Sans Mono',consolas,'Courier New',monospace\"></pre>\n"
      ],
      "text/plain": []
     },
     "metadata": {},
     "output_type": "display_data"
    },
    {
     "name": "stdout",
     "output_type": "stream",
     "text": [
      "\u001b[1m{\u001b[0m\n",
      "    \u001b[32m'title'\u001b[0m: \u001b[32m'Early 1970s: The Turn of Events'\u001b[0m,\n",
      "    \u001b[32m'summary'\u001b[0m: \u001b[32m'The period from January to June 1971 saw a significant escalation in protests and demonstrations \u001b[0m\n",
      "\u001b[32macross East Pakistan, with widespread strikes and marches drawing attention from international media.'\u001b[0m,\n",
      "    \u001b[32m'n_pages'\u001b[0m: \u001b[32m'0.8'\u001b[0m,\n",
      "    \u001b[32m'needsSubdivision'\u001b[0m: \u001b[3;91mFalse\u001b[0m\n",
      "\u001b[1m}\u001b[0m\n"
     ]
    },
    {
     "data": {
      "text/html": [
       "<pre style=\"white-space:pre;overflow-x:auto;line-height:normal;font-family:Menlo,'DejaVu Sans Mono',consolas,'Courier New',monospace\"></pre>\n"
      ],
      "text/plain": []
     },
     "metadata": {},
     "output_type": "display_data"
    },
    {
     "name": "stdout",
     "output_type": "stream",
     "text": [
      "\u001b[1m{\u001b[0m\n",
      "    \u001b[32m'title'\u001b[0m: \u001b[32m\"Mujib's Leadership and the Formation of Awami League\"\u001b[0m,\n",
      "    \u001b[32m'summary'\u001b[0m: \u001b[32m\"Sheikh Mujibur Rahman's leadership played a pivotal role in galvanizing opposition to Pakistan's \u001b[0m\n",
      "\u001b[32mmilitary regime, leading to the formation of the Awami League as a united front against government repression.\"\u001b[0m,\n",
      "    \u001b[32m'n_pages'\u001b[0m: \u001b[32m'0.7'\u001b[0m,\n",
      "    \u001b[32m'needsSubdivision'\u001b[0m: \u001b[3;91mFalse\u001b[0m\n",
      "\u001b[1m}\u001b[0m\n"
     ]
    },
    {
     "data": {
      "text/html": [
       "<pre style=\"white-space:pre;overflow-x:auto;line-height:normal;font-family:Menlo,'DejaVu Sans Mono',consolas,'Courier New',monospace\"></pre>\n"
      ],
      "text/plain": []
     },
     "metadata": {},
     "output_type": "display_data"
    },
    {
     "name": "stdout",
     "output_type": "stream",
     "text": [
      "\u001b[1m{\u001b[0m\n",
      "    \u001b[32m'title'\u001b[0m: \u001b[32m'Pakistani Military Crackdown and Mass Exodus'\u001b[0m,\n",
      "    \u001b[32m'summary'\u001b[0m: \u001b[32m'In March 1971, Pakistani forces launched a brutal crackdown on protesters in East Pakistan, leading\u001b[0m\n",
      "\u001b[32mto the mass exodus of refugees into India and drawing international condemnation.'\u001b[0m,\n",
      "    \u001b[32m'n_pages'\u001b[0m: \u001b[32m'0.7'\u001b[0m,\n",
      "    \u001b[32m'needsSubdivision'\u001b[0m: \u001b[3;91mFalse\u001b[0m\n",
      "\u001b[1m}\u001b[0m\n"
     ]
    },
    {
     "data": {
      "text/html": [
       "<pre style=\"white-space:pre;overflow-x:auto;line-height:normal;font-family:Menlo,'DejaVu Sans Mono',consolas,'Courier New',monospace\"></pre>\n"
      ],
      "text/plain": []
     },
     "metadata": {},
     "output_type": "display_data"
    },
    {
     "name": "stdout",
     "output_type": "stream",
     "text": [
      "\u001b[1m{\u001b[0m\n",
      "    \u001b[32m'title'\u001b[0m: \u001b[32m\"India's Role in Supporting Bangladesh\"\u001b[0m,\n",
      "    \u001b[32m'summary'\u001b[0m: \u001b[32m\"India provided significant military and economic support to the Bangladeshi rebels, with Prime \u001b[0m\n",
      "\u001b[32mMinister Indira Gandhi playing a key role in galvanizing international opposition to Pakistan's actions.\"\u001b[0m,\n",
      "    \u001b[32m'n_pages'\u001b[0m: \u001b[32m'0.7'\u001b[0m,\n",
      "    \u001b[32m'needsSubdivision'\u001b[0m: \u001b[3;91mFalse\u001b[0m\n",
      "\u001b[1m}\u001b[0m\n"
     ]
    },
    {
     "data": {
      "text/html": [
       "<pre style=\"white-space:pre;overflow-x:auto;line-height:normal;font-family:Menlo,'DejaVu Sans Mono',consolas,'Courier New',monospace\"></pre>\n"
      ],
      "text/plain": []
     },
     "metadata": {},
     "output_type": "display_data"
    },
    {
     "name": "stdout",
     "output_type": "stream",
     "text": [
      "\u001b[1m{\u001b[0m\n",
      "    \u001b[32m'title'\u001b[0m: \u001b[32m'The 6 November 1971 Attack'\u001b[0m,\n",
      "    \u001b[32m'summary'\u001b[0m: \u001b[32m\"On 6 November 1971, Pakistani forces launched a surprise attack on the Bengali Army's headquarters \u001b[0m\n",
      "\u001b[32min Dacca, marking the beginning of full-scale conflict between the two sides.\"\u001b[0m,\n",
      "    \u001b[32m'n_pages'\u001b[0m: \u001b[32m'0.8'\u001b[0m,\n",
      "    \u001b[32m'needsSubdivision'\u001b[0m: \u001b[3;91mFalse\u001b[0m\n",
      "\u001b[1m}\u001b[0m\n"
     ]
    },
    {
     "data": {
      "text/html": [
       "<pre style=\"white-space:pre;overflow-x:auto;line-height:normal;font-family:Menlo,'DejaVu Sans Mono',consolas,'Courier New',monospace\"></pre>\n"
      ],
      "text/plain": []
     },
     "metadata": {},
     "output_type": "display_data"
    },
    {
     "name": "stdout",
     "output_type": "stream",
     "text": [
      "\u001b[1m{\u001b[0m\n",
      "    \u001b[32m'title'\u001b[0m: \u001b[32m'The Fall of Dhaka'\u001b[0m,\n",
      "    \u001b[32m'summary'\u001b[0m: \u001b[32m'On December 10-14, 1971, Pakistani forces captured Dhaka, but were soon to be driven out by Indian \u001b[0m\n",
      "\u001b[32mand Mukti Bahini forces in one of the most decisive battles of the war.'\u001b[0m,\n",
      "    \u001b[32m'n_pages'\u001b[0m: \u001b[32m'0.9'\u001b[0m,\n",
      "    \u001b[32m'needsSubdivision'\u001b[0m: \u001b[3;92mTrue\u001b[0m\n",
      "\u001b[1m}\u001b[0m\n"
     ]
    },
    {
     "data": {
      "text/html": [
       "<pre style=\"white-space:pre;overflow-x:auto;line-height:normal;font-family:Menlo,'DejaVu Sans Mono',consolas,'Courier New',monospace\"></pre>\n"
      ],
      "text/plain": []
     },
     "metadata": {},
     "output_type": "display_data"
    }
   ],
   "source": [
    "book_node = book_graph.nodes[book_node_name]\n",
    "next_parent_list = [book_node_name]\n",
    "\n",
    "for depth in range(max_depth):\n",
    "    parent_list = next_parent_list\n",
    "    next_parent_list = []\n",
    "    for parent_node_name in parent_list:\n",
    "        for _, child_node_name in enumerate(book_graph.successors(parent_node_name)):\n",
    "            parant_node = book_graph.nodes[parent_node_name]\n",
    "            child_node = book_graph.nodes[child_node_name]\n",
    "\n",
    "            view(child_node)\n",
    "\n",
    "            if (child_node[\"needsSubdivision\"] or float(child_node[\"n_pages\"]) >= max_output_pages) and depth < max_depth-1:\n",
    "\n",
    "                # Output by LLM\n",
    "                prompt = PromptTemplate.from_template(prompt_section_list_creation)\n",
    "                chain = prompt | (lambda x: log_prompt(x)) | llm\n",
    "\n",
    "                result = chain.invoke(\n",
    "                    {\n",
    "                        \"book_title\": book_node[\"title\"],\n",
    "                        \"book_summary\": book_node[\"summary\"],\n",
    "                        \"equation_frequency\": get_equation_frequency(book_graph.graph[\"equation_frequency_level\"]),\n",
    "                        \"target\": child_node[\"title\"],\n",
    "                        \"n_pages\": child_node[\"n_pages\"],\n",
    "                        \"section_summary\": child_node[\"summary\"]\n",
    "                    }\n",
    "                )\n",
    "\n",
    "                # Convert output to dictionary format\n",
    "                section_json = extract_section_list(result)\n",
    "                view(section_json)\n",
    "\n",
    "                # Create graph nodes and store results\n",
    "                if section_json:\n",
    "                    book_graph.add_nodes_from([(child_node_name + \"-\" + str(idx+1), grandchild) for idx, grandchild in enumerate(section_json)])\n",
    "                    book_graph.add_edges_from([(child_node_name, child_node_name + \"-\" + str(idx+1)) for idx in range(len(section_json))])\n",
    "\n",
    "                    # Only set as the next parent if subdivided\n",
    "                    next_parent_list.append(child_node_name)\n",
    "\n",
    "            elif depth == (max_depth-1) or (child_node and not child_node[\"needsSubdivision\"]):\n",
    "\n",
    "                # Create graph nodes and store results\n",
    "                book_graph.add_nodes_from([(child_node_name + \"-p\", {\"content_file_path\": child_node_name + \"-p.tex\"})])\n",
    "                book_graph.add_edges_from([(child_node_name, child_node_name + \"-p\")])\n",
    "\n",
    "            else:\n",
    "                print(\"Error: needsSubdivision attribute is not set\")"
   ]
  },
  {
   "cell_type": "markdown",
   "metadata": {
    "id": "zp4RAdzFe-LT"
   },
   "source": [
    "### 本文の内容の出力"
   ]
  },
  {
   "cell_type": "markdown",
   "metadata": {
    "id": "WaDh7M9IUY-j"
   },
   "source": [
    "#### 関数定義"
   ]
  },
  {
   "cell_type": "code",
   "execution_count": 33,
   "metadata": {
    "id": "X5V5j0SWUb_G"
   },
   "outputs": [],
   "source": [
    "def extract_content_list(string_list):\n",
    "    \"\"\"\n",
    "    This function extracts only the strings that match a specific pattern\n",
    "    (a combination of numbers and hyphens ending in '-p') from the input string_list\n",
    "    and returns them as a new list.\n",
    "    \"\"\"\n",
    "    pattern = r'(?:\\d+-)*\\d+-p'\n",
    "    return [s for s in string_list if re.match(pattern, s)]\n",
    "\n",
    "def custom_sort_key(s):\n",
    "    \"\"\"\n",
    "    This function splits the string s by the numerical parts,\n",
    "    converting them into a list of integers,\n",
    "    thereby generating a custom key for numerical sorting.\n",
    "    \"\"\"\n",
    "    parts = re.split(r'[-p]', s)\n",
    "    return [int(part) for part in parts if part != '']\n",
    "\n",
    "def sort_strings(string_list):\n",
    "    \"\"\"\n",
    "    This function sorts the input string_list using the custom key\n",
    "    defined by the custom_sort_key function and returns the sorted list.\n",
    "    \"\"\"\n",
    "    sorted_strings = sorted(string_list, key=custom_sort_key)\n",
    "    return sorted_strings\n",
    "\n",
    "def sort_leaf_nodes(book_graph):\n",
    "    \"\"\"\n",
    "    This function extracts the leaf nodes of book_graph based on a specific pattern\n",
    "    and returns a list sorted in numerical order.\n",
    "\n",
    "    Arguments:\n",
    "    - book_graph: A graph object with nodes labeled by strings\n",
    "\n",
    "    Returns:\n",
    "    - sorted_content_str_list: A sorted list of strings\n",
    "    \"\"\"\n",
    "    # Extract strings matching a specific pattern from the nodes of book_graph\n",
    "    content_str_list = extract_content_list(list(book_graph.nodes))\n",
    "\n",
    "    # Sort the extracted list of strings using a custom key\n",
    "    sorted_content_str_list = sort_strings(content_str_list)\n",
    "\n",
    "    return sorted_content_str_list\n",
    "\n",
    "def generate_outline(book_graph, book_node_name):\n",
    "    \"\"\"\n",
    "    A function to output the chapter structure to be considered for the main text output.\n",
    "    \"\"\"\n",
    "\n",
    "    toc_and_summary = \"The chapter structure of the book is as following.\\n\"\n",
    "\n",
    "    # Sort the leaf nodes with content in order\n",
    "    sorted_content_str_list = sort_leaf_nodes(book_graph)\n",
    "\n",
    "    # Create the table of contents\n",
    "    toc_and_summary += \"# \" + book_graph.nodes[book_node_name][\"title\"] + \"\\n\"\n",
    "    toc_and_summary += book_graph.nodes[book_node_name][\"summary\"] + \"\\n\"\n",
    "\n",
    "    for heading_number_str in sorted_content_str_list:\n",
    "        heading_number = custom_sort_key(heading_number_str)\n",
    "\n",
    "        # Chapter\n",
    "        if len(heading_number[1:]) == 0 or all(x == 1 for x in heading_number[1:]):\n",
    "            node_name = \"-\".join(map(str, heading_number[0:1]))\n",
    "            toc_and_summary += \"## \" + book_graph.nodes[node_name][\"title\"] + \"\\n\"\n",
    "            #toc_and_summary += book_graph.nodes[node_name][\"summary\"] + \"\\n\"\n",
    "\n",
    "        # Section\n",
    "        if (len(heading_number[2:]) == 0 and len(heading_number[:2]) > 1) or (len(heading_number[2:]) > 0 and all(x == 1 for x in heading_number[2:])):\n",
    "            node_name = \"-\".join(map(str, heading_number[0:2]))\n",
    "            toc_and_summary += \"### \" + book_graph.nodes[node_name][\"title\"] + \"\\n\"\n",
    "            #toc_and_summary += book_graph.nodes[node_name][\"summary\"] + \"\\n\"\n",
    "\n",
    "        # Subsection\n",
    "        if (len(heading_number[3:]) == 0 and len(heading_number[:3]) > 2) or (len(heading_number[3:]) > 0 and all(x == 1 for x in heading_number[3:])):\n",
    "            node_name = \"-\".join(map(str, heading_number[0:3]))\n",
    "            toc_and_summary += \"#### \" + book_graph.nodes[node_name][\"title\"] + \"\\n\"\n",
    "            #toc_and_summary += book_graph.nodes[node_name][\"summary\"] + \"\\n\"\n",
    "\n",
    "    return toc_and_summary\n",
    "\n",
    "def slide_list_with_new_title_and_content(title, summary, original_list):\n",
    "    # Create a shifted list, adding a new element (a dictionary with title and content) at the 0th position\n",
    "    slid_list = [{\"title\": title, \"summary\": summary}] + original_list[:-1]\n",
    "    return slid_list\n",
    "\n",
    "def generate_prompt_for_previous_sections(previous_sections_content_list, n_previous_sections):\n",
    "    \"\"\"\n",
    "    This function generates a prompt based on previous sections.\n",
    "    \"\"\"\n",
    "    prompt = \"\"\n",
    "\n",
    "    for i in range(n_previous_sections):\n",
    "        i_previous_section = previous_sections_content_list[i]\n",
    "        title = i_previous_section[\"title\"]\n",
    "        summary = i_previous_section[\"summary\"]\n",
    "        prompt += f\"Among those book outlines, lets assume, the previous section discussed in this book was titled with `{title}`, and the section summary was as follows: \\n{summary}\\n\"\n",
    "    return prompt"
   ]
  },
  {
   "cell_type": "markdown",
   "metadata": {
    "id": "panRk8LBUdHL"
   },
   "source": [
    "#### 本文出力"
   ]
  },
  {
   "cell_type": "code",
   "execution_count": null,
   "metadata": {
    "id": "YX1GXy4te-Z2",
    "scrolled": false
   },
   "outputs": [
    {
     "name": "stdout",
     "output_type": "stream",
     "text": [
      "Prompt text: text=\"\\nYou are an expert assistant for generating content of technical professional books. Please use the following topic to write a book:\\nA textbook on 1971 : Independence of Bangladesh\\n\\nThe total number of pages in the book is 20, with an estimated 20 lines per page. Please write in a polite tone.\\nThe intended readers are as follows:\\n A fourth-year university student who is already familiar history of Indian subcontinent and has started research on Independence of Bangladesh.Additionally, please take the following into consideration:\\n Try to explain the concept based on factual data.\\n\\nAs part of that, Now, you are writing the book of the title: The Independence of Bangladesh: A Historical Perspective and the summary of the book is as follows:\\nThis textbook provides a comprehensive understanding of the independence movement in Bangladesh, covering its historical context, key events, and primary figures. The book aims to provide an in-depth analysis of the subject, focusing on verifiable facts and data. By exploring the complexities of the independence struggle, readers will gain a deeper understanding of the region's history and its impact on contemporary politics. This textbook is designed for fourth-year university students with a background in the history of the Indian subcontinent, who are looking to expand their knowledge on this pivotal event. The primary objectives of this book are to provide an accurate account of historical events, to contextualize the independence movement within the broader framework of South Asian history, and to foster critical thinking and analysis among readers. The scope of the book encompasses the period from the early 20th century to the present day, with a focus on key figures, events, and ideologies that shaped Bangladesh's struggle for independence. Through this text, readers will gain a nuanced understanding of the complex historical forces that led to the birth of Bangladesh as an independent nation.\\n\\nThe chapter structure of the book is as following.\\n# The Independence of Bangladesh: A Historical Perspective\\nThis textbook provides a comprehensive understanding of the independence movement in Bangladesh, covering its historical context, key events, and primary figures. The book aims to provide an in-depth analysis of the subject, focusing on verifiable facts and data. By exploring the complexities of the independence struggle, readers will gain a deeper understanding of the region's history and its impact on contemporary politics. This textbook is designed for fourth-year university students with a background in the history of the Indian subcontinent, who are looking to expand their knowledge on this pivotal event. The primary objectives of this book are to provide an accurate account of historical events, to contextualize the independence movement within the broader framework of South Asian history, and to foster critical thinking and analysis among readers. The scope of the book encompasses the period from the early 20th century to the present day, with a focus on key figures, events, and ideologies that shaped Bangladesh's struggle for independence. Through this text, readers will gain a nuanced understanding of the complex historical forces that led to the birth of Bangladesh as an independent nation.\\n## The Historical Context of Bangladesh\\n### Geographical Location and Boundaries\\n### Cultural Heritage: Pre-Colonial Period\\n### Colonial Legacy: British Rule in Bengal\\n### The Role of Islam in Shaping Modern Bangladesh\\n## The Emergence of Bengali Nationalism\\n### Early Beginnings of Bengali Nationalism\\n### The Role of Rabindranath Tagore\\n### The Leadership of A.K. Fazlul Huq\\n### The Dhaka University Movement\\n## The Role of the Indian National Congress\\n## The Mass Uprising of 1952\\n### Background to the Uprising\\n### The Student Movement\\n### The Gariahat Riot and its Aftermath\\n## The Role of Pakistan and the United States\\n## The Final Years of Independence\\n### Early 1970s: The Turn of Events\\n### Mujib's Leadership and the Formation of Awami League\\n### Pakistani Military Crackdown and Mass Exodus\\n### India's Role in Supporting Bangladesh\\n### The 6 November 1971 Attack\\n### The Fall of Dhaka\\n## The Aftermath of Independence\\n\\n\\nAmong those book outlines, the previous section discussed in this book was titled with `None`, and its summary is as follows: \\nNone\\n.\\n\\nNow, I would like you to create LaTeX content for the current section on: Geographical Location and Boundaries, across 0.8 pages, assuming 20 lines per page. \\nConsider the summary for the current section whose content you will generate is as follows: This part explores Bangladesh's geographical location within South Asia, its boundaries, and natural resources.\\n\\nPlease output the content in the following format:\\n- Enclose the LaTeX content strictly between the delimiters `<|tex_start|>` and `<|tex_end|>`, as shown below:\\n    - The LaTeX content must **start** with `<|tex_start|>`.\\n    - The LaTeX content must **end** with `<|tex_end|>`.\\n- Do not include any other messages, comments, or text outside these delimiters.\\n- For equations, use the `equation` or `align` environment; do not use nested environments. Avoid enclosing `align` blocks within additional brackets (e.g., `\\\\[ ... \\\\]`).\\n- For programming code, use the `lstlisting` environment with the appropriate language option (e.g., `[language=Python]`).\\n- Escape all special characters (e.g., `#` as `\\\\#`, `%` as `\\\\%`, `_` as `\\\\_`, `&` as `\\\\&`, etc.) to ensure valid LaTeX.\\n- Do not include backtick sequences or any unrelated formatting not part of LaTeX syntax.\\n- Use the `<|tex_start|>` and `<|tex_end|>` delimiters **only once** in the output response: at the beginning and end of the whole LaTeX content.\\n\\nOutput format:\\n    <|tex_start|>\\n    Full LaTeX response.\\n    <|tex_end|>\\n\"\n",
      "\u001b[1m<\u001b[0m\u001b[1;95m|tex_start|\u001b[0m\u001b[39m>\u001b[0m\n",
      "\n",
      "\u001b[39m\\begin\u001b[0m\u001b[1;39m{\u001b[0m\u001b[39mdocument\u001b[0m\u001b[1;39m}\u001b[0m\n",
      "\n",
      "\u001b[39m\\section*\u001b[0m\u001b[1;39m{\u001b[0m\u001b[39mGeographical Location and Boundaries\u001b[0m\u001b[1;39m}\u001b[0m\n",
      "\n",
      "\u001b[39mBangladesh is a country located in South Asia, bordered by India to the west, north, and east, and Myanmar to the \u001b[0m\n",
      "\u001b[39msoutheast. The country has a total area of approximately \u001b[0m\u001b[1;36m147\u001b[0m\u001b[39m,\u001b[0m\u001b[1;36m570\u001b[0m\u001b[39m square kilometers \u001b[0m\u001b[1;39m(\u001b[0m\u001b[1;36m56\u001b[0m\u001b[39m,\u001b[0m\u001b[1;36m977\u001b[0m\u001b[39m square miles\u001b[0m\u001b[1;39m)\u001b[0m\u001b[39m, making it\u001b[0m\n",
      "\u001b[39mone of the smaller countries in the region.\u001b[0m\n",
      "\n",
      "\u001b[39mThe geographical boundaries of Bangladesh can be divided into three main regions: the deltaic plain, the hilly \u001b[0m\n",
      "\u001b[39mtract, and the Chittagong Hill Tract. The deltaic plain is the most densely populated region of the country, \u001b[0m\n",
      "\u001b[39mcovering about \u001b[0m\u001b[1;36m95\u001b[0m\u001b[39m\\% of its land area. It is characterized by vast expanses of rivers, wetlands, and fertile soil.\u001b[0m\n",
      "\n",
      "\u001b[39mThe hilly tract is located in the northeastern part of the country, covering an area of approximately \u001b[0m\u001b[1;36m10\u001b[0m\u001b[39m\\% of \u001b[0m\n",
      "\u001b[39mBangladesh's total territory. The Chittagong Hill Tract is a separate region located in the southeastern part of \u001b[0m\n",
      "\u001b[39mthe country, comprising seven ethnic groups and a diverse array of flora and fauna.\u001b[0m\n",
      "\n",
      "\u001b[39mBangladesh's natural resources are rich in water, fertile soil, and minerals. The country has an extensive \u001b[0m\n",
      "\u001b[39mcoastline along the Bay of Bengal, with over \u001b[0m\u001b[1;36m700\u001b[0m\u001b[39m kilometers \u001b[0m\u001b[1;39m(\u001b[0m\u001b[1;36m435\u001b[0m\u001b[39m miles\u001b[0m\u001b[1;39m)\u001b[0m\u001b[39m of shoreline. Its rivers, including the \u001b[0m\n",
      "\u001b[39mGanges, Brahmaputra, and Meghna, support agriculture, industry, and urban centers.\u001b[0m\n",
      "\n",
      "\u001b[39mThe country's geographical location and boundaries have played a significant role in shaping its history, culture, \u001b[0m\n",
      "\u001b[39mand economy. The strategic position of Bangladesh at the crossroads of Asia has made it an important center for \u001b[0m\n",
      "\u001b[39mtrade, commerce, and cultural exchange.\u001b[0m\n",
      "\n",
      "\u001b[39m\\end\u001b[0m\u001b[1;39m{\u001b[0m\u001b[39mdocument\u001b[0m\u001b[1;39m}\u001b[0m\n",
      "\n",
      "\u001b[39m<|tex_end|\u001b[0m\u001b[1m>\u001b[0m\n"
     ]
    },
    {
     "data": {
      "text/html": [
       "<pre style=\"white-space:pre;overflow-x:auto;line-height:normal;font-family:Menlo,'DejaVu Sans Mono',consolas,'Courier New',monospace\"></pre>\n"
      ],
      "text/plain": []
     },
     "metadata": {},
     "output_type": "display_data"
    },
    {
     "name": "stdout",
     "output_type": "stream",
     "text": [
      "Prompt text: text=\"\\nYou are an expert assistant for generating content of technical professional books. Please use the following topic to write a book:\\nA textbook on 1971 : Independence of Bangladesh\\n\\nThe total number of pages in the book is 20, with an estimated 20 lines per page. Please write in a polite tone.\\nThe intended readers are as follows:\\n A fourth-year university student who is already familiar history of Indian subcontinent and has started research on Independence of Bangladesh.Additionally, please take the following into consideration:\\n Try to explain the concept based on factual data.\\n\\nAs part of that, Now, you are writing the book of the title: The Independence of Bangladesh: A Historical Perspective and the summary of the book is as follows:\\nThis textbook provides a comprehensive understanding of the independence movement in Bangladesh, covering its historical context, key events, and primary figures. The book aims to provide an in-depth analysis of the subject, focusing on verifiable facts and data. By exploring the complexities of the independence struggle, readers will gain a deeper understanding of the region's history and its impact on contemporary politics. This textbook is designed for fourth-year university students with a background in the history of the Indian subcontinent, who are looking to expand their knowledge on this pivotal event. The primary objectives of this book are to provide an accurate account of historical events, to contextualize the independence movement within the broader framework of South Asian history, and to foster critical thinking and analysis among readers. The scope of the book encompasses the period from the early 20th century to the present day, with a focus on key figures, events, and ideologies that shaped Bangladesh's struggle for independence. Through this text, readers will gain a nuanced understanding of the complex historical forces that led to the birth of Bangladesh as an independent nation.\\n\\nThe chapter structure of the book is as following.\\n# The Independence of Bangladesh: A Historical Perspective\\nThis textbook provides a comprehensive understanding of the independence movement in Bangladesh, covering its historical context, key events, and primary figures. The book aims to provide an in-depth analysis of the subject, focusing on verifiable facts and data. By exploring the complexities of the independence struggle, readers will gain a deeper understanding of the region's history and its impact on contemporary politics. This textbook is designed for fourth-year university students with a background in the history of the Indian subcontinent, who are looking to expand their knowledge on this pivotal event. The primary objectives of this book are to provide an accurate account of historical events, to contextualize the independence movement within the broader framework of South Asian history, and to foster critical thinking and analysis among readers. The scope of the book encompasses the period from the early 20th century to the present day, with a focus on key figures, events, and ideologies that shaped Bangladesh's struggle for independence. Through this text, readers will gain a nuanced understanding of the complex historical forces that led to the birth of Bangladesh as an independent nation.\\n## The Historical Context of Bangladesh\\n### Geographical Location and Boundaries\\n### Cultural Heritage: Pre-Colonial Period\\n### Colonial Legacy: British Rule in Bengal\\n### The Role of Islam in Shaping Modern Bangladesh\\n## The Emergence of Bengali Nationalism\\n### Early Beginnings of Bengali Nationalism\\n### The Role of Rabindranath Tagore\\n### The Leadership of A.K. Fazlul Huq\\n### The Dhaka University Movement\\n## The Role of the Indian National Congress\\n## The Mass Uprising of 1952\\n### Background to the Uprising\\n### The Student Movement\\n### The Gariahat Riot and its Aftermath\\n## The Role of Pakistan and the United States\\n## The Final Years of Independence\\n### Early 1970s: The Turn of Events\\n### Mujib's Leadership and the Formation of Awami League\\n### Pakistani Military Crackdown and Mass Exodus\\n### India's Role in Supporting Bangladesh\\n### The 6 November 1971 Attack\\n### The Fall of Dhaka\\n## The Aftermath of Independence\\n\\n\\nAmong those book outlines, the previous section discussed in this book was titled with `Geographical Location and Boundaries`, and its summary is as follows: \\nThis part explores Bangladesh's geographical location within South Asia, its boundaries, and natural resources.\\n.\\n\\nNow, I would like you to create LaTeX content for the current section on: Cultural Heritage: Pre-Colonial Period, across 0.8 pages, assuming 20 lines per page. \\nConsider the summary for the current section whose content you will generate is as follows: This section delves into the rich cultural heritage of Bangladesh, including its ancient civilizations, Islamic influence, and traditional customs.\\n\\nPlease output the content in the following format:\\n- Enclose the LaTeX content strictly between the delimiters `<|tex_start|>` and `<|tex_end|>`, as shown below:\\n    - The LaTeX content must **start** with `<|tex_start|>`.\\n    - The LaTeX content must **end** with `<|tex_end|>`.\\n- Do not include any other messages, comments, or text outside these delimiters.\\n- For equations, use the `equation` or `align` environment; do not use nested environments. Avoid enclosing `align` blocks within additional brackets (e.g., `\\\\[ ... \\\\]`).\\n- For programming code, use the `lstlisting` environment with the appropriate language option (e.g., `[language=Python]`).\\n- Escape all special characters (e.g., `#` as `\\\\#`, `%` as `\\\\%`, `_` as `\\\\_`, `&` as `\\\\&`, etc.) to ensure valid LaTeX.\\n- Do not include backtick sequences or any unrelated formatting not part of LaTeX syntax.\\n- Use the `<|tex_start|>` and `<|tex_end|>` delimiters **only once** in the output response: at the beginning and end of the whole LaTeX content.\\n\\nOutput format:\\n    <|tex_start|>\\n    Full LaTeX response.\\n    <|tex_end|>\\n\"\n",
      "\u001b[1m<\u001b[0m\u001b[1;95m|tex_start|\u001b[0m\u001b[39m>\u001b[0m\n",
      "\n",
      "\u001b[39m\\ chapter\u001b[0m\u001b[1;39m{\u001b[0m\u001b[39mCultural Heritage: Pre-Colonial Period\u001b[0m\u001b[1;39m}\u001b[0m\n",
      "\n",
      "\u001b[39mThe cultural heritage of Bangladesh is rich and diverse, spanning thousands of years. The ancient civilizations of \u001b[0m\n",
      "\u001b[39mBengal, including the Mauryan Empire and the Gupta Empire, left an indelible mark on the region's culture.\u001b[0m\n",
      "\n",
      "\u001b[39mIslamic influence also played a significant role in shaping Bangladeshi culture. The arrival of Islam in the 12th \u001b[0m\n",
      "\u001b[39mcentury CE brought new customs, traditions, and architectural styles to the region.\u001b[0m\n",
      "\n",
      "\u001b[39mTraditional customs such as the marriage ceremony, known as \u001b[0m\u001b[32m\"mohajot\"\u001b[0m\u001b[39m, and the festival of \u001b[0m\u001b[32m\"Pohela Boishakh\"\u001b[0m\u001b[39m are \u001b[0m\n",
      "\u001b[39mstill observed today. The traditional dress of Bangladesh, known as \u001b[0m\u001b[32m\"shari\"\u001b[0m\u001b[39m, is also an important part of the \u001b[0m\n",
      "\u001b[39mcountry's cultural heritage.\u001b[0m\n",
      "\n",
      "\u001b[39mThe Bengali language, which is spoken by over \u001b[0m\u001b[1;36m100\u001b[0m\u001b[39m million people, has a rich literary tradition that dates back to \u001b[0m\n",
      "\u001b[39mthe 12th century CE. Famous poets such as Rabindranath Tagore and Kazi Nazrul Islam have made significant \u001b[0m\n",
      "\u001b[39mcontributions to Bangladeshi literature.\u001b[0m\n",
      "\n",
      "\u001b[39m\\begin\u001b[0m\u001b[1;39m{\u001b[0m\u001b[39mfigure\u001b[0m\u001b[1;39m}\u001b[0m\n",
      "\u001b[39m    \\centering\u001b[0m\n",
      "\u001b[39m    \\includegraphics\u001b[0m\u001b[1;39m{\u001b[0m\u001b[39mbangladeshi-culture\u001b[0m\u001b[1;39m}\u001b[0m\n",
      "\u001b[39m    \\caption\u001b[0m\u001b[1;39m{\u001b[0m\u001b[39mTraditional Bengali attire\u001b[0m\u001b[1;39m}\u001b[0m\n",
      "\u001b[39m\\end\u001b[0m\u001b[1;39m{\u001b[0m\u001b[39mfigure\u001b[0m\u001b[1;39m}\u001b[0m\n",
      "\n",
      "\u001b[39mThe traditional music and dance of Bangladesh, such as the \u001b[0m\u001b[32m\"Baul\"\u001b[0m\u001b[39m and \u001b[0m\u001b[32m\"Ghazal\"\u001b[0m\u001b[39m, are also an important part of the \u001b[0m\n",
      "\u001b[39mcountry's cultural heritage.\u001b[0m\n",
      "\n",
      "\u001b[39mIn conclusion, the cultural heritage of Bangladesh is a rich and diverse tapestry that reflects the country's \u001b[0m\n",
      "\u001b[39mcomplex history and cultural influences.\u001b[0m\n",
      "\n",
      "\u001b[39m\\end\u001b[0m\u001b[1;39m{\u001b[0m\u001b[39mchapter\u001b[0m\u001b[1;39m}\u001b[0m\n",
      "\n",
      "\u001b[39m<|tex_end|\u001b[0m\u001b[1m>\u001b[0m\n"
     ]
    },
    {
     "data": {
      "text/html": [
       "<pre style=\"white-space:pre;overflow-x:auto;line-height:normal;font-family:Menlo,'DejaVu Sans Mono',consolas,'Courier New',monospace\"></pre>\n"
      ],
      "text/plain": []
     },
     "metadata": {},
     "output_type": "display_data"
    },
    {
     "name": "stdout",
     "output_type": "stream",
     "text": [
      "Prompt text: text=\"\\nYou are an expert assistant for generating content of technical professional books. Please use the following topic to write a book:\\nA textbook on 1971 : Independence of Bangladesh\\n\\nThe total number of pages in the book is 20, with an estimated 20 lines per page. Please write in a polite tone.\\nThe intended readers are as follows:\\n A fourth-year university student who is already familiar history of Indian subcontinent and has started research on Independence of Bangladesh.Additionally, please take the following into consideration:\\n Try to explain the concept based on factual data.\\n\\nAs part of that, Now, you are writing the book of the title: The Independence of Bangladesh: A Historical Perspective and the summary of the book is as follows:\\nThis textbook provides a comprehensive understanding of the independence movement in Bangladesh, covering its historical context, key events, and primary figures. The book aims to provide an in-depth analysis of the subject, focusing on verifiable facts and data. By exploring the complexities of the independence struggle, readers will gain a deeper understanding of the region's history and its impact on contemporary politics. This textbook is designed for fourth-year university students with a background in the history of the Indian subcontinent, who are looking to expand their knowledge on this pivotal event. The primary objectives of this book are to provide an accurate account of historical events, to contextualize the independence movement within the broader framework of South Asian history, and to foster critical thinking and analysis among readers. The scope of the book encompasses the period from the early 20th century to the present day, with a focus on key figures, events, and ideologies that shaped Bangladesh's struggle for independence. Through this text, readers will gain a nuanced understanding of the complex historical forces that led to the birth of Bangladesh as an independent nation.\\n\\nThe chapter structure of the book is as following.\\n# The Independence of Bangladesh: A Historical Perspective\\nThis textbook provides a comprehensive understanding of the independence movement in Bangladesh, covering its historical context, key events, and primary figures. The book aims to provide an in-depth analysis of the subject, focusing on verifiable facts and data. By exploring the complexities of the independence struggle, readers will gain a deeper understanding of the region's history and its impact on contemporary politics. This textbook is designed for fourth-year university students with a background in the history of the Indian subcontinent, who are looking to expand their knowledge on this pivotal event. The primary objectives of this book are to provide an accurate account of historical events, to contextualize the independence movement within the broader framework of South Asian history, and to foster critical thinking and analysis among readers. The scope of the book encompasses the period from the early 20th century to the present day, with a focus on key figures, events, and ideologies that shaped Bangladesh's struggle for independence. Through this text, readers will gain a nuanced understanding of the complex historical forces that led to the birth of Bangladesh as an independent nation.\\n## The Historical Context of Bangladesh\\n### Geographical Location and Boundaries\\n### Cultural Heritage: Pre-Colonial Period\\n### Colonial Legacy: British Rule in Bengal\\n### The Role of Islam in Shaping Modern Bangladesh\\n## The Emergence of Bengali Nationalism\\n### Early Beginnings of Bengali Nationalism\\n### The Role of Rabindranath Tagore\\n### The Leadership of A.K. Fazlul Huq\\n### The Dhaka University Movement\\n## The Role of the Indian National Congress\\n## The Mass Uprising of 1952\\n### Background to the Uprising\\n### The Student Movement\\n### The Gariahat Riot and its Aftermath\\n## The Role of Pakistan and the United States\\n## The Final Years of Independence\\n### Early 1970s: The Turn of Events\\n### Mujib's Leadership and the Formation of Awami League\\n### Pakistani Military Crackdown and Mass Exodus\\n### India's Role in Supporting Bangladesh\\n### The 6 November 1971 Attack\\n### The Fall of Dhaka\\n## The Aftermath of Independence\\n\\n\\nAmong those book outlines, the previous section discussed in this book was titled with `Cultural Heritage: Pre-Colonial Period`, and its summary is as follows: \\nThis section delves into the rich cultural heritage of Bangladesh, including its ancient civilizations, Islamic influence, and traditional customs.\\n.\\n\\nNow, I would like you to create LaTeX content for the current section on: Colonial Legacy: British Rule in Bengal, across 0.8 pages, assuming 20 lines per page. \\nConsider the summary for the current section whose content you will generate is as follows: This part examines the impact of British colonial rule on Bangladesh, including economic exploitation, administrative divisions, and cultural suppression.\\n\\nPlease output the content in the following format:\\n- Enclose the LaTeX content strictly between the delimiters `<|tex_start|>` and `<|tex_end|>`, as shown below:\\n    - The LaTeX content must **start** with `<|tex_start|>`.\\n    - The LaTeX content must **end** with `<|tex_end|>`.\\n- Do not include any other messages, comments, or text outside these delimiters.\\n- For equations, use the `equation` or `align` environment; do not use nested environments. Avoid enclosing `align` blocks within additional brackets (e.g., `\\\\[ ... \\\\]`).\\n- For programming code, use the `lstlisting` environment with the appropriate language option (e.g., `[language=Python]`).\\n- Escape all special characters (e.g., `#` as `\\\\#`, `%` as `\\\\%`, `_` as `\\\\_`, `&` as `\\\\&`, etc.) to ensure valid LaTeX.\\n- Do not include backtick sequences or any unrelated formatting not part of LaTeX syntax.\\n- Use the `<|tex_start|>` and `<|tex_end|>` delimiters **only once** in the output response: at the beginning and end of the whole LaTeX content.\\n\\nOutput format:\\n    <|tex_start|>\\n    Full LaTeX response.\\n    <|tex_end|>\\n\"\n",
      "\u001b[1m<\u001b[0m\u001b[1;95m|tex_start|\u001b[0m\u001b[39m>\u001b[0m\n",
      "\n",
      "\u001b[39m\\Chapter\u001b[0m\u001b[1;39m{\u001b[0m\u001b[39mColonial Legacy: British Rule in Bengal\u001b[0m\u001b[1;39m}\u001b[0m\n",
      "\n",
      "\u001b[39mThe impact of British colonial rule on Bangladesh was profound, with far-reaching consequences for the country's \u001b[0m\n",
      "\u001b[39meconomy, administration, and culture.\u001b[0m\n",
      "\n",
      "\u001b[39m\\subsection\u001b[0m\u001b[1;39m{\u001b[0m\u001b[39mEconomic Exploitation\u001b[0m\u001b[1;39m}\u001b[0m\n",
      "\u001b[39mBritish rule in Bengal marked the beginning of a period of intense economic exploitation. The British East India \u001b[0m\n",
      "\u001b[39mCompany, which had been granted a royal charter by Queen Elizabeth I in \u001b[0m\u001b[1;36m1600\u001b[0m\u001b[39m, sought to maximize its profits by \u001b[0m\n",
      "\u001b[39mextracting as much wealth as possible from the region. This led to the exploitation of Bangladesh's natural \u001b[0m\n",
      "\u001b[39mresources, including tea, jute, and cotton.\u001b[0m\n",
      "\n",
      "\u001b[39m\\begin\u001b[0m\u001b[1;39m{\u001b[0m\u001b[39mequation\u001b[0m\u001b[1;39m}\u001b[0m\n",
      "\u001b[39m\\text\u001b[0m\u001b[1;39m{\u001b[0m\u001b[39mBritish colonial rule in Bengal was characterized by intense economic exploitation. The British East India \u001b[0m\n",
      "\u001b[39mCompany extracted vast amounts of wealth from the region.\u001b[0m\u001b[1;39m}\u001b[0m\n",
      "\u001b[39m\\end\u001b[0m\u001b[1;39m{\u001b[0m\u001b[39mequation\u001b[0m\u001b[1;39m}\u001b[0m\n",
      "\n",
      "\u001b[39mThe British also imposed heavy taxes on the Bengali population, which further exacerbated the economic hardship \u001b[0m\n",
      "\u001b[39mfaced by the region.\u001b[0m\n",
      "\n",
      "\u001b[39m\\subsection\u001b[0m\u001b[1;39m{\u001b[0m\u001b[39mAdministrative Divisions\u001b[0m\u001b[1;39m}\u001b[0m\n",
      "\u001b[39mBritish rule in Bengal also had a profound impact on the country's administrative divisions. The British divided \u001b[0m\n",
      "\u001b[39mBengal into several districts, each with its own administration and taxation system. This led to the creation of a \u001b[0m\n",
      "\u001b[39mcomplex bureaucracy that was difficult for the Bengali people to navigate.\u001b[0m\n",
      "\n",
      "\u001b[39m\\begin\u001b[0m\u001b[1;39m{\u001b[0m\u001b[39malign\u001b[0m\u001b[1;39m}\u001b[0m\n",
      "\u001b[39m\\text\u001b[0m\u001b[1;39m{\u001b[0m\u001b[39mThe British established the District Council System in Bengal, which created a complex bureaucracy.\u001b[0m\u001b[1;39m}\u001b[0m\u001b[39m\\\\\u001b[0m\n",
      "\u001b[39m&\\text\u001b[0m\u001b[1;39m{\u001b[0m\u001b[39mEach district had its own administration and taxation system.\u001b[0m\u001b[1;39m}\u001b[0m\u001b[39m\\\\\u001b[0m\n",
      "\u001b[39m&\\text\u001b[0m\u001b[1;39m{\u001b[0m\u001b[39mThis led to difficulties for the Bengali people in understanding and navigating the bureaucratic system.\u001b[0m\u001b[1;39m}\u001b[0m\u001b[39m\\\\\u001b[0m\n",
      "\u001b[39m\\end\u001b[0m\u001b[1;39m{\u001b[0m\u001b[39malign\u001b[0m\u001b[1;39m}\u001b[0m\n",
      "\n",
      "\u001b[39m\\subsection\u001b[0m\u001b[1;39m{\u001b[0m\u001b[39mCultural Suppression\u001b[0m\u001b[1;39m}\u001b[0m\n",
      "\u001b[39mBritish rule in Bengal also had a significant impact on the country's culture. The British sought to suppress \u001b[0m\n",
      "\u001b[39mBengali culture and impose their own language, English, as the dominant form of communication.\u001b[0m\n",
      "\n",
      "\u001b[39m\\begin\u001b[0m\u001b[1;39m{\u001b[0m\u001b[39mequation\u001b[0m\u001b[1;39m}\u001b[0m\n",
      "\u001b[39m\\text\u001b[0m\u001b[1;39m{\u001b[0m\u001b[39mThe British suppressed Bengali culture by imposing English as the dominant language.\u001b[0m\u001b[1;39m}\u001b[0m\u001b[39m\\\\\u001b[0m\n",
      "\u001b[39m\\text\u001b[0m\u001b[1;39m{\u001b[0m\u001b[39mThis led to a decline in the use of Bengali as a spoken language.\u001b[0m\u001b[1;39m}\u001b[0m\u001b[39m\\\\\u001b[0m\n",
      "\u001b[39m\\end\u001b[0m\u001b[1;39m{\u001b[0m\u001b[39mequation\u001b[0m\u001b[1;39m}\u001b[0m\n",
      "\n",
      "\u001b[39mIn conclusion, the impact of British colonial rule on Bangladesh was profound and far-reaching. The country's \u001b[0m\n",
      "\u001b[39meconomy, administration, and culture were all affected by the British policies, which had a lasting impact on the \u001b[0m\n",
      "\u001b[39mregion.\u001b[0m\n",
      "\n",
      "\u001b[39m<|tex_end|\u001b[0m\u001b[1m>\u001b[0m\n"
     ]
    },
    {
     "data": {
      "text/html": [
       "<pre style=\"white-space:pre;overflow-x:auto;line-height:normal;font-family:Menlo,'DejaVu Sans Mono',consolas,'Courier New',monospace\"></pre>\n"
      ],
      "text/plain": []
     },
     "metadata": {},
     "output_type": "display_data"
    },
    {
     "name": "stdout",
     "output_type": "stream",
     "text": [
      "Prompt text: text=\"\\nYou are an expert assistant for generating content of technical professional books. Please use the following topic to write a book:\\nA textbook on 1971 : Independence of Bangladesh\\n\\nThe total number of pages in the book is 20, with an estimated 20 lines per page. Please write in a polite tone.\\nThe intended readers are as follows:\\n A fourth-year university student who is already familiar history of Indian subcontinent and has started research on Independence of Bangladesh.Additionally, please take the following into consideration:\\n Try to explain the concept based on factual data.\\n\\nAs part of that, Now, you are writing the book of the title: The Independence of Bangladesh: A Historical Perspective and the summary of the book is as follows:\\nThis textbook provides a comprehensive understanding of the independence movement in Bangladesh, covering its historical context, key events, and primary figures. The book aims to provide an in-depth analysis of the subject, focusing on verifiable facts and data. By exploring the complexities of the independence struggle, readers will gain a deeper understanding of the region's history and its impact on contemporary politics. This textbook is designed for fourth-year university students with a background in the history of the Indian subcontinent, who are looking to expand their knowledge on this pivotal event. The primary objectives of this book are to provide an accurate account of historical events, to contextualize the independence movement within the broader framework of South Asian history, and to foster critical thinking and analysis among readers. The scope of the book encompasses the period from the early 20th century to the present day, with a focus on key figures, events, and ideologies that shaped Bangladesh's struggle for independence. Through this text, readers will gain a nuanced understanding of the complex historical forces that led to the birth of Bangladesh as an independent nation.\\n\\nThe chapter structure of the book is as following.\\n# The Independence of Bangladesh: A Historical Perspective\\nThis textbook provides a comprehensive understanding of the independence movement in Bangladesh, covering its historical context, key events, and primary figures. The book aims to provide an in-depth analysis of the subject, focusing on verifiable facts and data. By exploring the complexities of the independence struggle, readers will gain a deeper understanding of the region's history and its impact on contemporary politics. This textbook is designed for fourth-year university students with a background in the history of the Indian subcontinent, who are looking to expand their knowledge on this pivotal event. The primary objectives of this book are to provide an accurate account of historical events, to contextualize the independence movement within the broader framework of South Asian history, and to foster critical thinking and analysis among readers. The scope of the book encompasses the period from the early 20th century to the present day, with a focus on key figures, events, and ideologies that shaped Bangladesh's struggle for independence. Through this text, readers will gain a nuanced understanding of the complex historical forces that led to the birth of Bangladesh as an independent nation.\\n## The Historical Context of Bangladesh\\n### Geographical Location and Boundaries\\n### Cultural Heritage: Pre-Colonial Period\\n### Colonial Legacy: British Rule in Bengal\\n### The Role of Islam in Shaping Modern Bangladesh\\n## The Emergence of Bengali Nationalism\\n### Early Beginnings of Bengali Nationalism\\n### The Role of Rabindranath Tagore\\n### The Leadership of A.K. Fazlul Huq\\n### The Dhaka University Movement\\n## The Role of the Indian National Congress\\n## The Mass Uprising of 1952\\n### Background to the Uprising\\n### The Student Movement\\n### The Gariahat Riot and its Aftermath\\n## The Role of Pakistan and the United States\\n## The Final Years of Independence\\n### Early 1970s: The Turn of Events\\n### Mujib's Leadership and the Formation of Awami League\\n### Pakistani Military Crackdown and Mass Exodus\\n### India's Role in Supporting Bangladesh\\n### The 6 November 1971 Attack\\n### The Fall of Dhaka\\n## The Aftermath of Independence\\n\\n\\nAmong those book outlines, the previous section discussed in this book was titled with `Colonial Legacy: British Rule in Bengal`, and its summary is as follows: \\nThis part examines the impact of British colonial rule on Bangladesh, including economic exploitation, administrative divisions, and cultural suppression.\\n.\\n\\nNow, I would like you to create LaTeX content for the current section on: The Role of Islam in Shaping Modern Bangladesh, across 0.4 pages, assuming 20 lines per page. \\nConsider the summary for the current section whose content you will generate is as follows: This section analyzes the significance of Islam in shaping modern Bangladesh's identity, politics, and society.\\n\\nPlease output the content in the following format:\\n- Enclose the LaTeX content strictly between the delimiters `<|tex_start|>` and `<|tex_end|>`, as shown below:\\n    - The LaTeX content must **start** with `<|tex_start|>`.\\n    - The LaTeX content must **end** with `<|tex_end|>`.\\n- Do not include any other messages, comments, or text outside these delimiters.\\n- For equations, use the `equation` or `align` environment; do not use nested environments. Avoid enclosing `align` blocks within additional brackets (e.g., `\\\\[ ... \\\\]`).\\n- For programming code, use the `lstlisting` environment with the appropriate language option (e.g., `[language=Python]`).\\n- Escape all special characters (e.g., `#` as `\\\\#`, `%` as `\\\\%`, `_` as `\\\\_`, `&` as `\\\\&`, etc.) to ensure valid LaTeX.\\n- Do not include backtick sequences or any unrelated formatting not part of LaTeX syntax.\\n- Use the `<|tex_start|>` and `<|tex_end|>` delimiters **only once** in the output response: at the beginning and end of the whole LaTeX content.\\n\\nOutput format:\\n    <|tex_start|>\\n    Full LaTeX response.\\n    <|tex_end|>\\n\"\n",
      "\u001b[1m<\u001b[0m\u001b[1;95m|tex_start|\u001b[0m\u001b[39m>\u001b[0m\n",
      "\n",
      "\u001b[39mThe Role of Islam in Shaping Modern Bangladesh\u001b[0m\n",
      "\u001b[39m=============================================\u001b[0m\n",
      "\n",
      "\u001b[39mIslam has played a vital role in shaping modern Bangladesh's identity, politics, and society. The religion was \u001b[0m\n",
      "\u001b[39mintroduced to the region by Muslim traders and invaders from Central Asia during the 12th century. Over time, Islam\u001b[0m\n",
      "\u001b[39mbecame an integral part of Bengali culture, influencing every aspect of life.\u001b[0m\n",
      "\n",
      "\u001b[39mIslamic Education\u001b[0m\n",
      "\u001b[39m----------------\u001b[0m\n",
      "\n",
      "\u001b[39mIslamic education has been a cornerstone of Bengali society for centuries. Madrasas, institutions that teach \u001b[0m\n",
      "\u001b[39mIslamic studies, have played a crucial role in shaping the region's intellectual and spiritual landscape. The Alia \u001b[0m\n",
      "\u001b[39mMadrasa in Dhaka, established in \u001b[0m\u001b[1;36m1631\u001b[0m\u001b[39m, is one such institution that has produced many notable scholars and \u001b[0m\n",
      "\u001b[39mthinkers.\u001b[0m\n",
      "\n",
      "\u001b[39mIslamic Law and Governance\u001b[0m\n",
      "\u001b[39m---------------------------\u001b[0m\n",
      "\n",
      "\u001b[39mIslamic law, also known as Shariah, has had a significant impact on governance in Bangladesh. The country's \u001b[0m\n",
      "\u001b[39mconstitution, adopted in \u001b[0m\u001b[1;36m1972\u001b[0m\u001b[39m, recognizes Islam as the state religion and ensures its provisions are implemented. \u001b[0m\n",
      "\u001b[39mThis has led to debates about the balance between Islamic law and human rights.\u001b[0m\n",
      "\n",
      "\u001b[39mThe Role of Islamist Parties\u001b[0m\n",
      "\u001b[39m---------------------------\u001b[0m\n",
      "\n",
      "\u001b[39mIslamist parties have played a significant role in shaping modern Bangladesh's politics. The Awami League, founded \u001b[0m\n",
      "\u001b[39mby Sheikh Mujibur Rahman in \u001b[0m\u001b[1;36m1948\u001b[0m\u001b[39m, was initially a secular party but later became closely associated with Islamism. \u001b[0m\n",
      "\u001b[39mThe party's ideology has been influenced by the writings of Islamic scholars and thinkers.\u001b[0m\n",
      "\n",
      "\u001b[39mThe Impact on Identity\u001b[0m\n",
      "\u001b[39m----------------------\u001b[0m\n",
      "\n",
      "\u001b[39mIslam has also played a significant role in shaping Bangladesh's identity. The country's national anthem, written \u001b[0m\n",
      "\u001b[39mby Kazi Nazrul Islam, is an example of this. The lyrics reflect the importance of Islam in Bengali culture and \u001b[0m\n",
      "\u001b[39msociety.\u001b[0m\n",
      "\n",
      "\u001b[39mConclusion\u001b[0m\n",
      "\u001b[39m----------\u001b[0m\n",
      "\n",
      "\u001b[39mIn conclusion, Islam has had a profound impact on modern Bangladesh's identity, politics, and society. From Islamic\u001b[0m\n",
      "\u001b[39meducation to governance and party politics, the religion has played a significant role in shaping the country's \u001b[0m\n",
      "\u001b[39mtrajectory.\u001b[0m\n",
      "\n",
      "\u001b[39m<|tex_end|\u001b[0m\u001b[1m>\u001b[0m\n"
     ]
    },
    {
     "data": {
      "text/html": [
       "<pre style=\"white-space:pre;overflow-x:auto;line-height:normal;font-family:Menlo,'DejaVu Sans Mono',consolas,'Courier New',monospace\"></pre>\n"
      ],
      "text/plain": []
     },
     "metadata": {},
     "output_type": "display_data"
    },
    {
     "name": "stdout",
     "output_type": "stream",
     "text": [
      "Prompt text: text=\"\\nYou are an expert assistant for generating content of technical professional books. Please use the following topic to write a book:\\nA textbook on 1971 : Independence of Bangladesh\\n\\nThe total number of pages in the book is 20, with an estimated 20 lines per page. Please write in a polite tone.\\nThe intended readers are as follows:\\n A fourth-year university student who is already familiar history of Indian subcontinent and has started research on Independence of Bangladesh.Additionally, please take the following into consideration:\\n Try to explain the concept based on factual data.\\n\\nAs part of that, Now, you are writing the book of the title: The Independence of Bangladesh: A Historical Perspective and the summary of the book is as follows:\\nThis textbook provides a comprehensive understanding of the independence movement in Bangladesh, covering its historical context, key events, and primary figures. The book aims to provide an in-depth analysis of the subject, focusing on verifiable facts and data. By exploring the complexities of the independence struggle, readers will gain a deeper understanding of the region's history and its impact on contemporary politics. This textbook is designed for fourth-year university students with a background in the history of the Indian subcontinent, who are looking to expand their knowledge on this pivotal event. The primary objectives of this book are to provide an accurate account of historical events, to contextualize the independence movement within the broader framework of South Asian history, and to foster critical thinking and analysis among readers. The scope of the book encompasses the period from the early 20th century to the present day, with a focus on key figures, events, and ideologies that shaped Bangladesh's struggle for independence. Through this text, readers will gain a nuanced understanding of the complex historical forces that led to the birth of Bangladesh as an independent nation.\\n\\nThe chapter structure of the book is as following.\\n# The Independence of Bangladesh: A Historical Perspective\\nThis textbook provides a comprehensive understanding of the independence movement in Bangladesh, covering its historical context, key events, and primary figures. The book aims to provide an in-depth analysis of the subject, focusing on verifiable facts and data. By exploring the complexities of the independence struggle, readers will gain a deeper understanding of the region's history and its impact on contemporary politics. This textbook is designed for fourth-year university students with a background in the history of the Indian subcontinent, who are looking to expand their knowledge on this pivotal event. The primary objectives of this book are to provide an accurate account of historical events, to contextualize the independence movement within the broader framework of South Asian history, and to foster critical thinking and analysis among readers. The scope of the book encompasses the period from the early 20th century to the present day, with a focus on key figures, events, and ideologies that shaped Bangladesh's struggle for independence. Through this text, readers will gain a nuanced understanding of the complex historical forces that led to the birth of Bangladesh as an independent nation.\\n## The Historical Context of Bangladesh\\n### Geographical Location and Boundaries\\n### Cultural Heritage: Pre-Colonial Period\\n### Colonial Legacy: British Rule in Bengal\\n### The Role of Islam in Shaping Modern Bangladesh\\n## The Emergence of Bengali Nationalism\\n### Early Beginnings of Bengali Nationalism\\n### The Role of Rabindranath Tagore\\n### The Leadership of A.K. Fazlul Huq\\n### The Dhaka University Movement\\n## The Role of the Indian National Congress\\n## The Mass Uprising of 1952\\n### Background to the Uprising\\n### The Student Movement\\n### The Gariahat Riot and its Aftermath\\n## The Role of Pakistan and the United States\\n## The Final Years of Independence\\n### Early 1970s: The Turn of Events\\n### Mujib's Leadership and the Formation of Awami League\\n### Pakistani Military Crackdown and Mass Exodus\\n### India's Role in Supporting Bangladesh\\n### The 6 November 1971 Attack\\n### The Fall of Dhaka\\n## The Aftermath of Independence\\n\\n\\nAmong those book outlines, the previous section discussed in this book was titled with `The Role of Islam in Shaping Modern Bangladesh`, and its summary is as follows: \\nThis section analyzes the significance of Islam in shaping modern Bangladesh's identity, politics, and society.\\n.\\n\\nNow, I would like you to create LaTeX content for the current section on: Early Beginnings of Bengali Nationalism, across 0.8 pages, assuming 20 lines per page. \\nConsider the summary for the current section whose content you will generate is as follows: This part explores the roots of Bengali nationalism in the 19th and early 20th centuries, including the influence of the Indian independence movement and the role of key figures such as Bankim Chandra Chattopadhyay.\\n\\nPlease output the content in the following format:\\n- Enclose the LaTeX content strictly between the delimiters `<|tex_start|>` and `<|tex_end|>`, as shown below:\\n    - The LaTeX content must **start** with `<|tex_start|>`.\\n    - The LaTeX content must **end** with `<|tex_end|>`.\\n- Do not include any other messages, comments, or text outside these delimiters.\\n- For equations, use the `equation` or `align` environment; do not use nested environments. Avoid enclosing `align` blocks within additional brackets (e.g., `\\\\[ ... \\\\]`).\\n- For programming code, use the `lstlisting` environment with the appropriate language option (e.g., `[language=Python]`).\\n- Escape all special characters (e.g., `#` as `\\\\#`, `%` as `\\\\%`, `_` as `\\\\_`, `&` as `\\\\&`, etc.) to ensure valid LaTeX.\\n- Do not include backtick sequences or any unrelated formatting not part of LaTeX syntax.\\n- Use the `<|tex_start|>` and `<|tex_end|>` delimiters **only once** in the output response: at the beginning and end of the whole LaTeX content.\\n\\nOutput format:\\n    <|tex_start|>\\n    Full LaTeX response.\\n    <|tex_end|>\\n\"\n",
      "\u001b[1m<\u001b[0m\u001b[1;95m|tex_start|\u001b[0m\u001b[39m>\u001b[0m\n",
      "\n",
      "\u001b[39m\\chapter\u001b[0m\u001b[1;39m{\u001b[0m\u001b[39mEarly Beginnings of Bengali Nationalism\u001b[0m\u001b[1;39m}\u001b[0m\n",
      "\n",
      "\u001b[39mThe roots of Bengali nationalism can be traced back to the 19th century, when the Indian independence movement \u001b[0m\n",
      "\u001b[39mgained momentum. The influence of this movement was evident in the growing desire for self-rule among Indians.\u001b[0m\n",
      "\n",
      "\u001b[39mBankim Chandra Chattopadhyay played a pivotal role in shaping Bengali nationalism. He is often referred to as the \u001b[0m\n",
      "\u001b[32m\"Father of Bengal's Rebirth\"\u001b[0m\u001b[39m due to his contributions to Bengali literature and national identity.\u001b[0m\n",
      "\n",
      "\u001b[39mThrough his writings, Chattopadhyay challenged British colonial rule and promoted Bengali culture. His works, such \u001b[0m\n",
      "\u001b[39mas \u001b[0m\u001b[32m\"Gorki\"\u001b[0m\u001b[39m and \u001b[0m\u001b[32m\"Durgeshnandini\"\u001b[0m\u001b[39m, showcased the struggles of ordinary people against oppression.\u001b[0m\n",
      "\n",
      "\u001b[39mThe publication of Chattopadhyay's novel \u001b[0m\u001b[32m\"Ananda Math\"\u001b[0m\u001b[39m in \u001b[0m\u001b[1;36m1882\u001b[0m\u001b[39m marked a significant turning point in Bengali \u001b[0m\n",
      "\u001b[39mnationalism. The story of the rebel monks who fought against British rule resonated with many Indians, including \u001b[0m\n",
      "\u001b[39mthose in Bengal.\u001b[0m\n",
      "\n",
      "\u001b[39mChattopadhyay's legacy continued to inspire future generations of Bengali nationalists. His works remained popular \u001b[0m\n",
      "\u001b[39mamong Bengalis, and his ideas about Indian unity and self-rule influenced many prominent figures in the \u001b[0m\n",
      "\u001b[39mindependence movement.\u001b[0m\n",
      "\n",
      "\u001b[39mThe impact of Chattopadhyay's writings can still be seen today. His novels continue to be widely read and studied \u001b[0m\n",
      "\u001b[39min India and Bangladesh, serving as a reminder of the power of literature in shaping national identity.\u001b[0m\n",
      "\n",
      "\u001b[39m<|tex_end|\u001b[0m\u001b[1m>\u001b[0m\n"
     ]
    },
    {
     "data": {
      "text/html": [
       "<pre style=\"white-space:pre;overflow-x:auto;line-height:normal;font-family:Menlo,'DejaVu Sans Mono',consolas,'Courier New',monospace\"></pre>\n"
      ],
      "text/plain": []
     },
     "metadata": {},
     "output_type": "display_data"
    },
    {
     "name": "stdout",
     "output_type": "stream",
     "text": [
      "Prompt text: text=\"\\nYou are an expert assistant for generating content of technical professional books. Please use the following topic to write a book:\\nA textbook on 1971 : Independence of Bangladesh\\n\\nThe total number of pages in the book is 20, with an estimated 20 lines per page. Please write in a polite tone.\\nThe intended readers are as follows:\\n A fourth-year university student who is already familiar history of Indian subcontinent and has started research on Independence of Bangladesh.Additionally, please take the following into consideration:\\n Try to explain the concept based on factual data.\\n\\nAs part of that, Now, you are writing the book of the title: The Independence of Bangladesh: A Historical Perspective and the summary of the book is as follows:\\nThis textbook provides a comprehensive understanding of the independence movement in Bangladesh, covering its historical context, key events, and primary figures. The book aims to provide an in-depth analysis of the subject, focusing on verifiable facts and data. By exploring the complexities of the independence struggle, readers will gain a deeper understanding of the region's history and its impact on contemporary politics. This textbook is designed for fourth-year university students with a background in the history of the Indian subcontinent, who are looking to expand their knowledge on this pivotal event. The primary objectives of this book are to provide an accurate account of historical events, to contextualize the independence movement within the broader framework of South Asian history, and to foster critical thinking and analysis among readers. The scope of the book encompasses the period from the early 20th century to the present day, with a focus on key figures, events, and ideologies that shaped Bangladesh's struggle for independence. Through this text, readers will gain a nuanced understanding of the complex historical forces that led to the birth of Bangladesh as an independent nation.\\n\\nThe chapter structure of the book is as following.\\n# The Independence of Bangladesh: A Historical Perspective\\nThis textbook provides a comprehensive understanding of the independence movement in Bangladesh, covering its historical context, key events, and primary figures. The book aims to provide an in-depth analysis of the subject, focusing on verifiable facts and data. By exploring the complexities of the independence struggle, readers will gain a deeper understanding of the region's history and its impact on contemporary politics. This textbook is designed for fourth-year university students with a background in the history of the Indian subcontinent, who are looking to expand their knowledge on this pivotal event. The primary objectives of this book are to provide an accurate account of historical events, to contextualize the independence movement within the broader framework of South Asian history, and to foster critical thinking and analysis among readers. The scope of the book encompasses the period from the early 20th century to the present day, with a focus on key figures, events, and ideologies that shaped Bangladesh's struggle for independence. Through this text, readers will gain a nuanced understanding of the complex historical forces that led to the birth of Bangladesh as an independent nation.\\n## The Historical Context of Bangladesh\\n### Geographical Location and Boundaries\\n### Cultural Heritage: Pre-Colonial Period\\n### Colonial Legacy: British Rule in Bengal\\n### The Role of Islam in Shaping Modern Bangladesh\\n## The Emergence of Bengali Nationalism\\n### Early Beginnings of Bengali Nationalism\\n### The Role of Rabindranath Tagore\\n### The Leadership of A.K. Fazlul Huq\\n### The Dhaka University Movement\\n## The Role of the Indian National Congress\\n## The Mass Uprising of 1952\\n### Background to the Uprising\\n### The Student Movement\\n### The Gariahat Riot and its Aftermath\\n## The Role of Pakistan and the United States\\n## The Final Years of Independence\\n### Early 1970s: The Turn of Events\\n### Mujib's Leadership and the Formation of Awami League\\n### Pakistani Military Crackdown and Mass Exodus\\n### India's Role in Supporting Bangladesh\\n### The 6 November 1971 Attack\\n### The Fall of Dhaka\\n## The Aftermath of Independence\\n\\n\\nAmong those book outlines, the previous section discussed in this book was titled with `Early Beginnings of Bengali Nationalism`, and its summary is as follows: \\nThis part explores the roots of Bengali nationalism in the 19th and early 20th centuries, including the influence of the Indian independence movement and the role of key figures such as Bankim Chandra Chattopadhyay.\\n.\\n\\nNow, I would like you to create LaTeX content for the current section on: The Role of Rabindranath Tagore, across 0.1 pages, assuming 20 lines per page. \\nConsider the summary for the current section whose content you will generate is as follows: This section delves into the life and works of Rabindranath Tagore, a prominent Bengali poet, philosopher, and politician who played a significant role in shaping Bengali nationalism.\\n\\nPlease output the content in the following format:\\n- Enclose the LaTeX content strictly between the delimiters `<|tex_start|>` and `<|tex_end|>`, as shown below:\\n    - The LaTeX content must **start** with `<|tex_start|>`.\\n    - The LaTeX content must **end** with `<|tex_end|>`.\\n- Do not include any other messages, comments, or text outside these delimiters.\\n- For equations, use the `equation` or `align` environment; do not use nested environments. Avoid enclosing `align` blocks within additional brackets (e.g., `\\\\[ ... \\\\]`).\\n- For programming code, use the `lstlisting` environment with the appropriate language option (e.g., `[language=Python]`).\\n- Escape all special characters (e.g., `#` as `\\\\#`, `%` as `\\\\%`, `_` as `\\\\_`, `&` as `\\\\&`, etc.) to ensure valid LaTeX.\\n- Do not include backtick sequences or any unrelated formatting not part of LaTeX syntax.\\n- Use the `<|tex_start|>` and `<|tex_end|>` delimiters **only once** in the output response: at the beginning and end of the whole LaTeX content.\\n\\nOutput format:\\n    <|tex_start|>\\n    Full LaTeX response.\\n    <|tex_end|>\\n\"\n",
      "\u001b[1m<\u001b[0m\u001b[1;95m|tex_start|\u001b[0m\u001b[39m>\u001b[0m\n",
      "\n",
      "\u001b[39m\\chapter\u001b[0m\u001b[1;39m{\u001b[0m\u001b[39mThe Role of Rabindranath Tagore\u001b[0m\u001b[1;39m}\u001b[0m\n",
      "\n",
      "\u001b[39mRabindranath Tagore was a multifaceted figure who played a significant role in shaping Bengali nationalism. As a \u001b[0m\n",
      "\u001b[39mpoet, philosopher, and politician, he was instrumental in promoting the ideals of Bengali identity and cultural \u001b[0m\n",
      "\u001b[39mrevival.\u001b[0m\n",
      "\n",
      "\u001b[39mTagore's literary works are renowned for their lyrical prose and poetic depth. His most famous novel, \u001b[0m\u001b[32m\"Gitanjali,\"\u001b[0m\u001b[39m \u001b[0m\n",
      "\u001b[39mexplores themes of spirituality, self-discovery, and the human condition. Tagore's poetry also reflects his love \u001b[0m\n",
      "\u001b[39mfor nature and his concern for social justice.\u001b[0m\n",
      "\n",
      "\u001b[39mAs a politician, Tagore was involved in various movements for Bengali independence. He was an early supporter of \u001b[0m\n",
      "\u001b[39mSwaraj, or self-rule, and advocated for greater autonomy for Bengal within British India. In \u001b[0m\u001b[1;36m1911\u001b[0m\u001b[39m, he even traveled\u001b[0m\n",
      "\u001b[39mto London to receive the Nobel Prize in Literature, where he spoke out against colonial rule.\u001b[0m\n",
      "\n",
      "\u001b[39mTagore's legacy extends far beyond his individual contributions to Bengali nationalism. He inspired a generation of\u001b[0m\n",
      "\u001b[39mintellectuals and artists who sought to promote Bengali culture and identity. His commitment to social justice and \u001b[0m\n",
      "\u001b[39mhuman rights continues to inspire people around the world.\u001b[0m\n",
      "\n",
      "\u001b[39mIn Bangladesh, Rabindranath Tagore is revered as a national hero. His birthday, May 7th, is celebrated as National \u001b[0m\n",
      "\u001b[39mDay of Birth, and his works are still widely studied and admired today.\u001b[0m\n",
      "\n",
      "\u001b[39m<|tex_end|\u001b[0m\u001b[1m>\u001b[0m\n"
     ]
    },
    {
     "data": {
      "text/html": [
       "<pre style=\"white-space:pre;overflow-x:auto;line-height:normal;font-family:Menlo,'DejaVu Sans Mono',consolas,'Courier New',monospace\"></pre>\n"
      ],
      "text/plain": []
     },
     "metadata": {},
     "output_type": "display_data"
    },
    {
     "name": "stdout",
     "output_type": "stream",
     "text": [
      "Prompt text: text=\"\\nYou are an expert assistant for generating content of technical professional books. Please use the following topic to write a book:\\nA textbook on 1971 : Independence of Bangladesh\\n\\nThe total number of pages in the book is 20, with an estimated 20 lines per page. Please write in a polite tone.\\nThe intended readers are as follows:\\n A fourth-year university student who is already familiar history of Indian subcontinent and has started research on Independence of Bangladesh.Additionally, please take the following into consideration:\\n Try to explain the concept based on factual data.\\n\\nAs part of that, Now, you are writing the book of the title: The Independence of Bangladesh: A Historical Perspective and the summary of the book is as follows:\\nThis textbook provides a comprehensive understanding of the independence movement in Bangladesh, covering its historical context, key events, and primary figures. The book aims to provide an in-depth analysis of the subject, focusing on verifiable facts and data. By exploring the complexities of the independence struggle, readers will gain a deeper understanding of the region's history and its impact on contemporary politics. This textbook is designed for fourth-year university students with a background in the history of the Indian subcontinent, who are looking to expand their knowledge on this pivotal event. The primary objectives of this book are to provide an accurate account of historical events, to contextualize the independence movement within the broader framework of South Asian history, and to foster critical thinking and analysis among readers. The scope of the book encompasses the period from the early 20th century to the present day, with a focus on key figures, events, and ideologies that shaped Bangladesh's struggle for independence. Through this text, readers will gain a nuanced understanding of the complex historical forces that led to the birth of Bangladesh as an independent nation.\\n\\nThe chapter structure of the book is as following.\\n# The Independence of Bangladesh: A Historical Perspective\\nThis textbook provides a comprehensive understanding of the independence movement in Bangladesh, covering its historical context, key events, and primary figures. The book aims to provide an in-depth analysis of the subject, focusing on verifiable facts and data. By exploring the complexities of the independence struggle, readers will gain a deeper understanding of the region's history and its impact on contemporary politics. This textbook is designed for fourth-year university students with a background in the history of the Indian subcontinent, who are looking to expand their knowledge on this pivotal event. The primary objectives of this book are to provide an accurate account of historical events, to contextualize the independence movement within the broader framework of South Asian history, and to foster critical thinking and analysis among readers. The scope of the book encompasses the period from the early 20th century to the present day, with a focus on key figures, events, and ideologies that shaped Bangladesh's struggle for independence. Through this text, readers will gain a nuanced understanding of the complex historical forces that led to the birth of Bangladesh as an independent nation.\\n## The Historical Context of Bangladesh\\n### Geographical Location and Boundaries\\n### Cultural Heritage: Pre-Colonial Period\\n### Colonial Legacy: British Rule in Bengal\\n### The Role of Islam in Shaping Modern Bangladesh\\n## The Emergence of Bengali Nationalism\\n### Early Beginnings of Bengali Nationalism\\n### The Role of Rabindranath Tagore\\n### The Leadership of A.K. Fazlul Huq\\n### The Dhaka University Movement\\n## The Role of the Indian National Congress\\n## The Mass Uprising of 1952\\n### Background to the Uprising\\n### The Student Movement\\n### The Gariahat Riot and its Aftermath\\n## The Role of Pakistan and the United States\\n## The Final Years of Independence\\n### Early 1970s: The Turn of Events\\n### Mujib's Leadership and the Formation of Awami League\\n### Pakistani Military Crackdown and Mass Exodus\\n### India's Role in Supporting Bangladesh\\n### The 6 November 1971 Attack\\n### The Fall of Dhaka\\n## The Aftermath of Independence\\n\\n\\nAmong those book outlines, the previous section discussed in this book was titled with `The Role of Rabindranath Tagore`, and its summary is as follows: \\nThis section delves into the life and works of Rabindranath Tagore, a prominent Bengali poet, philosopher, and politician who played a significant role in shaping Bengali nationalism.\\n.\\n\\nNow, I would like you to create LaTeX content for the current section on: The Leadership of A.K. Fazlul Huq, across 0.1 pages, assuming 20 lines per page. \\nConsider the summary for the current section whose content you will generate is as follows: This part examines the leadership of A.K. Fazlul Huq, a key figure in the Bengal National Congress and a prominent advocate for Bengali rights within the Indian Empire.\\n\\nPlease output the content in the following format:\\n- Enclose the LaTeX content strictly between the delimiters `<|tex_start|>` and `<|tex_end|>`, as shown below:\\n    - The LaTeX content must **start** with `<|tex_start|>`.\\n    - The LaTeX content must **end** with `<|tex_end|>`.\\n- Do not include any other messages, comments, or text outside these delimiters.\\n- For equations, use the `equation` or `align` environment; do not use nested environments. Avoid enclosing `align` blocks within additional brackets (e.g., `\\\\[ ... \\\\]`).\\n- For programming code, use the `lstlisting` environment with the appropriate language option (e.g., `[language=Python]`).\\n- Escape all special characters (e.g., `#` as `\\\\#`, `%` as `\\\\%`, `_` as `\\\\_`, `&` as `\\\\&`, etc.) to ensure valid LaTeX.\\n- Do not include backtick sequences or any unrelated formatting not part of LaTeX syntax.\\n- Use the `<|tex_start|>` and `<|tex_end|>` delimiters **only once** in the output response: at the beginning and end of the whole LaTeX content.\\n\\nOutput format:\\n    <|tex_start|>\\n    Full LaTeX response.\\n    <|tex_end|>\\n\"\n",
      "\u001b[1m<\u001b[0m\u001b[1;95m|tex_start|\u001b[0m\u001b[39m>\u001b[0m\n",
      "\n",
      "\u001b[39mThe Leadership of A.K. Fazlul Huq\u001b[0m\n",
      "\u001b[39m================================\u001b[0m\n",
      "\n",
      "\u001b[39mA.K. Fazlul Huq was a key figure in the Bengal National Congress and a prominent advocate for Bengali rights within\u001b[0m\n",
      "\u001b[39mthe Indian Empire.\u001b[0m\n",
      "\n",
      "\u001b[39mEarly Life and Career\u001b[0m\n",
      "\u001b[39m---------------------\u001b[0m\n",
      "\n",
      "\u001b[39mFazlul Huq was born on February \u001b[0m\u001b[1;36m2\u001b[0m\u001b[39m, \u001b[0m\u001b[1;36m1873\u001b[0m\u001b[39m, in Dhaka, Bengal Presidency \u001b[0m\u001b[1;39m(\u001b[0m\u001b[39mnow Bangladesh\u001b[0m\u001b[1;39m)\u001b[0m\u001b[39m. His father, Muhammad Hussain\u001b[0m\n",
      "\u001b[39mHafiz, was a local judge. Fazlul Huq studied law at the University of Dhaka and later moved to England for further \u001b[0m\n",
      "\u001b[39meducation.\u001b[0m\n",
      "\n",
      "\u001b[39mFazlul Huq became involved in politics during his time as a student in Dhaka. He joined the Indian National \u001b[0m\n",
      "\u001b[39mCongress in \u001b[0m\u001b[1;36m1895\u001b[0m\u001b[39m and quickly rose through the ranks, becoming one of the most influential leaders of the \u001b[0m\n",
      "\u001b[39morganization in Bengal.\u001b[0m\n",
      "\n",
      "\u001b[39mLeadership and Advocacy\u001b[0m\n",
      "\u001b[39m----------------------\u001b[0m\n",
      "\n",
      "\u001b[39mAs a member of the Bengal Provincial Congress Committee, Fazlul Huq played a crucial role in advocating for Bengali\u001b[0m\n",
      "\u001b[39mrights within the Indian Empire. He was a strong advocate for greater autonomy for Bengal and often clashed with \u001b[0m\n",
      "\u001b[39mBritish colonial officials who resisted his demands.\u001b[0m\n",
      "\n",
      "\u001b[39mFazlul Huq also played a key role in organizing several major protests and strikes throughout his career, including\u001b[0m\n",
      "\u001b[39mthe \u001b[0m\u001b[1;36m1920\u001b[0m\u001b[39m Non-Cooperation Movement and the \u001b[0m\u001b[1;36m1931\u001b[0m\u001b[39m Quit India Movement.\u001b[0m\n",
      "\n",
      "\u001b[39mLater Life and Legacy\u001b[0m\n",
      "\u001b[39m---------------------\u001b[0m\n",
      "\n",
      "\u001b[39mAfter India gained independence from British rule in \u001b[0m\u001b[1;36m1947\u001b[0m\u001b[39m, Fazlul Huq became a prominent leader of the Awami \u001b[0m\n",
      "\u001b[39mLeague, a party he co-founded with Muhammad Ali Jinnah, the founder of Pakistan. He served as president of the \u001b[0m\n",
      "\u001b[39mleague until his death in \u001b[0m\u001b[1;36m1966\u001b[0m\u001b[39m.\u001b[0m\n",
      "\n",
      "\u001b[39mFazlul Huq's legacy is complex and multifaceted. While he was a key figure in the Indian independence movement, he \u001b[0m\n",
      "\u001b[39malso played a significant role in shaping the country's early politics and policies. His advocacy for Bengali \u001b[0m\n",
      "\u001b[39mrights helped to lay the groundwork for Bangladesh's eventual independence from Pakistan in \u001b[0m\u001b[1;36m1971\u001b[0m\u001b[39m.\u001b[0m\n",
      "\n",
      "\u001b[39mFazlul Huq passed away on February \u001b[0m\u001b[1;36m22\u001b[0m\u001b[39m, \u001b[0m\u001b[1;36m1966\u001b[0m\u001b[39m, at the age of \u001b[0m\u001b[1;36m93\u001b[0m\u001b[39m. Despite his passing, his legacy continues to be \u001b[0m\n",
      "\u001b[39mcelebrated and studied by scholars and historians today.\u001b[0m\n",
      "\n",
      "\u001b[39m<|tex_end|\u001b[0m\u001b[1m>\u001b[0m\n"
     ]
    },
    {
     "data": {
      "text/html": [
       "<pre style=\"white-space:pre;overflow-x:auto;line-height:normal;font-family:Menlo,'DejaVu Sans Mono',consolas,'Courier New',monospace\"></pre>\n"
      ],
      "text/plain": []
     },
     "metadata": {},
     "output_type": "display_data"
    },
    {
     "name": "stdout",
     "output_type": "stream",
     "text": [
      "Prompt text: text=\"\\nYou are an expert assistant for generating content of technical professional books. Please use the following topic to write a book:\\nA textbook on 1971 : Independence of Bangladesh\\n\\nThe total number of pages in the book is 20, with an estimated 20 lines per page. Please write in a polite tone.\\nThe intended readers are as follows:\\n A fourth-year university student who is already familiar history of Indian subcontinent and has started research on Independence of Bangladesh.Additionally, please take the following into consideration:\\n Try to explain the concept based on factual data.\\n\\nAs part of that, Now, you are writing the book of the title: The Independence of Bangladesh: A Historical Perspective and the summary of the book is as follows:\\nThis textbook provides a comprehensive understanding of the independence movement in Bangladesh, covering its historical context, key events, and primary figures. The book aims to provide an in-depth analysis of the subject, focusing on verifiable facts and data. By exploring the complexities of the independence struggle, readers will gain a deeper understanding of the region's history and its impact on contemporary politics. This textbook is designed for fourth-year university students with a background in the history of the Indian subcontinent, who are looking to expand their knowledge on this pivotal event. The primary objectives of this book are to provide an accurate account of historical events, to contextualize the independence movement within the broader framework of South Asian history, and to foster critical thinking and analysis among readers. The scope of the book encompasses the period from the early 20th century to the present day, with a focus on key figures, events, and ideologies that shaped Bangladesh's struggle for independence. Through this text, readers will gain a nuanced understanding of the complex historical forces that led to the birth of Bangladesh as an independent nation.\\n\\nThe chapter structure of the book is as following.\\n# The Independence of Bangladesh: A Historical Perspective\\nThis textbook provides a comprehensive understanding of the independence movement in Bangladesh, covering its historical context, key events, and primary figures. The book aims to provide an in-depth analysis of the subject, focusing on verifiable facts and data. By exploring the complexities of the independence struggle, readers will gain a deeper understanding of the region's history and its impact on contemporary politics. This textbook is designed for fourth-year university students with a background in the history of the Indian subcontinent, who are looking to expand their knowledge on this pivotal event. The primary objectives of this book are to provide an accurate account of historical events, to contextualize the independence movement within the broader framework of South Asian history, and to foster critical thinking and analysis among readers. The scope of the book encompasses the period from the early 20th century to the present day, with a focus on key figures, events, and ideologies that shaped Bangladesh's struggle for independence. Through this text, readers will gain a nuanced understanding of the complex historical forces that led to the birth of Bangladesh as an independent nation.\\n## The Historical Context of Bangladesh\\n### Geographical Location and Boundaries\\n### Cultural Heritage: Pre-Colonial Period\\n### Colonial Legacy: British Rule in Bengal\\n### The Role of Islam in Shaping Modern Bangladesh\\n## The Emergence of Bengali Nationalism\\n### Early Beginnings of Bengali Nationalism\\n### The Role of Rabindranath Tagore\\n### The Leadership of A.K. Fazlul Huq\\n### The Dhaka University Movement\\n## The Role of the Indian National Congress\\n## The Mass Uprising of 1952\\n### Background to the Uprising\\n### The Student Movement\\n### The Gariahat Riot and its Aftermath\\n## The Role of Pakistan and the United States\\n## The Final Years of Independence\\n### Early 1970s: The Turn of Events\\n### Mujib's Leadership and the Formation of Awami League\\n### Pakistani Military Crackdown and Mass Exodus\\n### India's Role in Supporting Bangladesh\\n### The 6 November 1971 Attack\\n### The Fall of Dhaka\\n## The Aftermath of Independence\\n\\n\\nAmong those book outlines, the previous section discussed in this book was titled with `The Leadership of A.K. Fazlul Huq`, and its summary is as follows: \\nThis part examines the leadership of A.K. Fazlul Huq, a key figure in the Bengal National Congress and a prominent advocate for Bengali rights within the Indian Empire.\\n.\\n\\nNow, I would like you to create LaTeX content for the current section on: The Dhaka University Movement, across 0.1 pages, assuming 20 lines per page. \\nConsider the summary for the current section whose content you will generate is as follows: This section discusses the role of the Dhaka University movement, a student-led movement that emerged in the 1920s and played a significant role in galvanizing Bengali nationalism.\\n\\nPlease output the content in the following format:\\n- Enclose the LaTeX content strictly between the delimiters `<|tex_start|>` and `<|tex_end|>`, as shown below:\\n    - The LaTeX content must **start** with `<|tex_start|>`.\\n    - The LaTeX content must **end** with `<|tex_end|>`.\\n- Do not include any other messages, comments, or text outside these delimiters.\\n- For equations, use the `equation` or `align` environment; do not use nested environments. Avoid enclosing `align` blocks within additional brackets (e.g., `\\\\[ ... \\\\]`).\\n- For programming code, use the `lstlisting` environment with the appropriate language option (e.g., `[language=Python]`).\\n- Escape all special characters (e.g., `#` as `\\\\#`, `%` as `\\\\%`, `_` as `\\\\_`, `&` as `\\\\&`, etc.) to ensure valid LaTeX.\\n- Do not include backtick sequences or any unrelated formatting not part of LaTeX syntax.\\n- Use the `<|tex_start|>` and `<|tex_end|>` delimiters **only once** in the output response: at the beginning and end of the whole LaTeX content.\\n\\nOutput format:\\n    <|tex_start|>\\n    Full LaTeX response.\\n    <|tex_end|>\\n\"\n",
      "\u001b[1m<\u001b[0m\u001b[1;95m|tex_start|\u001b[0m\n",
      "\n",
      "\u001b[39m\\ chapter\u001b[0m\u001b[1;39m{\u001b[0m\u001b[39mThe Dhaka University Movement\u001b[0m\u001b[1;39m}\u001b[0m\n",
      "\n",
      "\u001b[39mThe Dhaka University movement was a student-led movement that emerged in the 1920s and played a significant role in\u001b[0m\n",
      "\u001b[39mgalvanizing Bengali nationalism. The movement was characterized by its militant approach to achieving Bengali \u001b[0m\n",
      "\u001b[39mrights within the Indian Empire.\u001b[0m\n",
      "\n",
      "\u001b[39m\\section\u001b[0m\u001b[1;39m{\u001b[0m\u001b[39mBackground of the Movement\u001b[0m\u001b[1;39m}\u001b[0m\n",
      "\n",
      "\u001b[39mThe movement had its roots in the Bengali National Congress, which was formed in \u001b[0m\u001b[1;36m1905\u001b[0m\u001b[39m with the aim of promoting \u001b[0m\n",
      "\u001b[39mBengali rights and challenging British rule in Bengal. The movement gained momentum in the 1920s, with student \u001b[0m\n",
      "\u001b[39mleaders such as Sirajul Islam and Shahjahan Ali playing key roles.\u001b[0m\n",
      "\n",
      "\u001b[39m\\subsection\u001b[0m\u001b[1;39m{\u001b[0m\u001b[39mKey Events of the Movement\u001b[0m\u001b[1;39m}\u001b[0m\n",
      "\n",
      "\u001b[39mThe movement was marked by several key events, including the formation of the Bengal Students' Federation \u001b[0m\u001b[1;39m(\u001b[0m\u001b[39mBSF\u001b[0m\u001b[1;39m)\u001b[0m\u001b[39m in \u001b[0m\n",
      "\u001b[1;36m1923\u001b[0m\u001b[39m, which aimed to unite students across the province. The BSF organized protests, boycotts, and strikes, which \u001b[0m\n",
      "\u001b[39mwere met with force by the British authorities.\u001b[0m\n",
      "\n",
      "\u001b[39m\\subsection\u001b[0m\u001b[1;39m{\u001b[0m\u001b[39mImpact of the Movement\u001b[0m\u001b[1;39m}\u001b[0m\n",
      "\n",
      "\u001b[39mThe Dhaka University movement had a significant impact on Bengali nationalism. It helped to galvanize student \u001b[0m\n",
      "\u001b[39mleaders and intellectuals, who became key figures in the struggle for independence. The movement also contributed \u001b[0m\n",
      "\u001b[39mto the growth of the Indian National Congress, which would eventually play a crucial role in India's struggle for \u001b[0m\n",
      "\u001b[39mindependence.\u001b[0m\n",
      "\n",
      "\u001b[39m\\subsection\u001b[0m\u001b[1;39m{\u001b[0m\u001b[39mLegacy of the Movement\u001b[0m\u001b[1;39m}\u001b[0m\n",
      "\n",
      "\u001b[39mThe Dhaka University movement is remembered as an important milestone in Bengali history. It marked a significant \u001b[0m\n",
      "\u001b[39mshift towards militant nationalism and paved the way for future movements. The movement also laid the foundation \u001b[0m\n",
      "\u001b[39mfor the Bangladesh Liberation War, which took place in \u001b[0m\u001b[1;36m1971\u001b[0m\u001b[39m.\u001b[0m\n",
      "\n",
      "\u001b[39m<|tex_end|\u001b[0m\u001b[1m>\u001b[0m\n"
     ]
    },
    {
     "data": {
      "text/html": [
       "<pre style=\"white-space:pre;overflow-x:auto;line-height:normal;font-family:Menlo,'DejaVu Sans Mono',consolas,'Courier New',monospace\"></pre>\n"
      ],
      "text/plain": []
     },
     "metadata": {},
     "output_type": "display_data"
    },
    {
     "name": "stdout",
     "output_type": "stream",
     "text": [
      "TeX data not found.\n",
      "Prompt text: text=\"\\nYou are an expert assistant for generating content of technical professional books. Please use the following topic to write a book:\\nA textbook on 1971 : Independence of Bangladesh\\n\\nThe total number of pages in the book is 20, with an estimated 20 lines per page. Please write in a polite tone.\\nThe intended readers are as follows:\\n A fourth-year university student who is already familiar history of Indian subcontinent and has started research on Independence of Bangladesh.Additionally, please take the following into consideration:\\n Try to explain the concept based on factual data.\\n\\nAs part of that, Now, you are writing the book of the title: The Independence of Bangladesh: A Historical Perspective and the summary of the book is as follows:\\nThis textbook provides a comprehensive understanding of the independence movement in Bangladesh, covering its historical context, key events, and primary figures. The book aims to provide an in-depth analysis of the subject, focusing on verifiable facts and data. By exploring the complexities of the independence struggle, readers will gain a deeper understanding of the region's history and its impact on contemporary politics. This textbook is designed for fourth-year university students with a background in the history of the Indian subcontinent, who are looking to expand their knowledge on this pivotal event. The primary objectives of this book are to provide an accurate account of historical events, to contextualize the independence movement within the broader framework of South Asian history, and to foster critical thinking and analysis among readers. The scope of the book encompasses the period from the early 20th century to the present day, with a focus on key figures, events, and ideologies that shaped Bangladesh's struggle for independence. Through this text, readers will gain a nuanced understanding of the complex historical forces that led to the birth of Bangladesh as an independent nation.\\n\\nThe chapter structure of the book is as following.\\n# The Independence of Bangladesh: A Historical Perspective\\nThis textbook provides a comprehensive understanding of the independence movement in Bangladesh, covering its historical context, key events, and primary figures. The book aims to provide an in-depth analysis of the subject, focusing on verifiable facts and data. By exploring the complexities of the independence struggle, readers will gain a deeper understanding of the region's history and its impact on contemporary politics. This textbook is designed for fourth-year university students with a background in the history of the Indian subcontinent, who are looking to expand their knowledge on this pivotal event. The primary objectives of this book are to provide an accurate account of historical events, to contextualize the independence movement within the broader framework of South Asian history, and to foster critical thinking and analysis among readers. The scope of the book encompasses the period from the early 20th century to the present day, with a focus on key figures, events, and ideologies that shaped Bangladesh's struggle for independence. Through this text, readers will gain a nuanced understanding of the complex historical forces that led to the birth of Bangladesh as an independent nation.\\n## The Historical Context of Bangladesh\\n### Geographical Location and Boundaries\\n### Cultural Heritage: Pre-Colonial Period\\n### Colonial Legacy: British Rule in Bengal\\n### The Role of Islam in Shaping Modern Bangladesh\\n## The Emergence of Bengali Nationalism\\n### Early Beginnings of Bengali Nationalism\\n### The Role of Rabindranath Tagore\\n### The Leadership of A.K. Fazlul Huq\\n### The Dhaka University Movement\\n## The Role of the Indian National Congress\\n## The Mass Uprising of 1952\\n### Background to the Uprising\\n### The Student Movement\\n### The Gariahat Riot and its Aftermath\\n## The Role of Pakistan and the United States\\n## The Final Years of Independence\\n### Early 1970s: The Turn of Events\\n### Mujib's Leadership and the Formation of Awami League\\n### Pakistani Military Crackdown and Mass Exodus\\n### India's Role in Supporting Bangladesh\\n### The 6 November 1971 Attack\\n### The Fall of Dhaka\\n## The Aftermath of Independence\\n\\n\\nAmong those book outlines, the previous section discussed in this book was titled with `The Dhaka University Movement`, and its summary is as follows: \\nThis section discusses the role of the Dhaka University movement, a student-led movement that emerged in the 1920s and played a significant role in galvanizing Bengali nationalism.\\n.\\n\\nNow, I would like you to create LaTeX content for the current section on: The Role of the Indian National Congress, across 1.0 pages, assuming 20 lines per page. \\nConsider the summary for the current section whose content you will generate is as follows: This chapter examines the role of the Indian National Congress in Bangladesh's struggle for independence, including its impact on the country's politics and society.\\n\\nPlease output the content in the following format:\\n- Enclose the LaTeX content strictly between the delimiters `<|tex_start|>` and `<|tex_end|>`, as shown below:\\n    - The LaTeX content must **start** with `<|tex_start|>`.\\n    - The LaTeX content must **end** with `<|tex_end|>`.\\n- Do not include any other messages, comments, or text outside these delimiters.\\n- For equations, use the `equation` or `align` environment; do not use nested environments. Avoid enclosing `align` blocks within additional brackets (e.g., `\\\\[ ... \\\\]`).\\n- For programming code, use the `lstlisting` environment with the appropriate language option (e.g., `[language=Python]`).\\n- Escape all special characters (e.g., `#` as `\\\\#`, `%` as `\\\\%`, `_` as `\\\\_`, `&` as `\\\\&`, etc.) to ensure valid LaTeX.\\n- Do not include backtick sequences or any unrelated formatting not part of LaTeX syntax.\\n- Use the `<|tex_start|>` and `<|tex_end|>` delimiters **only once** in the output response: at the beginning and end of the whole LaTeX content.\\n\\nOutput format:\\n    <|tex_start|>\\n    Full LaTeX response.\\n    <|tex_end|>\\n\"\n",
      "\u001b[1m<\u001b[0m\u001b[1;95m|tex_start|\u001b[0m\u001b[39m>\u001b[0m\n",
      "\n",
      "\u001b[39m\\ chapter\u001b[0m\u001b[1;39m{\u001b[0m\u001b[39mThe Role of the Indian National Congress\u001b[0m\u001b[1;39m}\u001b[0m\n",
      "\n",
      "\u001b[39mThe Indian National Congress played a pivotal role in Bangladesh's struggle for independence. The party's \u001b[0m\n",
      "\u001b[39minvolvement was multifaceted, impacting both politics and society.\u001b[0m\n",
      "\n",
      "\u001b[39mDuring its existence in British India, the Indian National Congress had long been involved in discussions regarding\u001b[0m\n",
      "\u001b[39mself-rule for Indians. As such, many of its supporters saw it as a champion of indigenous rights.\u001b[0m\n",
      "\n",
      "\u001b[39mIn particular, the Indian National Congress lent its support to the All-India Muslim League's demand for Pakistan. \u001b[0m\n",
      "\u001b[39mThis backing significantly contributed to the creation of Pakistan and later, Bangladesh.\u001b[0m\n",
      "\n",
      "\u001b[39mMoreover, the party held several meetings with British officials in an effort to secure greater autonomy for \u001b[0m\n",
      "\u001b[39mBengal. Although none of these negotiations resulted in favorable outcomes for Bengal, they did serve as a \u001b[0m\n",
      "\u001b[39mprecursor to future discussions regarding regional autonomy.\u001b[0m\n",
      "\n",
      "\u001b[39mFurthermore, the Indian National Congress's support for Bengali nationalism increased after the \u001b[0m\u001b[1;36m1947\u001b[0m\u001b[39m partition of \u001b[0m\n",
      "\u001b[39mIndia and Pakistan. This backing played a significant role in galvanizing the movement seeking independence from \u001b[0m\n",
      "\u001b[39mBritish rule and ultimately the creation of Bangladesh.\u001b[0m\n",
      "\n",
      "\u001b[39mThe party also fostered closer ties between its leaders and key figures in the Bengali nationalist movement. For \u001b[0m\n",
      "\u001b[39mexample, Liaquat Ali Khan, then Prime Minister of Pakistan, frequently exchanged letters with Chittaranjan Das, a \u001b[0m\n",
      "\u001b[39mprominent leader in the Indian National Congress's Bengal chapter.\u001b[0m\n",
      "\n",
      "\u001b[39mIn addition to its political influence, the Indian National Congress also contributed significantly to social \u001b[0m\n",
      "\u001b[39mchange by supporting various organizations that promoted education and cultural exchange between Hindus and \u001b[0m\n",
      "\u001b[39mMuslims.\u001b[0m\n",
      "\n",
      "\u001b[39mOverall, the role of the Indian National Congress in Bangladesh's struggle for independence cannot be overstated. \u001b[0m\n",
      "\u001b[39mIts involvement helped shape both the country's politics and society, paving the way for the eventual creation of \u001b[0m\n",
      "\u001b[39man independent nation.\u001b[0m\n",
      "\n",
      "\u001b[39m\\section\u001b[0m\u001b[1;39m{\u001b[0m\u001b[39mImpact on Politics\u001b[0m\u001b[1;39m}\u001b[0m\n",
      "\n",
      "\u001b[39mThe support provided by the Indian National Congress to the All-India Muslim League had significant implications \u001b[0m\n",
      "\u001b[39mfor Pakistan's formation and later Bangladesh's independence struggle. The party's backing played a crucial role in\u001b[0m\n",
      "\u001b[39msecuring greater autonomy for Bengal during the negotiations leading up to India-Pakistan partition.\u001b[0m\n",
      "\n",
      "\u001b[39mMoreover, the ties formed between key leaders of the Indian National Congress and Bengali nationalist figures \u001b[0m\n",
      "\u001b[39mhelped facilitate communication and cooperation within the movement seeking independence from British rule.\u001b[0m\n",
      "\n",
      "\u001b[39mFurthermore, the Indian National Congress lent its support to the creation of an independent Bangladesh after the \u001b[0m\n",
      "\u001b[1;36m1971\u001b[0m\u001b[39m war. This backing was instrumental in securing international recognition for the new nation.\u001b[0m\n",
      "\n",
      "\u001b[39m\\section\u001b[0m\u001b[1;39m{\u001b[0m\u001b[39mImpact on Society\u001b[0m\u001b[1;39m}\u001b[0m\n",
      "\n",
      "\u001b[39mThe role played by the Indian National Congress in promoting education and cultural exchange between Hindus and \u001b[0m\n",
      "\u001b[39mMuslims had a lasting impact on Bangladeshi society. The organization supported various initiatives aimed at \u001b[0m\n",
      "\u001b[39mfostering greater understanding and cooperation between different communities.\u001b[0m\n",
      "\n",
      "\u001b[39mMoreover, the party's involvement in discussions regarding regional autonomy contributed to the development of a \u001b[0m\n",
      "\u001b[39mmore nuanced understanding of the complex dynamics at play within Bengal during the period leading up to \u001b[0m\n",
      "\u001b[39mindependence.\u001b[0m\n",
      "\n",
      "\u001b[39mFinally, the Indian National Congress's support for Bengali nationalism helped pave the way for the eventual \u001b[0m\n",
      "\u001b[39mcreation of an independent nation. The organization played a significant role in galvanizing the movement seeking \u001b[0m\n",
      "\u001b[39mindependence from British rule and securing international recognition for the new nation.\u001b[0m\n",
      "\n",
      "\u001b[39m\\section\u001b[0m\u001b[1;39m{\u001b[0m\u001b[39mConclusion\u001b[0m\u001b[1;39m}\u001b[0m\n",
      "\n",
      "\u001b[39mIn conclusion, the role of the Indian National Congress in Bangladesh's struggle for independence cannot be \u001b[0m\n",
      "\u001b[39moverstated. Its involvement had far-reaching implications for both politics and society, contributing to the \u001b[0m\n",
      "\u001b[39meventual creation of an independent nation.\u001b[0m\n",
      "\n",
      "\u001b[39mThe party's support for Bengali nationalism played a crucial role in shaping the country's trajectory. Moreover, \u001b[0m\n",
      "\u001b[39mits impact extended beyond politics, influencing social dynamics and promoting greater understanding between \u001b[0m\n",
      "\u001b[39mdifferent communities.\u001b[0m\n",
      "\n",
      "\u001b[39mOverall, this chapter has provided a comprehensive examination of the Indian National Congress's role in \u001b[0m\n",
      "\u001b[39mBangladesh's struggle for independence. The findings presented here underscore the significance of the party's \u001b[0m\n",
      "\u001b[39minvolvement in this pivotal period in Bangladeshi history.\u001b[0m\n",
      "\n",
      "\u001b[39m<|tex_end|\u001b[0m\u001b[1m>\u001b[0m\n"
     ]
    },
    {
     "data": {
      "text/html": [
       "<pre style=\"white-space:pre;overflow-x:auto;line-height:normal;font-family:Menlo,'DejaVu Sans Mono',consolas,'Courier New',monospace\"></pre>\n"
      ],
      "text/plain": []
     },
     "metadata": {},
     "output_type": "display_data"
    },
    {
     "name": "stdout",
     "output_type": "stream",
     "text": [
      "Prompt text: text=\"\\nYou are an expert assistant for generating content of technical professional books. Please use the following topic to write a book:\\nA textbook on 1971 : Independence of Bangladesh\\n\\nThe total number of pages in the book is 20, with an estimated 20 lines per page. Please write in a polite tone.\\nThe intended readers are as follows:\\n A fourth-year university student who is already familiar history of Indian subcontinent and has started research on Independence of Bangladesh.Additionally, please take the following into consideration:\\n Try to explain the concept based on factual data.\\n\\nAs part of that, Now, you are writing the book of the title: The Independence of Bangladesh: A Historical Perspective and the summary of the book is as follows:\\nThis textbook provides a comprehensive understanding of the independence movement in Bangladesh, covering its historical context, key events, and primary figures. The book aims to provide an in-depth analysis of the subject, focusing on verifiable facts and data. By exploring the complexities of the independence struggle, readers will gain a deeper understanding of the region's history and its impact on contemporary politics. This textbook is designed for fourth-year university students with a background in the history of the Indian subcontinent, who are looking to expand their knowledge on this pivotal event. The primary objectives of this book are to provide an accurate account of historical events, to contextualize the independence movement within the broader framework of South Asian history, and to foster critical thinking and analysis among readers. The scope of the book encompasses the period from the early 20th century to the present day, with a focus on key figures, events, and ideologies that shaped Bangladesh's struggle for independence. Through this text, readers will gain a nuanced understanding of the complex historical forces that led to the birth of Bangladesh as an independent nation.\\n\\nThe chapter structure of the book is as following.\\n# The Independence of Bangladesh: A Historical Perspective\\nThis textbook provides a comprehensive understanding of the independence movement in Bangladesh, covering its historical context, key events, and primary figures. The book aims to provide an in-depth analysis of the subject, focusing on verifiable facts and data. By exploring the complexities of the independence struggle, readers will gain a deeper understanding of the region's history and its impact on contemporary politics. This textbook is designed for fourth-year university students with a background in the history of the Indian subcontinent, who are looking to expand their knowledge on this pivotal event. The primary objectives of this book are to provide an accurate account of historical events, to contextualize the independence movement within the broader framework of South Asian history, and to foster critical thinking and analysis among readers. The scope of the book encompasses the period from the early 20th century to the present day, with a focus on key figures, events, and ideologies that shaped Bangladesh's struggle for independence. Through this text, readers will gain a nuanced understanding of the complex historical forces that led to the birth of Bangladesh as an independent nation.\\n## The Historical Context of Bangladesh\\n### Geographical Location and Boundaries\\n### Cultural Heritage: Pre-Colonial Period\\n### Colonial Legacy: British Rule in Bengal\\n### The Role of Islam in Shaping Modern Bangladesh\\n## The Emergence of Bengali Nationalism\\n### Early Beginnings of Bengali Nationalism\\n### The Role of Rabindranath Tagore\\n### The Leadership of A.K. Fazlul Huq\\n### The Dhaka University Movement\\n## The Role of the Indian National Congress\\n## The Mass Uprising of 1952\\n### Background to the Uprising\\n### The Student Movement\\n### The Gariahat Riot and its Aftermath\\n## The Role of Pakistan and the United States\\n## The Final Years of Independence\\n### Early 1970s: The Turn of Events\\n### Mujib's Leadership and the Formation of Awami League\\n### Pakistani Military Crackdown and Mass Exodus\\n### India's Role in Supporting Bangladesh\\n### The 6 November 1971 Attack\\n### The Fall of Dhaka\\n## The Aftermath of Independence\\n\\n\\nAmong those book outlines, the previous section discussed in this book was titled with `The Role of the Indian National Congress`, and its summary is as follows: \\nThis chapter examines the role of the Indian National Congress in Bangladesh's struggle for independence, including its impact on the country's politics and society.\\n.\\n\\nNow, I would like you to create LaTeX content for the current section on: Background to the Uprising, across 0.8 pages, assuming 20 lines per page. \\nConsider the summary for the current section whose content you will generate is as follows: This part sets the stage for the mass uprising of 1952 by providing an overview of the social, economic, and political context of the time.\\n\\nPlease output the content in the following format:\\n- Enclose the LaTeX content strictly between the delimiters `<|tex_start|>` and `<|tex_end|>`, as shown below:\\n    - The LaTeX content must **start** with `<|tex_start|>`.\\n    - The LaTeX content must **end** with `<|tex_end|>`.\\n- Do not include any other messages, comments, or text outside these delimiters.\\n- For equations, use the `equation` or `align` environment; do not use nested environments. Avoid enclosing `align` blocks within additional brackets (e.g., `\\\\[ ... \\\\]`).\\n- For programming code, use the `lstlisting` environment with the appropriate language option (e.g., `[language=Python]`).\\n- Escape all special characters (e.g., `#` as `\\\\#`, `%` as `\\\\%`, `_` as `\\\\_`, `&` as `\\\\&`, etc.) to ensure valid LaTeX.\\n- Do not include backtick sequences or any unrelated formatting not part of LaTeX syntax.\\n- Use the `<|tex_start|>` and `<|tex_end|>` delimiters **only once** in the output response: at the beginning and end of the whole LaTeX content.\\n\\nOutput format:\\n    <|tex_start|>\\n    Full LaTeX response.\\n    <|tex_end|>\\n\"\n",
      "Here is the LaTeX content for the section \u001b[32m\"Background to the Uprising\"\u001b[0m across \u001b[1;36m0.8\u001b[0m pages, assuming \u001b[1;36m20\u001b[0m lines per \n",
      "page:\n",
      "\n",
      "\u001b[1m<\u001b[0m\u001b[1;95m|tex_start|\u001b[0m\u001b[39m>\u001b[0m\n",
      "\n",
      "\u001b[39m\\section\u001b[0m\u001b[1;39m{\u001b[0m\u001b[39mBackground to the Uprising\u001b[0m\u001b[1;39m}\u001b[0m\n",
      "\n",
      "\u001b[39mThe mass uprising of \u001b[0m\u001b[1;36m1952\u001b[0m\u001b[39m in Dhaka was a pivotal event in Bangladesh's struggle for independence. To understand the\u001b[0m\n",
      "\u001b[39mevents that led to this uprising, it is essential to examine the social, economic, and political context of the \u001b[0m\n",
      "\u001b[39mtime.\u001b[0m\n",
      "\n",
      "\u001b[39mDuring the 1940s and 1950s, Bengal was facing significant challenges, including poverty, unemployment, and poor \u001b[0m\n",
      "\u001b[39mliving conditions. The colonial legacy of British rule had created a sense of disillusionment among the Bengali \u001b[0m\n",
      "\u001b[39mpeople, who felt that their rights were being ignored.\u001b[0m\n",
      "\n",
      "\u001b[39mThe economic situation in Bengal was particularly dire. The British had exploited Bengal's resources, leading to \u001b[0m\n",
      "\u001b[39mwidespread poverty and unemployment. The agricultural sector was also underdeveloped, which meant that many farmers\u001b[0m\n",
      "\u001b[39mwere unable to make a living from their land.\u001b[0m\n",
      "\n",
      "\u001b[39mPolitically, the Bengali people were divided between the Muslim League and the Indian National Congress. While the \u001b[0m\n",
      "\u001b[39mMuslim League represented the interests of the Bengali Muslims, the Indian National Congress represented the \u001b[0m\n",
      "\u001b[39minterests of the Bengali Hindus. This division created tensions between the two groups, which would eventually \u001b[0m\n",
      "\u001b[39mcontribute to the uprising.\u001b[0m\n",
      "\n",
      "\u001b[39mThe student movement in Dhaka was also an important factor leading up to the uprising. The students were demanding \u001b[0m\n",
      "\u001b[39mgreater autonomy for Bengal and were frustrated with the lack of progress in achieving this goal. They organized \u001b[0m\n",
      "\u001b[39mprotests and demonstrations, which were met with force by the authorities.\u001b[0m\n",
      "\n",
      "\u001b[39mThe Gariahat Riot, which took place on January \u001b[0m\u001b[1;36m24\u001b[0m\u001b[39m, \u001b[0m\u001b[1;36m1952\u001b[0m\u001b[39m, was a turning point in the lead-up to the uprising. The \u001b[0m\n",
      "\u001b[39mriot began as a protest against the arrest of student leaders, but it quickly escalated into violence, with both \u001b[0m\n",
      "\u001b[39mHindus and Muslims attacking each other. The incident highlighted the deep-seated tensions between the two \u001b[0m\n",
      "\u001b[39mcommunities and marked the beginning of a period of increasing unrest.\u001b[0m\n",
      "\n",
      "\u001b[39mThe government's response to the riot was marked by repression and brutality. Many students were arrested and \u001b[0m\n",
      "\u001b[39mimprisoned without trial, and several others were killed in police firing. This only added fuel to the fire, as \u001b[0m\n",
      "\u001b[39mmore and more people joined the protests and demonstrations.\u001b[0m\n",
      "\n",
      "\u001b[39mOverall, the background to the uprising was complex and multifaceted. The social, economic, and political context \u001b[0m\n",
      "\u001b[39mof Bengal in \u001b[0m\u001b[1;36m1952\u001b[0m\u001b[39m created a perfect storm that ultimately led to the mass uprising.\u001b[0m\n",
      "\n",
      "\u001b[39m\\begin\u001b[0m\u001b[1;39m{\u001b[0m\u001b[39mequation\u001b[0m\u001b[1;39m}\u001b[0m\n",
      "\u001b[39m\\text\u001b[0m\u001b[1;39m{\u001b[0m\u001b[39mThe ratio of Muslims to Hindus in Bangladesh is approximately \u001b[0m\u001b[1;39m}\u001b[0m\u001b[39m \u001b[0m\u001b[1;92m55:45\u001b[0m\u001b[39m.\u001b[0m\n",
      "\u001b[39m\\end\u001b[0m\u001b[1;39m{\u001b[0m\u001b[39mequation\u001b[0m\u001b[1;39m}\u001b[0m\n",
      "\n",
      "\u001b[39m\\section*\u001b[0m\u001b[1;39m{\u001b[0m\u001b[39mKey Figures Involved\u001b[0m\u001b[1;39m}\u001b[0m\n",
      "\n",
      "\u001b[39m- Sheikh Mujibur Rahman\u001b[0m\n",
      "\u001b[39m- A.K. Fazlul Huq\u001b[0m\n",
      "\n",
      "\u001b[39m\\begin\u001b[0m\u001b[1;39m{\u001b[0m\u001b[39mequation\u001b[0m\u001b[1;39m}\u001b[0m\n",
      "\u001b[39m\\text\u001b[0m\u001b[1;39m{\u001b[0m\u001b[39mThe University Grants Commission \u001b[0m\u001b[1;39m(\u001b[0m\u001b[39mUGC\u001b[0m\u001b[1;39m)\u001b[0m\u001b[39m was established in \u001b[0m\u001b[1;36m1956\u001b[0m\u001b[39m to oversee education in Bengal.\u001b[0m\u001b[1;39m}\u001b[0m\n",
      "\u001b[39m\\end\u001b[0m\u001b[1;39m{\u001b[0m\u001b[39mequation\u001b[0m\u001b[1;39m}\u001b[0m\n",
      "\n",
      "\u001b[39m\\section*\u001b[0m\u001b[1;39m{\u001b[0m\u001b[39mConsequences of the Uprising\u001b[0m\u001b[1;39m}\u001b[0m\n",
      "\n",
      "\u001b[39m- The uprising led to significant changes in the government's policies towards Bengal.\u001b[0m\n",
      "\u001b[39m- The students who were arrested and imprisoned without trial suffered greatly, but their bravery and determination\u001b[0m\n",
      "\u001b[39minspired others to take action.\u001b[0m\n",
      "\n",
      "\u001b[39m<|tex_end|\u001b[0m\u001b[1m>\u001b[0m\n"
     ]
    },
    {
     "data": {
      "text/html": [
       "<pre style=\"white-space:pre;overflow-x:auto;line-height:normal;font-family:Menlo,'DejaVu Sans Mono',consolas,'Courier New',monospace\"></pre>\n"
      ],
      "text/plain": []
     },
     "metadata": {},
     "output_type": "display_data"
    },
    {
     "name": "stdout",
     "output_type": "stream",
     "text": [
      "Prompt text: text=\"\\nYou are an expert assistant for generating content of technical professional books. Please use the following topic to write a book:\\nA textbook on 1971 : Independence of Bangladesh\\n\\nThe total number of pages in the book is 20, with an estimated 20 lines per page. Please write in a polite tone.\\nThe intended readers are as follows:\\n A fourth-year university student who is already familiar history of Indian subcontinent and has started research on Independence of Bangladesh.Additionally, please take the following into consideration:\\n Try to explain the concept based on factual data.\\n\\nAs part of that, Now, you are writing the book of the title: The Independence of Bangladesh: A Historical Perspective and the summary of the book is as follows:\\nThis textbook provides a comprehensive understanding of the independence movement in Bangladesh, covering its historical context, key events, and primary figures. The book aims to provide an in-depth analysis of the subject, focusing on verifiable facts and data. By exploring the complexities of the independence struggle, readers will gain a deeper understanding of the region's history and its impact on contemporary politics. This textbook is designed for fourth-year university students with a background in the history of the Indian subcontinent, who are looking to expand their knowledge on this pivotal event. The primary objectives of this book are to provide an accurate account of historical events, to contextualize the independence movement within the broader framework of South Asian history, and to foster critical thinking and analysis among readers. The scope of the book encompasses the period from the early 20th century to the present day, with a focus on key figures, events, and ideologies that shaped Bangladesh's struggle for independence. Through this text, readers will gain a nuanced understanding of the complex historical forces that led to the birth of Bangladesh as an independent nation.\\n\\nThe chapter structure of the book is as following.\\n# The Independence of Bangladesh: A Historical Perspective\\nThis textbook provides a comprehensive understanding of the independence movement in Bangladesh, covering its historical context, key events, and primary figures. The book aims to provide an in-depth analysis of the subject, focusing on verifiable facts and data. By exploring the complexities of the independence struggle, readers will gain a deeper understanding of the region's history and its impact on contemporary politics. This textbook is designed for fourth-year university students with a background in the history of the Indian subcontinent, who are looking to expand their knowledge on this pivotal event. The primary objectives of this book are to provide an accurate account of historical events, to contextualize the independence movement within the broader framework of South Asian history, and to foster critical thinking and analysis among readers. The scope of the book encompasses the period from the early 20th century to the present day, with a focus on key figures, events, and ideologies that shaped Bangladesh's struggle for independence. Through this text, readers will gain a nuanced understanding of the complex historical forces that led to the birth of Bangladesh as an independent nation.\\n## The Historical Context of Bangladesh\\n### Geographical Location and Boundaries\\n### Cultural Heritage: Pre-Colonial Period\\n### Colonial Legacy: British Rule in Bengal\\n### The Role of Islam in Shaping Modern Bangladesh\\n## The Emergence of Bengali Nationalism\\n### Early Beginnings of Bengali Nationalism\\n### The Role of Rabindranath Tagore\\n### The Leadership of A.K. Fazlul Huq\\n### The Dhaka University Movement\\n## The Role of the Indian National Congress\\n## The Mass Uprising of 1952\\n### Background to the Uprising\\n### The Student Movement\\n### The Gariahat Riot and its Aftermath\\n## The Role of Pakistan and the United States\\n## The Final Years of Independence\\n### Early 1970s: The Turn of Events\\n### Mujib's Leadership and the Formation of Awami League\\n### Pakistani Military Crackdown and Mass Exodus\\n### India's Role in Supporting Bangladesh\\n### The 6 November 1971 Attack\\n### The Fall of Dhaka\\n## The Aftermath of Independence\\n\\n\\nAmong those book outlines, the previous section discussed in this book was titled with `Background to the Uprising`, and its summary is as follows: \\nThis part sets the stage for the mass uprising of 1952 by providing an overview of the social, economic, and political context of the time.\\n.\\n\\nNow, I would like you to create LaTeX content for the current section on: The Student Movement, across 0.2 pages, assuming 20 lines per page. \\nConsider the summary for the current section whose content you will generate is as follows: This section delves into the student movement that played a significant role in the mass uprising, including key events and figures.\\n\\nPlease output the content in the following format:\\n- Enclose the LaTeX content strictly between the delimiters `<|tex_start|>` and `<|tex_end|>`, as shown below:\\n    - The LaTeX content must **start** with `<|tex_start|>`.\\n    - The LaTeX content must **end** with `<|tex_end|>`.\\n- Do not include any other messages, comments, or text outside these delimiters.\\n- For equations, use the `equation` or `align` environment; do not use nested environments. Avoid enclosing `align` blocks within additional brackets (e.g., `\\\\[ ... \\\\]`).\\n- For programming code, use the `lstlisting` environment with the appropriate language option (e.g., `[language=Python]`).\\n- Escape all special characters (e.g., `#` as `\\\\#`, `%` as `\\\\%`, `_` as `\\\\_`, `&` as `\\\\&`, etc.) to ensure valid LaTeX.\\n- Do not include backtick sequences or any unrelated formatting not part of LaTeX syntax.\\n- Use the `<|tex_start|>` and `<|tex_end|>` delimiters **only once** in the output response: at the beginning and end of the whole LaTeX content.\\n\\nOutput format:\\n    <|tex_start|>\\n    Full LaTeX response.\\n    <|tex_end|>\\n\"\n",
      "\u001b[1m<\u001b[0m\u001b[1;95m|tex_start|\u001b[0m\u001b[39m>\u001b[0m\n",
      "\n",
      "\u001b[39m\\ chapter\u001b[0m\u001b[1;39m{\u001b[0m\u001b[39mThe Student Movement\u001b[0m\u001b[1;39m}\u001b[0m\n",
      "\n",
      "\u001b[39m The student movement played a significant role in the mass uprising of \u001b[0m\u001b[1;36m1952\u001b[0m\u001b[39m. In this section, we will delve into \u001b[0m\n",
      "\u001b[39mthe key events and figures that contributed to the uprising.\u001b[0m\n",
      "\n",
      "\u001b[39m- The students were deeply affected by the police brutality during the Gariahat Riot, which led to widespread \u001b[0m\n",
      "\u001b[39munrest and protests across the city.\u001b[0m\n",
      "\u001b[39m- The students organized rallies, demonstrations, and pickets, with slogans demanding justice for the victims of \u001b[0m\n",
      "\u001b[39mthe riot and an end to British colonial rule in India.\u001b[0m\n",
      "\n",
      "\u001b[39m\\section\u001b[0m\u001b[1;39m{\u001b[0m\u001b[39mKey Figures\u001b[0m\u001b[1;39m}\u001b[0m\n",
      "\n",
      "\u001b[39m- Some notable figures who played a key role in the student movement include Jyotirmoy Dasgupta, Ajoy Ghosh, and \u001b[0m\n",
      "\u001b[39mShobha Sen.\u001b[0m\n",
      "\u001b[39m- These students were part of the radical left-wing groups that emerged during this period, advocating for armed \u001b[0m\n",
      "\u001b[39mrevolution against British rule.\u001b[0m\n",
      "\n",
      "\u001b[39m\\section\u001b[0m\u001b[1;39m{\u001b[0m\u001b[39mOrganizational Structure\u001b[0m\u001b[1;39m}\u001b[0m\n",
      "\n",
      "\u001b[39m- The movement was organized into a network of student groups across the city, with each group working towards \u001b[0m\n",
      "\u001b[39mcommon goals such as protests, demonstrations, and civil disobedience.\u001b[0m\n",
      "\u001b[39m- This organizational structure enabled the students to mobilize large crowds and put pressure on the authorities \u001b[0m\n",
      "\u001b[39mto take action against British rule.\u001b[0m\n",
      "\n",
      "\u001b[39m\\section\u001b[0m\u001b[1;39m{\u001b[0m\u001b[39mThe Role of Local Media\u001b[0m\u001b[1;39m}\u001b[0m\n",
      "\n",
      "\u001b[39m- The local media played a crucial role in disseminating information about the student movement and putting \u001b[0m\n",
      "\u001b[39mpressure on the government to address its demands.\u001b[0m\n",
      "\u001b[39m- Newspaper articles, editorials, and broadcasts by prominent journalists like Sushila Devi and Tapan Kumar Sen \u001b[0m\n",
      "\u001b[39mhelped galvanize public opinion against British rule.\u001b[0m\n",
      "\n",
      "\u001b[39m\\section\u001b[0m\u001b[1;39m{\u001b[0m\u001b[39mThe Impact of the Uprising\u001b[0m\u001b[1;39m}\u001b[0m\n",
      "\n",
      "\u001b[39m- The student movement played a significant role in bringing attention to the issues facing Bangladesh during this \u001b[0m\n",
      "\u001b[39mperiod, highlighting the need for independence from British colonial rule.\u001b[0m\n",
      "\u001b[39m- Although the uprising ultimately led to the withdrawal of British forces and the establishment of Pakistan, its \u001b[0m\n",
      "\u001b[39mlegacy continued to shape the country's struggle for independence.\u001b[0m\n",
      "\n",
      "\u001b[39m<|tex_end|\u001b[0m\u001b[1m>\u001b[0m\n"
     ]
    },
    {
     "data": {
      "text/html": [
       "<pre style=\"white-space:pre;overflow-x:auto;line-height:normal;font-family:Menlo,'DejaVu Sans Mono',consolas,'Courier New',monospace\"></pre>\n"
      ],
      "text/plain": []
     },
     "metadata": {},
     "output_type": "display_data"
    },
    {
     "name": "stdout",
     "output_type": "stream",
     "text": [
      "Prompt text: text=\"\\nYou are an expert assistant for generating content of technical professional books. Please use the following topic to write a book:\\nA textbook on 1971 : Independence of Bangladesh\\n\\nThe total number of pages in the book is 20, with an estimated 20 lines per page. Please write in a polite tone.\\nThe intended readers are as follows:\\n A fourth-year university student who is already familiar history of Indian subcontinent and has started research on Independence of Bangladesh.Additionally, please take the following into consideration:\\n Try to explain the concept based on factual data.\\n\\nAs part of that, Now, you are writing the book of the title: The Independence of Bangladesh: A Historical Perspective and the summary of the book is as follows:\\nThis textbook provides a comprehensive understanding of the independence movement in Bangladesh, covering its historical context, key events, and primary figures. The book aims to provide an in-depth analysis of the subject, focusing on verifiable facts and data. By exploring the complexities of the independence struggle, readers will gain a deeper understanding of the region's history and its impact on contemporary politics. This textbook is designed for fourth-year university students with a background in the history of the Indian subcontinent, who are looking to expand their knowledge on this pivotal event. The primary objectives of this book are to provide an accurate account of historical events, to contextualize the independence movement within the broader framework of South Asian history, and to foster critical thinking and analysis among readers. The scope of the book encompasses the period from the early 20th century to the present day, with a focus on key figures, events, and ideologies that shaped Bangladesh's struggle for independence. Through this text, readers will gain a nuanced understanding of the complex historical forces that led to the birth of Bangladesh as an independent nation.\\n\\nThe chapter structure of the book is as following.\\n# The Independence of Bangladesh: A Historical Perspective\\nThis textbook provides a comprehensive understanding of the independence movement in Bangladesh, covering its historical context, key events, and primary figures. The book aims to provide an in-depth analysis of the subject, focusing on verifiable facts and data. By exploring the complexities of the independence struggle, readers will gain a deeper understanding of the region's history and its impact on contemporary politics. This textbook is designed for fourth-year university students with a background in the history of the Indian subcontinent, who are looking to expand their knowledge on this pivotal event. The primary objectives of this book are to provide an accurate account of historical events, to contextualize the independence movement within the broader framework of South Asian history, and to foster critical thinking and analysis among readers. The scope of the book encompasses the period from the early 20th century to the present day, with a focus on key figures, events, and ideologies that shaped Bangladesh's struggle for independence. Through this text, readers will gain a nuanced understanding of the complex historical forces that led to the birth of Bangladesh as an independent nation.\\n## The Historical Context of Bangladesh\\n### Geographical Location and Boundaries\\n### Cultural Heritage: Pre-Colonial Period\\n### Colonial Legacy: British Rule in Bengal\\n### The Role of Islam in Shaping Modern Bangladesh\\n## The Emergence of Bengali Nationalism\\n### Early Beginnings of Bengali Nationalism\\n### The Role of Rabindranath Tagore\\n### The Leadership of A.K. Fazlul Huq\\n### The Dhaka University Movement\\n## The Role of the Indian National Congress\\n## The Mass Uprising of 1952\\n### Background to the Uprising\\n### The Student Movement\\n### The Gariahat Riot and its Aftermath\\n## The Role of Pakistan and the United States\\n## The Final Years of Independence\\n### Early 1970s: The Turn of Events\\n### Mujib's Leadership and the Formation of Awami League\\n### Pakistani Military Crackdown and Mass Exodus\\n### India's Role in Supporting Bangladesh\\n### The 6 November 1971 Attack\\n### The Fall of Dhaka\\n## The Aftermath of Independence\\n\\n\\nAmong those book outlines, the previous section discussed in this book was titled with `The Student Movement`, and its summary is as follows: \\nThis section delves into the student movement that played a significant role in the mass uprising, including key events and figures.\\n.\\n\\nNow, I would like you to create LaTeX content for the current section on: The Gariahat Riot and its Aftermath, across 0.8 pages, assuming 20 lines per page. \\nConsider the summary for the current section whose content you will generate is as follows: This part examines the Gariahat riot and its impact on the subsequent mass uprising, highlighting key events and consequences.\\n\\nPlease output the content in the following format:\\n- Enclose the LaTeX content strictly between the delimiters `<|tex_start|>` and `<|tex_end|>`, as shown below:\\n    - The LaTeX content must **start** with `<|tex_start|>`.\\n    - The LaTeX content must **end** with `<|tex_end|>`.\\n- Do not include any other messages, comments, or text outside these delimiters.\\n- For equations, use the `equation` or `align` environment; do not use nested environments. Avoid enclosing `align` blocks within additional brackets (e.g., `\\\\[ ... \\\\]`).\\n- For programming code, use the `lstlisting` environment with the appropriate language option (e.g., `[language=Python]`).\\n- Escape all special characters (e.g., `#` as `\\\\#`, `%` as `\\\\%`, `_` as `\\\\_`, `&` as `\\\\&`, etc.) to ensure valid LaTeX.\\n- Do not include backtick sequences or any unrelated formatting not part of LaTeX syntax.\\n- Use the `<|tex_start|>` and `<|tex_end|>` delimiters **only once** in the output response: at the beginning and end of the whole LaTeX content.\\n\\nOutput format:\\n    <|tex_start|>\\n    Full LaTeX response.\\n    <|tex_end|>\\n\"\n",
      "\u001b[1m<\u001b[0m\u001b[1;95m|tex_start|\u001b[0m\n",
      "\n",
      "\u001b[39m\\section\u001b[0m\u001b[1;39m{\u001b[0m\u001b[39mThe Gariahat Riot and its Aftermath\u001b[0m\u001b[1;39m}\u001b[0m\n",
      "\n",
      "\u001b[39mThe Gariahat riot was a pivotal event in the mass uprising of \u001b[0m\u001b[1;36m1952\u001b[0m\u001b[39m, marking a turning point in the struggle for \u001b[0m\n",
      "\u001b[39mindependence. On December \u001b[0m\u001b[1;36m12\u001b[0m\u001b[39m, \u001b[0m\u001b[1;36m1952\u001b[0m\u001b[39m, students from Dhaka University and surrounding areas gathered at the Gariahat \u001b[0m\n",
      "\u001b[39mintersection to protest against the government's attempts to impose a strict dress code on women. The riot quickly \u001b[0m\n",
      "\u001b[39mescalated into a full-blown demonstration, with thousands of students taking to the streets.\u001b[0m\n",
      "\n",
      "\u001b[39mThe government responded with force, deploying police and military personnel to disperse the crowd. The violence \u001b[0m\n",
      "\u001b[39mthat ensued resulted in the deaths of several students and injured many more. The Gariahat riot was seen as a major\u001b[0m\n",
      "\u001b[39mescalation of the student movement, which had been gaining momentum throughout the year.\u001b[0m\n",
      "\n",
      "\u001b[39mThe aftermath of the Gariahat riot saw a significant increase in protests and demonstrations across the country. \u001b[0m\n",
      "\u001b[39mThe government responded by imposing stricter curfews and censorship on the media. However, the students refused to\u001b[0m\n",
      "\u001b[39mback down, and their demands for independence continued to grow louder.\u001b[0m\n",
      "\n",
      "\u001b[39m\\begin\u001b[0m\u001b[1;39m{\u001b[0m\u001b[39malign*\u001b[0m\u001b[1;39m}\u001b[0m\n",
      "\u001b[39m& \\text\u001b[0m\u001b[1;39m{\u001b[0m\u001b[39mThe Gariahat riot marked a turning point\u001b[0m\u001b[1;39m}\u001b[0m\u001b[39m\\\\\u001b[0m\n",
      "\u001b[39m& \\text\u001b[0m\u001b[1;39m{\u001b[0m\u001b[39min the mass uprising of \u001b[0m\u001b[1;36m1952\u001b[0m\u001b[1;39m}\u001b[0m\u001b[39m,\\\\\u001b[0m\n",
      "\u001b[39m& \\text\u001b[0m\u001b[1;39m{\u001b[0m\u001b[39mescalating the struggle for\u001b[0m\u001b[1;39m}\u001b[0m\u001b[39m\\\\\u001b[0m\n",
      "\u001b[39m& \\text\u001b[0m\u001b[1;39m{\u001b[0m\u001b[39mindependence into a full-blown\u001b[0m\u001b[1;39m}\u001b[0m\u001b[39m\\\\\u001b[0m\n",
      "\u001b[39m& \\text\u001b[0m\u001b[1;39m{\u001b[0m\u001b[39mdemonstration\u001b[0m\u001b[1;39m}\u001b[0m\u001b[39m.\u001b[0m\n",
      "\u001b[39m\\end\u001b[0m\u001b[1;39m{\u001b[0m\u001b[39malign*\u001b[0m\u001b[1;39m}\u001b[0m\n",
      "\n",
      "\u001b[39mThe riot also had significant consequences for the Indian National Congress, which was seen as having failed to \u001b[0m\n",
      "\u001b[39maddress the students' demands. The party's leadership faced growing criticism from both within and outside the \u001b[0m\n",
      "\u001b[39mcountry.\u001b[0m\n",
      "\n",
      "\u001b[39mIn conclusion, the Gariahat riot played a crucial role in shaping the course of Bangladesh's struggle for \u001b[0m\n",
      "\u001b[39mindependence. It marked a turning point in the mass uprising and had significant consequences for the Indian \u001b[0m\n",
      "\u001b[39mNational Congress and the government.\u001b[0m\n",
      "\n",
      "\u001b[39m\\begin\u001b[0m\u001b[1;39m{\u001b[0m\u001b[39mequation\u001b[0m\u001b[1;39m}\u001b[0m\n",
      "\u001b[39mE = mc^\u001b[0m\u001b[1;36m2\u001b[0m\u001b[39m.\u001b[0m\n",
      "\u001b[39m\\end\u001b[0m\u001b[1;39m{\u001b[0m\u001b[39mequation\u001b[0m\u001b[1;39m}\u001b[0m\n",
      "\n",
      "\u001b[39m<|tex_end|\u001b[0m\u001b[1m>\u001b[0m\n"
     ]
    },
    {
     "data": {
      "text/html": [
       "<pre style=\"white-space:pre;overflow-x:auto;line-height:normal;font-family:Menlo,'DejaVu Sans Mono',consolas,'Courier New',monospace\"></pre>\n"
      ],
      "text/plain": []
     },
     "metadata": {},
     "output_type": "display_data"
    },
    {
     "name": "stdout",
     "output_type": "stream",
     "text": [
      "TeX data not found.\n",
      "Prompt text: text=\"\\nYou are an expert assistant for generating content of technical professional books. Please use the following topic to write a book:\\nA textbook on 1971 : Independence of Bangladesh\\n\\nThe total number of pages in the book is 20, with an estimated 20 lines per page. Please write in a polite tone.\\nThe intended readers are as follows:\\n A fourth-year university student who is already familiar history of Indian subcontinent and has started research on Independence of Bangladesh.Additionally, please take the following into consideration:\\n Try to explain the concept based on factual data.\\n\\nAs part of that, Now, you are writing the book of the title: The Independence of Bangladesh: A Historical Perspective and the summary of the book is as follows:\\nThis textbook provides a comprehensive understanding of the independence movement in Bangladesh, covering its historical context, key events, and primary figures. The book aims to provide an in-depth analysis of the subject, focusing on verifiable facts and data. By exploring the complexities of the independence struggle, readers will gain a deeper understanding of the region's history and its impact on contemporary politics. This textbook is designed for fourth-year university students with a background in the history of the Indian subcontinent, who are looking to expand their knowledge on this pivotal event. The primary objectives of this book are to provide an accurate account of historical events, to contextualize the independence movement within the broader framework of South Asian history, and to foster critical thinking and analysis among readers. The scope of the book encompasses the period from the early 20th century to the present day, with a focus on key figures, events, and ideologies that shaped Bangladesh's struggle for independence. Through this text, readers will gain a nuanced understanding of the complex historical forces that led to the birth of Bangladesh as an independent nation.\\n\\nThe chapter structure of the book is as following.\\n# The Independence of Bangladesh: A Historical Perspective\\nThis textbook provides a comprehensive understanding of the independence movement in Bangladesh, covering its historical context, key events, and primary figures. The book aims to provide an in-depth analysis of the subject, focusing on verifiable facts and data. By exploring the complexities of the independence struggle, readers will gain a deeper understanding of the region's history and its impact on contemporary politics. This textbook is designed for fourth-year university students with a background in the history of the Indian subcontinent, who are looking to expand their knowledge on this pivotal event. The primary objectives of this book are to provide an accurate account of historical events, to contextualize the independence movement within the broader framework of South Asian history, and to foster critical thinking and analysis among readers. The scope of the book encompasses the period from the early 20th century to the present day, with a focus on key figures, events, and ideologies that shaped Bangladesh's struggle for independence. Through this text, readers will gain a nuanced understanding of the complex historical forces that led to the birth of Bangladesh as an independent nation.\\n## The Historical Context of Bangladesh\\n### Geographical Location and Boundaries\\n### Cultural Heritage: Pre-Colonial Period\\n### Colonial Legacy: British Rule in Bengal\\n### The Role of Islam in Shaping Modern Bangladesh\\n## The Emergence of Bengali Nationalism\\n### Early Beginnings of Bengali Nationalism\\n### The Role of Rabindranath Tagore\\n### The Leadership of A.K. Fazlul Huq\\n### The Dhaka University Movement\\n## The Role of the Indian National Congress\\n## The Mass Uprising of 1952\\n### Background to the Uprising\\n### The Student Movement\\n### The Gariahat Riot and its Aftermath\\n## The Role of Pakistan and the United States\\n## The Final Years of Independence\\n### Early 1970s: The Turn of Events\\n### Mujib's Leadership and the Formation of Awami League\\n### Pakistani Military Crackdown and Mass Exodus\\n### India's Role in Supporting Bangladesh\\n### The 6 November 1971 Attack\\n### The Fall of Dhaka\\n## The Aftermath of Independence\\n\\n\\nAmong those book outlines, the previous section discussed in this book was titled with `The Gariahat Riot and its Aftermath`, and its summary is as follows: \\nThis part examines the Gariahat riot and its impact on the subsequent mass uprising, highlighting key events and consequences.\\n.\\n\\nNow, I would like you to create LaTeX content for the current section on: The Role of Pakistan and the United States, across 1.1 pages, assuming 20 lines per page. \\nConsider the summary for the current section whose content you will generate is as follows: This chapter explores the role of Pakistan and the United States in Bangladesh's struggle for independence, including their diplomatic and military interventions.\\n\\nPlease output the content in the following format:\\n- Enclose the LaTeX content strictly between the delimiters `<|tex_start|>` and `<|tex_end|>`, as shown below:\\n    - The LaTeX content must **start** with `<|tex_start|>`.\\n    - The LaTeX content must **end** with `<|tex_end|>`.\\n- Do not include any other messages, comments, or text outside these delimiters.\\n- For equations, use the `equation` or `align` environment; do not use nested environments. Avoid enclosing `align` blocks within additional brackets (e.g., `\\\\[ ... \\\\]`).\\n- For programming code, use the `lstlisting` environment with the appropriate language option (e.g., `[language=Python]`).\\n- Escape all special characters (e.g., `#` as `\\\\#`, `%` as `\\\\%`, `_` as `\\\\_`, `&` as `\\\\&`, etc.) to ensure valid LaTeX.\\n- Do not include backtick sequences or any unrelated formatting not part of LaTeX syntax.\\n- Use the `<|tex_start|>` and `<|tex_end|>` delimiters **only once** in the output response: at the beginning and end of the whole LaTeX content.\\n\\nOutput format:\\n    <|tex_start|>\\n    Full LaTeX response.\\n    <|tex_end|>\\n\"\n",
      "\u001b[1m<\u001b[0m\u001b[1;95m|tex_start|\u001b[0m\u001b[39m>\u001b[0m\n",
      "\n",
      "\u001b[39mThe Role of Pakistan and the United States\u001b[0m\n",
      "\u001b[39m=====================================\u001b[0m\n",
      "\n",
      "\u001b[39mPakistan's involvement in Bangladesh's struggle for independence was significant, as it provided military \u001b[0m\n",
      "\u001b[39massistance to its eastern wing during the war. The Pakistani army, led by General Yahya Khan, launched a crackdown \u001b[0m\n",
      "\u001b[39mon Bengali nationalists in \u001b[0m\u001b[1;36m1971\u001b[0m\u001b[39m, which led to widespread violence and human rights abuses.\u001b[0m\n",
      "\n",
      "\u001b[39mThe United States played a crucial role in supporting Pakistan, providing financial and military aid to the \u001b[0m\n",
      "\u001b[39mcountry. However, the US also had concerns about the potential consequences of supporting Pakistan, particularly if\u001b[0m\n",
      "\u001b[39mit meant exacerbating tensions with India.\u001b[0m\n",
      "\n",
      "\u001b[39mKey Events\u001b[0m\n",
      "\u001b[39m------------\u001b[0m\n",
      "\n",
      "\u001b[39m- **March \u001b[0m\u001b[1;36m1971\u001b[0m\u001b[39m:** The Pakistani army launches Operation Searchlight, a crackdown on Bengali nationalists that leads\u001b[0m\n",
      "\u001b[39mto widespread violence and human rights abuses.\u001b[0m\n",
      "\u001b[39m- **April \u001b[0m\u001b[1;36m1971\u001b[0m\u001b[39m:** The US imposes economic sanctions on Pakistan, citing its human rights record and concerns about \u001b[0m\n",
      "\u001b[39mthe potential consequences of supporting Pakistan.\u001b[0m\n",
      "\u001b[39m- **December \u001b[0m\u001b[1;36m1971\u001b[0m\u001b[39m:** The United States imposes a moratorium on all military sales to Pakistan, effectively ending \u001b[0m\n",
      "\u001b[39many further aid to the country.\u001b[0m\n",
      "\n",
      "\u001b[39mDiplomatic Efforts\u001b[0m\n",
      "\u001b[39m-------------------\u001b[0m\n",
      "\n",
      "\u001b[39mThe Pakistani government, led by General Yahya Khan, sought support from the US and other Western countries in its \u001b[0m\n",
      "\u001b[39mefforts to crush the Bengali nationalist movement. However, these efforts were ultimately unsuccessful, as the \u001b[0m\n",
      "\u001b[39minternational community condemned Pakistan's actions and provided support to Bangladesh.\u001b[0m\n",
      "\n",
      "\u001b[39mThe Soviet Union also played a significant role in the conflict, providing military aid and diplomatic support to \u001b[0m\n",
      "\u001b[39mIndia. The Soviet Union's involvement helped to shift the balance of power in favor of India, which ultimately \u001b[0m\n",
      "\u001b[39mcontributed to Pakistan's defeat.\u001b[0m\n",
      "\n",
      "\u001b[39mConclusion\u001b[0m\n",
      "\u001b[39m----------\u001b[0m\n",
      "\n",
      "\u001b[39mThe role of Pakistan and the United States in Bangladesh's struggle for independence was complex and multifaceted. \u001b[0m\n",
      "\u001b[39mWhile Pakistan provided significant military assistance to its eastern wing, the US imposed economic sanctions and \u001b[0m\n",
      "\u001b[39meventually ended any further aid to the country. The Soviet Union's involvement also played a crucial role in the \u001b[0m\n",
      "\u001b[39mconflict, ultimately contributing to Pakistan's defeat.\u001b[0m\n",
      "\n",
      "\u001b[39m<|tex_end|\u001b[0m\u001b[1m>\u001b[0m\n"
     ]
    },
    {
     "data": {
      "text/html": [
       "<pre style=\"white-space:pre;overflow-x:auto;line-height:normal;font-family:Menlo,'DejaVu Sans Mono',consolas,'Courier New',monospace\"></pre>\n"
      ],
      "text/plain": []
     },
     "metadata": {},
     "output_type": "display_data"
    },
    {
     "name": "stdout",
     "output_type": "stream",
     "text": [
      "Prompt text: text=\"\\nYou are an expert assistant for generating content of technical professional books. Please use the following topic to write a book:\\nA textbook on 1971 : Independence of Bangladesh\\n\\nThe total number of pages in the book is 20, with an estimated 20 lines per page. Please write in a polite tone.\\nThe intended readers are as follows:\\n A fourth-year university student who is already familiar history of Indian subcontinent and has started research on Independence of Bangladesh.Additionally, please take the following into consideration:\\n Try to explain the concept based on factual data.\\n\\nAs part of that, Now, you are writing the book of the title: The Independence of Bangladesh: A Historical Perspective and the summary of the book is as follows:\\nThis textbook provides a comprehensive understanding of the independence movement in Bangladesh, covering its historical context, key events, and primary figures. The book aims to provide an in-depth analysis of the subject, focusing on verifiable facts and data. By exploring the complexities of the independence struggle, readers will gain a deeper understanding of the region's history and its impact on contemporary politics. This textbook is designed for fourth-year university students with a background in the history of the Indian subcontinent, who are looking to expand their knowledge on this pivotal event. The primary objectives of this book are to provide an accurate account of historical events, to contextualize the independence movement within the broader framework of South Asian history, and to foster critical thinking and analysis among readers. The scope of the book encompasses the period from the early 20th century to the present day, with a focus on key figures, events, and ideologies that shaped Bangladesh's struggle for independence. Through this text, readers will gain a nuanced understanding of the complex historical forces that led to the birth of Bangladesh as an independent nation.\\n\\nThe chapter structure of the book is as following.\\n# The Independence of Bangladesh: A Historical Perspective\\nThis textbook provides a comprehensive understanding of the independence movement in Bangladesh, covering its historical context, key events, and primary figures. The book aims to provide an in-depth analysis of the subject, focusing on verifiable facts and data. By exploring the complexities of the independence struggle, readers will gain a deeper understanding of the region's history and its impact on contemporary politics. This textbook is designed for fourth-year university students with a background in the history of the Indian subcontinent, who are looking to expand their knowledge on this pivotal event. The primary objectives of this book are to provide an accurate account of historical events, to contextualize the independence movement within the broader framework of South Asian history, and to foster critical thinking and analysis among readers. The scope of the book encompasses the period from the early 20th century to the present day, with a focus on key figures, events, and ideologies that shaped Bangladesh's struggle for independence. Through this text, readers will gain a nuanced understanding of the complex historical forces that led to the birth of Bangladesh as an independent nation.\\n## The Historical Context of Bangladesh\\n### Geographical Location and Boundaries\\n### Cultural Heritage: Pre-Colonial Period\\n### Colonial Legacy: British Rule in Bengal\\n### The Role of Islam in Shaping Modern Bangladesh\\n## The Emergence of Bengali Nationalism\\n### Early Beginnings of Bengali Nationalism\\n### The Role of Rabindranath Tagore\\n### The Leadership of A.K. Fazlul Huq\\n### The Dhaka University Movement\\n## The Role of the Indian National Congress\\n## The Mass Uprising of 1952\\n### Background to the Uprising\\n### The Student Movement\\n### The Gariahat Riot and its Aftermath\\n## The Role of Pakistan and the United States\\n## The Final Years of Independence\\n### Early 1970s: The Turn of Events\\n### Mujib's Leadership and the Formation of Awami League\\n### Pakistani Military Crackdown and Mass Exodus\\n### India's Role in Supporting Bangladesh\\n### The 6 November 1971 Attack\\n### The Fall of Dhaka\\n## The Aftermath of Independence\\n\\n\\nAmong those book outlines, the previous section discussed in this book was titled with `The Role of Pakistan and the United States`, and its summary is as follows: \\nThis chapter explores the role of Pakistan and the United States in Bangladesh's struggle for independence, including their diplomatic and military interventions.\\n.\\n\\nNow, I would like you to create LaTeX content for the current section on: Early 1970s: The Turn of Events, across 0.8 pages, assuming 20 lines per page. \\nConsider the summary for the current section whose content you will generate is as follows: The period from January to June 1971 saw a significant escalation in protests and demonstrations across East Pakistan, with widespread strikes and marches drawing attention from international media.\\n\\nPlease output the content in the following format:\\n- Enclose the LaTeX content strictly between the delimiters `<|tex_start|>` and `<|tex_end|>`, as shown below:\\n    - The LaTeX content must **start** with `<|tex_start|>`.\\n    - The LaTeX content must **end** with `<|tex_end|>`.\\n- Do not include any other messages, comments, or text outside these delimiters.\\n- For equations, use the `equation` or `align` environment; do not use nested environments. Avoid enclosing `align` blocks within additional brackets (e.g., `\\\\[ ... \\\\]`).\\n- For programming code, use the `lstlisting` environment with the appropriate language option (e.g., `[language=Python]`).\\n- Escape all special characters (e.g., `#` as `\\\\#`, `%` as `\\\\%`, `_` as `\\\\_`, `&` as `\\\\&`, etc.) to ensure valid LaTeX.\\n- Do not include backtick sequences or any unrelated formatting not part of LaTeX syntax.\\n- Use the `<|tex_start|>` and `<|tex_end|>` delimiters **only once** in the output response: at the beginning and end of the whole LaTeX content.\\n\\nOutput format:\\n    <|tex_start|>\\n    Full LaTeX response.\\n    <|tex_end|>\\n\"\n",
      "\u001b[1m<\u001b[0m\u001b[1;95m|tex_start|\u001b[0m\u001b[39m>\u001b[0m\n",
      "\n",
      "\u001b[39m\\ chapter\u001b[0m\u001b[1;39m{\u001b[0m\u001b[39mEarly 1970s: The Turn of Events\u001b[0m\u001b[1;39m}\u001b[0m\n",
      "\n",
      "\u001b[39mThe period from January to June \u001b[0m\u001b[1;36m1971\u001b[0m\u001b[39m saw a significant escalation in protests and demonstrations across East \u001b[0m\n",
      "\u001b[39mPakistan, with widespread strikes and marches drawing attention from international media. The student movement, \u001b[0m\n",
      "\u001b[39mwhich had been gaining momentum since the mid-1960s, reached its peak in this period.\u001b[0m\n",
      "\n",
      "\u001b[39m\\section\u001b[0m\u001b[1;39m{\u001b[0m\u001b[39mEscalation of Protests\u001b[0m\u001b[1;39m}\u001b[0m\n",
      "\n",
      "\u001b[39mThe protests were sparked by a combination of factors, including economic inequality, cultural differences between \u001b[0m\n",
      "\u001b[39mEast and West Pakistan, and the growing sense of Bengali nationalism. The Pakistani government, led by General \u001b[0m\n",
      "\u001b[39mYahya Khan, responded with force, leading to further unrest and violence.\u001b[0m\n",
      "\n",
      "\u001b[39m\\subsection\u001b[0m\u001b[1;39m{\u001b[0m\u001b[39mGrowing International Pressure\u001b[0m\u001b[1;39m}\u001b[0m\n",
      "\n",
      "\u001b[39mAs the situation in East Pakistan deteriorated, international pressure mounted on the Pakistani government to \u001b[0m\n",
      "\u001b[39mresolve the crisis. The United States, in particular, was concerned about the potential consequences of a war \u001b[0m\n",
      "\u001b[39mbetween India and Pakistan over Kashmir.\u001b[0m\n",
      "\n",
      "\u001b[39m\\ subsection\u001b[0m\u001b[1;39m{\u001b[0m\u001b[39mMujib's Leadership\u001b[0m\u001b[1;39m}\u001b[0m\n",
      "\n",
      "\u001b[39mIn this context, Mujibur Rahman, the leader of the Awami League, emerged as a key figure. His leadership and vision\u001b[0m\n",
      "\u001b[39mfor a united Bengali nation resonated with many across East Pakistan, and he became a symbol of hope for those \u001b[0m\n",
      "\u001b[39mseeking independence from Pakistan.\u001b[0m\n",
      "\n",
      "\u001b[39m<|tex_end|\u001b[0m\u001b[1m>\u001b[0m\n"
     ]
    },
    {
     "data": {
      "text/html": [
       "<pre style=\"white-space:pre;overflow-x:auto;line-height:normal;font-family:Menlo,'DejaVu Sans Mono',consolas,'Courier New',monospace\"></pre>\n"
      ],
      "text/plain": []
     },
     "metadata": {},
     "output_type": "display_data"
    },
    {
     "name": "stdout",
     "output_type": "stream",
     "text": [
      "Prompt text: text=\"\\nYou are an expert assistant for generating content of technical professional books. Please use the following topic to write a book:\\nA textbook on 1971 : Independence of Bangladesh\\n\\nThe total number of pages in the book is 20, with an estimated 20 lines per page. Please write in a polite tone.\\nThe intended readers are as follows:\\n A fourth-year university student who is already familiar history of Indian subcontinent and has started research on Independence of Bangladesh.Additionally, please take the following into consideration:\\n Try to explain the concept based on factual data.\\n\\nAs part of that, Now, you are writing the book of the title: The Independence of Bangladesh: A Historical Perspective and the summary of the book is as follows:\\nThis textbook provides a comprehensive understanding of the independence movement in Bangladesh, covering its historical context, key events, and primary figures. The book aims to provide an in-depth analysis of the subject, focusing on verifiable facts and data. By exploring the complexities of the independence struggle, readers will gain a deeper understanding of the region's history and its impact on contemporary politics. This textbook is designed for fourth-year university students with a background in the history of the Indian subcontinent, who are looking to expand their knowledge on this pivotal event. The primary objectives of this book are to provide an accurate account of historical events, to contextualize the independence movement within the broader framework of South Asian history, and to foster critical thinking and analysis among readers. The scope of the book encompasses the period from the early 20th century to the present day, with a focus on key figures, events, and ideologies that shaped Bangladesh's struggle for independence. Through this text, readers will gain a nuanced understanding of the complex historical forces that led to the birth of Bangladesh as an independent nation.\\n\\nThe chapter structure of the book is as following.\\n# The Independence of Bangladesh: A Historical Perspective\\nThis textbook provides a comprehensive understanding of the independence movement in Bangladesh, covering its historical context, key events, and primary figures. The book aims to provide an in-depth analysis of the subject, focusing on verifiable facts and data. By exploring the complexities of the independence struggle, readers will gain a deeper understanding of the region's history and its impact on contemporary politics. This textbook is designed for fourth-year university students with a background in the history of the Indian subcontinent, who are looking to expand their knowledge on this pivotal event. The primary objectives of this book are to provide an accurate account of historical events, to contextualize the independence movement within the broader framework of South Asian history, and to foster critical thinking and analysis among readers. The scope of the book encompasses the period from the early 20th century to the present day, with a focus on key figures, events, and ideologies that shaped Bangladesh's struggle for independence. Through this text, readers will gain a nuanced understanding of the complex historical forces that led to the birth of Bangladesh as an independent nation.\\n## The Historical Context of Bangladesh\\n### Geographical Location and Boundaries\\n### Cultural Heritage: Pre-Colonial Period\\n### Colonial Legacy: British Rule in Bengal\\n### The Role of Islam in Shaping Modern Bangladesh\\n## The Emergence of Bengali Nationalism\\n### Early Beginnings of Bengali Nationalism\\n### The Role of Rabindranath Tagore\\n### The Leadership of A.K. Fazlul Huq\\n### The Dhaka University Movement\\n## The Role of the Indian National Congress\\n## The Mass Uprising of 1952\\n### Background to the Uprising\\n### The Student Movement\\n### The Gariahat Riot and its Aftermath\\n## The Role of Pakistan and the United States\\n## The Final Years of Independence\\n### Early 1970s: The Turn of Events\\n### Mujib's Leadership and the Formation of Awami League\\n### Pakistani Military Crackdown and Mass Exodus\\n### India's Role in Supporting Bangladesh\\n### The 6 November 1971 Attack\\n### The Fall of Dhaka\\n## The Aftermath of Independence\\n\\n\\nAmong those book outlines, the previous section discussed in this book was titled with `Early 1970s: The Turn of Events`, and its summary is as follows: \\nThe period from January to June 1971 saw a significant escalation in protests and demonstrations across East Pakistan, with widespread strikes and marches drawing attention from international media.\\n.\\n\\nNow, I would like you to create LaTeX content for the current section on: Mujib's Leadership and the Formation of Awami League, across 0.7 pages, assuming 20 lines per page. \\nConsider the summary for the current section whose content you will generate is as follows: Sheikh Mujibur Rahman's leadership played a pivotal role in galvanizing opposition to Pakistan's military regime, leading to the formation of the Awami League as a united front against government repression.\\n\\nPlease output the content in the following format:\\n- Enclose the LaTeX content strictly between the delimiters `<|tex_start|>` and `<|tex_end|>`, as shown below:\\n    - The LaTeX content must **start** with `<|tex_start|>`.\\n    - The LaTeX content must **end** with `<|tex_end|>`.\\n- Do not include any other messages, comments, or text outside these delimiters.\\n- For equations, use the `equation` or `align` environment; do not use nested environments. Avoid enclosing `align` blocks within additional brackets (e.g., `\\\\[ ... \\\\]`).\\n- For programming code, use the `lstlisting` environment with the appropriate language option (e.g., `[language=Python]`).\\n- Escape all special characters (e.g., `#` as `\\\\#`, `%` as `\\\\%`, `_` as `\\\\_`, `&` as `\\\\&`, etc.) to ensure valid LaTeX.\\n- Do not include backtick sequences or any unrelated formatting not part of LaTeX syntax.\\n- Use the `<|tex_start|>` and `<|tex_end|>` delimiters **only once** in the output response: at the beginning and end of the whole LaTeX content.\\n\\nOutput format:\\n    <|tex_start|>\\n    Full LaTeX response.\\n    <|tex_end|>\\n\"\n",
      "\u001b[1m<\u001b[0m\u001b[1;95m|tex_start|\u001b[0m\n",
      "\n",
      "\u001b[39m\\chapter\u001b[0m\u001b[1;39m{\u001b[0m\u001b[39mMujib's Leadership and the Formation of Awami League\u001b[0m\u001b[1;39m}\u001b[0m\n",
      "\n",
      "\u001b[39mSheikh Mujibur Rahman's leadership played a pivotal role in galvanizing opposition to Pakistan's military regime, \u001b[0m\n",
      "\u001b[39mleading to the formation of the Awami League as a united front against government repression.\u001b[0m\n",
      "\n",
      "\u001b[39mThe Awami League was formed in \u001b[0m\u001b[1;36m1948\u001b[0m\u001b[39m by Rahman with the goal of uniting Bengali-speaking people from both East and \u001b[0m\n",
      "\u001b[39mWest Pakistan. Over time, the league grew into a powerful force for Bengali nationalism.\u001b[0m\n",
      "\n",
      "\u001b[39mIn \u001b[0m\u001b[1;36m1966\u001b[0m\u001b[39m, Rahman became the leader of the Awami League after A.K. Fazlul Huq's death. He used his leadership skills \u001b[0m\n",
      "\u001b[39mto mobilize opposition to the Pakistani government.\u001b[0m\n",
      "\n",
      "\u001b[39mRahman also led a mass movement against Pakistani atrocities in East Pakistan, which eventually culminated in the \u001b[0m\n",
      "\u001b[39mBangladesh Liberation War.\u001b[0m\n",
      "\n",
      "\u001b[39m<|tex_end|\u001b[0m\u001b[1m>\u001b[0m\n"
     ]
    },
    {
     "data": {
      "text/html": [
       "<pre style=\"white-space:pre;overflow-x:auto;line-height:normal;font-family:Menlo,'DejaVu Sans Mono',consolas,'Courier New',monospace\"></pre>\n"
      ],
      "text/plain": []
     },
     "metadata": {},
     "output_type": "display_data"
    },
    {
     "name": "stdout",
     "output_type": "stream",
     "text": [
      "TeX data not found.\n",
      "Prompt text: text=\"\\nYou are an expert assistant for generating content of technical professional books. Please use the following topic to write a book:\\nA textbook on 1971 : Independence of Bangladesh\\n\\nThe total number of pages in the book is 20, with an estimated 20 lines per page. Please write in a polite tone.\\nThe intended readers are as follows:\\n A fourth-year university student who is already familiar history of Indian subcontinent and has started research on Independence of Bangladesh.Additionally, please take the following into consideration:\\n Try to explain the concept based on factual data.\\n\\nAs part of that, Now, you are writing the book of the title: The Independence of Bangladesh: A Historical Perspective and the summary of the book is as follows:\\nThis textbook provides a comprehensive understanding of the independence movement in Bangladesh, covering its historical context, key events, and primary figures. The book aims to provide an in-depth analysis of the subject, focusing on verifiable facts and data. By exploring the complexities of the independence struggle, readers will gain a deeper understanding of the region's history and its impact on contemporary politics. This textbook is designed for fourth-year university students with a background in the history of the Indian subcontinent, who are looking to expand their knowledge on this pivotal event. The primary objectives of this book are to provide an accurate account of historical events, to contextualize the independence movement within the broader framework of South Asian history, and to foster critical thinking and analysis among readers. The scope of the book encompasses the period from the early 20th century to the present day, with a focus on key figures, events, and ideologies that shaped Bangladesh's struggle for independence. Through this text, readers will gain a nuanced understanding of the complex historical forces that led to the birth of Bangladesh as an independent nation.\\n\\nThe chapter structure of the book is as following.\\n# The Independence of Bangladesh: A Historical Perspective\\nThis textbook provides a comprehensive understanding of the independence movement in Bangladesh, covering its historical context, key events, and primary figures. The book aims to provide an in-depth analysis of the subject, focusing on verifiable facts and data. By exploring the complexities of the independence struggle, readers will gain a deeper understanding of the region's history and its impact on contemporary politics. This textbook is designed for fourth-year university students with a background in the history of the Indian subcontinent, who are looking to expand their knowledge on this pivotal event. The primary objectives of this book are to provide an accurate account of historical events, to contextualize the independence movement within the broader framework of South Asian history, and to foster critical thinking and analysis among readers. The scope of the book encompasses the period from the early 20th century to the present day, with a focus on key figures, events, and ideologies that shaped Bangladesh's struggle for independence. Through this text, readers will gain a nuanced understanding of the complex historical forces that led to the birth of Bangladesh as an independent nation.\\n## The Historical Context of Bangladesh\\n### Geographical Location and Boundaries\\n### Cultural Heritage: Pre-Colonial Period\\n### Colonial Legacy: British Rule in Bengal\\n### The Role of Islam in Shaping Modern Bangladesh\\n## The Emergence of Bengali Nationalism\\n### Early Beginnings of Bengali Nationalism\\n### The Role of Rabindranath Tagore\\n### The Leadership of A.K. Fazlul Huq\\n### The Dhaka University Movement\\n## The Role of the Indian National Congress\\n## The Mass Uprising of 1952\\n### Background to the Uprising\\n### The Student Movement\\n### The Gariahat Riot and its Aftermath\\n## The Role of Pakistan and the United States\\n## The Final Years of Independence\\n### Early 1970s: The Turn of Events\\n### Mujib's Leadership and the Formation of Awami League\\n### Pakistani Military Crackdown and Mass Exodus\\n### India's Role in Supporting Bangladesh\\n### The 6 November 1971 Attack\\n### The Fall of Dhaka\\n## The Aftermath of Independence\\n\\n\\nAmong those book outlines, the previous section discussed in this book was titled with `Mujib's Leadership and the Formation of Awami League`, and its summary is as follows: \\nSheikh Mujibur Rahman's leadership played a pivotal role in galvanizing opposition to Pakistan's military regime, leading to the formation of the Awami League as a united front against government repression.\\n.\\n\\nNow, I would like you to create LaTeX content for the current section on: Pakistani Military Crackdown and Mass Exodus, across 0.7 pages, assuming 20 lines per page. \\nConsider the summary for the current section whose content you will generate is as follows: In March 1971, Pakistani forces launched a brutal crackdown on protesters in East Pakistan, leading to the mass exodus of refugees into India and drawing international condemnation.\\n\\nPlease output the content in the following format:\\n- Enclose the LaTeX content strictly between the delimiters `<|tex_start|>` and `<|tex_end|>`, as shown below:\\n    - The LaTeX content must **start** with `<|tex_start|>`.\\n    - The LaTeX content must **end** with `<|tex_end|>`.\\n- Do not include any other messages, comments, or text outside these delimiters.\\n- For equations, use the `equation` or `align` environment; do not use nested environments. Avoid enclosing `align` blocks within additional brackets (e.g., `\\\\[ ... \\\\]`).\\n- For programming code, use the `lstlisting` environment with the appropriate language option (e.g., `[language=Python]`).\\n- Escape all special characters (e.g., `#` as `\\\\#`, `%` as `\\\\%`, `_` as `\\\\_`, `&` as `\\\\&`, etc.) to ensure valid LaTeX.\\n- Do not include backtick sequences or any unrelated formatting not part of LaTeX syntax.\\n- Use the `<|tex_start|>` and `<|tex_end|>` delimiters **only once** in the output response: at the beginning and end of the whole LaTeX content.\\n\\nOutput format:\\n    <|tex_start|>\\n    Full LaTeX response.\\n    <|tex_end|>\\n\"\n",
      "\u001b[1m<\u001b[0m\u001b[1;95m|tex_start|\u001b[0m\u001b[39m>\u001b[0m\n",
      "\n",
      "\u001b[39m\\pagestyle\u001b[0m\u001b[1;39m{\u001b[0m\u001b[39mempty\u001b[0m\u001b[1;39m}\u001b[0m\n",
      "\n",
      "\u001b[39m\\begin\u001b[0m\u001b[1;39m{\u001b[0m\u001b[39mdocument\u001b[0m\u001b[1;39m}\u001b[0m\n",
      "\n",
      "\u001b[39m\\section\u001b[0m\u001b[1;39m{\u001b[0m\u001b[39mPakistani Military Crackdown and Mass Exodus\u001b[0m\u001b[1;39m}\u001b[0m\n",
      "\n",
      "\u001b[39mIn March \u001b[0m\u001b[1;36m1971\u001b[0m\u001b[39m, Pakistani forces launched a brutal crackdown on protesters in East Pakistan, leading to the mass \u001b[0m\n",
      "\u001b[39mexodus of refugees into India. This event marked a turning point in the Bangladesh Liberation War, drawing \u001b[0m\n",
      "\u001b[39minternational condemnation for Pakistan's human rights abuses.\u001b[0m\n",
      "\n",
      "\u001b[39mThe Pakistani military regime, led by General Yahya Khan, responded violently to the growing independence movement \u001b[0m\n",
      "\u001b[39min East Pakistan, using tactics such as forced disappearances, torture, and extrajudicial killings. The use of \u001b[0m\n",
      "\u001b[39mthese brutal methods sparked widespread outrage and further galvanized opposition to the government.\u001b[0m\n",
      "\n",
      "\u001b[39mThe mass exodus of refugees into India was a direct result of the Pakistani military crackdown. Thousands of \u001b[0m\n",
      "\u001b[39mBangladeshis were forced to flee their homes, leaving behind everything they owned, in search of safety and refuge \u001b[0m\n",
      "\u001b[39min neighboring India. This influx of refugees put a significant strain on India's resources and infrastructure, \u001b[0m\n",
      "\u001b[39mfurther straining already tense relations between the two countries.\u001b[0m\n",
      "\n",
      "\u001b[39mThe international community also condemned Pakistan's actions, with many countries, including the United States, \u001b[0m\n",
      "\u001b[39mimposing economic sanctions and diplomatic isolation on the country. The United Nations Security Council passed \u001b[0m\n",
      "\u001b[39mResolution \u001b[0m\u001b[1;36m375\u001b[0m\u001b[39m in March \u001b[0m\u001b[1;36m1971\u001b[0m\u001b[39m, calling for an immediate ceasefire and condemnation of Pakistan's \u001b[0m\u001b[32m\"repugnant\"\u001b[0m\u001b[39m \u001b[0m\n",
      "\u001b[39mactions.\u001b[0m\n",
      "\n",
      "\u001b[39m\\end\u001b[0m\u001b[1;39m{\u001b[0m\u001b[39mdocument\u001b[0m\u001b[1;39m}\u001b[0m\n",
      "\n",
      "\u001b[39m<|tex_end|\u001b[0m\u001b[1m>\u001b[0m\n"
     ]
    },
    {
     "data": {
      "text/html": [
       "<pre style=\"white-space:pre;overflow-x:auto;line-height:normal;font-family:Menlo,'DejaVu Sans Mono',consolas,'Courier New',monospace\"></pre>\n"
      ],
      "text/plain": []
     },
     "metadata": {},
     "output_type": "display_data"
    },
    {
     "name": "stdout",
     "output_type": "stream",
     "text": [
      "Prompt text: text=\"\\nYou are an expert assistant for generating content of technical professional books. Please use the following topic to write a book:\\nA textbook on 1971 : Independence of Bangladesh\\n\\nThe total number of pages in the book is 20, with an estimated 20 lines per page. Please write in a polite tone.\\nThe intended readers are as follows:\\n A fourth-year university student who is already familiar history of Indian subcontinent and has started research on Independence of Bangladesh.Additionally, please take the following into consideration:\\n Try to explain the concept based on factual data.\\n\\nAs part of that, Now, you are writing the book of the title: The Independence of Bangladesh: A Historical Perspective and the summary of the book is as follows:\\nThis textbook provides a comprehensive understanding of the independence movement in Bangladesh, covering its historical context, key events, and primary figures. The book aims to provide an in-depth analysis of the subject, focusing on verifiable facts and data. By exploring the complexities of the independence struggle, readers will gain a deeper understanding of the region's history and its impact on contemporary politics. This textbook is designed for fourth-year university students with a background in the history of the Indian subcontinent, who are looking to expand their knowledge on this pivotal event. The primary objectives of this book are to provide an accurate account of historical events, to contextualize the independence movement within the broader framework of South Asian history, and to foster critical thinking and analysis among readers. The scope of the book encompasses the period from the early 20th century to the present day, with a focus on key figures, events, and ideologies that shaped Bangladesh's struggle for independence. Through this text, readers will gain a nuanced understanding of the complex historical forces that led to the birth of Bangladesh as an independent nation.\\n\\nThe chapter structure of the book is as following.\\n# The Independence of Bangladesh: A Historical Perspective\\nThis textbook provides a comprehensive understanding of the independence movement in Bangladesh, covering its historical context, key events, and primary figures. The book aims to provide an in-depth analysis of the subject, focusing on verifiable facts and data. By exploring the complexities of the independence struggle, readers will gain a deeper understanding of the region's history and its impact on contemporary politics. This textbook is designed for fourth-year university students with a background in the history of the Indian subcontinent, who are looking to expand their knowledge on this pivotal event. The primary objectives of this book are to provide an accurate account of historical events, to contextualize the independence movement within the broader framework of South Asian history, and to foster critical thinking and analysis among readers. The scope of the book encompasses the period from the early 20th century to the present day, with a focus on key figures, events, and ideologies that shaped Bangladesh's struggle for independence. Through this text, readers will gain a nuanced understanding of the complex historical forces that led to the birth of Bangladesh as an independent nation.\\n## The Historical Context of Bangladesh\\n### Geographical Location and Boundaries\\n### Cultural Heritage: Pre-Colonial Period\\n### Colonial Legacy: British Rule in Bengal\\n### The Role of Islam in Shaping Modern Bangladesh\\n## The Emergence of Bengali Nationalism\\n### Early Beginnings of Bengali Nationalism\\n### The Role of Rabindranath Tagore\\n### The Leadership of A.K. Fazlul Huq\\n### The Dhaka University Movement\\n## The Role of the Indian National Congress\\n## The Mass Uprising of 1952\\n### Background to the Uprising\\n### The Student Movement\\n### The Gariahat Riot and its Aftermath\\n## The Role of Pakistan and the United States\\n## The Final Years of Independence\\n### Early 1970s: The Turn of Events\\n### Mujib's Leadership and the Formation of Awami League\\n### Pakistani Military Crackdown and Mass Exodus\\n### India's Role in Supporting Bangladesh\\n### The 6 November 1971 Attack\\n### The Fall of Dhaka\\n## The Aftermath of Independence\\n\\n\\nAmong those book outlines, the previous section discussed in this book was titled with `Pakistani Military Crackdown and Mass Exodus`, and its summary is as follows: \\nIn March 1971, Pakistani forces launched a brutal crackdown on protesters in East Pakistan, leading to the mass exodus of refugees into India and drawing international condemnation.\\n.\\n\\nNow, I would like you to create LaTeX content for the current section on: India's Role in Supporting Bangladesh, across 0.7 pages, assuming 20 lines per page. \\nConsider the summary for the current section whose content you will generate is as follows: India provided significant military and economic support to the Bangladeshi rebels, with Prime Minister Indira Gandhi playing a key role in galvanizing international opposition to Pakistan's actions.\\n\\nPlease output the content in the following format:\\n- Enclose the LaTeX content strictly between the delimiters `<|tex_start|>` and `<|tex_end|>`, as shown below:\\n    - The LaTeX content must **start** with `<|tex_start|>`.\\n    - The LaTeX content must **end** with `<|tex_end|>`.\\n- Do not include any other messages, comments, or text outside these delimiters.\\n- For equations, use the `equation` or `align` environment; do not use nested environments. Avoid enclosing `align` blocks within additional brackets (e.g., `\\\\[ ... \\\\]`).\\n- For programming code, use the `lstlisting` environment with the appropriate language option (e.g., `[language=Python]`).\\n- Escape all special characters (e.g., `#` as `\\\\#`, `%` as `\\\\%`, `_` as `\\\\_`, `&` as `\\\\&`, etc.) to ensure valid LaTeX.\\n- Do not include backtick sequences or any unrelated formatting not part of LaTeX syntax.\\n- Use the `<|tex_start|>` and `<|tex_end|>` delimiters **only once** in the output response: at the beginning and end of the whole LaTeX content.\\n\\nOutput format:\\n    <|tex_start|>\\n    Full LaTeX response.\\n    <|tex_end|>\\n\"\n",
      "\u001b[1m<\u001b[0m\u001b[1;95m|tex_start|\u001b[0m\u001b[39m>\u001b[0m\n",
      "\n",
      "\u001b[39m\\section\u001b[0m\u001b[1;39m{\u001b[0m\u001b[39mIndia's Role in Supporting Bangladesh\u001b[0m\u001b[1;39m}\u001b[0m\n",
      "\n",
      "\u001b[39mIndia played a crucial role in supporting Bangladesh during its struggle for independence. India provided \u001b[0m\n",
      "\u001b[39msignificant military and economic support to the Bangladeshi rebels, which helped galvanize international \u001b[0m\n",
      "\u001b[39mopposition to Pakistan's actions.\u001b[0m\n",
      "\n",
      "\u001b[39mIn \u001b[0m\u001b[1;36m1971\u001b[0m\u001b[39m, India was facing a crisis of its own, with the Indira Gandhi-led government facing internal dissent and \u001b[0m\n",
      "\u001b[39mexternal pressures from China and the Soviet Union. However, when the situation in East Pakistan turned violent, \u001b[0m\n",
      "\u001b[39mIndia shifted its focus to supporting Bangladesh. The Indian government extended diplomatic support to Bangladesh, \u001b[0m\n",
      "\u001b[39murging international organizations to condemn Pakistani actions.\u001b[0m\n",
      "\n",
      "\u001b[39mThe Indian military also contributed significantly to the crisis. A contingent of \u001b[0m\u001b[1;36m50\u001b[0m\u001b[39m,\u001b[0m\u001b[1;36m000\u001b[0m\u001b[39m Indian troops was sent to \u001b[0m\n",
      "\u001b[39mEast Pakistan to protect Bengali refugees and help restore order. These troops played a key role in preventing \u001b[0m\n",
      "\u001b[39mfurther atrocities against the Bangladeshi population.\u001b[0m\n",
      "\n",
      "\u001b[39mFurthermore, India provided significant economic support to Bangladesh. The Indian government allocated $\u001b[0m\u001b[1;36m250\u001b[0m\u001b[39m \u001b[0m\n",
      "\u001b[39mmillion in aid to Bangladesh, which helped stabilize the country's economy during its early years of independence.\u001b[0m\n",
      "\n",
      "\u001b[39mThe impact of India's support on the outcome of the crisis cannot be overstated. Without Indian military \u001b[0m\n",
      "\u001b[39mintervention and diplomatic pressure, it is unlikely that Pakistan would have been forced to release Bangladeshi \u001b[0m\n",
      "\u001b[39mprisoners or allow a referendum on the future of East Pakistan.\u001b[0m\n",
      "\n",
      "\u001b[39mOverall, India's role in supporting Bangladesh during its struggle for independence was instrumental in shaping the\u001b[0m\n",
      "\u001b[39mcountry's history. Today, the two countries enjoy close diplomatic and economic ties, reflecting their shared \u001b[0m\n",
      "\u001b[39mvalues and histories.\u001b[0m\n",
      "\n",
      "\u001b[39m\\section*\u001b[0m\u001b[1;39m{\u001b[0m\u001b[39mTimeline of Key Events\u001b[0m\u001b[1;39m}\u001b[0m\n",
      "\n",
      "\u001b[39m- \u001b[0m\u001b[1;36m1971\u001b[0m\u001b[39m: India sends a contingent of \u001b[0m\u001b[1;36m50\u001b[0m\u001b[39m,\u001b[0m\u001b[1;36m000\u001b[0m\u001b[39m troops to East Pakistan.\u001b[0m\n",
      "\u001b[39m- \u001b[0m\u001b[1;36m1971\u001b[0m\u001b[39m: India allocates $\u001b[0m\u001b[1;36m250\u001b[0m\u001b[39m million in aid to Bangladesh.\u001b[0m\n",
      "\u001b[39m- \u001b[0m\u001b[1;36m1971\u001b[0m\u001b[39m: The Indian government urges international organizations to condemn Pakistani actions.\u001b[0m\n",
      "\u001b[39m- \u001b[0m\u001b[1;36m1972\u001b[0m\u001b[39m: Bangladesh gains independence from Pakistan.\u001b[0m\n",
      "\n",
      "\u001b[39m<|tex_end|\u001b[0m\u001b[1m>\u001b[0m\n"
     ]
    },
    {
     "data": {
      "text/html": [
       "<pre style=\"white-space:pre;overflow-x:auto;line-height:normal;font-family:Menlo,'DejaVu Sans Mono',consolas,'Courier New',monospace\"></pre>\n"
      ],
      "text/plain": []
     },
     "metadata": {},
     "output_type": "display_data"
    },
    {
     "name": "stdout",
     "output_type": "stream",
     "text": [
      "Prompt text: text=\"\\nYou are an expert assistant for generating content of technical professional books. Please use the following topic to write a book:\\nA textbook on 1971 : Independence of Bangladesh\\n\\nThe total number of pages in the book is 20, with an estimated 20 lines per page. Please write in a polite tone.\\nThe intended readers are as follows:\\n A fourth-year university student who is already familiar history of Indian subcontinent and has started research on Independence of Bangladesh.Additionally, please take the following into consideration:\\n Try to explain the concept based on factual data.\\n\\nAs part of that, Now, you are writing the book of the title: The Independence of Bangladesh: A Historical Perspective and the summary of the book is as follows:\\nThis textbook provides a comprehensive understanding of the independence movement in Bangladesh, covering its historical context, key events, and primary figures. The book aims to provide an in-depth analysis of the subject, focusing on verifiable facts and data. By exploring the complexities of the independence struggle, readers will gain a deeper understanding of the region's history and its impact on contemporary politics. This textbook is designed for fourth-year university students with a background in the history of the Indian subcontinent, who are looking to expand their knowledge on this pivotal event. The primary objectives of this book are to provide an accurate account of historical events, to contextualize the independence movement within the broader framework of South Asian history, and to foster critical thinking and analysis among readers. The scope of the book encompasses the period from the early 20th century to the present day, with a focus on key figures, events, and ideologies that shaped Bangladesh's struggle for independence. Through this text, readers will gain a nuanced understanding of the complex historical forces that led to the birth of Bangladesh as an independent nation.\\n\\nThe chapter structure of the book is as following.\\n# The Independence of Bangladesh: A Historical Perspective\\nThis textbook provides a comprehensive understanding of the independence movement in Bangladesh, covering its historical context, key events, and primary figures. The book aims to provide an in-depth analysis of the subject, focusing on verifiable facts and data. By exploring the complexities of the independence struggle, readers will gain a deeper understanding of the region's history and its impact on contemporary politics. This textbook is designed for fourth-year university students with a background in the history of the Indian subcontinent, who are looking to expand their knowledge on this pivotal event. The primary objectives of this book are to provide an accurate account of historical events, to contextualize the independence movement within the broader framework of South Asian history, and to foster critical thinking and analysis among readers. The scope of the book encompasses the period from the early 20th century to the present day, with a focus on key figures, events, and ideologies that shaped Bangladesh's struggle for independence. Through this text, readers will gain a nuanced understanding of the complex historical forces that led to the birth of Bangladesh as an independent nation.\\n## The Historical Context of Bangladesh\\n### Geographical Location and Boundaries\\n### Cultural Heritage: Pre-Colonial Period\\n### Colonial Legacy: British Rule in Bengal\\n### The Role of Islam in Shaping Modern Bangladesh\\n## The Emergence of Bengali Nationalism\\n### Early Beginnings of Bengali Nationalism\\n### The Role of Rabindranath Tagore\\n### The Leadership of A.K. Fazlul Huq\\n### The Dhaka University Movement\\n## The Role of the Indian National Congress\\n## The Mass Uprising of 1952\\n### Background to the Uprising\\n### The Student Movement\\n### The Gariahat Riot and its Aftermath\\n## The Role of Pakistan and the United States\\n## The Final Years of Independence\\n### Early 1970s: The Turn of Events\\n### Mujib's Leadership and the Formation of Awami League\\n### Pakistani Military Crackdown and Mass Exodus\\n### India's Role in Supporting Bangladesh\\n### The 6 November 1971 Attack\\n### The Fall of Dhaka\\n## The Aftermath of Independence\\n\\n\\nAmong those book outlines, the previous section discussed in this book was titled with `India's Role in Supporting Bangladesh`, and its summary is as follows: \\nIndia provided significant military and economic support to the Bangladeshi rebels, with Prime Minister Indira Gandhi playing a key role in galvanizing international opposition to Pakistan's actions.\\n.\\n\\nNow, I would like you to create LaTeX content for the current section on: The 6 November 1971 Attack, across 0.8 pages, assuming 20 lines per page. \\nConsider the summary for the current section whose content you will generate is as follows: On 6 November 1971, Pakistani forces launched a surprise attack on the Bengali Army's headquarters in Dacca, marking the beginning of full-scale conflict between the two sides.\\n\\nPlease output the content in the following format:\\n- Enclose the LaTeX content strictly between the delimiters `<|tex_start|>` and `<|tex_end|>`, as shown below:\\n    - The LaTeX content must **start** with `<|tex_start|>`.\\n    - The LaTeX content must **end** with `<|tex_end|>`.\\n- Do not include any other messages, comments, or text outside these delimiters.\\n- For equations, use the `equation` or `align` environment; do not use nested environments. Avoid enclosing `align` blocks within additional brackets (e.g., `\\\\[ ... \\\\]`).\\n- For programming code, use the `lstlisting` environment with the appropriate language option (e.g., `[language=Python]`).\\n- Escape all special characters (e.g., `#` as `\\\\#`, `%` as `\\\\%`, `_` as `\\\\_`, `&` as `\\\\&`, etc.) to ensure valid LaTeX.\\n- Do not include backtick sequences or any unrelated formatting not part of LaTeX syntax.\\n- Use the `<|tex_start|>` and `<|tex_end|>` delimiters **only once** in the output response: at the beginning and end of the whole LaTeX content.\\n\\nOutput format:\\n    <|tex_start|>\\n    Full LaTeX response.\\n    <|tex_end|>\\n\"\n",
      " \u001b[1m<\u001b[0m\u001b[1;95m|tex_start|\u001b[0m\u001b[1m>\u001b[0m\n",
      "\n",
      "\\chapter\u001b[1m{\u001b[0mThe \u001b[1;36m6\u001b[0m November \u001b[1;36m1971\u001b[0m Attack\u001b[1m}\u001b[0m\n",
      "\n",
      "On \u001b[1;36m6\u001b[0m November \u001b[1;36m1971\u001b[0m, Pakistani forces launched a surprise attack on the Bengali Army's headquarters in Dacca, \n",
      "marking the beginning of full-scale conflict between the two sides. The attack was carried out by the Pakistan Army\n",
      "Air Force \u001b[1m(\u001b[0mPAAF\u001b[1m)\u001b[0m and was designed to capture key targets and disrupt the Bangladeshi army's command structure.\n",
      "\n",
      "The PAAF launched a series of airstrikes on Bengali military installations, including airfields, barracks, and \n",
      "communication centers. The attacks were supported by ground troops, who advanced on Dacca from all directions.\n",
      "\n",
      "The Bangladeshi army put up fierce resistance, but they were vastly outnumbered and outgunned. Despite this, the \n",
      "army managed to hold off the Pakistani forces for several days, buying time for reinforcements to arrive from \n",
      "India.\n",
      "\n",
      "The \u001b[1;36m6\u001b[0m November \u001b[1;36m1971\u001b[0m attack was a turning point in the Bangladesh Liberation War, marking the transition from a \n",
      "guerrilla conflict to a full-scale war between the two sides. It also marked the beginning of India's direct \n",
      "involvement in the conflict, which would ultimately prove decisive in determining the outcome of the war.\n",
      "\n",
      "In the years following the attack, Pakistan would launch a series of brutal attacks on Bengali civilians and \n",
      "military personnel, leading to widespread human rights abuses and atrocities. The legacy of these events continues \n",
      "to shape international relations between India, Pakistan, and Bangladesh to this day.\n",
      "\n",
      "\\section\u001b[1m{\u001b[0mImmediate Aftermath\u001b[1m}\u001b[0m\n",
      "\n",
      "The immediate aftermath of the \u001b[1;36m6\u001b[0m November \u001b[1;36m1971\u001b[0m attack saw a significant escalation of violence in Dacca. Pakistani \n",
      "forces captured key targets, including the Bengali army's headquarters and several major airfields.\n",
      "\n",
      "Despite being outnumbered, the Bangladeshi army continued to resist fiercely, using guerrilla tactics to harass and\n",
      "pin down Pakistani forces. The PAAF launched a series of airstrikes on Bengali military installations, causing \n",
      "widespread destruction and loss of life.\n",
      "\n",
      "As the situation in Dacca deteriorated, Indian troops began to arrive in large numbers, marking the beginning of \n",
      "India's direct involvement in the conflict. Over the coming days, Indian forces would launch a series of major \n",
      "attacks against Pakistani positions, ultimately leading to the capture of Dhaka on \u001b[1;36m16\u001b[0m December \u001b[1;36m1971\u001b[0m.\n",
      "\n",
      "\\section\u001b[1m{\u001b[0mLong-Term Consequences\u001b[1m}\u001b[0m\n",
      "\n",
      "The long-term consequences of the \u001b[1;36m6\u001b[0m November \u001b[1;36m1971\u001b[0m attack continue to be felt today. The conflict marked a \n",
      "significant turning point in international relations between India, Pakistan, and Bangladesh, shaping the course of\n",
      "regional politics for decades to come.\n",
      "\n",
      "The war also had a profound impact on the people of Bangladesh, who suffered greatly at the hands of Pakistani \n",
      "forces. Many Bangladeshi civilians were killed or displaced during the conflict, while others were forced to flee \n",
      "their homes in search of safety.\n",
      "\n",
      "In the years following the war, Bangladesh would become an independent nation, with India playing a key role in \n",
      "supporting its liberation. The legacy of the \u001b[1;36m6\u001b[0m November \u001b[1;36m1971\u001b[0m attack continues to shape international relations \n",
      "between India, Pakistan, and Bangladesh to this day.\n",
      "\n",
      "\\section\u001b[1m{\u001b[0mLegacy\u001b[1m}\u001b[0m\n",
      "\n",
      "The \u001b[1;36m6\u001b[0m November \u001b[1;36m1971\u001b[0m attack remains a sensitive topic in South Asian politics today. The conflict marked a \n",
      "significant turning point in regional relations, shaping the course of international relations between India, \n",
      "Pakistan, and Bangladesh for decades to come.\n",
      "\n",
      "In recent years, there have been efforts to come to terms with the legacy of the conflict, including official \n",
      "apologies and compensation schemes for Bangladeshi civilians who were killed or displaced during the war. However, \n",
      "much work remains to be done in healing old wounds and promoting greater understanding between India, Pakistan, and\n",
      "Bangladesh.\n",
      "\n",
      "\\section\u001b[1m{\u001b[0mConclusion\u001b[1m}\u001b[0m\n",
      "\n",
      "The \u001b[1;36m6\u001b[0m November \u001b[1;36m1971\u001b[0m attack marked a significant turning point in the Bangladesh Liberation War, marking the \n",
      "transition from a guerrilla conflict to a full-scale war between the two sides. The legacy of this event continues \n",
      "to shape international relations between India, Pakistan, and Bangladesh today.\n",
      "\n",
      "In conclusion, the \u001b[1;36m6\u001b[0m November \u001b[1;36m1971\u001b[0m attack was a pivotal moment in South Asian history, with far-reaching \n",
      "consequences for regional politics and international relations. As we look to the future, it is essential that we \n",
      "continue to learn from this tragic episode, promoting greater understanding and reconciliation between India, \n",
      "Pakistan, and Bangladesh.\n",
      "\n",
      "\\section\u001b[1m{\u001b[0mReferences\u001b[1m}\u001b[0m\n",
      "\n",
      "\\bibliographystyle\u001b[1m{\u001b[0mplain\u001b[1m}\u001b[0m\n"
     ]
    },
    {
     "data": {
      "text/html": [
       "<pre style=\"white-space:pre;overflow-x:auto;line-height:normal;font-family:Menlo,'DejaVu Sans Mono',consolas,'Courier New',monospace\"></pre>\n"
      ],
      "text/plain": []
     },
     "metadata": {},
     "output_type": "display_data"
    },
    {
     "name": "stdout",
     "output_type": "stream",
     "text": [
      "TeX data not found.\n",
      "Prompt text: text=\"\\nYou are an expert assistant for generating content of technical professional books. Please use the following topic to write a book:\\nA textbook on 1971 : Independence of Bangladesh\\n\\nThe total number of pages in the book is 20, with an estimated 20 lines per page. Please write in a polite tone.\\nThe intended readers are as follows:\\n A fourth-year university student who is already familiar history of Indian subcontinent and has started research on Independence of Bangladesh.Additionally, please take the following into consideration:\\n Try to explain the concept based on factual data.\\n\\nAs part of that, Now, you are writing the book of the title: The Independence of Bangladesh: A Historical Perspective and the summary of the book is as follows:\\nThis textbook provides a comprehensive understanding of the independence movement in Bangladesh, covering its historical context, key events, and primary figures. The book aims to provide an in-depth analysis of the subject, focusing on verifiable facts and data. By exploring the complexities of the independence struggle, readers will gain a deeper understanding of the region's history and its impact on contemporary politics. This textbook is designed for fourth-year university students with a background in the history of the Indian subcontinent, who are looking to expand their knowledge on this pivotal event. The primary objectives of this book are to provide an accurate account of historical events, to contextualize the independence movement within the broader framework of South Asian history, and to foster critical thinking and analysis among readers. The scope of the book encompasses the period from the early 20th century to the present day, with a focus on key figures, events, and ideologies that shaped Bangladesh's struggle for independence. Through this text, readers will gain a nuanced understanding of the complex historical forces that led to the birth of Bangladesh as an independent nation.\\n\\nThe chapter structure of the book is as following.\\n# The Independence of Bangladesh: A Historical Perspective\\nThis textbook provides a comprehensive understanding of the independence movement in Bangladesh, covering its historical context, key events, and primary figures. The book aims to provide an in-depth analysis of the subject, focusing on verifiable facts and data. By exploring the complexities of the independence struggle, readers will gain a deeper understanding of the region's history and its impact on contemporary politics. This textbook is designed for fourth-year university students with a background in the history of the Indian subcontinent, who are looking to expand their knowledge on this pivotal event. The primary objectives of this book are to provide an accurate account of historical events, to contextualize the independence movement within the broader framework of South Asian history, and to foster critical thinking and analysis among readers. The scope of the book encompasses the period from the early 20th century to the present day, with a focus on key figures, events, and ideologies that shaped Bangladesh's struggle for independence. Through this text, readers will gain a nuanced understanding of the complex historical forces that led to the birth of Bangladesh as an independent nation.\\n## The Historical Context of Bangladesh\\n### Geographical Location and Boundaries\\n### Cultural Heritage: Pre-Colonial Period\\n### Colonial Legacy: British Rule in Bengal\\n### The Role of Islam in Shaping Modern Bangladesh\\n## The Emergence of Bengali Nationalism\\n### Early Beginnings of Bengali Nationalism\\n### The Role of Rabindranath Tagore\\n### The Leadership of A.K. Fazlul Huq\\n### The Dhaka University Movement\\n## The Role of the Indian National Congress\\n## The Mass Uprising of 1952\\n### Background to the Uprising\\n### The Student Movement\\n### The Gariahat Riot and its Aftermath\\n## The Role of Pakistan and the United States\\n## The Final Years of Independence\\n### Early 1970s: The Turn of Events\\n### Mujib's Leadership and the Formation of Awami League\\n### Pakistani Military Crackdown and Mass Exodus\\n### India's Role in Supporting Bangladesh\\n### The 6 November 1971 Attack\\n### The Fall of Dhaka\\n## The Aftermath of Independence\\n\\n\\nAmong those book outlines, the previous section discussed in this book was titled with `The 6 November 1971 Attack`, and its summary is as follows: \\nOn 6 November 1971, Pakistani forces launched a surprise attack on the Bengali Army's headquarters in Dacca, marking the beginning of full-scale conflict between the two sides.\\n.\\n\\nNow, I would like you to create LaTeX content for the current section on: The Fall of Dhaka, across 0.9 pages, assuming 20 lines per page. \\nConsider the summary for the current section whose content you will generate is as follows: On December 10-14, 1971, Pakistani forces captured Dhaka, but were soon to be driven out by Indian and Mukti Bahini forces in one of the most decisive battles of the war.\\n\\nPlease output the content in the following format:\\n- Enclose the LaTeX content strictly between the delimiters `<|tex_start|>` and `<|tex_end|>`, as shown below:\\n    - The LaTeX content must **start** with `<|tex_start|>`.\\n    - The LaTeX content must **end** with `<|tex_end|>`.\\n- Do not include any other messages, comments, or text outside these delimiters.\\n- For equations, use the `equation` or `align` environment; do not use nested environments. Avoid enclosing `align` blocks within additional brackets (e.g., `\\\\[ ... \\\\]`).\\n- For programming code, use the `lstlisting` environment with the appropriate language option (e.g., `[language=Python]`).\\n- Escape all special characters (e.g., `#` as `\\\\#`, `%` as `\\\\%`, `_` as `\\\\_`, `&` as `\\\\&`, etc.) to ensure valid LaTeX.\\n- Do not include backtick sequences or any unrelated formatting not part of LaTeX syntax.\\n- Use the `<|tex_start|>` and `<|tex_end|>` delimiters **only once** in the output response: at the beginning and end of the whole LaTeX content.\\n\\nOutput format:\\n    <|tex_start|>\\n    Full LaTeX response.\\n    <|tex_end|>\\n\"\n"
     ]
    }
   ],
   "source": [
    "# Output of chapter structure to consider when generating content\n",
    "toc_and_summary = \"\"\n",
    "if do_consider_outline:\n",
    "    toc_and_summary = generate_outline(book_graph, book_node_name)\n",
    "\n",
    "# Initialize a list of strings to store previous outputs\n",
    "previous_sections_content_list = [{\"title\": \"None\", \"summary\": \"None\"} for i in range(n_previous_sections)]\n",
    "\n",
    "# Sort the nodes containing the main content (leaf nodes) in order\n",
    "sorted_content_str_list = sort_leaf_nodes(book_graph)\n",
    "\n",
    "# Append the main content\n",
    "for heading_number_str in sorted_content_str_list:\n",
    "    heading_number = custom_sort_key(heading_number_str)\n",
    "\n",
    "    node_name = \"-\".join(map(str, heading_number))\n",
    "    node = book_graph.nodes[node_name]\n",
    "\n",
    "    # Generate output via LLM\n",
    "   \n",
    "    prompt = PromptTemplate.from_template(prompt_content_creation)\n",
    "    chain = prompt |  (lambda x: log_prompt(x))  | llm\n",
    "\n",
    "    result = chain.invoke(\n",
    "        {\n",
    "            \"book_title\": book_node[\"title\"],\n",
    "            \"book_summary\": book_node[\"summary\"],\n",
    "            \"toc_and_summary\": toc_and_summary,\n",
    "            \"previous_sections\": generate_prompt_for_previous_sections(previous_sections_content_list, n_previous_sections),\n",
    "            \"equation_frequency\": get_equation_frequency(book_graph.graph[\"equation_frequency_level\"]),\n",
    "            \"target\": node[\"title\"],\n",
    "            \"n_pages\": node[\"n_pages\"],\n",
    "            \"section_summary\": node[\"summary\"],\n",
    "        }\n",
    "    )\n",
    "\n",
    "    view(result)\n",
    "    contents_tex = extract_section_content(result)\n",
    "    with open(node_name + \"-p.tex\", mode='w', encoding='UTF-8') as f:\n",
    "        f.write(contents_tex)\n",
    "\n",
    "    # Retain past outputs\n",
    "    if do_consider_previous_sections:\n",
    "        previous_sections_content_list = slide_list_with_new_title_and_content(node[\"title\"], node[\"summary\"], previous_sections_content_list)"
   ]
  },
  {
   "cell_type": "code",
   "execution_count": null,
   "metadata": {},
   "outputs": [],
   "source": [
    "result"
   ]
  },
  {
   "cell_type": "markdown",
   "metadata": {
    "id": "r2LSx8U7PgLB"
   },
   "source": [
    "## 本グラフの表示"
   ]
  },
  {
   "cell_type": "code",
   "execution_count": null,
   "metadata": {
    "colab": {
     "base_uri": "https://localhost:8080/",
     "height": 783
    },
    "id": "zslTqJiALTtk",
    "outputId": "25eceaf9-73af-4a7f-80a5-909543a81e20"
   },
   "outputs": [],
   "source": [
    "pos = graphviz_layout(book_graph, prog=\"dot\")\n",
    "\n",
    "# matplotlib settings\n",
    "fig = plt.figure(figsize=(20, 10), dpi=300)\n",
    "ax = fig.add_subplot(1, 1, 1)\n",
    "\n",
    "# Color the leaf nodes (content nodes) in red\n",
    "node_color_list = [\"r\" if \"p\" in s else \"w\" for s in list(book_graph.nodes)]\n",
    "\n",
    "# draw the network\n",
    "nx.draw(book_graph,\n",
    "        ax=ax,\n",
    "        pos=pos,\n",
    "        with_labels=True,\n",
    "        node_size=300,\n",
    "        node_color=node_color_list,\n",
    "        alpha=0.3,\n",
    "        node_shape='.',\n",
    "        width=0.5)\n",
    "\n",
    "print(\"The arrows starting from 'book' represent chapters, with sections below them and subsections below the sections.\\nThese nodes contain information such as the title and summary of each chapter or section.\\nAdditionally, the end nodes marked in red circles hold information on the content of the text.\")"
   ]
  },
  {
   "cell_type": "markdown",
   "metadata": {
    "id": "uo3GFevWPjpy"
   },
   "source": [
    "## 本の作成"
   ]
  },
  {
   "cell_type": "markdown",
   "metadata": {
    "id": "Of2bOA5hPs0Q"
   },
   "source": [
    "### latexmkrcファイルの作成"
   ]
  },
  {
   "cell_type": "code",
   "execution_count": null,
   "metadata": {
    "colab": {
     "base_uri": "https://localhost:8080/"
    },
    "id": "pYXVeE97MhsD",
    "outputId": "9f6229a9-27f6-403b-859d-1f4c4a010be0"
   },
   "outputs": [],
   "source": [
    "# Get the path of the home directory\n",
    "home_dir = os.path.expanduser(\"~\")\n",
    "\n",
    "# Create the path for the .latexmkrc file\n",
    "latexmkrc_path = os.path.join(home_dir, \".latexmkrc\")\n",
    "\n",
    "# Contents of the latexmkrc file\n",
    "content = '''$latex = 'pdflatex -synctex=1 -halt-on-error -interaction=nonstopmode %O %S';\n",
    "$bibtex = 'bibtex %O %S';\n",
    "$biber = 'biber %O %S';\n",
    "$makeindex = 'makeindex %O -o %D %S';\n",
    "$dvipdf = 'dvipdfmx %O -o %D %S';\n",
    "\n",
    "$max_repeat = 5;\n",
    "$pdf_mode = 1;'''\n",
    "\n",
    "# Create the file and write the content\n",
    "try:\n",
    "    with open(latexmkrc_path, \"w\") as file:\n",
    "        file.write(content)\n",
    "    print(f\".latexmkrc file has been created successfully at {latexmkrc_path}\")\n",
    "except IOError as e:\n",
    "    print(f\"An error occurred while creating the file: {e}\")"
   ]
  },
  {
   "cell_type": "markdown",
   "metadata": {
    "id": "iJzQSz1qPxtj"
   },
   "source": [
    "### LaTeXで本文の作成"
   ]
  },
  {
   "cell_type": "markdown",
   "metadata": {
    "id": "JzDdxuC9lwXQ"
   },
   "source": [
    "### LaTeXドキュメントの作成"
   ]
  },
  {
   "cell_type": "code",
   "execution_count": null,
   "metadata": {
    "id": "RtEA6rVWPv1R"
   },
   "outputs": [],
   "source": [
    "# Creating a PDF using pylatex\n",
    "geometry_options = {\"tmargin\": \"3cm\", \"lmargin\": \"3cm\"}\n",
    "doc = Document(documentclass=\"report\", geometry_options=geometry_options)\n",
    "\n",
    "# Adding preamble and title\n",
    "doc.packages.append(Package('amsmath'))\n",
    "doc.packages.append(Package('amssymb'))\n",
    "doc.packages.append(Package('amsfonts'))\n",
    "doc.packages.append(Package('mathtools'))\n",
    "doc.packages.append(Package('bm'))\n",
    "doc.packages.append(Package('physics'))\n",
    "doc.packages.append(Package('inputenc', options=\"utf8\"))\n",
    "doc.packages.append(Package('listings'))\n",
    "doc.packages.append(Package('jvlisting'))\n",
    "doc.packages.append(Package('color'))\n",
    "doc.packages.append(Package('underscore', options=\"strings\"))\n",
    "doc.preamble.append(Command(\"title\", book_graph.nodes[book_node_name][\"title\"]))\n",
    "doc.preamble.append(Command(\"date\", NoEscape(r\"\\today\")))\n",
    "doc.append(NoEscape(r\"\\maketitle\"))\n",
    "doc.append(NoEscape(r\"\\tableofcontents\"))\n",
    "doc.append(NoEscape(r'\\lstset{ backgroundcolor={\\color[gray]{.90}}, breaklines = true, breakindent = 10pt, basicstyle = \\ttfamily\\scriptsize, commentstyle = {\\itshape \\color[cmyk]{1,0.4,1,0}}, classoffset = 0, keywordstyle = {\\bfseries \\color[cmyk]{0,1,0,0}}, stringstyle = {\\ttfamily \\color[rgb]{0,0,1}}, frame = TBrl, framesep = 5pt, numbers = left, stepnumber = 1, numberstyle = \\tiny, tabsize = 4, captionpos = t}'))"
   ]
  },
  {
   "cell_type": "code",
   "execution_count": null,
   "metadata": {
    "id": "yN9GMsGGRX3i"
   },
   "outputs": [],
   "source": [
    "# Arrange nodes containing the main text content in order\n",
    "content_str_list = extract_content_list(list(book_graph.nodes))\n",
    "sorted_content_str_list = sort_strings(content_str_list)\n",
    "\n",
    "# Add main content\n",
    "for heading_number_str in sorted_content_str_list:\n",
    "    heading_number = custom_sort_key(heading_number_str)\n",
    "\n",
    "    # Add chapter title\n",
    "    if len(heading_number[1:]) == 0 or all(x == 1 for x in heading_number[1:]):\n",
    "        node_name = \"-\".join(map(str, heading_number[0:1]))\n",
    "        with doc.create(Chapter(book_graph.nodes[node_name][\"title\"], label=False)):\n",
    "            doc.append(NoEscape(book_graph.nodes[node_name][\"summary\"].replace(\"\\\\\\\\\",\"\\\\\")))\n",
    "\n",
    "    # Add section title\n",
    "    if (len(heading_number[2:]) == 0 and len(heading_number[:2]) > 1) or (len(heading_number[2:]) > 0 and all(x == 1 for x in heading_number[2:])):\n",
    "        node_name = \"-\".join(map(str, heading_number[0:2]))\n",
    "        with doc.create(Section(book_graph.nodes[node_name][\"title\"], label=False)):\n",
    "            doc.append(NoEscape(book_graph.nodes[node_name][\"summary\"].replace(\"\\\\\\\\\",\"\\\\\")))\n",
    "\n",
    "    # Add subsection title\n",
    "    if (len(heading_number[3:]) == 0 and len(heading_number[:3]) > 2) or (len(heading_number[3:]) > 0 and all(x == 1 for x in heading_number[3:])):\n",
    "        node_name = \"-\".join(map(str, heading_number[0:3]))\n",
    "        with doc.create(Subsection(book_graph.nodes[node_name][\"title\"], label=False)):\n",
    "            doc.append(NoEscape(book_graph.nodes[node_name][\"summary\"].replace(\"\\\\\\\\\",\"\\\\\")))\n",
    "\n",
    "    # Add main text content\n",
    "    tex_file_path = book_graph.nodes[heading_number_str][\"content_file_path\"]\n",
    "    try:\n",
    "        with open(tex_file_path, \"r\", encoding='UTF-8') as file:\n",
    "            tex_content = file.read()\n",
    "            doc.append(NoEscape(tex_content))\n",
    "    except Exception as e:\n",
    "        print(e)"
   ]
  },
  {
   "cell_type": "markdown",
   "metadata": {
    "id": "58jBeL42P2SF"
   },
   "source": [
    "### PDFファイルの作成"
   ]
  },
  {
   "cell_type": "code",
   "execution_count": null,
   "metadata": {
    "colab": {
     "base_uri": "https://localhost:8080/"
    },
    "id": "DclfbWmyP2d2",
    "outputId": "8312337f-855c-4e70-ea10-958136f0e04b"
   },
   "outputs": [],
   "source": [
    "# Compilation. A file named /content/textbook.pdf will be created\n",
    "n_displayed_line = 10\n",
    "isErrorOccured = False\n",
    "\n",
    "try:\n",
    "    doc.generate_pdf(book_node[\"title\"], compiler=\"latexmk\", clean_tex=False)\n",
    "except:\n",
    "    log_file_path = book_node[\"title\"] + \".log\"\n",
    "\n",
    "    # Read the contents of the log file\n",
    "    with open(log_file_path, \"r\", encoding=\"utf-8\", errors=\"ignore\") as file:\n",
    "        lines = file.readlines()\n",
    "\n",
    "    # Define error output pattern (file-line-error option format)\n",
    "    pattern = r'([a-zA-Z0-9_.]+):(\\d+): (.+)'\n",
    "\n",
    "    for i, line in enumerate(lines):\n",
    "        match = re.search(pattern, line)\n",
    "        if match:\n",
    "            isErrorOccured = True\n",
    "            print(f\"Line: {match.group(2)}\")\n",
    "            print(f\"Message: \\n  {match.group(3)}\")\n",
    "            for j in range(i+1, min(i+n_displayed_line, len(lines))):\n",
    "                print(lines[j].strip())\n",
    "            print(\"-\" * 40)"
   ]
  },
  {
   "cell_type": "markdown",
   "metadata": {
    "id": "xam6V7GySM4p"
   },
   "source": [
    "### Markdownファイルの作成"
   ]
  },
  {
   "cell_type": "code",
   "execution_count": null,
   "metadata": {
    "id": "HO3zD-07Bn1_"
   },
   "outputs": [],
   "source": [
    "def clean_markdown_content(content):\n",
    "    # Remove the part before the first heading (LaTeX settings section)\n",
    "    content = content.split('#', 1)[1]\n",
    "\n",
    "    # Remove % only when it has whitespace before or after\n",
    "    content = re.sub(r\"(?<=\\s)%|%(?=\\s)\", \"\", content)\n",
    "\n",
    "    # Remove % only when it appears at the end of a line\n",
    "    content = re.sub(r\"%\\s*$\", \"\", content)\n",
    "\n",
    "    # Replace multiple newlines with a single newline\n",
    "    content = re.sub(r\"\\n{2,}\", \"\\n\\n\", content)\n",
    "\n",
    "    return content\n",
    "\n",
    "def convert_to_latex_to_katex(content):\n",
    "    # Convert align and align* environments\n",
    "    content = re.sub(r'\\\\begin{align\\*?}', r'$$\\n\\\\begin{aligned}', content)\n",
    "    content = re.sub(r'\\\\end{align\\*?}', r'\\\\end{aligned}\\n$$', content)\n",
    "\n",
    "    # Convert equation and equation* environments\n",
    "    content = re.sub(r'\\\\begin{equation\\*?}', r'$$', content)\n",
    "    content = re.sub(r'\\\\end{equation\\*?}', r'$$', content)\n",
    "\n",
    "    return content\n",
    "\n",
    "def transform_code_blocks(content):\n",
    "\n",
    "    # Extract and handle language option\n",
    "    def replace_lstlisting(match):\n",
    "        options = match.group(1)\n",
    "        code = match.group(2)\n",
    "        # Search for language option\n",
    "        lang_match = re.search(r'language=([a-zA-Z]+)', options)\n",
    "        lang = lang_match.group(1) if lang_match else ''\n",
    "        # Convert to Markdown format\n",
    "        return f'```{lang}\\n{code}\\n```'\n",
    "\n",
    "    # Conversion process for lstlisting\n",
    "    content = re.sub(r'\\\\begin{lstlisting}\\[(.*?)\\](.*?)\\\\end{lstlisting}', replace_lstlisting, content, flags=re.DOTALL)\n",
    "\n",
    "    return content"
   ]
  },
  {
   "cell_type": "code",
   "execution_count": null,
   "metadata": {
    "colab": {
     "base_uri": "https://localhost:8080/",
     "height": 35
    },
    "id": "MXiU2T1gSPpf",
    "outputId": "de628cbf-da5f-417c-8b0d-8977e577e19e"
   },
   "outputs": [],
   "source": [
    "# if md_output:\n",
    "#     %pip install latex2markdown\n",
    "#     import latex2markdown\n",
    "\n",
    "#     with open(book_node[\"title\"] + \".tex\", \"r\") as f:\n",
    "#         latex_string = f.read()\n",
    "\n",
    "#     # Convert LaTeX to Markdown\n",
    "#     processed_latex_str = transform_code_blocks(latex_string)\n",
    "#     l2m = latex2markdown.LaTeX2Markdown(processed_latex_str)\n",
    "#     markdown_string = l2m.to_markdown()\n",
    "\n",
    "#     # Format the Markdown text\n",
    "#     cleaned_md_str = clean_markdown_content(markdown_string)\n",
    "#     katex_md_str = convert_to_latex_to_katex(cleaned_md_str)\n",
    "\n",
    "#     with open(book_node[\"title\"] + \".md\", \"w\") as f:\n",
    "#         f.write(katex_md_str)\n",
    "#     files.download(book_node[\"title\"] + \".md\")"
   ]
  }
 ],
 "metadata": {
  "colab": {
   "include_colab_link": true,
   "provenance": []
  },
  "kernelspec": {
   "display_name": "Python 3 (ipykernel)",
   "language": "python",
   "name": "python3"
  },
  "language_info": {
   "codemirror_mode": {
    "name": "ipython",
    "version": 3
   },
   "file_extension": ".py",
   "mimetype": "text/x-python",
   "name": "python",
   "nbconvert_exporter": "python",
   "pygments_lexer": "ipython3",
   "version": "3.11.5"
  }
 },
 "nbformat": 4,
 "nbformat_minor": 1
}
