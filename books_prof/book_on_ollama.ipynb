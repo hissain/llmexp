{
 "cells": [
  {
   "cell_type": "code",
   "execution_count": 1,
   "metadata": {},
   "outputs": [],
   "source": [
    "from rich.console import Console\n",
    "from rich.syntax import Syntax\n",
    "from rich.table import Table\n",
    "\n",
    "def view(item):\n",
    "    console = Console()\n",
    "    with console.pager(styles=True):\n",
    "        console.print(item)"
   ]
  },
  {
   "cell_type": "markdown",
   "metadata": {
    "id": "tzRAYxwdU8jh"
   },
   "source": [
    "## Specification Formulation\n",
    "\n",
    "After entering the following, press [Run All Cells (Ctrl + F9)]."
   ]
  },
  {
   "cell_type": "code",
   "execution_count": 44,
   "metadata": {
    "id": "caSeJzWrUqYM"
   },
   "outputs": [],
   "source": [
    "# @markdown ## Required Fields\n",
    "# @markdown ### Content of the Textbook\n",
    "book_location = 'bias'\n",
    "book_content = \"Common Biases and Fallacies\" #@param {type:\"string\"}\n",
    "book_author = \"Md. Sazzad Hissain Khan\"\n",
    "# @markdown ### Approximate Number of Pages\n",
    "n_pages = 20 # @param {\"type\":\"integer\",\"placeholder\":\"40\"}\n",
    "# @markdown ### Output Format\n",
    "tex_output = True #@param {type:\"boolean\"}\n",
    "pdf_output = True #@param {type:\"boolean\"}\n",
    "md_output = False #@param {type:\"boolean\"}\n",
    "\n",
    "# @markdown ## Optional Fields\n",
    "# @markdown ### Intended Audience\n",
    "target_readers = \"A 2nd-year university student in department of philosophy.\" #@param {type:\"string\"}\n",
    "# @markdown ### Frequency of Equations\n",
    "equation_frequency_level = 1 #@param {type:\"slider\", min:1, max:5, step:1}\n",
    "# @markdown ### Consider Chapter Structure and Organization in Content Generation\n",
    "do_consider_outline = True #@param {type:\"boolean\"}\n",
    "# @markdown ### Consider Previous Output in Content Generation\n",
    "do_consider_previous_sections = True #@param {type:\"boolean\"}\n",
    "do_consider_previous_sections_detail = False #@param {type:\"boolean\"}\n",
    "# @markdown ### Additional Requirements for Content\n",
    "additional_requirements = \"Try to explain the concept based on factual data.\" #@param {type:\"string\"}\n",
    "\n",
    "if book_content == \"\":\n",
    "    print('\\033[31m'+'Please specify the content of the textbook.'+'\\033[0m')\n",
    "if n_pages == 0:\n",
    "    print('\\033[31m'+'Please specify the number of pages.'+'\\033[0m')"
   ]
  },
  {
   "cell_type": "code",
   "execution_count": 3,
   "metadata": {},
   "outputs": [
    {
     "name": "stdout",
     "output_type": "stream",
     "text": [
      "Current working directory: /Users/hissain/git/github/llmexp/books_prof/bias\n"
     ]
    }
   ],
   "source": [
    "import os\n",
    "\n",
    "if not os.path.exists(book_location):\n",
    "    os.makedirs(book_location)\n",
    "os.chdir(book_location)\n",
    "print(f\"Current working directory: {os.getcwd()}\")"
   ]
  },
  {
   "cell_type": "markdown",
   "metadata": {
    "id": "spXv6uEbsxis"
   },
   "source": [
    "## Prompt Definition"
   ]
  },
  {
   "cell_type": "code",
   "execution_count": 4,
   "metadata": {
    "id": "6QvuipAzsz3c"
   },
   "outputs": [],
   "source": [
    "# Common Prompt\n",
    "prompt_common = f\"\"\"\n",
    "You are an expert assistant for generating content of technical professional books. You will be writing a book on the following topic: {book_content}.\n",
    "The total number of pages in the book is about {n_pages}, with an estimated 40 lines per page. Please consider using polite and professional tone.\n",
    "\"\"\"\n",
    "\n",
    "if target_readers != \"\":\n",
    "    prompt_common += f\"The intended readers of the book are as follows:\\n {target_readers}\"\n",
    "    \n",
    "if additional_requirements != \"\":\n",
    "    prompt_common += f\"Additionally, please take the following into consideration:\\n {additional_requirements}\"\n",
    "\n",
    "# Prompt for Generating Book and Chapter Titles and Summaries\n",
    "prompt_book_title = prompt_common + \"\"\"\n",
    "Based on the above given information, please provide the title and summary for the book and each chapter in the following JSON format.\n",
    "The book summary should not only provide an overview but also mention the primary objectives, scope, and depth of the content, in about 5-10 detailed sentences.\n",
    "Please also consider the page allocation for each chapter in units of 0.1, like 0.8 pages.\n",
    "Additionally, consider whether each chapter needs further division based on semantic cohesion (needsSubdivision), and answer true or false.\n",
    "Do not include any speculative or unverified information. Please avoid writing chapter numbers in the titles.\n",
    "The number of sections should vary as needed. \n",
    "Please do not include any extra introductory or conclusory message outside the expected json format.\n",
    "Enclose the json content between ```json and ``` delimiters.\n",
    "\n",
    "The output format should be strictly as follows:\n",
    "\n",
    "```json\n",
    "{{\n",
    "\"title\": \"\",\n",
    "\"summary\": \"\",\n",
    "\"childs\":\n",
    "    [\n",
    "        {{\"title\": \"\", \"summary\": \"\", \"n_pages\": , \"needsSubdivision\": }},\n",
    "        {{\"title\": \"\", \"summary\": \"\", \"n_pages\": , \"needsSubdivision\": }},\n",
    "        {{\"title\": \"\", \"summary\": \"\", \"n_pages\": , \"needsSubdivision\": }}\n",
    "    ]\n",
    "}}\n",
    "```\n",
    "\"\"\"\n",
    "\n",
    "# Prompt for Section Division\n",
    "prompt_section_list_creation = prompt_common + \"\"\"\n",
    "Based on the above information, I plan to create a book titled {book_title}. The book summary is as follows:\n",
    "{book_summary}\n",
    "For the section on {target}, I would like you to create content across {n_pages} pages, assuming 20 lines per page.\n",
    "The summary for this section is as follows:\n",
    "{section_summary}\n",
    "\n",
    "Please divide this section into multiple parts and output the titles and summaries of each part in the following JSON format.\n",
    "Also, consider the page allocation for each part in units of 0.1, like 0.8 pages.\n",
    "Additionally, consider whether each part needs further division based on semantic cohesion (needsSubdivision) and answer true or false.\n",
    "Please avoid including section numbers in the titles. \n",
    "Please do not include any extra introductory or conclusory message outside the expected format.\n",
    "Enclose the json content between ```json and ``` delimiters.\n",
    "\n",
    "The output format should be strictly as follows:\n",
    "\n",
    "```json\n",
    "[\n",
    "    {{\"title\": \"\", \"summary\": \"\", \"n_pages\": , \"needsSubdivision\": }},\n",
    "    {{\"title\": \"\", \"summary\": \"\", \"n_pages\": , \"needsSubdivision\": }}\n",
    "]\n",
    "```\n",
    "\"\"\"\n",
    "\n",
    "# Prompt for Generating Main Content\n",
    "prompt_content_creation = prompt_common + \"\"\"\n",
    "\n",
    "As part of that, Now, you are writing the book of the title: {book_title} and the summary of the book is as follows:\n",
    "{book_summary}\n",
    "\n",
    "The outlines of the book are as follows:\n",
    "{toc_and_summary}\n",
    "\n",
    "{previous_sections}.\n",
    "\n",
    "Now, I would like you to create LaTeX content for the current section on: {target}, across {n_pages} pages, assuming 20 lines per page. \n",
    "The summary for the current section whose content you will generate is as follows: {section_summary}. Please generate the content.\n",
    "\n",
    "Please output the content in the following format:\n",
    "- Enclose the LaTeX content strictly between the delimiters `<|tex_start|>` and `<|tex_end|>`, as shown below:\n",
    "    - The LaTeX output **must start with** `<|tex_start|>` delimiter.\n",
    "    - The LaTeX output **must end with** `<|tex_end|>` delimiter.\n",
    "- Do not include any other messages, comments, or text outside these delimiters.\n",
    "- If you have equations in generated response, for equations, use the `equation` or `align` environment; do not use nested environments. Avoid enclosing `align` blocks within additional brackets (e.g., `\\[ ... \\]`).\n",
    "- For programming code, use the `lstlisting` environment with the appropriate language option (e.g., `[language=Python]`).\n",
    "- Escape special characters `&` as `\\&` to ensure valid LaTeX.\n",
    "- Do not include backtick sequences or any unrelated formatting not part of LaTeX syntax.\n",
    "- Use the `<|tex_start|>` and `<|tex_end|>` delimiters **only once** in the output response: at the beginning and at the end of the response respectively.\n",
    "\n",
    "Output format:\n",
    "    <|tex_start|>\n",
    "    tex response.\n",
    "    <|tex_end|>\n",
    "\"\"\""
   ]
  },
  {
   "cell_type": "markdown",
   "metadata": {
    "id": "oV3gAYrto4GT"
   },
   "source": [
    "## Parameter Settings"
   ]
  },
  {
   "cell_type": "code",
   "execution_count": 5,
   "metadata": {
    "id": "TvppBhFjo3EF"
   },
   "outputs": [],
   "source": [
    "# Parameters\n",
    "max_depth = 2  # If 1, only sections; if 2, includes subsections, and so on.\n",
    "max_output_pages = 1.5  # Maximum number of pages output by the LLM\n",
    "\n",
    "book_node_name = \"book\"  # Name of the root node\n",
    "\n",
    "if do_consider_previous_sections:\n",
    "    n_previous_sections = 1\n",
    "else:\n",
    "    n_previous_sections = 0"
   ]
  },
  {
   "cell_type": "markdown",
   "metadata": {
    "id": "YhRrtxVSAxjw"
   },
   "source": [
    "## Library Installation and Import"
   ]
  },
  {
   "cell_type": "code",
   "execution_count": 6,
   "metadata": {
    "colab": {
     "base_uri": "https://localhost:8080/"
    },
    "id": "q3yeQIS2AxOa",
    "outputId": "20ee90ed-03a6-4687-bfcd-2ca8cbf2dfef"
   },
   "outputs": [],
   "source": [
    "#!apt-get update\n",
    "#!apt-get install -y python3-dev graphviz libgraphviz-dev pkg-config\n",
    "#!apt-get install -y latexmk\n",
    "#!apt-get install -y texlive-latex-extra\n",
    "#!apt-get install -y texlive-science\n",
    "#%pip install -qU langchain-openai\n",
    "#%pip install pygraphviz\n",
    "#%pip install pylatex\n",
    "\n",
    "import os\n",
    "import re\n",
    "import json\n",
    "import networkx as nx\n",
    "from IPython.display import Markdown\n",
    "from langchain_openai import ChatOpenAI\n",
    "from langchain_core.prompts import PromptTemplate\n",
    "from langchain_core.output_parsers import PydanticOutputParser\n",
    "from pydantic import BaseModel, Field, validator\n",
    "from typing import List, Optional\n",
    "\n",
    "import matplotlib.pyplot as plt\n",
    "from networkx.drawing.nx_agraph import graphviz_layout\n",
    "\n",
    "from pylatex import Command, Document, Section, Subsection, Package\n",
    "from pylatex.section import Chapter\n",
    "from pylatex.utils import NoEscape"
   ]
  },
  {
   "cell_type": "markdown",
   "metadata": {
    "id": "M5cjjEOefAJR"
   },
   "source": [
    "## Graph Creation"
   ]
  },
  {
   "cell_type": "code",
   "execution_count": 7,
   "metadata": {
    "id": "5x6iAEg2fAR7"
   },
   "outputs": [],
   "source": [
    "book_graph = nx.DiGraph(book_content=book_content, target_readers=target_readers, equation_frequency_level=equation_frequency_level, additional_requirements=additional_requirements)"
   ]
  },
  {
   "cell_type": "code",
   "execution_count": 8,
   "metadata": {},
   "outputs": [
    {
     "name": "stdout",
     "output_type": "stream",
     "text": [
      "\u001b[1m{\u001b[0m\n",
      "    \u001b[32m'book_content'\u001b[0m: \u001b[32m'Common Biases and Fallacies'\u001b[0m,\n",
      "    \u001b[32m'target_readers'\u001b[0m: \u001b[32m'A 2nd-year university student in department of philosophy.'\u001b[0m,\n",
      "    \u001b[32m'equation_frequency_level'\u001b[0m: \u001b[1;36m1\u001b[0m,\n",
      "    \u001b[32m'additional_requirements'\u001b[0m: \u001b[32m'Try to explain the concept based on factual data.'\u001b[0m\n",
      "\u001b[1m}\u001b[0m\n"
     ]
    },
    {
     "data": {
      "text/html": [
       "<pre style=\"white-space:pre;overflow-x:auto;line-height:normal;font-family:Menlo,'DejaVu Sans Mono',consolas,'Courier New',monospace\"></pre>\n"
      ],
      "text/plain": []
     },
     "metadata": {},
     "output_type": "display_data"
    }
   ],
   "source": [
    "view(book_graph.graph)"
   ]
  },
  {
   "cell_type": "markdown",
   "metadata": {
    "id": "muWhg5hpTLId"
   },
   "source": [
    "## Title and Chapter Creation"
   ]
  },
  {
   "cell_type": "markdown",
   "metadata": {
    "id": "H7i5EKOOkBVG"
   },
   "source": [
    "### Function Definition"
   ]
  },
  {
   "cell_type": "code",
   "execution_count": 9,
   "metadata": {
    "id": "tbrOoC1oj_Ou"
   },
   "outputs": [],
   "source": [
    "def extract_book_and_chapter_contents(markdown_text):\n",
    "    \"\"\"\n",
    "    Function that extracts the first JSON data found in Markdown text\n",
    "    and converts it to a Python dictionary.\n",
    "\n",
    "    Args:\n",
    "        markdown_text (str): A string in Markdown format, assumed to contain\n",
    "        JSON-formatted data within it.\n",
    "\n",
    "    Returns:\n",
    "        dict or None: Returns a dictionary if a valid JSON is found;\n",
    "        returns None if no JSON is found or parsing fails.\n",
    "    \"\"\"\n",
    "\n",
    "    # Find the starting point of JSON in the Markdown\n",
    "    start_index = markdown_text.find('{')\n",
    "    if start_index == -1:\n",
    "        return None\n",
    "\n",
    "    # Traverse the entire string and check the balance of nested braces\n",
    "    brace_count = 0\n",
    "    for i in range(start_index, len(markdown_text)):\n",
    "        if markdown_text[i] == '{':\n",
    "            brace_count += 1\n",
    "        elif markdown_text[i] == '}':\n",
    "            brace_count -= 1\n",
    "\n",
    "        # Extract when braces are balanced\n",
    "        if brace_count == 0:\n",
    "            json_string = markdown_text[start_index:i+1]\n",
    "            try:\n",
    "                # Convert to JSON format\n",
    "                json_data = json.loads(json_string)\n",
    "                view(json_data)\n",
    "                return json_data\n",
    "            except json.JSONDecodeError as e:\n",
    "                print(f\"JSON parsing error: {e}\")\n",
    "                return None\n",
    "            return\n",
    "\n",
    "    # If no closing brace is found\n",
    "    return None"
   ]
  },
  {
   "cell_type": "markdown",
   "metadata": {
    "id": "ISN0KhB-kAuo"
   },
   "source": [
    "### Output by LLM"
   ]
  },
  {
   "cell_type": "code",
   "execution_count": 10,
   "metadata": {},
   "outputs": [],
   "source": [
    "def log_prompt(log):\n",
    "    #print(\"Prompt text: \" + str(log))\n",
    "    return log"
   ]
  },
  {
   "cell_type": "code",
   "execution_count": 11,
   "metadata": {
    "id": "ptwpNLJNTDuf"
   },
   "outputs": [
    {
     "name": "stdout",
     "output_type": "stream",
     "text": [
      "\u001b[1m{\u001b[0m\n",
      "    \u001b[32m'title'\u001b[0m: \u001b[32m'Common Biases and Fallacies: A Critical Examination'\u001b[0m,\n",
      "    \u001b[32m'summary'\u001b[0m: \u001b[32m'This book provides a comprehensive overview of common biases and fallacies in various fields, \u001b[0m\n",
      "\u001b[32mincluding philosophy, psychology, economics, and politics. The primary objectives of this book are to educate \u001b[0m\n",
      "\u001b[32mreaders on the nature and consequences of these errors, equip them with critical thinking skills to recognize and \u001b[0m\n",
      "\u001b[32mavoid them, and explore ways to mitigate their impact. The scope of this book covers various types of biases and \u001b[0m\n",
      "\u001b[32mfallacies, including cognitive biases, emotional biases, logical fallacies, and epistemic fallacies. The content \u001b[0m\n",
      "\u001b[32mdelves into the history, philosophy, and psychological explanations behind these errors, as well as their \u001b[0m\n",
      "\u001b[32mimplications for decision-making, policy-making, and everyday life. Throughout the book, readers will find \u001b[0m\n",
      "\u001b[32mpractical examples, case studies, and thought-provoking exercises to reinforce their understanding of these \u001b[0m\n",
      "\u001b[32mconcepts. With a focus on clarity, accuracy, and objectivity, this book aims to equip readers with the knowledge \u001b[0m\n",
      "\u001b[32mand skills necessary to navigate complex information landscapes effectively.'\u001b[0m,\n",
      "    \u001b[32m'childs'\u001b[0m: \u001b[1m[\u001b[0m\n",
      "        \u001b[1m{\u001b[0m\n",
      "            \u001b[32m'title'\u001b[0m: \u001b[32m'Introduction to Biases and Fallacies'\u001b[0m,\n",
      "            \u001b[32m'summary'\u001b[0m: \u001b[32m'This chapter provides an introduction to the concept of biases and fallacies, defining them\u001b[0m\n",
      "\u001b[32mand explaining their significance in various fields. It also discusses the importance of recognizing and avoiding \u001b[0m\n",
      "\u001b[32mthese errors to make informed decisions.'\u001b[0m,\n",
      "            \u001b[32m'n_pages'\u001b[0m: \u001b[1;36m0.8\u001b[0m,\n",
      "            \u001b[32m'needsSubdivision'\u001b[0m: \u001b[3;91mFalse\u001b[0m\n",
      "        \u001b[1m}\u001b[0m,\n",
      "        \u001b[1m{\u001b[0m\n",
      "            \u001b[32m'title'\u001b[0m: \u001b[32m'Cognitive Biases: A Psychological Perspective'\u001b[0m,\n",
      "            \u001b[32m'summary'\u001b[0m: \u001b[32m'This chapter explores cognitive biases, including heuristics, availability bias, and \u001b[0m\n",
      "\u001b[32mconfirmation bias, discussing their psychological explanations and examples.'\u001b[0m,\n",
      "            \u001b[32m'n_pages'\u001b[0m: \u001b[1;36m1.2\u001b[0m,\n",
      "            \u001b[32m'needsSubdivision'\u001b[0m: \u001b[3;92mTrue\u001b[0m\n",
      "        \u001b[1m}\u001b[0m,\n",
      "        \u001b[1m{\u001b[0m\n",
      "            \u001b[32m'title'\u001b[0m: \u001b[32m'Emotional Biases: Understanding and Managing Emotions'\u001b[0m,\n",
      "            \u001b[32m'summary'\u001b[0m: \u001b[32m'This chapter delves into emotional biases, including the affect heuristic and the \u001b[0m\n",
      "\u001b[32mfundamental attribution error, examining their impact on decision-making and everyday life.'\u001b[0m,\n",
      "            \u001b[32m'n_pages'\u001b[0m: \u001b[1;36m0.8\u001b[0m,\n",
      "            \u001b[32m'needsSubdivision'\u001b[0m: \u001b[3;91mFalse\u001b[0m\n",
      "        \u001b[1m}\u001b[0m,\n",
      "        \u001b[1m{\u001b[0m\n",
      "            \u001b[32m'title'\u001b[0m: \u001b[32m'Logical Fallacies: A Critical Analysis'\u001b[0m,\n",
      "            \u001b[32m'summary'\u001b[0m: \u001b[32m'This chapter examines logical fallacies, including ad hominem attacks, straw man arguments,\u001b[0m\n",
      "\u001b[32mand false dilemmas, discussing their forms, examples, and implications.'\u001b[0m,\n",
      "            \u001b[32m'n_pages'\u001b[0m: \u001b[1;36m1.0\u001b[0m,\n",
      "            \u001b[32m'needsSubdivision'\u001b[0m: \u001b[3;92mTrue\u001b[0m\n",
      "        \u001b[1m}\u001b[0m,\n",
      "        \u001b[1m{\u001b[0m\n",
      "            \u001b[32m'title'\u001b[0m: \u001b[32m'Epistemic Fallacies: The Nature of Knowledge'\u001b[0m,\n",
      "            \u001b[32m'summary'\u001b[0m: \u001b[32m'This chapter explores epistemic fallacies, including the problem of induction, confirmation\u001b[0m\n",
      "\u001b[32mbias, and the Dunning-Kruger effect, discussing their implications for knowledge acquisition and transmission.'\u001b[0m,\n",
      "            \u001b[32m'n_pages'\u001b[0m: \u001b[1;36m0.9\u001b[0m,\n",
      "            \u001b[32m'needsSubdivision'\u001b[0m: \u001b[3;91mFalse\u001b[0m\n",
      "        \u001b[1m}\u001b[0m,\n",
      "        \u001b[1m{\u001b[0m\n",
      "            \u001b[32m'title'\u001b[0m: \u001b[32m'Case Studies: Applying Biases and Fallacies in Real-World Scenarios'\u001b[0m,\n",
      "            \u001b[32m'summary'\u001b[0m: \u001b[32m'This chapter presents real-world case studies illustrating the impact of biases and \u001b[0m\n",
      "\u001b[32mfallacies in decision-making, policy-making, and everyday life.'\u001b[0m,\n",
      "            \u001b[32m'n_pages'\u001b[0m: \u001b[1;36m1.5\u001b[0m,\n",
      "            \u001b[32m'needsSubdivision'\u001b[0m: \u001b[3;92mTrue\u001b[0m\n",
      "        \u001b[1m}\u001b[0m,\n",
      "        \u001b[1m{\u001b[0m\n",
      "            \u001b[32m'title'\u001b[0m: \u001b[32m'Mitigating Biases and Fallacies: Strategies for Critical Thinking'\u001b[0m,\n",
      "            \u001b[32m'summary'\u001b[0m: \u001b[32m'This chapter offers practical strategies for recognizing, avoiding, and mitigating biases \u001b[0m\n",
      "\u001b[32mand fallacies in personal and professional contexts.'\u001b[0m,\n",
      "            \u001b[32m'n_pages'\u001b[0m: \u001b[1;36m0.8\u001b[0m,\n",
      "            \u001b[32m'needsSubdivision'\u001b[0m: \u001b[3;91mFalse\u001b[0m\n",
      "        \u001b[1m}\u001b[0m\n",
      "    \u001b[1m]\u001b[0m\n",
      "\u001b[1m}\u001b[0m\n"
     ]
    },
    {
     "data": {
      "text/html": [
       "<pre style=\"white-space:pre;overflow-x:auto;line-height:normal;font-family:Menlo,'DejaVu Sans Mono',consolas,'Courier New',monospace\"></pre>\n"
      ],
      "text/plain": []
     },
     "metadata": {},
     "output_type": "display_data"
    }
   ],
   "source": [
    "from langchain_ollama import OllamaLLM\n",
    "from langchain_core.prompts import PromptTemplate\n",
    "\n",
    "llm = OllamaLLM(base_url='http://localhost:11434', model=\"llama3.2:latest\")\n",
    "\n",
    "prompt = PromptTemplate.from_template(prompt_book_title)\n",
    "\n",
    "chain = prompt | (lambda x: log_prompt(x)) | llm\n",
    "result = chain.invoke(\n",
    "    {\n",
    "        \"book_content\": book_content,\n",
    "        \"target_readers\": target_readers,\n",
    "        \"n_pages\": n_pages,\n",
    "        \"additional_requirements\": additional_requirements\n",
    "   }\n",
    ")\n",
    "\n",
    "book_json = extract_book_and_chapter_contents(result)"
   ]
  },
  {
   "cell_type": "markdown",
   "metadata": {
    "id": "mhgOs-a4kJ59"
   },
   "source": [
    "### Storing Results in the Book Graph"
   ]
  },
  {
   "cell_type": "code",
   "execution_count": 12,
   "metadata": {
    "id": "xdrOGJfqBcf-"
   },
   "outputs": [],
   "source": [
    "# About the book\n",
    "book_graph.add_nodes_from([(book_node_name, {\"title\": book_json[\"title\"], \"summary\": book_json[\"summary\"], \"n_pages\": n_pages, \"needsSubdivision\": True})])\n",
    "\n",
    "# About chapters (sections)\n",
    "book_graph.add_nodes_from([(str(idx+1), child) for idx, child in enumerate(book_json[\"childs\"])])\n",
    "book_graph.add_edges_from([(book_node_name, str(idx+1)) for idx in range(len(book_json[\"childs\"]))])"
   ]
  },
  {
   "cell_type": "markdown",
   "metadata": {
    "id": "wc84vrut-pZ9"
   },
   "source": [
    "## Title and Structure Verification"
   ]
  },
  {
   "cell_type": "markdown",
   "metadata": {
    "id": "WW4r36Pr-_Po"
   },
   "source": [
    "### Displaying Title and Structure"
   ]
  },
  {
   "cell_type": "code",
   "execution_count": 13,
   "metadata": {
    "colab": {
     "base_uri": "https://localhost:8080/",
     "height": 926
    },
    "id": "vzGKlqImWtl4",
    "outputId": "c4c26c3a-a0cd-47da-bbd0-e836af5be9bf"
   },
   "outputs": [
    {
     "data": {
      "text/markdown": [
       "\n",
       " ## Title: Common Biases and Fallacies: A Critical Examination (Page Count: 20)\n",
       " This book provides a comprehensive overview of common biases and fallacies in various fields, including philosophy, psychology, economics, and politics. The primary objectives of this book are to educate readers on the nature and consequences of these errors, equip them with critical thinking skills to recognize and avoid them, and explore ways to mitigate their impact. The scope of this book covers various types of biases and fallacies, including cognitive biases, emotional biases, logical fallacies, and epistemic fallacies. The content delves into the history, philosophy, and psychological explanations behind these errors, as well as their implications for decision-making, policy-making, and everyday life. Throughout the book, readers will find practical examples, case studies, and thought-provoking exercises to reinforce their understanding of these concepts. With a focus on clarity, accuracy, and objectivity, this book aims to equip readers with the knowledge and skills necessary to navigate complex information landscapes effectively.\n",
       " ### Chapter 1: Introduction to Biases and Fallacies (Page Count: 0.8)\n",
       "This chapter provides an introduction to the concept of biases and fallacies, defining them and explaining their significance in various fields. It also discusses the importance of recognizing and avoiding these errors to make informed decisions.\n",
       " ### Chapter 2: Cognitive Biases: A Psychological Perspective (Page Count: 1.2)\n",
       "This chapter explores cognitive biases, including heuristics, availability bias, and confirmation bias, discussing their psychological explanations and examples.\n",
       " ### Chapter 3: Emotional Biases: Understanding and Managing Emotions (Page Count: 0.8)\n",
       "This chapter delves into emotional biases, including the affect heuristic and the fundamental attribution error, examining their impact on decision-making and everyday life.\n",
       " ### Chapter 4: Logical Fallacies: A Critical Analysis (Page Count: 1.0)\n",
       "This chapter examines logical fallacies, including ad hominem attacks, straw man arguments, and false dilemmas, discussing their forms, examples, and implications.\n",
       " ### Chapter 5: Epistemic Fallacies: The Nature of Knowledge (Page Count: 0.9)\n",
       "This chapter explores epistemic fallacies, including the problem of induction, confirmation bias, and the Dunning-Kruger effect, discussing their implications for knowledge acquisition and transmission.\n",
       " ### Chapter 6: Case Studies: Applying Biases and Fallacies in Real-World Scenarios (Page Count: 1.5)\n",
       "This chapter presents real-world case studies illustrating the impact of biases and fallacies in decision-making, policy-making, and everyday life.\n",
       " ### Chapter 7: Mitigating Biases and Fallacies: Strategies for Critical Thinking (Page Count: 0.8)\n",
       "This chapter offers practical strategies for recognizing, avoiding, and mitigating biases and fallacies in personal and professional contexts."
      ],
      "text/plain": [
       "<IPython.core.display.Markdown object>"
      ]
     },
     "execution_count": 13,
     "metadata": {},
     "output_type": "execute_result"
    }
   ],
   "source": [
    "book_node = book_graph.nodes[book_node_name]\n",
    "\n",
    "content_md = \"\"\n",
    "content_md += \"\\n ## Title: \" + book_node[\"title\"] + \" (Page Count: \" + str(book_node[\"n_pages\"]) + \")\"\n",
    "content_md += \"\\n \" + book_node[\"summary\"]\n",
    "for idx, child_node_name in enumerate(book_graph.successors(book_node_name)):\n",
    "    child_node = book_graph.nodes[child_node_name]\n",
    "    content_md += \"\\n ### Chapter \" + str(idx+1) + \": \" + child_node[\"title\"] + \" (Page Count: \" + str(child_node[\"n_pages\"]) + \")\"\n",
    "    content_md += \"\\n\" + child_node[\"summary\"]\n",
    "\n",
    "Markdown(content_md)\n"
   ]
  },
  {
   "cell_type": "markdown",
   "metadata": {
    "id": "dfXBblAq_mx6"
   },
   "source": [
    "## Book Graph Creation"
   ]
  },
  {
   "cell_type": "markdown",
   "metadata": {
    "id": "TaiIwjSjknP5"
   },
   "source": [
    "### Function Definition"
   ]
  },
  {
   "cell_type": "code",
   "execution_count": 14,
   "metadata": {
    "id": "KgA7TIry_W2D"
   },
   "outputs": [],
   "source": [
    "def extract_section_list(markdown_text):\n",
    "\n",
    "    pattern = r'```json\\s*(.*?)\\s*```'\n",
    "    match = re.search(pattern, markdown_text, re.DOTALL)\n",
    "\n",
    "    if match:\n",
    "        json_string = match.group(1)\n",
    "        data = json.loads(json_string)\n",
    "        return data\n",
    "    else:\n",
    "        print(\"JSON data not found.\")\n",
    "        return None\n",
    "\n",
    "def extract_section_content(markdown_text):\n",
    "    pattern = r'<\\|tex_start\\|>\\s*(.*?)\\s*<\\|tex_end\\|>'  # Regex to match custom delimiters\n",
    "    match = re.search(pattern, markdown_text, re.DOTALL)  # Search across lines (re.DOTALL)\n",
    "    if match:\n",
    "        tex_string = match.group(1)  # Extract content between the delimiters\n",
    "        return tex_string\n",
    "    else:\n",
    "        pattern = r'<\\|tex_start\\|>\\s*(.*?)\\s*<\\/\\|tex_end\\|>'  # Regex to match custom delimiters\n",
    "        match = re.search(pattern, markdown_text, re.DOTALL)  # Search across lines (re.DOTALL)\n",
    "        if match:\n",
    "            tex_string = match.group(1)  # Extract content between the delimiters\n",
    "            return tex_string\n",
    "        else:\n",
    "            print(\"TeX data not found.\")  # Handle cases with missing delimiters\n",
    "            return markdown_text\n",
    "\n",
    "\n",
    "def get_equation_frequency(equation_frequency_level):\n",
    "    if equation_frequency_level == 1:\n",
    "        return \"Avoid using equations whenever possible, and explain all concepts in simple words. Use equations only when absolutely necessary and keep it to a minimum.\"\n",
    "    elif equation_frequency_level == 2:\n",
    "        return \"Use equations sparingly, focusing primarily on explanations in prose. Use simple equations only if necessary.\"\n",
    "    elif equation_frequency_level == 3:\n",
    "        return \"Combine equations and prose explanations in a balanced way. Use equations to illustrate key concepts, supplementing with prose where needed.\"\n",
    "    elif equation_frequency_level == 4:\n",
    "        return \"Use equations actively to precisely convey concepts and relationships. However, important explanations should also be supplemented with prose.\"\n",
    "    elif equation_frequency_level == 5:\n",
    "        return \"Use equations extensively. Express as many concepts and relationships as possible through equations.\""
   ]
  },
  {
   "cell_type": "markdown",
   "metadata": {
    "id": "h67SUYLNkfjh"
   },
   "source": [
    "### LLM Chapter, Section, Subsection Generation"
   ]
  },
  {
   "cell_type": "code",
   "execution_count": 15,
   "metadata": {
    "id": "fvZSOTxb4kpT",
    "scrolled": false
   },
   "outputs": [
    {
     "name": "stdout",
     "output_type": "stream",
     "text": [
      "\u001b[1m{\u001b[0m\n",
      "    \u001b[32m'title'\u001b[0m: \u001b[32m'Introduction to Biases and Fallacies'\u001b[0m,\n",
      "    \u001b[32m'summary'\u001b[0m: \u001b[32m'This chapter provides an introduction to the concept of biases and fallacies, defining them and \u001b[0m\n",
      "\u001b[32mexplaining their significance in various fields. It also discusses the importance of recognizing and avoiding these\u001b[0m\n",
      "\u001b[32merrors to make informed decisions.'\u001b[0m,\n",
      "    \u001b[32m'n_pages'\u001b[0m: \u001b[1;36m0.8\u001b[0m,\n",
      "    \u001b[32m'needsSubdivision'\u001b[0m: \u001b[3;91mFalse\u001b[0m\n",
      "\u001b[1m}\u001b[0m\n"
     ]
    },
    {
     "data": {
      "text/html": [
       "<pre style=\"white-space:pre;overflow-x:auto;line-height:normal;font-family:Menlo,'DejaVu Sans Mono',consolas,'Courier New',monospace\"></pre>\n"
      ],
      "text/plain": []
     },
     "metadata": {},
     "output_type": "display_data"
    },
    {
     "name": "stdout",
     "output_type": "stream",
     "text": [
      "\u001b[1m{\u001b[0m\n",
      "    \u001b[32m'title'\u001b[0m: \u001b[32m'Cognitive Biases: A Psychological Perspective'\u001b[0m,\n",
      "    \u001b[32m'summary'\u001b[0m: \u001b[32m'This chapter explores cognitive biases, including heuristics, availability bias, and confirmation \u001b[0m\n",
      "\u001b[32mbias, discussing their psychological explanations and examples.'\u001b[0m,\n",
      "    \u001b[32m'n_pages'\u001b[0m: \u001b[1;36m1.2\u001b[0m,\n",
      "    \u001b[32m'needsSubdivision'\u001b[0m: \u001b[3;92mTrue\u001b[0m\n",
      "\u001b[1m}\u001b[0m\n"
     ]
    },
    {
     "data": {
      "text/html": [
       "<pre style=\"white-space:pre;overflow-x:auto;line-height:normal;font-family:Menlo,'DejaVu Sans Mono',consolas,'Courier New',monospace\"></pre>\n"
      ],
      "text/plain": []
     },
     "metadata": {},
     "output_type": "display_data"
    },
    {
     "name": "stdout",
     "output_type": "stream",
     "text": [
      "\u001b[1m[\u001b[0m\n",
      "    \u001b[1m{\u001b[0m\n",
      "        \u001b[32m'title'\u001b[0m: \u001b[32m'What are Cognitive Biases?'\u001b[0m,\n",
      "        \u001b[32m'summary'\u001b[0m: \u001b[32m'Cognitive biases refer to systematic errors in thinking and decision-making that arise from \u001b[0m\n",
      "\u001b[32mmental shortcuts, rules of thumb, or heuristics. These biases can lead to inaccurate judgments and flawed \u001b[0m\n",
      "\u001b[32mreasoning.'\u001b[0m,\n",
      "        \u001b[32m'n_pages'\u001b[0m: \u001b[1;36m0.2\u001b[0m,\n",
      "        \u001b[32m'needsSubdivision'\u001b[0m: \u001b[3;92mTrue\u001b[0m\n",
      "    \u001b[1m}\u001b[0m,\n",
      "    \u001b[1m{\u001b[0m\n",
      "        \u001b[32m'title'\u001b[0m: \u001b[32m'Heuristics: Mental Shortcuts'\u001b[0m,\n",
      "        \u001b[32m'summary'\u001b[0m: \u001b[32m'Heuristics are mental shortcuts that simplify complex decisions by relying on rules of thumb or\u001b[0m\n",
      "\u001b[32mgeneral principles. While heuristics can be helpful, they can also lead to cognitive biases if not used \u001b[0m\n",
      "\u001b[32mcritically.'\u001b[0m,\n",
      "        \u001b[32m'n_pages'\u001b[0m: \u001b[1;36m0.2\u001b[0m,\n",
      "        \u001b[32m'needsSubdivision'\u001b[0m: \u001b[3;91mFalse\u001b[0m\n",
      "    \u001b[1m}\u001b[0m,\n",
      "    \u001b[1m{\u001b[0m\n",
      "        \u001b[32m'title'\u001b[0m: \u001b[32m'Availability Bias: How We Overestimate Unlikely Events'\u001b[0m,\n",
      "        \u001b[32m'summary'\u001b[0m: \u001b[32m'The availability bias occurs when we overestimate the likelihood of an event based on how \u001b[0m\n",
      "\u001b[32measily examples come to mind. This bias can lead to inaccurate judgments and exaggerated fears.'\u001b[0m,\n",
      "        \u001b[32m'n_pages'\u001b[0m: \u001b[1;36m0.2\u001b[0m,\n",
      "        \u001b[32m'needsSubdivision'\u001b[0m: \u001b[3;91mFalse\u001b[0m\n",
      "    \u001b[1m}\u001b[0m,\n",
      "    \u001b[1m{\u001b[0m\n",
      "        \u001b[32m'title'\u001b[0m: \u001b[32m'Confirmation Bias: How We Seek Out Confirming Information'\u001b[0m,\n",
      "        \u001b[32m'summary'\u001b[0m: \u001b[32m'The confirmation bias refers to the tendency to seek out information that confirms our existing\u001b[0m\n",
      "\u001b[32mbeliefs or hypotheses. This bias can lead to a narrow and inaccurate understanding of the world.'\u001b[0m,\n",
      "        \u001b[32m'n_pages'\u001b[0m: \u001b[1;36m0.2\u001b[0m,\n",
      "        \u001b[32m'needsSubdivision'\u001b[0m: \u001b[3;91mFalse\u001b[0m\n",
      "    \u001b[1m}\u001b[0m\n",
      "\u001b[1m]\u001b[0m\n"
     ]
    },
    {
     "data": {
      "text/html": [
       "<pre style=\"white-space:pre;overflow-x:auto;line-height:normal;font-family:Menlo,'DejaVu Sans Mono',consolas,'Courier New',monospace\"></pre>\n"
      ],
      "text/plain": []
     },
     "metadata": {},
     "output_type": "display_data"
    },
    {
     "name": "stdout",
     "output_type": "stream",
     "text": [
      "\u001b[1m{\u001b[0m\n",
      "    \u001b[32m'title'\u001b[0m: \u001b[32m'Emotional Biases: Understanding and Managing Emotions'\u001b[0m,\n",
      "    \u001b[32m'summary'\u001b[0m: \u001b[32m'This chapter delves into emotional biases, including the affect heuristic and the fundamental \u001b[0m\n",
      "\u001b[32mattribution error, examining their impact on decision-making and everyday life.'\u001b[0m,\n",
      "    \u001b[32m'n_pages'\u001b[0m: \u001b[1;36m0.8\u001b[0m,\n",
      "    \u001b[32m'needsSubdivision'\u001b[0m: \u001b[3;91mFalse\u001b[0m\n",
      "\u001b[1m}\u001b[0m\n"
     ]
    },
    {
     "data": {
      "text/html": [
       "<pre style=\"white-space:pre;overflow-x:auto;line-height:normal;font-family:Menlo,'DejaVu Sans Mono',consolas,'Courier New',monospace\"></pre>\n"
      ],
      "text/plain": []
     },
     "metadata": {},
     "output_type": "display_data"
    },
    {
     "name": "stdout",
     "output_type": "stream",
     "text": [
      "\u001b[1m{\u001b[0m\n",
      "    \u001b[32m'title'\u001b[0m: \u001b[32m'Logical Fallacies: A Critical Analysis'\u001b[0m,\n",
      "    \u001b[32m'summary'\u001b[0m: \u001b[32m'This chapter examines logical fallacies, including ad hominem attacks, straw man arguments, and \u001b[0m\n",
      "\u001b[32mfalse dilemmas, discussing their forms, examples, and implications.'\u001b[0m,\n",
      "    \u001b[32m'n_pages'\u001b[0m: \u001b[1;36m1.0\u001b[0m,\n",
      "    \u001b[32m'needsSubdivision'\u001b[0m: \u001b[3;92mTrue\u001b[0m\n",
      "\u001b[1m}\u001b[0m\n"
     ]
    },
    {
     "data": {
      "text/html": [
       "<pre style=\"white-space:pre;overflow-x:auto;line-height:normal;font-family:Menlo,'DejaVu Sans Mono',consolas,'Courier New',monospace\"></pre>\n"
      ],
      "text/plain": []
     },
     "metadata": {},
     "output_type": "display_data"
    },
    {
     "name": "stdout",
     "output_type": "stream",
     "text": [
      "\u001b[1m[\u001b[0m\n",
      "    \u001b[1m{\u001b[0m\n",
      "        \u001b[32m'title'\u001b[0m: \u001b[32m'Introduction to Logical Fallacies'\u001b[0m,\n",
      "        \u001b[32m'summary'\u001b[0m: \u001b[32m'This section introduces the concept of logical fallacies, explaining their definition and \u001b[0m\n",
      "\u001b[32mimportance in critical thinking. It also discusses how these fallacies can be used to manipulate arguments and \u001b[0m\n",
      "\u001b[32mdeceive others.'\u001b[0m,\n",
      "        \u001b[32m'n_pages'\u001b[0m: \u001b[1;36m0.8\u001b[0m,\n",
      "        \u001b[32m'needsSubdivision'\u001b[0m: \u001b[3;92mTrue\u001b[0m\n",
      "    \u001b[1m}\u001b[0m,\n",
      "    \u001b[1m{\u001b[0m\n",
      "        \u001b[32m'title'\u001b[0m: \u001b[32m'Ad Hominem Attacks: A Form of Logical Fallacy'\u001b[0m,\n",
      "        \u001b[32m'summary'\u001b[0m: \u001b[32m'This section delves into ad hominem attacks, explaining their forms, examples, and implications\u001b[0m\n",
      "\u001b[32min arguments. It also discusses how to recognize and counter these fallacies.'\u001b[0m,\n",
      "        \u001b[32m'n_pages'\u001b[0m: \u001b[1;36m0.8\u001b[0m,\n",
      "        \u001b[32m'needsSubdivision'\u001b[0m: \u001b[3;91mFalse\u001b[0m\n",
      "    \u001b[1m}\u001b[0m,\n",
      "    \u001b[1m{\u001b[0m\n",
      "        \u001b[32m'title'\u001b[0m: \u001b[32m'Straw Man Arguments: Manipulating the Argument'\u001b[0m,\n",
      "        \u001b[32m'summary'\u001b[0m: \u001b[32m'This section examines straw man arguments, explaining their forms, examples, and implications \u001b[0m\n",
      "\u001b[32min discussions. It also discusses how to recognize and counter these fallacies.'\u001b[0m,\n",
      "        \u001b[32m'n_pages'\u001b[0m: \u001b[1;36m0.8\u001b[0m,\n",
      "        \u001b[32m'needsSubdivision'\u001b[0m: \u001b[3;91mFalse\u001b[0m\n",
      "    \u001b[1m}\u001b[0m,\n",
      "    \u001b[1m{\u001b[0m\n",
      "        \u001b[32m'title'\u001b[0m: \u001b[32m'False Dilemmas: A Form of Logical Fallacy'\u001b[0m,\n",
      "        \u001b[32m'summary'\u001b[0m: \u001b[32m'This section explores false dilemmas, explaining their forms, examples, and implications in \u001b[0m\n",
      "\u001b[32mdecision-making. It also discusses how to recognize and counter these fallacies.'\u001b[0m,\n",
      "        \u001b[32m'n_pages'\u001b[0m: \u001b[1;36m0.8\u001b[0m,\n",
      "        \u001b[32m'needsSubdivision'\u001b[0m: \u001b[3;91mFalse\u001b[0m\n",
      "    \u001b[1m}\u001b[0m\n",
      "\u001b[1m]\u001b[0m\n"
     ]
    },
    {
     "data": {
      "text/html": [
       "<pre style=\"white-space:pre;overflow-x:auto;line-height:normal;font-family:Menlo,'DejaVu Sans Mono',consolas,'Courier New',monospace\"></pre>\n"
      ],
      "text/plain": []
     },
     "metadata": {},
     "output_type": "display_data"
    },
    {
     "name": "stdout",
     "output_type": "stream",
     "text": [
      "\u001b[1m{\u001b[0m\n",
      "    \u001b[32m'title'\u001b[0m: \u001b[32m'Epistemic Fallacies: The Nature of Knowledge'\u001b[0m,\n",
      "    \u001b[32m'summary'\u001b[0m: \u001b[32m'This chapter explores epistemic fallacies, including the problem of induction, confirmation bias, \u001b[0m\n",
      "\u001b[32mand the Dunning-Kruger effect, discussing their implications for knowledge acquisition and transmission.'\u001b[0m,\n",
      "    \u001b[32m'n_pages'\u001b[0m: \u001b[1;36m0.9\u001b[0m,\n",
      "    \u001b[32m'needsSubdivision'\u001b[0m: \u001b[3;91mFalse\u001b[0m\n",
      "\u001b[1m}\u001b[0m\n"
     ]
    },
    {
     "data": {
      "text/html": [
       "<pre style=\"white-space:pre;overflow-x:auto;line-height:normal;font-family:Menlo,'DejaVu Sans Mono',consolas,'Courier New',monospace\"></pre>\n"
      ],
      "text/plain": []
     },
     "metadata": {},
     "output_type": "display_data"
    },
    {
     "name": "stdout",
     "output_type": "stream",
     "text": [
      "\u001b[1m{\u001b[0m\n",
      "    \u001b[32m'title'\u001b[0m: \u001b[32m'Case Studies: Applying Biases and Fallacies in Real-World Scenarios'\u001b[0m,\n",
      "    \u001b[32m'summary'\u001b[0m: \u001b[32m'This chapter presents real-world case studies illustrating the impact of biases and fallacies in \u001b[0m\n",
      "\u001b[32mdecision-making, policy-making, and everyday life.'\u001b[0m,\n",
      "    \u001b[32m'n_pages'\u001b[0m: \u001b[1;36m1.5\u001b[0m,\n",
      "    \u001b[32m'needsSubdivision'\u001b[0m: \u001b[3;92mTrue\u001b[0m\n",
      "\u001b[1m}\u001b[0m\n"
     ]
    },
    {
     "data": {
      "text/html": [
       "<pre style=\"white-space:pre;overflow-x:auto;line-height:normal;font-family:Menlo,'DejaVu Sans Mono',consolas,'Courier New',monospace\"></pre>\n"
      ],
      "text/plain": []
     },
     "metadata": {},
     "output_type": "display_data"
    },
    {
     "name": "stdout",
     "output_type": "stream",
     "text": [
      "\u001b[1m[\u001b[0m\n",
      "    \u001b[1m{\u001b[0m\n",
      "        \u001b[32m'title'\u001b[0m: \u001b[32m'The Dunning-Kruger Effect in Politics'\u001b[0m,\n",
      "        \u001b[32m'summary'\u001b[0m: \u001b[32m'This case study examines how politicians and pundits often suffer from the Dunning-Kruger \u001b[0m\n",
      "\u001b[32meffect, where they overestimate their knowledge and expertise on complex issues.'\u001b[0m,\n",
      "        \u001b[32m'n_pages'\u001b[0m: \u001b[1;36m0.8\u001b[0m,\n",
      "        \u001b[32m'needsSubdivision'\u001b[0m: \u001b[3;91mFalse\u001b[0m\n",
      "    \u001b[1m}\u001b[0m,\n",
      "    \u001b[1m{\u001b[0m\n",
      "        \u001b[32m'title'\u001b[0m: \u001b[32m'Confirmation Bias in Social Media'\u001b[0m,\n",
      "        \u001b[32m'summary'\u001b[0m: \u001b[32m'This case study explores how social media platforms can perpetuate confirmation bias, where \u001b[0m\n",
      "\u001b[32musers selectively expose themselves to information that confirms their existing beliefs.'\u001b[0m,\n",
      "        \u001b[32m'n_pages'\u001b[0m: \u001b[1;36m0.7\u001b[0m,\n",
      "        \u001b[32m'needsSubdivision'\u001b[0m: \u001b[3;92mTrue\u001b[0m\n",
      "    \u001b[1m}\u001b[0m,\n",
      "    \u001b[1m{\u001b[0m\n",
      "        \u001b[32m'title'\u001b[0m: \u001b[32m'Anchoring Bias in Economic Decision-Making'\u001b[0m,\n",
      "        \u001b[32m'summary'\u001b[0m: \u001b[32m'This case study demonstrates how the anchoring bias affects economic decision-making, where \u001b[0m\n",
      "\u001b[32minitial values or anchors influence subsequent judgments.'\u001b[0m,\n",
      "        \u001b[32m'n_pages'\u001b[0m: \u001b[1;36m0.9\u001b[0m,\n",
      "        \u001b[32m'needsSubdivision'\u001b[0m: \u001b[3;91mFalse\u001b[0m\n",
      "    \u001b[1m}\u001b[0m,\n",
      "    \u001b[1m{\u001b[0m\n",
      "        \u001b[32m'title'\u001b[0m: \u001b[32m'Hindsight Bias in Risk Assessment'\u001b[0m,\n",
      "        \u001b[32m'summary'\u001b[0m: \u001b[32m'This case study illustrates how hindsight bias leads individuals to overestimate their ability \u001b[0m\n",
      "\u001b[32mto predict outcomes and underestimate the role of chance.'\u001b[0m,\n",
      "        \u001b[32m'n_pages'\u001b[0m: \u001b[1;36m0.6\u001b[0m,\n",
      "        \u001b[32m'needsSubdivision'\u001b[0m: \u001b[3;92mTrue\u001b[0m\n",
      "    \u001b[1m}\u001b[0m\n",
      "\u001b[1m]\u001b[0m\n"
     ]
    },
    {
     "data": {
      "text/html": [
       "<pre style=\"white-space:pre;overflow-x:auto;line-height:normal;font-family:Menlo,'DejaVu Sans Mono',consolas,'Courier New',monospace\"></pre>\n"
      ],
      "text/plain": []
     },
     "metadata": {},
     "output_type": "display_data"
    },
    {
     "name": "stdout",
     "output_type": "stream",
     "text": [
      "\u001b[1m{\u001b[0m\n",
      "    \u001b[32m'title'\u001b[0m: \u001b[32m'Mitigating Biases and Fallacies: Strategies for Critical Thinking'\u001b[0m,\n",
      "    \u001b[32m'summary'\u001b[0m: \u001b[32m'This chapter offers practical strategies for recognizing, avoiding, and mitigating biases and \u001b[0m\n",
      "\u001b[32mfallacies in personal and professional contexts.'\u001b[0m,\n",
      "    \u001b[32m'n_pages'\u001b[0m: \u001b[1;36m0.8\u001b[0m,\n",
      "    \u001b[32m'needsSubdivision'\u001b[0m: \u001b[3;91mFalse\u001b[0m\n",
      "\u001b[1m}\u001b[0m\n"
     ]
    },
    {
     "data": {
      "text/html": [
       "<pre style=\"white-space:pre;overflow-x:auto;line-height:normal;font-family:Menlo,'DejaVu Sans Mono',consolas,'Courier New',monospace\"></pre>\n"
      ],
      "text/plain": []
     },
     "metadata": {},
     "output_type": "display_data"
    },
    {
     "name": "stdout",
     "output_type": "stream",
     "text": [
      "\u001b[1m{\u001b[0m\n",
      "    \u001b[32m'title'\u001b[0m: \u001b[32m'What are Cognitive Biases?'\u001b[0m,\n",
      "    \u001b[32m'summary'\u001b[0m: \u001b[32m'Cognitive biases refer to systematic errors in thinking and decision-making that arise from mental \u001b[0m\n",
      "\u001b[32mshortcuts, rules of thumb, or heuristics. These biases can lead to inaccurate judgments and flawed reasoning.'\u001b[0m,\n",
      "    \u001b[32m'n_pages'\u001b[0m: \u001b[1;36m0.2\u001b[0m,\n",
      "    \u001b[32m'needsSubdivision'\u001b[0m: \u001b[3;92mTrue\u001b[0m\n",
      "\u001b[1m}\u001b[0m\n"
     ]
    },
    {
     "data": {
      "text/html": [
       "<pre style=\"white-space:pre;overflow-x:auto;line-height:normal;font-family:Menlo,'DejaVu Sans Mono',consolas,'Courier New',monospace\"></pre>\n"
      ],
      "text/plain": []
     },
     "metadata": {},
     "output_type": "display_data"
    },
    {
     "name": "stdout",
     "output_type": "stream",
     "text": [
      "\u001b[1m{\u001b[0m\n",
      "    \u001b[32m'title'\u001b[0m: \u001b[32m'Heuristics: Mental Shortcuts'\u001b[0m,\n",
      "    \u001b[32m'summary'\u001b[0m: \u001b[32m'Heuristics are mental shortcuts that simplify complex decisions by relying on rules of thumb or \u001b[0m\n",
      "\u001b[32mgeneral principles. While heuristics can be helpful, they can also lead to cognitive biases if not used \u001b[0m\n",
      "\u001b[32mcritically.'\u001b[0m,\n",
      "    \u001b[32m'n_pages'\u001b[0m: \u001b[1;36m0.2\u001b[0m,\n",
      "    \u001b[32m'needsSubdivision'\u001b[0m: \u001b[3;91mFalse\u001b[0m\n",
      "\u001b[1m}\u001b[0m\n"
     ]
    },
    {
     "data": {
      "text/html": [
       "<pre style=\"white-space:pre;overflow-x:auto;line-height:normal;font-family:Menlo,'DejaVu Sans Mono',consolas,'Courier New',monospace\"></pre>\n"
      ],
      "text/plain": []
     },
     "metadata": {},
     "output_type": "display_data"
    },
    {
     "name": "stdout",
     "output_type": "stream",
     "text": [
      "\u001b[1m{\u001b[0m\n",
      "    \u001b[32m'title'\u001b[0m: \u001b[32m'Availability Bias: How We Overestimate Unlikely Events'\u001b[0m,\n",
      "    \u001b[32m'summary'\u001b[0m: \u001b[32m'The availability bias occurs when we overestimate the likelihood of an event based on how easily \u001b[0m\n",
      "\u001b[32mexamples come to mind. This bias can lead to inaccurate judgments and exaggerated fears.'\u001b[0m,\n",
      "    \u001b[32m'n_pages'\u001b[0m: \u001b[1;36m0.2\u001b[0m,\n",
      "    \u001b[32m'needsSubdivision'\u001b[0m: \u001b[3;91mFalse\u001b[0m\n",
      "\u001b[1m}\u001b[0m\n"
     ]
    },
    {
     "data": {
      "text/html": [
       "<pre style=\"white-space:pre;overflow-x:auto;line-height:normal;font-family:Menlo,'DejaVu Sans Mono',consolas,'Courier New',monospace\"></pre>\n"
      ],
      "text/plain": []
     },
     "metadata": {},
     "output_type": "display_data"
    },
    {
     "name": "stdout",
     "output_type": "stream",
     "text": [
      "\u001b[1m{\u001b[0m\n",
      "    \u001b[32m'title'\u001b[0m: \u001b[32m'Confirmation Bias: How We Seek Out Confirming Information'\u001b[0m,\n",
      "    \u001b[32m'summary'\u001b[0m: \u001b[32m'The confirmation bias refers to the tendency to seek out information that confirms our existing \u001b[0m\n",
      "\u001b[32mbeliefs or hypotheses. This bias can lead to a narrow and inaccurate understanding of the world.'\u001b[0m,\n",
      "    \u001b[32m'n_pages'\u001b[0m: \u001b[1;36m0.2\u001b[0m,\n",
      "    \u001b[32m'needsSubdivision'\u001b[0m: \u001b[3;91mFalse\u001b[0m\n",
      "\u001b[1m}\u001b[0m\n"
     ]
    },
    {
     "data": {
      "text/html": [
       "<pre style=\"white-space:pre;overflow-x:auto;line-height:normal;font-family:Menlo,'DejaVu Sans Mono',consolas,'Courier New',monospace\"></pre>\n"
      ],
      "text/plain": []
     },
     "metadata": {},
     "output_type": "display_data"
    },
    {
     "name": "stdout",
     "output_type": "stream",
     "text": [
      "\u001b[1m{\u001b[0m\n",
      "    \u001b[32m'title'\u001b[0m: \u001b[32m'Introduction to Logical Fallacies'\u001b[0m,\n",
      "    \u001b[32m'summary'\u001b[0m: \u001b[32m'This section introduces the concept of logical fallacies, explaining their definition and \u001b[0m\n",
      "\u001b[32mimportance in critical thinking. It also discusses how these fallacies can be used to manipulate arguments and \u001b[0m\n",
      "\u001b[32mdeceive others.'\u001b[0m,\n",
      "    \u001b[32m'n_pages'\u001b[0m: \u001b[1;36m0.8\u001b[0m,\n",
      "    \u001b[32m'needsSubdivision'\u001b[0m: \u001b[3;92mTrue\u001b[0m\n",
      "\u001b[1m}\u001b[0m\n"
     ]
    },
    {
     "data": {
      "text/html": [
       "<pre style=\"white-space:pre;overflow-x:auto;line-height:normal;font-family:Menlo,'DejaVu Sans Mono',consolas,'Courier New',monospace\"></pre>\n"
      ],
      "text/plain": []
     },
     "metadata": {},
     "output_type": "display_data"
    },
    {
     "name": "stdout",
     "output_type": "stream",
     "text": [
      "\u001b[1m{\u001b[0m\n",
      "    \u001b[32m'title'\u001b[0m: \u001b[32m'Ad Hominem Attacks: A Form of Logical Fallacy'\u001b[0m,\n",
      "    \u001b[32m'summary'\u001b[0m: \u001b[32m'This section delves into ad hominem attacks, explaining their forms, examples, and implications in \u001b[0m\n",
      "\u001b[32marguments. It also discusses how to recognize and counter these fallacies.'\u001b[0m,\n",
      "    \u001b[32m'n_pages'\u001b[0m: \u001b[1;36m0.8\u001b[0m,\n",
      "    \u001b[32m'needsSubdivision'\u001b[0m: \u001b[3;91mFalse\u001b[0m\n",
      "\u001b[1m}\u001b[0m\n"
     ]
    },
    {
     "data": {
      "text/html": [
       "<pre style=\"white-space:pre;overflow-x:auto;line-height:normal;font-family:Menlo,'DejaVu Sans Mono',consolas,'Courier New',monospace\"></pre>\n"
      ],
      "text/plain": []
     },
     "metadata": {},
     "output_type": "display_data"
    },
    {
     "name": "stdout",
     "output_type": "stream",
     "text": [
      "\u001b[1m{\u001b[0m\n",
      "    \u001b[32m'title'\u001b[0m: \u001b[32m'Straw Man Arguments: Manipulating the Argument'\u001b[0m,\n",
      "    \u001b[32m'summary'\u001b[0m: \u001b[32m'This section examines straw man arguments, explaining their forms, examples, and implications in \u001b[0m\n",
      "\u001b[32mdiscussions. It also discusses how to recognize and counter these fallacies.'\u001b[0m,\n",
      "    \u001b[32m'n_pages'\u001b[0m: \u001b[1;36m0.8\u001b[0m,\n",
      "    \u001b[32m'needsSubdivision'\u001b[0m: \u001b[3;91mFalse\u001b[0m\n",
      "\u001b[1m}\u001b[0m\n"
     ]
    },
    {
     "data": {
      "text/html": [
       "<pre style=\"white-space:pre;overflow-x:auto;line-height:normal;font-family:Menlo,'DejaVu Sans Mono',consolas,'Courier New',monospace\"></pre>\n"
      ],
      "text/plain": []
     },
     "metadata": {},
     "output_type": "display_data"
    },
    {
     "name": "stdout",
     "output_type": "stream",
     "text": [
      "\u001b[1m{\u001b[0m\n",
      "    \u001b[32m'title'\u001b[0m: \u001b[32m'False Dilemmas: A Form of Logical Fallacy'\u001b[0m,\n",
      "    \u001b[32m'summary'\u001b[0m: \u001b[32m'This section explores false dilemmas, explaining their forms, examples, and implications in \u001b[0m\n",
      "\u001b[32mdecision-making. It also discusses how to recognize and counter these fallacies.'\u001b[0m,\n",
      "    \u001b[32m'n_pages'\u001b[0m: \u001b[1;36m0.8\u001b[0m,\n",
      "    \u001b[32m'needsSubdivision'\u001b[0m: \u001b[3;91mFalse\u001b[0m\n",
      "\u001b[1m}\u001b[0m\n"
     ]
    },
    {
     "data": {
      "text/html": [
       "<pre style=\"white-space:pre;overflow-x:auto;line-height:normal;font-family:Menlo,'DejaVu Sans Mono',consolas,'Courier New',monospace\"></pre>\n"
      ],
      "text/plain": []
     },
     "metadata": {},
     "output_type": "display_data"
    },
    {
     "name": "stdout",
     "output_type": "stream",
     "text": [
      "\u001b[1m{\u001b[0m\n",
      "    \u001b[32m'title'\u001b[0m: \u001b[32m'The Dunning-Kruger Effect in Politics'\u001b[0m,\n",
      "    \u001b[32m'summary'\u001b[0m: \u001b[32m'This case study examines how politicians and pundits often suffer from the Dunning-Kruger effect, \u001b[0m\n",
      "\u001b[32mwhere they overestimate their knowledge and expertise on complex issues.'\u001b[0m,\n",
      "    \u001b[32m'n_pages'\u001b[0m: \u001b[1;36m0.8\u001b[0m,\n",
      "    \u001b[32m'needsSubdivision'\u001b[0m: \u001b[3;91mFalse\u001b[0m\n",
      "\u001b[1m}\u001b[0m\n"
     ]
    },
    {
     "data": {
      "text/html": [
       "<pre style=\"white-space:pre;overflow-x:auto;line-height:normal;font-family:Menlo,'DejaVu Sans Mono',consolas,'Courier New',monospace\"></pre>\n"
      ],
      "text/plain": []
     },
     "metadata": {},
     "output_type": "display_data"
    },
    {
     "name": "stdout",
     "output_type": "stream",
     "text": [
      "\u001b[1m{\u001b[0m\n",
      "    \u001b[32m'title'\u001b[0m: \u001b[32m'Confirmation Bias in Social Media'\u001b[0m,\n",
      "    \u001b[32m'summary'\u001b[0m: \u001b[32m'This case study explores how social media platforms can perpetuate confirmation bias, where users \u001b[0m\n",
      "\u001b[32mselectively expose themselves to information that confirms their existing beliefs.'\u001b[0m,\n",
      "    \u001b[32m'n_pages'\u001b[0m: \u001b[1;36m0.7\u001b[0m,\n",
      "    \u001b[32m'needsSubdivision'\u001b[0m: \u001b[3;92mTrue\u001b[0m\n",
      "\u001b[1m}\u001b[0m\n"
     ]
    },
    {
     "data": {
      "text/html": [
       "<pre style=\"white-space:pre;overflow-x:auto;line-height:normal;font-family:Menlo,'DejaVu Sans Mono',consolas,'Courier New',monospace\"></pre>\n"
      ],
      "text/plain": []
     },
     "metadata": {},
     "output_type": "display_data"
    },
    {
     "name": "stdout",
     "output_type": "stream",
     "text": [
      "\u001b[1m{\u001b[0m\n",
      "    \u001b[32m'title'\u001b[0m: \u001b[32m'Anchoring Bias in Economic Decision-Making'\u001b[0m,\n",
      "    \u001b[32m'summary'\u001b[0m: \u001b[32m'This case study demonstrates how the anchoring bias affects economic decision-making, where initial\u001b[0m\n",
      "\u001b[32mvalues or anchors influence subsequent judgments.'\u001b[0m,\n",
      "    \u001b[32m'n_pages'\u001b[0m: \u001b[1;36m0.9\u001b[0m,\n",
      "    \u001b[32m'needsSubdivision'\u001b[0m: \u001b[3;91mFalse\u001b[0m\n",
      "\u001b[1m}\u001b[0m\n"
     ]
    },
    {
     "data": {
      "text/html": [
       "<pre style=\"white-space:pre;overflow-x:auto;line-height:normal;font-family:Menlo,'DejaVu Sans Mono',consolas,'Courier New',monospace\"></pre>\n"
      ],
      "text/plain": []
     },
     "metadata": {},
     "output_type": "display_data"
    },
    {
     "name": "stdout",
     "output_type": "stream",
     "text": [
      "\u001b[1m{\u001b[0m\n",
      "    \u001b[32m'title'\u001b[0m: \u001b[32m'Hindsight Bias in Risk Assessment'\u001b[0m,\n",
      "    \u001b[32m'summary'\u001b[0m: \u001b[32m'This case study illustrates how hindsight bias leads individuals to overestimate their ability to \u001b[0m\n",
      "\u001b[32mpredict outcomes and underestimate the role of chance.'\u001b[0m,\n",
      "    \u001b[32m'n_pages'\u001b[0m: \u001b[1;36m0.6\u001b[0m,\n",
      "    \u001b[32m'needsSubdivision'\u001b[0m: \u001b[3;92mTrue\u001b[0m\n",
      "\u001b[1m}\u001b[0m\n"
     ]
    },
    {
     "data": {
      "text/html": [
       "<pre style=\"white-space:pre;overflow-x:auto;line-height:normal;font-family:Menlo,'DejaVu Sans Mono',consolas,'Courier New',monospace\"></pre>\n"
      ],
      "text/plain": []
     },
     "metadata": {},
     "output_type": "display_data"
    }
   ],
   "source": [
    "book_node = book_graph.nodes[book_node_name]\n",
    "next_parent_list = [book_node_name]\n",
    "\n",
    "for depth in range(max_depth):\n",
    "    parent_list = next_parent_list\n",
    "    next_parent_list = []\n",
    "    for parent_node_name in parent_list:\n",
    "        for _, child_node_name in enumerate(book_graph.successors(parent_node_name)):\n",
    "            parant_node = book_graph.nodes[parent_node_name]\n",
    "            child_node = book_graph.nodes[child_node_name]\n",
    "\n",
    "            view(child_node)\n",
    "\n",
    "            if (child_node[\"needsSubdivision\"] or float(child_node[\"n_pages\"]) >= max_output_pages) and depth < max_depth-1:\n",
    "\n",
    "                # Output by LLM\n",
    "                prompt = PromptTemplate.from_template(prompt_section_list_creation)\n",
    "                chain = prompt | (lambda x: log_prompt(x)) | llm\n",
    "\n",
    "                result = chain.invoke(\n",
    "                    {\n",
    "                        \"book_title\": book_node[\"title\"],\n",
    "                        \"book_summary\": book_node[\"summary\"],\n",
    "                        \"equation_frequency\": get_equation_frequency(book_graph.graph[\"equation_frequency_level\"]),\n",
    "                        \"target\": child_node[\"title\"],\n",
    "                        \"n_pages\": child_node[\"n_pages\"],\n",
    "                        \"section_summary\": child_node[\"summary\"]\n",
    "                    }\n",
    "                )\n",
    "\n",
    "                # Convert output to dictionary format\n",
    "                section_json = extract_section_list(result)\n",
    "                view(section_json)\n",
    "\n",
    "                # Create graph nodes and store results\n",
    "                if section_json:\n",
    "                    book_graph.add_nodes_from([(child_node_name + \"-\" + str(idx+1), grandchild) for idx, grandchild in enumerate(section_json)])\n",
    "                    book_graph.add_edges_from([(child_node_name, child_node_name + \"-\" + str(idx+1)) for idx in range(len(section_json))])\n",
    "\n",
    "                    # Only set as the next parent if subdivided\n",
    "                    next_parent_list.append(child_node_name)\n",
    "\n",
    "            elif depth == (max_depth-1) or (child_node and not child_node[\"needsSubdivision\"]):\n",
    "\n",
    "                # Create graph nodes and store results\n",
    "                book_graph.add_nodes_from([(child_node_name + \"-p\", {\"content_file_path\": child_node_name + \"-p.tex\"})])\n",
    "                book_graph.add_edges_from([(child_node_name, child_node_name + \"-p\")])\n",
    "\n",
    "            else:\n",
    "                print(\"Error: needsSubdivision attribute is not set\")"
   ]
  },
  {
   "cell_type": "markdown",
   "metadata": {
    "id": "zp4RAdzFe-LT"
   },
   "source": [
    "### LLM Outline Generation"
   ]
  },
  {
   "cell_type": "code",
   "execution_count": 16,
   "metadata": {
    "id": "X5V5j0SWUb_G"
   },
   "outputs": [],
   "source": [
    "def extract_content_list(string_list):\n",
    "    \"\"\"\n",
    "    This function extracts only the strings that match a specific pattern\n",
    "    (a combination of numbers and hyphens ending in '-p') from the input string_list\n",
    "    and returns them as a new list.\n",
    "    \"\"\"\n",
    "    pattern = r'(?:\\d+-)*\\d+-p'\n",
    "    return [s for s in string_list if re.match(pattern, s)]\n",
    "\n",
    "def custom_sort_key(s):\n",
    "    \"\"\"\n",
    "    This function splits the string s by the numerical parts,\n",
    "    converting them into a list of integers,\n",
    "    thereby generating a custom key for numerical sorting.\n",
    "    \"\"\"\n",
    "    parts = re.split(r'[-p]', s)\n",
    "    return [int(part) for part in parts if part != '']\n",
    "\n",
    "def sort_strings(string_list):\n",
    "    \"\"\"\n",
    "    This function sorts the input string_list using the custom key\n",
    "    defined by the custom_sort_key function and returns the sorted list.\n",
    "    \"\"\"\n",
    "    sorted_strings = sorted(string_list, key=custom_sort_key)\n",
    "    return sorted_strings\n",
    "\n",
    "def sort_leaf_nodes(book_graph):\n",
    "    \"\"\"\n",
    "    This function extracts the leaf nodes of book_graph based on a specific pattern\n",
    "    and returns a list sorted in numerical order.\n",
    "\n",
    "    Arguments:\n",
    "    - book_graph: A graph object with nodes labeled by strings\n",
    "\n",
    "    Returns:\n",
    "    - sorted_content_str_list: A sorted list of strings\n",
    "    \"\"\"\n",
    "    # Extract strings matching a specific pattern from the nodes of book_graph\n",
    "    content_str_list = extract_content_list(list(book_graph.nodes))\n",
    "\n",
    "    # Sort the extracted list of strings using a custom key\n",
    "    sorted_content_str_list = sort_strings(content_str_list)\n",
    "\n",
    "    return sorted_content_str_list\n",
    "\n",
    "def generate_outline(book_graph, book_node_name):\n",
    "    \"\"\"\n",
    "    A function to output the chapter structure to be considered for the main text output.\n",
    "    \"\"\"\n",
    "\n",
    "    toc_and_summary = \"The chapter structure of the book is as following.\\n\"\n",
    "\n",
    "    # Sort the leaf nodes with content in order\n",
    "    sorted_content_str_list = sort_leaf_nodes(book_graph)\n",
    "\n",
    "    # Create the table of contents\n",
    "    toc_and_summary += \"# \" + book_graph.nodes[book_node_name][\"title\"] + \"\\n\"\n",
    "    toc_and_summary += book_graph.nodes[book_node_name][\"summary\"] + \"\\n\"\n",
    "\n",
    "    for heading_number_str in sorted_content_str_list:\n",
    "        heading_number = custom_sort_key(heading_number_str)\n",
    "\n",
    "        # Chapter\n",
    "        if len(heading_number[1:]) == 0 or all(x == 1 for x in heading_number[1:]):\n",
    "            node_name = \"-\".join(map(str, heading_number[0:1]))\n",
    "            toc_and_summary += \"## \" + book_graph.nodes[node_name][\"title\"] + \"\\n\"\n",
    "            #toc_and_summary += book_graph.nodes[node_name][\"summary\"] + \"\\n\"\n",
    "\n",
    "        # Section\n",
    "        if (len(heading_number[2:]) == 0 and len(heading_number[:2]) > 1) or (len(heading_number[2:]) > 0 and all(x == 1 for x in heading_number[2:])):\n",
    "            node_name = \"-\".join(map(str, heading_number[0:2]))\n",
    "            toc_and_summary += \"### \" + book_graph.nodes[node_name][\"title\"] + \"\\n\"\n",
    "            #toc_and_summary += book_graph.nodes[node_name][\"summary\"] + \"\\n\"\n",
    "\n",
    "        # Subsection\n",
    "        if (len(heading_number[3:]) == 0 and len(heading_number[:3]) > 2) or (len(heading_number[3:]) > 0 and all(x == 1 for x in heading_number[3:])):\n",
    "            node_name = \"-\".join(map(str, heading_number[0:3]))\n",
    "            toc_and_summary += \"#### \" + book_graph.nodes[node_name][\"title\"] + \"\\n\"\n",
    "            #toc_and_summary += book_graph.nodes[node_name][\"summary\"] + \"\\n\"\n",
    "\n",
    "    return toc_and_summary\n",
    "\n",
    "def slide_list_with_new_title_and_content(title, summary, original_list):\n",
    "    # Create a shifted list, adding a new element (a dictionary with title and content) at the 0th position\n",
    "    slid_list = [{\"title\": title, \"summary\": summary}] + original_list[:-1]\n",
    "    return slid_list\n",
    "\n",
    "def generate_prompt_for_previous_sections(previous_sections_content_list, n_previous_sections):\n",
    "    \"\"\"\n",
    "    This function generates a prompt based on previous sections.\n",
    "    \"\"\"\n",
    "    prompt = \"\"\n",
    "\n",
    "    for i in range(n_previous_sections):\n",
    "        i_previous_section = previous_sections_content_list[i]\n",
    "        title = i_previous_section[\"title\"]\n",
    "        summary = i_previous_section[\"summary\"]\n",
    "        prompt += f\"Among those book outlines, lets assume, the previous section discussed in this book was titled with `{title}`, and the section summary was as follows: \\n{summary}\\n\"\n",
    "    return prompt"
   ]
  },
  {
   "cell_type": "markdown",
   "metadata": {
    "id": "panRk8LBUdHL"
   },
   "source": [
    "### LLM Detail TEX Generation"
   ]
  },
  {
   "cell_type": "code",
   "execution_count": 17,
   "metadata": {
    "id": "YX1GXy4te-Z2",
    "scrolled": false
   },
   "outputs": [
    {
     "name": "stdout",
     "output_type": "stream",
     "text": [
      "\\\u001b[1m<\u001b[0m\u001b[1;95m|tex_start|\u001b[0m\u001b[39m\\>\u001b[0m\n",
      "\n",
      "\u001b[39m\\chapter\u001b[0m\u001b[1;39m{\u001b[0m\u001b[39mIntroduction to Biases and Fallacies\u001b[0m\u001b[1;39m}\u001b[0m\n",
      "\n",
      "\u001b[39mBiases and fallacies are errors in reasoning, thinking, or decision-making that can lead to inaccurate conclusions,\u001b[0m\n",
      "\u001b[39mflawed arguments, or poor choices. In this chapter, we will provide an introduction to the concept of biases and \u001b[0m\n",
      "\u001b[39mfallacies, defining them and explaining their significance in various fields.\u001b[0m\n",
      "\n",
      "\u001b[39mTo recognize and avoid these errors, it is essential to understand the nature of biases and fallacies and how they \u001b[0m\n",
      "\u001b[39mmanifest in different contexts. By acknowledging the potential for biases and taking steps to mitigate their \u001b[0m\n",
      "\u001b[39mimpact, individuals can make more informed decisions and arrive at more accurate conclusions.\u001b[0m\n",
      "\n",
      "\u001b[39mThe importance of recognizing and avoiding biases and fallacies cannot be overstated. In today's complex \u001b[0m\n",
      "\u001b[39minformation landscape, it is easy to become misinformed or misled by flawed arguments or biased perspectives. By \u001b[0m\n",
      "\u001b[39mdeveloping critical thinking skills and being aware of the potential for biases and fallacies, individuals can \u001b[0m\n",
      "\u001b[39mnavigate these challenges effectively.\u001b[0m\n",
      "\n",
      "\u001b[39mThroughout this book, we will explore various types of biases and fallacies, including cognitive biases, emotional \u001b[0m\n",
      "\u001b[39mbiases, logical fallacies, and epistemic fallacies. We will examine the history, philosophy, and psychological \u001b[0m\n",
      "\u001b[39mexplanations behind these errors, as well as their implications for decision-making, policy-making, and everyday \u001b[0m\n",
      "\u001b[39mlife.\u001b[0m\n",
      "\n",
      "\u001b[39mIn addition to providing an overview of common biases and fallacies, this chapter will also discuss practical \u001b[0m\n",
      "\u001b[39mstrategies for mitigating their impact. By developing critical thinking skills and being aware of the potential for\u001b[0m\n",
      "\u001b[39mbiases and fallacies, individuals can make more informed decisions and arrive at more accurate conclusions.\u001b[0m\n",
      "\n",
      "\u001b[39mThe following sections will delve into specific types of biases and fallacies, including cognitive biases, \u001b[0m\n",
      "\u001b[39memotional biases, logical fallacies, and epistemic fallacies. We will explore their definitions, explanations, and \u001b[0m\n",
      "\u001b[39mimplications, as well as practical strategies for mitigating their impact.\u001b[0m\n",
      "\n",
      "\u001b[39m\\section\u001b[0m\u001b[1;39m{\u001b[0m\u001b[39mCognitive Biases: A Psychological Perspective\u001b[0m\u001b[1;39m}\u001b[0m\n",
      "\n",
      "\u001b[39mThis section will examine the role of cognitive biases in shaping our perceptions, attitudes, and decisions. By \u001b[0m\n",
      "\u001b[39munderstanding the psychological mechanisms behind cognitive biases, we can develop strategies to mitigate their \u001b[0m\n",
      "\u001b[39mimpact.\u001b[0m\n",
      "\n",
      "\u001b[39m\\section\u001b[0m\u001b[1;39m{\u001b[0m\u001b[39mEmotional Biases: Understanding and Managing Emotions\u001b[0m\u001b[1;39m}\u001b[0m\n",
      "\n",
      "\u001b[39mThis section will explore the relationship between emotions and decision-making, including how emotional biases can\u001b[0m\n",
      "\u001b[39minfluence our choices and judgments.\u001b[0m\n",
      "\n",
      "\u001b[39m\\section\u001b[0m\u001b[1;39m{\u001b[0m\u001b[39mLogical Fallacies: A Critical Analysis\u001b[0m\u001b[1;39m}\u001b[0m\n",
      "\n",
      "\u001b[39mIn this section, we will examine the types of logical fallacies, including ad hominem attacks, straw man arguments,\u001b[0m\n",
      "\u001b[39mand false dilemmas. By understanding the characteristics and implications of these fallacies, we can develop \u001b[0m\n",
      "\u001b[39mstrategies to avoid them.\u001b[0m\n",
      "\n",
      "\u001b[39m\\section\u001b[0m\u001b[1;39m{\u001b[0m\u001b[39mEpistemic Fallacies: The Nature of Knowledge\u001b[0m\u001b[1;39m}\u001b[0m\n",
      "\n",
      "\u001b[39mThis final section will explore the nature of knowledge and how epistemic fallacies can arise from \u001b[0m\n",
      "\u001b[39mmisunderstandings about knowledge, evidence, and reasoning.\u001b[0m\n",
      "\n",
      "\u001b[39mThe following case studies will illustrate how biases and fallacies manifest in real-world scenarios, including \u001b[0m\n",
      "\u001b[39mpolitics, social media, economic decision-making, and risk assessment. By examining these examples, we can develop \u001b[0m\n",
      "\u001b[39ma deeper understanding of the significance of biases and fallacies and how to mitigate their impact.\u001b[0m\n",
      "\n",
      "\u001b[39m\\section\u001b[0m\u001b[1;39m{\u001b[0m\u001b[39mCase Studies: Applying Biases and Fallacies in Real-World Scenarios\u001b[0m\u001b[1;39m}\u001b[0m\n",
      "\n",
      "\u001b[39mThis section will present several case studies that demonstrate the presence of biases and fallacies in different \u001b[0m\n",
      "\u001b[39mcontexts. By analyzing these examples, we can develop a deeper understanding of how biases and fallacies affect \u001b[0m\n",
      "\u001b[39mdecision-making and judgment.\u001b[0m\n",
      "\n",
      "\u001b[39mThe final section of this chapter will discuss practical strategies for mitigating biases and fallacies, including \u001b[0m\n",
      "\u001b[39mcritical thinking skills, media literacy, and evidence-based reasoning. By developing these skills, individuals can\u001b[0m\n",
      "\u001b[39mmake more informed decisions and arrive at more accurate conclusions.\u001b[0m\n",
      "\n",
      "\u001b[39m\\section\u001b[0m\u001b[1;39m{\u001b[0m\u001b[39mMitigating Biases and Fallacies: Strategies for Critical Thinking\u001b[0m\u001b[1;39m}\u001b[0m\n",
      "\n",
      "\u001b[39mThis section will provide an overview of practical strategies for mitigating biases and fallacies, including \u001b[0m\n",
      "\u001b[39mcritical thinking skills, media literacy, and evidence-based reasoning. By developing these skills, individuals can\u001b[0m\n",
      "\u001b[39mnavigate complex information landscapes effectively.\u001b[0m\n",
      "\n",
      "\u001b[39m\\chapter\u001b[0m\u001b[1;39m{\u001b[0m\u001b[39mConclusion\u001b[0m\u001b[1;39m}\u001b[0m\n",
      "\n",
      "\u001b[39mIn conclusion, this chapter has provided an introduction to the concept of biases and fallacies, defining them and \u001b[0m\n",
      "\u001b[39mexplaining their significance in various fields. By understanding the nature of biases and fallacies, we can \u001b[0m\n",
      "\u001b[39mdevelop strategies to mitigate their impact and make more informed decisions.\u001b[0m\n",
      "\n",
      "\u001b[39mThe following chapters will explore specific types of biases and fallacies, including cognitive biases, emotional \u001b[0m\n",
      "\u001b[39mbiases, logical fallacies, and epistemic fallacies. We will examine their definitions, explanations, and \u001b[0m\n",
      "\u001b[39mimplications, as well as practical strategies for mitigating their impact.\u001b[0m\n",
      "\n",
      "\u001b[39mBy the end of this book, readers will have gained a deeper understanding of biases and fallacies and how to \u001b[0m\n",
      "\u001b[39mmitigate their impact. They will be equipped with the knowledge and skills necessary to navigate complex \u001b[0m\n",
      "\u001b[39minformation landscapes effectively and make more informed decisions.\u001b[0m\n",
      "\n",
      "\u001b[39m\\<|tex_end|\u001b[0m\u001b[1m>\u001b[0m\n"
     ]
    },
    {
     "data": {
      "text/html": [
       "<pre style=\"white-space:pre;overflow-x:auto;line-height:normal;font-family:Menlo,'DejaVu Sans Mono',consolas,'Courier New',monospace\"></pre>\n"
      ],
      "text/plain": []
     },
     "metadata": {},
     "output_type": "display_data"
    },
    {
     "name": "stdout",
     "output_type": "stream",
     "text": [
      "TeX data not found.\n",
      "\u001b[1m<\u001b[0m\u001b[1;95m|tex_start|\u001b[0m\u001b[39m>\u001b[0m\n",
      "\u001b[39m\\section\u001b[0m\u001b[1;39m{\u001b[0m\u001b[39mWhat are Cognitive Biases?\u001b[0m\u001b[1;39m}\u001b[0m\n",
      "\n",
      "\u001b[39mCognitive biases refer to systematic errors in thinking and decision-making that arise from mental shortcuts, rules\u001b[0m\n",
      "\u001b[39mof thumb, or heuristics. These biases can lead to inaccurate judgments and flawed reasoning.\u001b[0m\n",
      "\n",
      "\u001b[39mAccording to the Dual-Process Theory \u001b[0m\u001b[1;39m(\u001b[0m\u001b[39mKahneman & Tversky, \u001b[0m\u001b[1;36m1979\u001b[0m\u001b[1;39m)\u001b[0m\u001b[39m, there are two types of cognitive processes: System\u001b[0m\n",
      "\u001b[1;36m1\u001b[0m\u001b[39m and System \u001b[0m\u001b[1;36m2\u001b[0m\u001b[39m. System \u001b[0m\u001b[1;36m1\u001b[0m\u001b[39m is fast, intuitive, and automatic, while System \u001b[0m\u001b[1;36m2\u001b[0m\u001b[39m is slow, deliberate, and effortful. \u001b[0m\n",
      "\u001b[39mCognitive biases often arise from the overreliance on System \u001b[0m\u001b[1;36m1\u001b[0m\u001b[39m, leading to suboptimal decision-making.\u001b[0m\n",
      "\n",
      "\u001b[39mSome common examples of cognitive biases include:\u001b[0m\n",
      "\n",
      "\u001b[39m- Availability heuristic: judging the likelihood of an event based on how easily examples come to mind\u001b[0m\n",
      "\u001b[39m- Anchoring bias: relying too heavily on the first piece of information encountered when making a decision\u001b[0m\n",
      "\u001b[39m- Hindsight bias: believing, after an event has occurred, that it was predictable\u001b[0m\n",
      "\n",
      "\u001b[39mThese biases are often unconscious and can have significant consequences in various fields, such as finance, \u001b[0m\n",
      "\u001b[39mhealthcare, and social sciences.\u001b[0m\n",
      "\n",
      "\u001b[39mReferences:\u001b[0m\n",
      "\u001b[39mKahneman, D., & Tversky, A. \u001b[0m\u001b[1;39m(\u001b[0m\u001b[1;36m1979\u001b[0m\u001b[1;39m)\u001b[0m\u001b[39m. Prospect theory: An analysis of decision under risk. Econometrica, \u001b[0m\u001b[1;35m47\u001b[0m\u001b[1;39m(\u001b[0m\u001b[1;36m2\u001b[0m\u001b[1;39m)\u001b[0m\u001b[39m, \u001b[0m\n",
      "\u001b[1;36m263\u001b[0m\u001b[39m-\u001b[0m\u001b[1;36m292\u001b[0m\u001b[39m.\u001b[0m\n",
      "\u001b[39m<\u001b[0m\u001b[35m/\u001b[0m\u001b[95mtex_end\u001b[0m\u001b[39m|\u001b[0m\u001b[1m>\u001b[0m\n"
     ]
    },
    {
     "data": {
      "text/html": [
       "<pre style=\"white-space:pre;overflow-x:auto;line-height:normal;font-family:Menlo,'DejaVu Sans Mono',consolas,'Courier New',monospace\"></pre>\n"
      ],
      "text/plain": []
     },
     "metadata": {},
     "output_type": "display_data"
    },
    {
     "name": "stdout",
     "output_type": "stream",
     "text": [
      "TeX data not found.\n",
      "\u001b[1m<\u001b[0m\u001b[1;95m|tex_start|\u001b[0m\n",
      "\u001b[39m\\section\u001b[0m\u001b[1;39m{\u001b[0m\u001b[39mHeuristics: Mental Shortcuts\u001b[0m\u001b[1;39m}\u001b[0m\n",
      "\u001b[39mHeuristics are mental shortcuts that simplify complex decisions by relying on rules of thumb or general principles.\u001b[0m\n",
      "\u001b[39mWhile heuristics can be helpful, they can also lead to cognitive biases if not used critically.\u001b[0m\n",
      "\n",
      "\u001b[39mSome common heuristics include:\u001b[0m\n",
      "\n",
      "\u001b[39m- Availability heuristic: This heuristic relies on how easily examples come to mind, rather than the actual \u001b[0m\n",
      "\u001b[39mprobability of an event.\u001b[0m\n",
      "\u001b[39m- Representativeness heuristic: This heuristic involves judging the likelihood of an event based on how closely it \u001b[0m\n",
      "\u001b[39mresembles a typical case, rather than on the actual probabilities.\u001b[0m\n",
      "\u001b[39m- Anchoring effect: This heuristic occurs when initial values or anchors influence subsequent judgments.\u001b[0m\n",
      "\n",
      "\u001b[39mThese heuristics can lead to cognitive biases if not used critically. For example, the availability heuristic can \u001b[0m\n",
      "\u001b[39mcause people to overestimate the likelihood of rare events, while the representativeness heuristic can lead to \u001b[0m\n",
      "\u001b[39mflawed judgments about groups based on limited information.\u001b[0m\n",
      "\n",
      "\u001b[39m<|tex_end|\u001b[0m\u001b[1m>\u001b[0m\n"
     ]
    },
    {
     "data": {
      "text/html": [
       "<pre style=\"white-space:pre;overflow-x:auto;line-height:normal;font-family:Menlo,'DejaVu Sans Mono',consolas,'Courier New',monospace\"></pre>\n"
      ],
      "text/plain": []
     },
     "metadata": {},
     "output_type": "display_data"
    },
    {
     "name": "stdout",
     "output_type": "stream",
     "text": [
      "TeX data not found.\n",
      "\u001b[1m<\u001b[0m\u001b[1;95m|tex_start|\u001b[0m\u001b[1m>\u001b[0m\n",
      "\n",
      "\\chapter\u001b[1m{\u001b[0mAvailability Bias: How We Overestimate Unlikely Events\u001b[1m}\u001b[0m\n",
      "\n",
      "The availability heuristic is a cognitive bias that affects our perception of probabilities. It occurs when we \n",
      "overestimate the likelihood of an event based on how easily examples come to mind. This bias can lead to inaccurate\n",
      "judgments and exaggerated fears.\n",
      "\n",
      "For instance, consider a plane crash. The chances of being in a plane crash are extremely low, but if you have just\n",
      "experienced a plane crash or know someone who has, you might overestimate the risk.\n",
      "\n",
      "Another example is the fear of sharks. While shark attacks are rare, the media often sensationalizes these \n",
      "incidents, making them seem more common than they actually are. This can lead to an exaggerated perception of the \n",
      "threat posed by sharks.\n",
      "\n",
      "The availability heuristic can be explained by two factors: the vividness and recency effects. The vividness effect\n",
      "refers to our tendency to overestimate the likelihood of events that are emotionally charged or vivid in our minds.\n",
      "The recency effect refers to our tendency to give more weight to recent information, even if it is not \n",
      "representative of the overall situation.\n",
      "\n",
      "To mitigate the availability heuristic, it's essential to take a step back and assess the evidence objectively. \n",
      "This can involve seeking out diverse sources of information, considering alternative perspectives, and using \n",
      "statistical data to make informed decisions.\n",
      "\n",
      "\\section\u001b[1m{\u001b[0mExamples of Availability Bias\u001b[1m}\u001b[0m\n",
      "\n",
      "The availability bias has been observed in various contexts, including:\n",
      "\n",
      "- \\emph\u001b[1m{\u001b[0mShark attacks\u001b[1m}\u001b[0m: As mentioned earlier, the media often sensationalizes shark attacks, leading to an \n",
      "exaggerated perception of the threat posed by sharks.\n",
      "- \\emph\u001b[1m{\u001b[0mPlane crashes\u001b[1m}\u001b[0m: The rarity of plane crashes is well-documented, but our minds tend to remember recent \n",
      "incidents more than past ones.\n",
      "- \\emph\u001b[1m{\u001b[0mMedical emergencies\u001b[1m}\u001b[0m: People are more likely to overestimate the risk of heart attacks or strokes based on \n",
      "personal experiences with family members or friends.\n",
      "\n",
      "By recognizing and overcoming the availability heuristic, we can make more informed decisions and avoid exaggerated\n",
      "fears.\n",
      "\n",
      "\\section\u001b[1m{\u001b[0mConclusion\u001b[1m}\u001b[0m\n",
      "\n",
      "The availability bias is a cognitive error that affects our perception of probabilities. It's essential to be aware\n",
      "of this bias and take steps to mitigate it in our decision-making processes.\n",
      "\n",
      "\\_|tex_end_|\n"
     ]
    },
    {
     "data": {
      "text/html": [
       "<pre style=\"white-space:pre;overflow-x:auto;line-height:normal;font-family:Menlo,'DejaVu Sans Mono',consolas,'Courier New',monospace\"></pre>\n"
      ],
      "text/plain": []
     },
     "metadata": {},
     "output_type": "display_data"
    },
    {
     "name": "stdout",
     "output_type": "stream",
     "text": [
      "TeX data not found.\n",
      "\u001b[1m<\u001b[0m\u001b[1;95m|tex_start|\u001b[0m\n",
      "\u001b[39m\\ chapter\u001b[0m\u001b[1;39m{\u001b[0m\u001b[39mConfirmation Bias: How We Seek Out Confirming Information\u001b[0m\u001b[1;39m}\u001b[0m\n",
      "\n",
      "\u001b[39mThe confirmation bias is a cognitive bias that refers to the tendency for individuals to seek out information that \u001b[0m\n",
      "\u001b[39mconfirms their existing beliefs, hypotheses, or values. This bias can lead to a narrow and inaccurate understanding\u001b[0m\n",
      "\u001b[39mof the world, as well as poor decision-making.\u001b[0m\n",
      "\n",
      "\u001b[39mThis bias arises from the way our brains process information. When we encounter new information that challenges our\u001b[0m\n",
      "\u001b[39mexisting beliefs, it can be uncomfortable and even painful. To avoid this discomfort, our brains tend to seek out \u001b[0m\n",
      "\u001b[39minformation that confirms what we already believe. This is often referred to as \u001b[0m\u001b[32m\"anchoring\"\u001b[0m\u001b[39m or \u001b[0m\u001b[32m\"reinforcing\"\u001b[0m\u001b[39m our \u001b[0m\n",
      "\u001b[39mexisting beliefs.\u001b[0m\n",
      "\n",
      "\u001b[39mOne reason for the confirmation bias is that our brains are wired to recognize patterns. When we encounter new \u001b[0m\n",
      "\u001b[39minformation, our brains search for patterns that fit our existing knowledge and experiences. If the new information\u001b[0m\n",
      "\u001b[39mdoesn't fit, it may be attributed to factors other than the actual cause, such as confirmation bias.\u001b[0m\n",
      "\n",
      "\u001b[39mThe confirmation bias can have serious consequences in various fields, including business, politics, and social \u001b[0m\n",
      "\u001b[39mjustice. In business, it can lead to poor investment decisions and missed opportunities for growth. In politics, it\u001b[0m\n",
      "\u001b[39mcan result in policies that are not based on evidence but rather on emotional appeals or personal biases. In social\u001b[0m\n",
      "\u001b[39mjustice, it can perpetuate discrimination and inequality.\u001b[0m\n",
      "\n",
      "\u001b[39mTo mitigate the confirmation bias, individuals must be aware of its existence and make a conscious effort to seek \u001b[0m\n",
      "\u001b[39mout diverse perspectives and contradictory information. This can involve actively seeking out opposing viewpoints, \u001b[0m\n",
      "\u001b[39mengaging in respectful debates with others, and being open to changing one's own beliefs based on new evidence.\u001b[0m\n",
      "\n",
      "\u001b[39mBy understanding the confirmation bias and taking steps to overcome it, we can develop more informed and nuanced \u001b[0m\n",
      "\u001b[39mviews of the world. We can make better decisions, engage in more productive conversations, and create a more just \u001b[0m\n",
      "\u001b[39mand equitable society.\u001b[0m\n",
      "\n",
      "\u001b[39m\\ section\u001b[0m\u001b[1;39m{\u001b[0m\u001b[39mCauses and Consequences of Confirmation Bias\u001b[0m\u001b[1;39m}\u001b[0m\n",
      "\n",
      "\u001b[39mThe confirmation bias is caused by a combination of psychological and social factors, including:\u001b[0m\n",
      "\n",
      "\u001b[1;36m1\u001b[0m\u001b[39m.  \\emph\u001b[0m\u001b[1;39m{\u001b[0m\u001b[39mCognitive dissonance\u001b[0m\u001b[1;39m}\u001b[0m\u001b[39m: The discomfort or tension that arises when our beliefs conflict with new \u001b[0m\n",
      "\u001b[39minformation.\u001b[0m\n",
      "\u001b[1;36m2\u001b[0m\u001b[39m.  \\emph\u001b[0m\u001b[1;39m{\u001b[0m\u001b[39mSocial influence\u001b[0m\u001b[1;39m}\u001b[0m\u001b[39m: The way in which others around us influence our thoughts and behaviors.\u001b[0m\n",
      "\u001b[1;36m3\u001b[0m\u001b[39m.  \\emph\u001b[0m\u001b[1;39m{\u001b[0m\u001b[39mMotivated reasoning**: The tendency to interpret evidence in a way that confirms our existing motivations\u001b[0m\n",
      "\u001b[39mor goals.\u001b[0m\n",
      "\n",
      "\u001b[39mThe consequences of the confirmation bias can be far-reaching, including:\u001b[0m\n",
      "\n",
      "\u001b[1;36m1\u001b[0m\u001b[39m.  \\emph\u001b[0m\u001b[1;39m{\u001b[0m\u001b[39mPoor decision-making\u001b[0m\u001b[1;39m}\u001b[0m\u001b[39m: Confirmation bias can lead to poor investment decisions, missed opportunities for \u001b[0m\n",
      "\u001b[39mgrowth, and inefficient resource allocation.\u001b[0m\n",
      "\u001b[1;36m2\u001b[0m\u001b[39m.  \\emph\u001b[0m\u001b[1;39m{\u001b[0m\u001b[39mPolarized politics**: The confirmation bias can contribute to the polarization of political discourse, \u001b[0m\n",
      "\u001b[39mmaking it more difficult to find common ground and compromise.\u001b[0m\n",
      "\u001b[1;36m3\u001b[0m\u001b[39m.  \\emph\u001b[0m\u001b[1;39m{\u001b[0m\u001b[39mDiscrimination and inequality\u001b[0m\u001b[1;39m}\u001b[0m\u001b[39m: Confirmation bias can perpetuate discrimination and inequality by \u001b[0m\n",
      "\u001b[39mreinforcing existing biases and stereotypes.\u001b[0m\n",
      "\n",
      "\u001b[39m\\ section\u001b[0m\u001b[1;39m{\u001b[0m\u001b[39mOvercoming Confirmation Bias\u001b[0m\u001b[1;39m}\u001b[0m\n",
      "\n",
      "\u001b[39mTo overcome the confirmation bias, we must be aware of its existence and make a conscious effort to seek out \u001b[0m\n",
      "\u001b[39mdiverse perspectives and contradictory information. Here are some strategies for overcoming confirmation bias:\u001b[0m\n",
      "\n",
      "\u001b[1;36m1\u001b[0m\u001b[39m.  \\emph\u001b[0m\u001b[1;39m{\u001b[0m\u001b[39mSeek out opposing viewpoints\u001b[0m\u001b[1;39m}\u001b[0m\u001b[39m: Actively seek out information that challenges your existing beliefs.\u001b[0m\n",
      "\u001b[1;36m2\u001b[0m\u001b[39m.  \\emph\u001b[0m\u001b[1;39m{\u001b[0m\u001b[39mEngage in respectful debates**: Engage in constructive discussions with others who hold different views \u001b[0m\n",
      "\u001b[39mto test your assumptions.\u001b[0m\n",
      "\u001b[1;36m3\u001b[0m\u001b[39m.  \\emph\u001b[0m\u001b[1;39m{\u001b[0m\u001b[39mPractice critical thinking\u001b[0m\u001b[1;39m}\u001b[0m\u001b[39m: Develop your critical thinking skills by evaluating evidence objectively and\u001b[0m\n",
      "\u001b[39mconsidering alternative explanations.\u001b[0m\n",
      "\n",
      "\u001b[39mBy understanding the confirmation bias and taking steps to overcome it, we can develop more informed and nuanced \u001b[0m\n",
      "\u001b[39mviews of the world. We can make better decisions, engage in more productive conversations, and create a more just \u001b[0m\n",
      "\u001b[39mand equitable society.\u001b[0m\n",
      "\n",
      "\u001b[39m\\ chapter\u001b[0m\u001b[1;39m{\u001b[0m\u001b[39mCase Studies: Applying Biases and Fallacies in Real-World Scenarios\u001b[0m\u001b[1;39m}\u001b[0m\n",
      "\n",
      "\u001b[39mThis section will explore case studies that illustrate the application of biases and fallacies in real-world \u001b[0m\n",
      "\u001b[39mscenarios. These case studies will provide practical examples of how biases and fallacies can affect \u001b[0m\n",
      "\u001b[39mdecision-making, policy-making, and everyday life.\u001b[0m\n",
      "\u001b[39m<\u001b[0m\u001b[35m/\u001b[0m\u001b[95mtex_end\u001b[0m\u001b[1m>\u001b[0m\n"
     ]
    },
    {
     "data": {
      "text/html": [
       "<pre style=\"white-space:pre;overflow-x:auto;line-height:normal;font-family:Menlo,'DejaVu Sans Mono',consolas,'Courier New',monospace\"></pre>\n"
      ],
      "text/plain": []
     },
     "metadata": {},
     "output_type": "display_data"
    },
    {
     "name": "stdout",
     "output_type": "stream",
     "text": [
      "TeX data not found.\n",
      "\u001b[1m<\u001b[0m\u001b[1;95m|tex_start|\u001b[0m\u001b[39m>\u001b[0m\n",
      "\n",
      "\u001b[39m\\chapter\u001b[0m\u001b[1;39m{\u001b[0m\u001b[39mEmotional Biases: Understanding and Managing Emotions\u001b[0m\u001b[1;39m}\u001b[0m\n",
      "\n",
      "\u001b[39mThe emotional aspect of human decision-making is a complex and multifaceted topic. Emotional biases, which refer to\u001b[0m\n",
      "\u001b[39mthe ways in which emotions influence our thoughts, feelings, and actions, can have a significant impact on our \u001b[0m\n",
      "\u001b[39mdaily lives. In this chapter, we will explore some common emotional biases, including the affect heuristic and the \u001b[0m\n",
      "\u001b[39mfundamental attribution error.\u001b[0m\n",
      "\n",
      "\u001b[39m\\section\u001b[0m\u001b[1;39m{\u001b[0m\u001b[39mThe Affect Heuristic\u001b[0m\u001b[1;39m}\u001b[0m\n",
      "\n",
      "\u001b[39mThe affect heuristic is a cognitive bias that refers to the tendency to make decisions based on how we feel about \u001b[0m\n",
      "\u001b[39man issue rather than on the actual facts. This bias can lead to irrational decision-making, as we tend to \u001b[0m\n",
      "\u001b[39moverestimate the importance of emotional responses and underestimate the impact of rational considerations.\u001b[0m\n",
      "\n",
      "\u001b[39mFor example, imagine you are considering buying a new car. You have two options: a sporty red sports car or a \u001b[0m\n",
      "\u001b[39mpractical white sedan. If you like the color red, you are more likely to choose the sports car, even if it is not \u001b[0m\n",
      "\u001b[39mthe most practical choice for your needs. This is an example of the affect heuristic in action.\u001b[0m\n",
      "\n",
      "\u001b[39m\\section\u001b[0m\u001b[1;39m{\u001b[0m\u001b[39mThe Fundamental Attribution Error\u001b[0m\u001b[1;39m}\u001b[0m\n",
      "\n",
      "\u001b[39mThe fundamental attribution error \u001b[0m\u001b[1;39m(\u001b[0m\u001b[39mFAE\u001b[0m\u001b[1;39m)\u001b[0m\u001b[39m is another common emotional bias that affects our decision-making. The FAE \u001b[0m\n",
      "\u001b[39mrefers to the tendency to attribute others' behavior to their character or personality rather than to situational \u001b[0m\n",
      "\u001b[39mfactors.\u001b[0m\n",
      "\n",
      "\u001b[39mFor instance, imagine a colleague who consistently shows up late to work. Rather than considering possible reasons \u001b[0m\n",
      "\u001b[39msuch as traffic congestion or personal issues, we might assume that they are simply lazy or unorganized. This is an\u001b[0m\n",
      "\u001b[39mexample of the FAE in action.\u001b[0m\n",
      "\n",
      "\u001b[39m\\section\u001b[0m\u001b[1;39m{\u001b[0m\u001b[39mManaging Emotional Biases\u001b[0m\u001b[1;39m}\u001b[0m\n",
      "\n",
      "\u001b[39mFortunately, there are strategies for managing emotional biases and making more rational decisions. One approach is\u001b[0m\n",
      "\u001b[39mto recognize and acknowledge our emotions, rather than trying to suppress them. Another strategy is to take a step \u001b[0m\n",
      "\u001b[39mback from the decision-making process and consider alternative perspectives.\u001b[0m\n",
      "\n",
      "\u001b[39mFor example, if you find yourself feeling strongly about a particular issue, try taking a few deep breaths and \u001b[0m\n",
      "\u001b[39mseeking out diverse sources of information before making a decision. By acknowledging your emotions and considering\u001b[0m\n",
      "\u001b[39malternative viewpoints, you can make more informed and rational decisions.\u001b[0m\n",
      "\n",
      "\u001b[39m\\section\u001b[0m\u001b[1;39m{\u001b[0m\u001b[39mConclusion\u001b[0m\u001b[1;39m}\u001b[0m\n",
      "\n",
      "\u001b[39mIn conclusion, emotional biases are an important aspect of human decision-making that can have significant \u001b[0m\n",
      "\u001b[39mconsequences. By understanding the affect heuristic and the fundamental attribution error, as well as implementing \u001b[0m\n",
      "\u001b[39mstrategies for managing these biases, we can make more rational and informed decisions in our personal and \u001b[0m\n",
      "\u001b[39mprofessional lives.\u001b[0m\n",
      "\n",
      "\u001b[39m<|tex_end|\u001b[0m\u001b[1m>\u001b[0m\n"
     ]
    },
    {
     "data": {
      "text/html": [
       "<pre style=\"white-space:pre;overflow-x:auto;line-height:normal;font-family:Menlo,'DejaVu Sans Mono',consolas,'Courier New',monospace\"></pre>\n"
      ],
      "text/plain": []
     },
     "metadata": {},
     "output_type": "display_data"
    },
    {
     "name": "stdout",
     "output_type": "stream",
     "text": [
      "\u001b[1m<\u001b[0m\u001b[1;95m|tex_start|\u001b[0m\n",
      "\u001b[39m\\ chapter\u001b[0m\u001b[1;39m{\u001b[0m\u001b[39mIntroduction to Logical Fallacies\u001b[0m\u001b[1;39m}\u001b[0m\n",
      "\n",
      "\u001b[39mIn the realm of critical thinking, logical fallacies hold a significant place. They are errors in reasoning that \u001b[0m\n",
      "\u001b[39mcan lead to misleading conclusions and undermine the validity of an argument. In this chapter, we will delve into \u001b[0m\n",
      "\u001b[39mthe world of logical fallacies, exploring their definition, importance, and ways they can be used to manipulate \u001b[0m\n",
      "\u001b[39marguments.\u001b[0m\n",
      "\n",
      "\u001b[39m\\ section\u001b[0m\u001b[1;39m{\u001b[0m\u001b[39mDefinition and Importance\u001b[0m\u001b[1;39m}\u001b[0m\n",
      "\n",
      "\u001b[39mLogical fallacies refer to systematic errors in reasoning that result in invalid or misleading conclusions. These \u001b[0m\n",
      "\u001b[39merrors can stem from various sources, including linguistic misunderstandings, cognitive biases, and flawed \u001b[0m\n",
      "\u001b[39massumptions. Understanding logical fallacies is crucial for effective critical thinking and decision-making.\u001b[0m\n",
      "\n",
      "\u001b[39mThe importance of recognizing logical fallacies cannot be overstated. By being aware of these errors, individuals \u001b[0m\n",
      "\u001b[39mcan avoid falling prey to misleading arguments and make more informed decisions.\u001b[0m\n",
      "\n",
      "\u001b[39m\\ subsection\u001b[0m\u001b[1;39m{\u001b[0m\u001b[39mTypes of Logical Fallacies\u001b[0m\u001b[1;39m}\u001b[0m\n",
      "\n",
      "\u001b[39mThere are several types of logical fallacies, each with its unique characteristics and implications. Some common \u001b[0m\n",
      "\u001b[39mexamples include:\u001b[0m\n",
      "\n",
      "\u001b[39m- Ad Hominem Attacks: A form of personal attack that seeks to discredit an argument by targeting the person \u001b[0m\n",
      "\u001b[39mpresenting it.\u001b[0m\n",
      "\u001b[39m- Straw Man Arguments: Manipulating an argument to make it easier to attack, often involving the misrepresentation \u001b[0m\n",
      "\u001b[39mor exaggeration of the original position.\u001b[0m\n",
      "\u001b[39m- \u001b[0m\u001b[3;91mFalse\u001b[0m\u001b[39m Dilemmas: Presenting a limited set of options as if they are the only possibilities when in fact there may \u001b[0m\n",
      "\u001b[39mbe others.\u001b[0m\n",
      "\n",
      "\u001b[39mThese fallacies can have significant consequences in various fields, including politics, economics, and philosophy.\u001b[0m\n",
      "\u001b[39mBy understanding their nature, we can develop strategies to mitigate their impact and make more informed decisions.\u001b[0m\n",
      "\n",
      "\u001b[39m\\ section\u001b[0m\u001b[1;39m{\u001b[0m\u001b[39mConclusion\u001b[0m\u001b[1;39m}\u001b[0m\n",
      "\n",
      "\u001b[39mIn conclusion, logical fallacies play a crucial role in shaping our understanding of critical thinking and \u001b[0m\n",
      "\u001b[39mdecision-making. By recognizing these errors and developing strategies to avoid them, individuals can make more \u001b[0m\n",
      "\u001b[39minformed choices and contribute to the development of sound reasoning. In the next chapter, we will explore how \u001b[0m\n",
      "\u001b[39mcognitive biases impact decision-making and everyday life.\u001b[0m\n",
      "\n",
      "\u001b[39m\\ pagebreak\u001b[0m\n",
      "\n",
      "\u001b[39m<|tex_end|\u001b[0m\u001b[1m>\u001b[0m\n"
     ]
    },
    {
     "data": {
      "text/html": [
       "<pre style=\"white-space:pre;overflow-x:auto;line-height:normal;font-family:Menlo,'DejaVu Sans Mono',consolas,'Courier New',monospace\"></pre>\n"
      ],
      "text/plain": []
     },
     "metadata": {},
     "output_type": "display_data"
    },
    {
     "name": "stdout",
     "output_type": "stream",
     "text": [
      "TeX data not found.\n",
      "\\\u001b[1m<\u001b[0m\u001b[1;95m|tex_start|\u001b[0m\u001b[39m>\u001b[0m\n",
      "\n",
      "\u001b[39m\\ chapter\u001b[0m\u001b[1;39m{\u001b[0m\u001b[39mAd Hominem Attacks: A Form of Logical Fallacy\u001b[0m\u001b[1;39m}\u001b[0m\n",
      "\n",
      "\u001b[39m Ad hominem attacks are a type of logical fallacy that involves attacking the character or personal qualities of an\u001b[0m\n",
      "\u001b[39mindividual rather than addressing the substance of their argument. This approach can be used to discredit someone's\u001b[0m\n",
      "\u001b[39mopinion, but it is often considered unfair and unproductive.\u001b[0m\n",
      "\n",
      "\u001b[39m In arguments, ad hominem attacks typically take the form of insults, personal criticisms, or appeals to emotion. \u001b[0m\n",
      "\u001b[39mFor example, \u001b[0m\u001b[32m\"You're just saying that because you're in love with John.\"\u001b[0m\u001b[39m This response tries to undermine the \u001b[0m\n",
      "\u001b[39mvalidity of the argument by focusing on a personal aspect of the person making it.\u001b[0m\n",
      "\n",
      "\u001b[39m Ad hominem attacks can be effective in the short term, but they often backfire and damage one's credibility. In \u001b[0m\n",
      "\u001b[39mfact, research has shown that people are less likely to engage with someone who uses ad hominem attacks, even if \u001b[0m\n",
      "\u001b[39mthe attack is unjustified.\u001b[0m\n",
      "\n",
      "\u001b[39m So, how can you recognize an ad hominem attack? Look for language that targets your personal qualities or \u001b[0m\n",
      "\u001b[39mcharacteristics, rather than addressing the argument itself. If you catch yourself using this type of response, try\u001b[0m\n",
      "\u001b[39mto reframe your approach and focus on the issues at hand.\u001b[0m\n",
      "\n",
      "\u001b[39m Recognizing ad hominem attacks requires a critical thinking mindset. It involves being aware of the ways in which \u001b[0m\n",
      "\u001b[39mpeople can be manipulated into making personal attacks, and having the skills to counter them effectively.\u001b[0m\n",
      "\n",
      "\u001b[39m\\ section\u001b[0m\u001b[1;39m{\u001b[0m\u001b[39mExamples and Implications\u001b[0m\u001b[1;39m}\u001b[0m\n",
      "\n",
      "\u001b[39m Ad hominem attacks are not just limited to formal debates or discussions. They can also occur in everyday \u001b[0m\n",
      "\u001b[39mconversations and online discourse. For example:\u001b[0m\n",
      "\n",
      "\u001b[39m*   \u001b[0m\u001b[32m\"You're so stupid for thinking that way.\"\u001b[0m\n",
      "\u001b[39m*   \u001b[0m\u001b[32m\"You're just a partisan hack who doesn't care about the facts.\"\u001b[0m\n",
      "\u001b[39m*   \u001b[0m\u001b[32m\"I'm surprised you'd even bother making that argument, given your background.\"\u001b[0m\n",
      "\n",
      "\u001b[39m These responses are all ad hominem attacks because they target the person's personal qualities or characteristics \u001b[0m\n",
      "\u001b[39mrather than addressing the substance of their argument.\u001b[0m\n",
      "\n",
      "\u001b[39m Recognizing and countering ad hominem attacks is crucial for effective communication. By staying focused on the \u001b[0m\n",
      "\u001b[39missues at hand and avoiding personal attacks, you can maintain a more productive and respectful dialogue.\u001b[0m\n",
      "\n",
      "\u001b[39m\\ section\u001b[0m\u001b[1;39m{\u001b[0m\u001b[39mStrategies for Countering Ad Hominem Attacks\u001b[0m\u001b[1;39m}\u001b[0m\n",
      "\n",
      "\u001b[39m Here are some strategies for countering ad hominem attacks:\u001b[0m\n",
      "\n",
      "\u001b[39m*   Stay calm and composed: When someone makes an ad hominem attack, try not to get defensive or emotional. Take a \u001b[0m\n",
      "\u001b[39mdeep breath and respond thoughtfully.\u001b[0m\n",
      "\u001b[39m*   Avoid taking the bait: Don't engage with personal attacks or insults. Instead, focus on addressing the \u001b[0m\n",
      "\u001b[39msubstance of the argument.\u001b[0m\n",
      "\u001b[39m*   Use evidence: Support your position with evidence and data, rather than relying on personal opinions or \u001b[0m\n",
      "\u001b[39manecdotes.\u001b[0m\n",
      "\n",
      "\u001b[39m By staying focused on the issues at hand and using effective strategies to counter ad hominem attacks, you can \u001b[0m\n",
      "\u001b[39mmaintain a more productive and respectful dialogue.\u001b[0m\n",
      "\n",
      "\u001b[39m\\ section\u001b[0m\u001b[1;39m{\u001b[0m\u001b[39mConclusion\u001b[0m\u001b[1;39m}\u001b[0m\n",
      "\n",
      "\u001b[39m Ad hominem attacks are a type of logical fallacy that involves attacking someone's character or personal \u001b[0m\n",
      "\u001b[39mqualities. While they may seem effective in the short term, they often backfire and damage one's credibility. By \u001b[0m\n",
      "\u001b[39mrecognizing and countering ad hominem attacks, you can maintain a more productive and respectful dialogue.\u001b[0m\n",
      "\n",
      "\u001b[39m\\ chapter\u001b[0m\u001b[1;39m{\u001b[0m\u001b[39mLogical Fallacies: A Critical Analysis\u001b[0m\u001b[1;39m}\u001b[0m\n",
      "\n",
      "\u001b[39m\\<|tex_end|\u001b[0m\u001b[1m>\u001b[0m\n"
     ]
    },
    {
     "data": {
      "text/html": [
       "<pre style=\"white-space:pre;overflow-x:auto;line-height:normal;font-family:Menlo,'DejaVu Sans Mono',consolas,'Courier New',monospace\"></pre>\n"
      ],
      "text/plain": []
     },
     "metadata": {},
     "output_type": "display_data"
    },
    {
     "name": "stdout",
     "output_type": "stream",
     "text": [
      " \u001b[1m<\u001b[0m\u001b[1;95m|tex_start|\u001b[0m\u001b[1m>\u001b[0m\n",
      "\\section\u001b[1m{\u001b[0mStraw Man Arguments: Manipulating the Argument\u001b[1m}\u001b[0m\n",
      "\n",
      "A straw man argument is a type of fallacy that involves misrepresenting or exaggerating an opponent's position to \n",
      "make it easier to attack. This section examines straw man arguments, explaining their forms, examples, and \n",
      "implications in discussions.\n",
      "\n",
      "In arguments, straw man tactics are often used to create an illusion of disagreement or conflict where none exists.\n",
      "For instance, when someone presents a well-reasoned argument against a particular policy, an opponent might respond\n",
      "by misrepresenting the original position as being extreme or unreasonable. By doing so, the opponent can then argue\n",
      "that their own view is the reasonable one.\n",
      "\n",
      "Straw man arguments can be particularly insidious because they often involve a combination of misinformation and \n",
      "psychological manipulation. The opponent who uses this tactic may try to create a sense of cognitive dissonance in \n",
      "the listener by appealing to their emotions or biases.\n",
      "\n",
      "To recognize straw man arguments, it's essential to listen carefully to the original position and identify any \n",
      "misrepresentations or exaggerations. This can involve asking questions like \u001b[32m\"What exactly is my opponent arguing?\"\u001b[0m \n",
      "or \u001b[32m\"How do they define 'reasonable'?\"\u001b[0m\n",
      "\n",
      "By recognizing straw man arguments, we can develop effective counterarguments that address the actual issues rather\n",
      "than the misrepresentation.\n",
      "\n",
      "To counter straw man arguments, it's crucial to stay calm and focused. The goal should be to engage in a \n",
      "constructive discussion, not to score points by attacking an opponent's misrepresentation of their position. This \n",
      "involves listening actively, asking clarifying questions, and providing evidence-based responses that address the \n",
      "actual issues at hand.\n",
      "\n",
      "For instance, if someone uses a straw man argument against your stance on climate change, you could respond by \n",
      "saying something like: \u001b[32m\"I understand that we may disagree about the level of urgency around this issue. However, \u001b[0m\n",
      "\u001b[32mI'd like to clarify that my original position emphasizes the need for gradual reduction in carbon emissions, not an\u001b[0m\n",
      "\u001b[32mimmediate overhaul of our energy systems.\"\u001b[0m\n",
      "\n",
      "By doing so, you can redirect the conversation back to the actual issues and create a more constructive dialogue.\n",
      "\n",
      "In conclusion, straw man arguments are a common tactic used by opponents who seek to manipulate discussions or \n",
      "arguments. By recognizing these tactics and developing effective counterarguments, we can foster more productive \n",
      "conversations that promote understanding and empathy.\n",
      "\n",
      "\\section*\u001b[1m{\u001b[0mConclusion\u001b[1m}\u001b[0m\n",
      "\n",
      "Straw man arguments involve misrepresenting or exaggerating an opponent's position to create an illusion of \n",
      "disagreement or conflict where none exists. To recognize and counter these fallacies, it's essential to listen \n",
      "carefully to the original position, identify any misrepresentations, and stay calm and focused in the discussion.\n",
      "\n",
      "\\section*\u001b[1m{\u001b[0mReferences\u001b[1m}\u001b[0m\n",
      "\n",
      "\u001b[1m(\u001b[0mInsert relevant references here\u001b[1m)\u001b[0m\n",
      "\n",
      "\\section*\u001b[1m{\u001b[0mFurther Reading\u001b[1m}\u001b[0m\n",
      "\n",
      "\u001b[1m(\u001b[0mInsert relevant resources here\u001b[1m)\u001b[0m\n",
      "\n",
      "\\section*\u001b[1m{\u001b[0mExercises for Critical Thinking\u001b[1m}\u001b[0m\n",
      "\n",
      "\u001b[1m(\u001b[0mInsert exercises or thought-provoking questions here\u001b[1m)\u001b[0m\n",
      "\n",
      "\\section*\u001b[1m{\u001b[0mCase Study: Applying Straw Man Arguments in Real-World Scenarios\u001b[1m}\u001b[0m\n",
      "\n",
      "\u001b[1m(\u001b[0mInsert case study here\u001b[1m)\u001b[0m\n",
      "\n",
      "\\section*\u001b[1m{\u001b[0mCritical Thinking Exercise: Identifying and Countering Straw Man Arguments\u001b[1m}\u001b[0m\n",
      "\n",
      "\u001b[1m(\u001b[0mInsert exercise here\u001b[1m)\u001b[0m\n"
     ]
    },
    {
     "data": {
      "text/html": [
       "<pre style=\"white-space:pre;overflow-x:auto;line-height:normal;font-family:Menlo,'DejaVu Sans Mono',consolas,'Courier New',monospace\"></pre>\n"
      ],
      "text/plain": []
     },
     "metadata": {},
     "output_type": "display_data"
    },
    {
     "name": "stdout",
     "output_type": "stream",
     "text": [
      "TeX data not found.\n",
      "\u001b[1m<\u001b[0m\u001b[1;95m|tex_start|\u001b[0m\n",
      "\u001b[39m\\chapter\u001b[0m\u001b[1;39m{\u001b[0m\u001b[3;91mFalse\u001b[0m\u001b[39m Dilemmas: A Form of Logical Fallacy\u001b[0m\u001b[1;39m}\u001b[0m\n",
      "\n",
      "\u001b[39m\\section\u001b[0m\u001b[1;39m{\u001b[0m\u001b[39mIntroduction to \u001b[0m\u001b[3;91mFalse\u001b[0m\u001b[39m Dilemmas\u001b[0m\u001b[1;39m}\u001b[0m\n",
      "\n",
      "\u001b[39mA false dilemma is a logical fallacy that presents only two options as if they are the only possibilities, when in \u001b[0m\n",
      "\u001b[39mfact there may be other alternatives. This fallacy can be particularly misleading because it creates a sense of \u001b[0m\n",
      "\u001b[39murgency or necessity, making it more difficult for the person being presented with the options to consider \u001b[0m\n",
      "\u001b[39malternative perspectives.\u001b[0m\n",
      "\n",
      "\u001b[39m\\section\u001b[0m\u001b[1;39m{\u001b[0m\u001b[39mForms of \u001b[0m\u001b[3;91mFalse\u001b[0m\u001b[39m Dilemmas\u001b[0m\u001b[1;39m}\u001b[0m\n",
      "\n",
      "\u001b[39mThere are several forms of false dilemmas, including:\u001b[0m\n",
      "\n",
      "\u001b[1;36m1\u001b[0m\u001b[39m. **Either-Or Fallacy**: Presents two options as if they are mutually exclusive when in fact they may not be.\u001b[0m\n",
      "\u001b[1;36m2\u001b[0m\u001b[39m. **\u001b[0m\u001b[3;92mTrue\u001b[0m\u001b[39m or \u001b[0m\u001b[3;91mFalse\u001b[0m\u001b[39m Fallacy**: Presents a statement as either true or false without providing context or evidence to\u001b[0m\n",
      "\u001b[39msupport the claim.\u001b[0m\n",
      "\u001b[1;36m3\u001b[0m\u001b[39m. **Yes or No Fallacy**: Forces a person to choose between two options, often with a hidden agenda.\u001b[0m\n",
      "\n",
      "\u001b[39m\\section\u001b[0m\u001b[1;39m{\u001b[0m\u001b[39mExamples of \u001b[0m\u001b[3;91mFalse\u001b[0m\u001b[39m Dilemmas\u001b[0m\u001b[1;39m}\u001b[0m\n",
      "\n",
      "\u001b[1;36m1\u001b[0m\u001b[39m. A politician says, \u001b[0m\u001b[32m\"If you want lower taxes, you must also cut funding for public education.\"\u001b[0m\u001b[39m This presents only\u001b[0m\n",
      "\u001b[39mtwo options and ignores the possibility that other solutions could be implemented.\u001b[0m\n",
      "\u001b[1;36m2\u001b[0m\u001b[39m. A salesperson says, \u001b[0m\u001b[32m\"You're either a risk-taker or a worrier. Which one are you?\"\u001b[0m\u001b[39m This creates a false dichotomy\u001b[0m\n",
      "\u001b[39mby presenting only two options and ignoring individual differences.\u001b[0m\n",
      "\n",
      "\u001b[39m\\section\u001b[0m\u001b[1;39m{\u001b[0m\u001b[39mImplications of \u001b[0m\u001b[3;91mFalse\u001b[0m\u001b[39m Dilemmas\u001b[0m\u001b[1;39m}\u001b[0m\n",
      "\n",
      "\u001b[3;91mFalse\u001b[0m\u001b[39m dilemmas can have significant implications in decision-making. They can:\u001b[0m\n",
      "\n",
      "\u001b[1;36m1\u001b[0m\u001b[39m. Limit alternative perspectives: By presenting only two options, false dilemmas can make it more difficult for \u001b[0m\n",
      "\u001b[39mindividuals to consider other possibilities.\u001b[0m\n",
      "\u001b[1;36m2\u001b[0m\u001b[39m. Create a sense of urgency: \u001b[0m\u001b[3;91mFalse\u001b[0m\u001b[39m dilemmas often create a sense of urgency or necessity, making it more likely \u001b[0m\n",
      "\u001b[39mthat people will choose the first option presented.\u001b[0m\n",
      "\n",
      "\u001b[39m\\section\u001b[0m\u001b[1;39m{\u001b[0m\u001b[39mRecognizing and Countering \u001b[0m\u001b[3;91mFalse\u001b[0m\u001b[39m Dilemmas\u001b[0m\u001b[1;39m}\u001b[0m\n",
      "\n",
      "\u001b[39mTo recognize and counter false dilemmas:\u001b[0m\n",
      "\n",
      "\u001b[1;36m1\u001b[0m\u001b[39m. Look for absolute language: Be wary of statements that use absolute language, such as \u001b[0m\u001b[32m\"you must\"\u001b[0m\u001b[39m or \u001b[0m\u001b[32m\"you \u001b[0m\n",
      "\u001b[32mcannot.\"\u001b[0m\n",
      "\u001b[1;36m2\u001b[0m\u001b[39m. Consider alternative perspectives: Take the time to consider other possibilities and options.\u001b[0m\n",
      "\u001b[1;36m3\u001b[0m\u001b[39m. Ask questions: Ask questions like \u001b[0m\u001b[32m\"What if I don't choose either option?\"\u001b[0m\u001b[39m or \u001b[0m\u001b[32m\"Are there any other solutions?\"\u001b[0m\n",
      "\n",
      "\u001b[39m\\section\u001b[0m\u001b[1;39m{\u001b[0m\u001b[39mConclusion\u001b[0m\u001b[1;39m}\u001b[0m\n",
      "\n",
      "\u001b[3;91mFalse\u001b[0m\u001b[39m dilemmas are a common logical fallacy that can be misleading and limiting. By recognizing their forms, \u001b[0m\n",
      "\u001b[39mexamples, and implications, individuals can better navigate complex decision-making situations.\u001b[0m\n",
      "\n",
      "\u001b[39m<|tex_end|\u001b[0m\u001b[1m>\u001b[0m\n"
     ]
    },
    {
     "data": {
      "text/html": [
       "<pre style=\"white-space:pre;overflow-x:auto;line-height:normal;font-family:Menlo,'DejaVu Sans Mono',consolas,'Courier New',monospace\"></pre>\n"
      ],
      "text/plain": []
     },
     "metadata": {},
     "output_type": "display_data"
    },
    {
     "name": "stdout",
     "output_type": "stream",
     "text": [
      "TeX data not found.\n",
      "\u001b[1m<\u001b[0m\u001b[1;95m|tex_start|\u001b[0m\u001b[39m>\u001b[0m\n",
      "\n",
      "\u001b[39m# Epistemic Fallacies: The Nature of Knowledge\u001b[0m\n",
      "\n",
      "\u001b[39m## Introduction to Epistemic Fallacies\u001b[0m\n",
      "\n",
      "\u001b[39mEpistemic fallacies refer to errors in reasoning that affect the nature and acquisition of knowledge. These \u001b[0m\n",
      "\u001b[39mfallacies can lead to flawed decision-making, incorrect conclusions, and misinformed opinions.\u001b[0m\n",
      "\n",
      "\u001b[39m## The Problem of Induction\u001b[0m\n",
      "\n",
      "\u001b[39mThe problem of induction is a classic epistemic fallacy that arises from assuming that past experiences will \u001b[0m\n",
      "\u001b[39mnecessarily determine future outcomes. However, this assumption is based on limited information and ignores the \u001b[0m\n",
      "\u001b[39mcomplexity of real-world systems.\u001b[0m\n",
      "\n",
      "\u001b[39m### Example: The Stock Market\u001b[0m\n",
      "\n",
      "\u001b[39mImagine a historian who observes that every time it rains, the stock market goes up. Based on this pattern, they \u001b[0m\n",
      "\u001b[39mpredict that the market will go up tomorrow if it rains again. This conclusion is an example of inductive reasoning\u001b[0m\n",
      "\u001b[39mgone wrong, as there are many factors that can influence the market beyond just weather.\u001b[0m\n",
      "\n",
      "\u001b[39m### Solution: Recognize Limits of Knowledge\u001b[0m\n",
      "\n",
      "\u001b[39mIt's essential to acknowledge the limitations of our knowledge and avoid making broad generalizations based on \u001b[0m\n",
      "\u001b[39mlimited data.\u001b[0m\n",
      "\n",
      "\u001b[39m## Confirmation Bias\u001b[0m\n",
      "\n",
      "\u001b[39mConfirmation bias occurs when we seek out information that confirms our existing beliefs rather than considering \u001b[0m\n",
      "\u001b[39malternative perspectives. This fallacy can lead to a narrow understanding of the world, ignoring contradictory \u001b[0m\n",
      "\u001b[39mevidence.\u001b[0m\n",
      "\n",
      "\u001b[39m### Example: Social Media Platforms\u001b[0m\n",
      "\n",
      "\u001b[39mSocial media platforms often present us with curated content that reinforces our views, making it difficult to \u001b[0m\n",
      "\u001b[39mencounter opposing opinions. As a result, we may become more entrenched in our beliefs without being exposed to new\u001b[0m\n",
      "\u001b[39mideas.\u001b[0m\n",
      "\n",
      "\u001b[39m### Solution: Actively Seek Out Diverse Perspectives\u001b[0m\n",
      "\n",
      "\u001b[39mMake an effort to engage with people and information from different backgrounds to broaden your understanding of \u001b[0m\n",
      "\u001b[39mthe world.\u001b[0m\n",
      "\n",
      "\u001b[39m## The Dunning-Kruger Effect\u001b[0m\n",
      "\n",
      "\u001b[39mThe Dunning-Kruger effect refers to the tendency for individuals who lack expertise in a particular domain to \u001b[0m\n",
      "\u001b[39moverestimate their own abilities. This fallacy can lead to poor decision-making, particularly in areas where \u001b[0m\n",
      "\u001b[39mknowledge is scarce or uncertain.\u001b[0m\n",
      "\n",
      "\u001b[39m### Example: Medical Diagnosis\u001b[0m\n",
      "\n",
      "\u001b[39mA doctor with limited experience in a specific area may mistakenly diagnose a patient based on superficial \u001b[0m\n",
      "\u001b[39msymptoms, ignoring more nuanced signs that could indicate a different condition.\u001b[0m\n",
      "\n",
      "\u001b[39m### Solution: Recognize One's Own Limitations\u001b[0m\n",
      "\n",
      "\u001b[39mBe aware of your own knowledge gaps and be willing to seek out expert advice or consult multiple sources when faced\u001b[0m\n",
      "\u001b[39mwith complex decisions.\u001b[0m\n",
      "\n",
      "\u001b[39m## Conclusion\u001b[0m\n",
      "\n",
      "\u001b[39mEpistemic fallacies can significantly impact our understanding of the world and decision-making. By recognizing \u001b[0m\n",
      "\u001b[39mthese fallacies, we can take steps to improve our critical thinking skills, actively seek out diverse perspectives,\u001b[0m\n",
      "\u001b[39mand avoid making assumptions based on limited information.\u001b[0m\n",
      "\n",
      "\u001b[39m<|tex_end|\u001b[0m\u001b[1m>\u001b[0m\n"
     ]
    },
    {
     "data": {
      "text/html": [
       "<pre style=\"white-space:pre;overflow-x:auto;line-height:normal;font-family:Menlo,'DejaVu Sans Mono',consolas,'Courier New',monospace\"></pre>\n"
      ],
      "text/plain": []
     },
     "metadata": {},
     "output_type": "display_data"
    },
    {
     "name": "stdout",
     "output_type": "stream",
     "text": [
      "\u001b[1m<\u001b[0m\u001b[1;95m|tex_start|\u001b[0m\u001b[39m>\u001b[0m\n",
      "\n",
      "\u001b[39m\\chapter\u001b[0m\u001b[1;39m{\u001b[0m\u001b[39mThe Dunning-Kruger Effect in Politics\u001b[0m\u001b[1;39m}\u001b[0m\n",
      "\n",
      "\u001b[39mIn recent years, the phenomenon of political pundits and politicians overestimating their knowledge and expertise \u001b[0m\n",
      "\u001b[39mon complex issues has gained significant attention. This chapter examines how the Dunning-Kruger effect plays out \u001b[0m\n",
      "\u001b[39min politics, with a focus on its implications for informed decision-making.\u001b[0m\n",
      "\n",
      "\u001b[39mThe Dunning-Kruger effect is named after the psychologists David Dunning and Justin Kruger, who first described \u001b[0m\n",
      "\u001b[39mthis cognitive bias in \u001b[0m\u001b[1;36m1999\u001b[0m\u001b[39m. According to their research, individuals who are incompetent in a particular domain \u001b[0m\n",
      "\u001b[39mtend to overestimate their own abilities and performance, while underestimating the abilities of others. This \u001b[0m\n",
      "\u001b[39meffect is thought to occur because people lack metacognitive skills, or the ability to reflect on their own thought\u001b[0m\n",
      "\u001b[39mprocesses and evaluate their own knowledge.\u001b[0m\n",
      "\n",
      "\u001b[39mIn the context of politics, the Dunning-Kruger effect can have significant consequences. For example, a political \u001b[0m\n",
      "\u001b[39mpundit who has little knowledge of economic policy may confidently opine on the best way to address a complex issue\u001b[0m\n",
      "\u001b[39mlike income inequality. Similarly, a politician who lacks experience in foreign policy may overestimate their \u001b[0m\n",
      "\u001b[39mability to negotiate effectively with world leaders.\u001b[0m\n",
      "\n",
      "\u001b[39mOne notable example of the Dunning-Kruger effect in politics is the case of Donald Trump, the 45th President of the\u001b[0m\n",
      "\u001b[39mUnited States. During his presidential campaign, Trump repeatedly claimed that he was an expert on a range of \u001b[0m\n",
      "\u001b[39mtopics, including trade policy, healthcare, and foreign policy. Despite lacking any significant experience or \u001b[0m\n",
      "\u001b[39mqualifications in these areas, Trump consistently demonstrated a remarkable lack of understanding of complex \u001b[0m\n",
      "\u001b[39missues.\u001b[0m\n",
      "\n",
      "\u001b[39mThe Dunning-Kruger effect can also have serious consequences for public policy. When politicians overestimate their\u001b[0m\n",
      "\u001b[39mknowledge and expertise, they are more likely to pursue policies that are misguided or ineffective. For example, if\u001b[0m\n",
      "\u001b[39ma politician believes that stricter immigration laws will solve the problem of unemployment, but lacks any evidence\u001b[0m\n",
      "\u001b[39mto support this claim, they may be more likely to push for such policies despite the lack of data.\u001b[0m\n",
      "\n",
      "\u001b[39mTo mitigate the Dunning-Kruger effect in politics, it is essential to promote critical thinking and metacognitive \u001b[0m\n",
      "\u001b[39mskills among politicians and pundits. This can involve providing them with fact-based information and encouraging \u001b[0m\n",
      "\u001b[39mthem to engage in constructive debate with experts from a range of fields. Additionally, voters should be \u001b[0m\n",
      "\u001b[39mencouraged to seek out diverse sources of information and to critically evaluate the claims made by politicians and\u001b[0m\n",
      "\u001b[39mpundits.\u001b[0m\n",
      "\n",
      "\u001b[39mIn conclusion, the Dunning-Kruger effect is a significant problem in politics that can lead to misguided policies \u001b[0m\n",
      "\u001b[39mand ineffective governance. By promoting critical thinking and metacognitive skills among politicians and pundits, \u001b[0m\n",
      "\u001b[39mwe can reduce the likelihood of this bias and promote more informed decision-making.\u001b[0m\n",
      "\n",
      "\u001b[39m<|tex_end|\u001b[0m\u001b[1m>\u001b[0m\n"
     ]
    },
    {
     "data": {
      "text/html": [
       "<pre style=\"white-space:pre;overflow-x:auto;line-height:normal;font-family:Menlo,'DejaVu Sans Mono',consolas,'Courier New',monospace\"></pre>\n"
      ],
      "text/plain": []
     },
     "metadata": {},
     "output_type": "display_data"
    },
    {
     "name": "stdout",
     "output_type": "stream",
     "text": [
      " <|tex_start|\n",
      "\\ chapter\u001b[1m{\u001b[0mConfirmation Bias in Social Media\u001b[1m}\u001b[0m\n",
      "\n",
      " Confirmation bias in social media is a pervasive issue that can significantly impact an individual's perception of\n",
      "reality. This case study explores how social media platforms can perpetuate confirmation bias, where users \n",
      "selectively expose themselves to information that confirms their existing beliefs.\n",
      "\n",
      "Social media algorithms are designed to personalize the user experience by serving content that is likely to engage\n",
      "and retain users. However, this can also lead to a self-reinforcing cycle of confirmation bias. When users interact\n",
      "with content that aligns with their pre-existing views, they are more likely to share it with others, which in turn\n",
      "increases its visibility on the platform.\n",
      "\n",
      "As a result, social media platforms often curate content that reinforces existing beliefs and opinions, creating an\n",
      "\u001b[32m\"echo chamber\"\u001b[0m effect where users are only exposed to information that confirms their worldview. This can lead to a\n",
      "narrow and limited understanding of different perspectives, making it more difficult for individuals to consider \n",
      "alternative viewpoints.\n",
      "\n",
      "Furthermore, social media platforms often prioritize sensational or provocative content over factual information, \n",
      "which can further exacerbate confirmation bias. The use of emotive language, clickbait headlines, and \n",
      "attention-grabbing visuals can create a sense of urgency or outrage, leading users to share content without fully \n",
      "considering its accuracy or context.\n",
      "\n",
      "The consequences of confirmation bias in social media can be far-reaching, influencing everything from political \n",
      "discourse to personal relationships. By understanding how social media platforms perpetuate this bias, we can take \n",
      "steps to mitigate its effects and promote more nuanced and informed discussions.\n",
      "\n",
      "To combat confirmation bias on social media, individuals can take several strategies:\n",
      "\n",
      "*   Diversify their social media feeds by following accounts that present different perspectives\n",
      "*   Engage with content that challenges their existing views\n",
      "*   Use fact-checking websites or reputable sources to verify the accuracy of information\n",
      "*   Take breaks from social media to reduce exposure to biased or sensational content\n",
      "\n",
      "By acknowledging and addressing confirmation bias on social media, we can foster a more inclusive and informed \n",
      "online environment.\n",
      "\n",
      "\\ section\u001b[1m{\u001b[0mStrategies for Mitigating Confirmation Bias\u001b[1m}\u001b[0m\n",
      "\n",
      "\u001b[1;36m1\u001b[0m.  Diversify Your Feed: Expose yourself to diverse perspectives by following accounts that present different \n",
      "viewpoints.\n",
      "\u001b[1;36m2\u001b[0m.  Engage with Challenging Content: Interact with content that challenges your existing views to broaden your \n",
      "understanding.\n",
      "\u001b[1;36m3\u001b[0m.  Fact-Check Information: Utilize reputable sources and fact-checking websites to verify the accuracy of \n",
      "information.\n",
      "\u001b[1;36m4\u001b[0m.  Take Breaks from Social Media: Regularly disconnect from social media to reduce exposure to biased or \n",
      "sensational content.\n",
      "\n",
      "By implementing these strategies, you can mitigate the effects of confirmation bias on social media and cultivate a\n",
      "more nuanced understanding of the world around you.\n",
      "\n",
      "\\ section\u001b[1m{\u001b[0mConclusion\u001b[1m}\u001b[0m\n",
      "\n",
      "Confirmation bias in social media is a pervasive issue that can significantly impact an individual's perception of \n",
      "reality. By understanding how social media platforms perpetuate this bias, we can take steps to mitigate its \n",
      "effects and promote more nuanced and informed discussions.\n"
     ]
    },
    {
     "data": {
      "text/html": [
       "<pre style=\"white-space:pre;overflow-x:auto;line-height:normal;font-family:Menlo,'DejaVu Sans Mono',consolas,'Courier New',monospace\"></pre>\n"
      ],
      "text/plain": []
     },
     "metadata": {},
     "output_type": "display_data"
    },
    {
     "name": "stdout",
     "output_type": "stream",
     "text": [
      "TeX data not found.\n",
      "\u001b[1m<\u001b[0m\u001b[1;95m|tex_start|\u001b[0m\u001b[1m>\u001b[0m\n",
      "\n",
      "\\chapter\u001b[1m{\u001b[0mAnchoring Bias in Economic Decision-Making\u001b[1m}\u001b[0m\n",
      "\n",
      "The anchoring bias is a cognitive heuristic that affects economic decision-making. It occurs when an initial value \n",
      "or anchor influences subsequent judgments, often leading to suboptimal choices.\n",
      "\n",
      "In economics, the anchoring bias can manifest in various ways. For instance, when evaluating the price of a \n",
      "product, consumers may rely on the first piece of information they receive, such as the manufacturer's suggested \n",
      "retail price \u001b[1m(\u001b[0mMSRP\u001b[1m)\u001b[0m, rather than considering other relevant factors like market demand or production costs.\n",
      "\n",
      "A classic example of the anchoring bias in economic decision-making is the \u001b[32m\"anchoring effect\"\u001b[0m study conducted by \n",
      "psychologists Hillel Schwartz and Amos Tversky. In this experiment, participants were asked to estimate the cost of\n",
      "a car based on an initial value provided by a salesperson. The results showed that even when presented with \n",
      "accurate information about the market price of the same car, participants still relied heavily on the initial \n",
      "anchor value.\n",
      "\n",
      "This case study demonstrates how the anchoring bias affects economic decision-making, where initial values or \n",
      "anchors influence subsequent judgments. It also explores strategies to mitigate this bias and provide practical \n",
      "guidance for individuals and organizations seeking to make more informed decisions.\n",
      "\n",
      "\\section\u001b[1m{\u001b[0mCauses of the Anchoring Bias\u001b[1m}\u001b[0m\n",
      "\n",
      "The anchoring bias can be attributed to several psychological factors:\n",
      "\n",
      "\u001b[1;36m1\u001b[0m.  \\textbf\u001b[1m{\u001b[0mAvailability heuristic**: The tendency to rely on readily available information, such as the MSRP, \n",
      "rather than considering other relevant factors.\n",
      "\u001b[1;36m2\u001b[0m.  \\textbf\u001b[1m{\u001b[0mCognitive laziness**: The reluctance to engage in extensive mental calculations or comparisons when \n",
      "faced with a decision.\n",
      "\u001b[1;36m3\u001b[0m.  \\textbf\u001b[1m{\u001b[0mAnchoring effect**: The initial value or anchor can create an expectation of what is a \u001b[32m\"normal\"\u001b[0m or \n",
      "\u001b[32m\"typical\"\u001b[0m value, leading to biased judgments.\n",
      "\n",
      "\\section\u001b[1m{\u001b[0mConsequences of the Anchoring Bias\u001b[1m}\u001b[0m\n",
      "\n",
      "The consequences of the anchoring bias in economic decision-making are far-reaching:\n",
      "\n",
      "\u001b[1;36m1\u001b[0m.  \\textbf\u001b[1m{\u001b[0mSuboptimal choices**: Relying on anchors can lead to suboptimal decisions, as individuals may overvalue\n",
      "or undervalue certain options.\n",
      "\u001b[1;36m2\u001b[0m.  \\textbf\u001b[1m{\u001b[0mInefficient resource allocation**: The anchoring bias can result in inefficient resource allocation, as\n",
      "individuals may prioritize the initial value over other important factors.\n",
      "\n",
      "\\section\u001b[1m{\u001b[0mMitigating the Anchoring Bias\u001b[1m}\u001b[0m\n",
      "\n",
      "To mitigate the anchoring bias, individuals and organizations can employ several strategies:\n",
      "\n",
      "\u001b[1;36m1\u001b[0m.  \\textbf\u001b[1m{\u001b[0mUse multiple anchors**: Presenting multiple pieces of information can help to reduce the influence of a\n",
      "single anchor.\n",
      "\u001b[1;36m2\u001b[0m.  \\textbf\u001b[1m{\u001b[0mEngage in extensive mental calculations**: Taking the time to consider multiple factors and engage in \n",
      "thorough comparisons can help to mitigate the anchoring bias.\n",
      "\u001b[1;36m3\u001b[0m.  \\textbf\u001b[1m{\u001b[0mUse objective criteria**: Relying on objective criteria, such as market data or expert opinions, can \n",
      "help to reduce the influence of anchors.\n",
      "\n",
      "By understanding the causes and consequences of the anchoring bias, individuals and organizations can take steps to\n",
      "mitigate its effects and make more informed economic decisions.\n",
      "\n",
      "\\chapter*\u001b[1m{\u001b[0mConclusion\u001b[1m}\u001b[0m\n",
      "\n",
      "The anchoring bias is a significant cognitive heuristic that affects economic decision-making. By recognizing the \n",
      "causes and consequences of this bias, individuals and organizations can employ strategies to mitigate its effects \n",
      "and make more informed choices.\n",
      "\n",
      "\\chapter*\u001b[1m{\u001b[0mReferences\u001b[1m}\u001b[0m\n",
      "\n",
      "\u001b[1m(\u001b[0mThis section should include any relevant sources cited in the chapter.\u001b[1m)\u001b[0m\n",
      "\n",
      "\\chapter*\u001b[1m{\u001b[0mAppendix\u001b[1m}\u001b[0m\n",
      "\n",
      "\u001b[1m(\u001b[0mThis section may include additional information or examples not covered in the main text.\u001b[1m)\u001b[0m\n"
     ]
    },
    {
     "data": {
      "text/html": [
       "<pre style=\"white-space:pre;overflow-x:auto;line-height:normal;font-family:Menlo,'DejaVu Sans Mono',consolas,'Courier New',monospace\"></pre>\n"
      ],
      "text/plain": []
     },
     "metadata": {},
     "output_type": "display_data"
    },
    {
     "name": "stdout",
     "output_type": "stream",
     "text": [
      "TeX data not found.\n",
      "\\ chapter\u001b[1m{\u001b[0mHindsight Bias in Risk Assessment\u001b[1m}\u001b[0m\n",
      "\\ section\u001b[1m{\u001b[0mUnderstanding the Hindsight Bias\u001b[1m}\u001b[0m\n",
      "\n",
      "The hindsight bias, also known as the Kuhn phenomenon, is a cognitive bias that affects our perception of past \n",
      "events. It refers to the tendency to believe, after an event has occurred, that we would have predicted it if we \n",
      "had been aware of all the relevant information at the time. This bias can lead individuals to overestimate their \n",
      "ability to predict outcomes and underestimate the role of chance.\n",
      "\n",
      "\\ subsubsection\u001b[1m{\u001b[0mThe Psychology Behind the Hindsight Bias\u001b[1m}\u001b[0m\n",
      "\n",
      "Research suggests that the hindsight bias is closely related to the Dunning-Kruger effect, where individuals who \n",
      "are incompetent in a particular domain tend to overestimate their abilities. Additionally, the hindsight bias can \n",
      "be influenced by factors such as cognitive dissonance, where individuals seek to reduce feelings of discomfort or \n",
      "uncertainty by rationalizing past decisions.\n",
      "\n",
      "\\ subsubsection\u001b[1m{\u001b[0mExamples and Case Studies\u001b[1m}\u001b[0m\n",
      "\n",
      "The hindsight bias has been observed in various domains, including finance, sports, and politics. For instance, \n",
      "investors who attribute their success to superior stock-picking skills are more likely to be unaware of the role of\n",
      "luck and market fluctuations. Similarly, athletes who believe they could have predicted a game's outcome if they \n",
      "had made different decisions are often neglecting the impact of chance events.\n",
      "\n",
      "\\ subsection\u001b[1m{\u001b[0mMitigating the Hindsight Bias\u001b[1m}\u001b[0m\n",
      "\n",
      "To mitigate the hindsight bias, it is essential to develop a more nuanced understanding of uncertainty and \n",
      "probability. By acknowledging that there is always an element of chance involved in decision-making, individuals \n",
      "can take steps to reduce their reliance on intuition and seek out diverse perspectives. This may involve \n",
      "incorporating probabilistic thinking into daily life, such as considering alternative scenarios or outcomes.\n",
      "\n",
      "\\ subsection\u001b[1m{\u001b[0mConclusion\u001b[1m}\u001b[0m\n",
      "\n",
      "In conclusion, the hindsight bias has significant implications for our understanding of risk assessment and \n",
      "decision-making. By recognizing this bias and taking steps to mitigate its effects, individuals can develop a more \n",
      "informed and realistic approach to managing uncertainty.\n"
     ]
    },
    {
     "data": {
      "text/html": [
       "<pre style=\"white-space:pre;overflow-x:auto;line-height:normal;font-family:Menlo,'DejaVu Sans Mono',consolas,'Courier New',monospace\"></pre>\n"
      ],
      "text/plain": []
     },
     "metadata": {},
     "output_type": "display_data"
    },
    {
     "name": "stdout",
     "output_type": "stream",
     "text": [
      "TeX data not found.\n",
      "\u001b[1m<\u001b[0m\u001b[1;95m|tex_start|\u001b[0m\u001b[39m>\u001b[0m\n",
      "\u001b[39m\\chapter\u001b[0m\u001b[1;39m{\u001b[0m\u001b[39mMitigating Biases and Fallacies: Strategies for Critical Thinking\u001b[0m\u001b[1;39m}\u001b[0m\n",
      "\n",
      "\u001b[39mThis chapter offers practical strategies for recognizing, avoiding, and mitigating biases and fallacies in personal\u001b[0m\n",
      "\u001b[39mand professional contexts. To develop critical thinking skills, it is essential to understand the types of biases \u001b[0m\n",
      "\u001b[39mand fallacies that can affect our decision-making processes.\u001b[0m\n",
      "\n",
      "\u001b[39m\\section\u001b[0m\u001b[1;39m{\u001b[0m\u001b[39mCritical Thinking Techniques\u001b[0m\u001b[1;39m}\u001b[0m\n",
      "\n",
      "\u001b[39mSeveral techniques can help individuals recognize and avoid biases and fallacies:\u001b[0m\n",
      "\n",
      "\u001b[39m\\begin\u001b[0m\u001b[1;39m{\u001b[0m\u001b[39mitemize\u001b[0m\u001b[1;39m}\u001b[0m\n",
      "\u001b[39m    \\item Skepticism: Approach information with a healthy dose of skepticism, questioning assumptions and evidence.\u001b[0m\n",
      "\u001b[39m    \\item Evidence-based reasoning: Base decisions on empirical evidence rather than personal opinions or \u001b[0m\n",
      "\u001b[39manecdotes.\u001b[0m\n",
      "\u001b[39m    \\item Active listening: Pay attention to diverse perspectives and engage in open-minded dialogue.\u001b[0m\n",
      "\u001b[39m    \\item Diverse perspectives: Seek out multiple viewpoints to challenge one's own biases and assumptions.\u001b[0m\n",
      "\u001b[39m\\end\u001b[0m\u001b[1;39m{\u001b[0m\u001b[39mitemize\u001b[0m\u001b[1;39m}\u001b[0m\n",
      "\n",
      "\u001b[39mBy incorporating these strategies into daily life, individuals can reduce the impact of biases and fallacies on \u001b[0m\n",
      "\u001b[39mtheir decision-making processes.\u001b[0m\n",
      "\n",
      "\u001b[39m\\section\u001b[0m\u001b[1;39m{\u001b[0m\u001b[39mMedia Literacy and Information Evaluation\u001b[0m\u001b[1;39m}\u001b[0m\n",
      "\n",
      "\u001b[39mDeveloping media literacy skills is crucial for evaluating information effectively. This includes:\u001b[0m\n",
      "\n",
      "\u001b[39m\\begin\u001b[0m\u001b[1;39m{\u001b[0m\u001b[39mitemize\u001b[0m\u001b[1;39m}\u001b[0m\n",
      "\u001b[39m    \\item Identifying credible sources: Recognize trustworthy sources of information.\u001b[0m\n",
      "\u001b[39m    \\item Evaluating evidence: Assess the quality and relevance of evidence presented in arguments.\u001b[0m\n",
      "\u001b[39m    \\item Avoiding emotional appeals: Be aware of how emotions are used to manipulate opinions or decisions.\u001b[0m\n",
      "\u001b[39m    \\item Seeking diverse perspectives: Consult multiple sources to challenge one's own views.\u001b[0m\n",
      "\u001b[39m\\end\u001b[0m\u001b[1;39m{\u001b[0m\u001b[39mitemize\u001b[0m\u001b[1;39m}\u001b[0m\n",
      "\n",
      "\u001b[39mBy cultivating these skills, individuals can make more informed decisions based on accurate information.\u001b[0m\n",
      "\n",
      "\u001b[39m\\section\u001b[0m\u001b[1;39m{\u001b[0m\u001b[39mSelf-Awareness and Reflection\u001b[0m\u001b[1;39m}\u001b[0m\n",
      "\n",
      "\u001b[39mRecognizing personal biases and fallacies is an essential step in mitigating their impact. This involves:\u001b[0m\n",
      "\n",
      "\u001b[39m\\begin\u001b[0m\u001b[1;39m{\u001b[0m\u001b[39mitemize\u001b[0m\u001b[1;39m}\u001b[0m\n",
      "\u001b[39m    \\item Self-reflection: Regularly assess one's own thoughts, feelings, and behaviors.\u001b[0m\n",
      "\u001b[39m    \\item Identifying cognitive biases: Recognize common biases that affect decision-making.\u001b[0m\n",
      "\u001b[39m    \\item Challenging assumptions: Question personal beliefs and assumptions to broaden perspectives.\u001b[0m\n",
      "\u001b[39m    \\item Developing emotional intelligence: Cultivate self-awareness of emotions and their impact on decisions.\u001b[0m\n",
      "\u001b[39m\\end\u001b[0m\u001b[1;39m{\u001b[0m\u001b[39mitemize\u001b[0m\u001b[1;39m}\u001b[0m\n",
      "\n",
      "\u001b[39mBy acknowledging and addressing personal biases and fallacies, individuals can make more informed, objective \u001b[0m\n",
      "\u001b[39mdecisions.\u001b[0m\n",
      "\n",
      "\u001b[39m\\section\u001b[0m\u001b[1;39m{\u001b[0m\u001b[39mConclusion\u001b[0m\u001b[1;39m}\u001b[0m\n",
      "\n",
      "\u001b[39mMitigating biases and fallacies requires a combination of critical thinking techniques, media literacy skills, and \u001b[0m\n",
      "\u001b[39mself-awareness. By incorporating these strategies into daily life, individuals can improve their decision-making \u001b[0m\n",
      "\u001b[39mprocesses and navigate complex information landscapes effectively.\u001b[0m\n",
      "\n",
      "\u001b[39m<|tex_end|\u001b[0m\u001b[1m>\u001b[0m\n"
     ]
    },
    {
     "data": {
      "text/html": [
       "<pre style=\"white-space:pre;overflow-x:auto;line-height:normal;font-family:Menlo,'DejaVu Sans Mono',consolas,'Courier New',monospace\"></pre>\n"
      ],
      "text/plain": []
     },
     "metadata": {},
     "output_type": "display_data"
    }
   ],
   "source": [
    "# Output of chapter structure to consider when generating content\n",
    "toc_and_summary = \"\"\n",
    "if do_consider_outline:\n",
    "    toc_and_summary = generate_outline(book_graph, book_node_name)\n",
    "\n",
    "# Initialize a list of strings to store previous outputs\n",
    "previous_sections_content_list = [{\"title\": \"None\", \"summary\": \"None\"} for i in range(n_previous_sections)]\n",
    "\n",
    "# Sort the nodes containing the main content (leaf nodes) in order\n",
    "sorted_content_str_list = sort_leaf_nodes(book_graph)\n",
    "\n",
    "# Append the main content\n",
    "for heading_number_str in sorted_content_str_list:\n",
    "    heading_number = custom_sort_key(heading_number_str)\n",
    "\n",
    "    node_name = \"-\".join(map(str, heading_number))\n",
    "    node = book_graph.nodes[node_name]\n",
    "\n",
    "    # Generate output via LLM\n",
    "   \n",
    "    prompt = PromptTemplate.from_template(prompt_content_creation)\n",
    "    chain = prompt |  (lambda x: log_prompt(x))  | llm\n",
    "\n",
    "    result = chain.invoke(\n",
    "        {\n",
    "            \"book_title\": book_node[\"title\"],\n",
    "            \"book_summary\": book_node[\"summary\"],\n",
    "            \"toc_and_summary\": toc_and_summary,\n",
    "            \"previous_sections\": generate_prompt_for_previous_sections(previous_sections_content_list, n_previous_sections),\n",
    "            \"equation_frequency\": get_equation_frequency(book_graph.graph[\"equation_frequency_level\"]),\n",
    "            \"target\": node[\"title\"],\n",
    "            \"n_pages\": node[\"n_pages\"],\n",
    "            \"section_summary\": node[\"summary\"],\n",
    "        }\n",
    "    )\n",
    "\n",
    "    view(result)\n",
    "    contents_tex = extract_section_content(result)\n",
    "    with open(node_name + \"-p.tex\", mode='w', encoding='UTF-8') as f:\n",
    "        f.write(contents_tex)\n",
    "\n",
    "    # Retain past outputs\n",
    "    if do_consider_previous_sections:\n",
    "        previous_sections_content_list = slide_list_with_new_title_and_content(node[\"title\"], node[\"summary\"], previous_sections_content_list)"
   ]
  },
  {
   "cell_type": "code",
   "execution_count": 32,
   "metadata": {},
   "outputs": [
    {
     "data": {
      "text/plain": [
       "\"<|tex_start|>\\n\\\\chapter{Mitigating Biases and Fallacies: Strategies for Critical Thinking}\\n\\nThis chapter offers practical strategies for recognizing, avoiding, and mitigating biases and fallacies in personal and professional contexts. To develop critical thinking skills, it is essential to understand the types of biases and fallacies that can affect our decision-making processes.\\n\\n\\\\section{Critical Thinking Techniques}\\n\\nSeveral techniques can help individuals recognize and avoid biases and fallacies:\\n\\n\\\\begin{itemize}\\n    \\\\item Skepticism: Approach information with a healthy dose of skepticism, questioning assumptions and evidence.\\n    \\\\item Evidence-based reasoning: Base decisions on empirical evidence rather than personal opinions or anecdotes.\\n    \\\\item Active listening: Pay attention to diverse perspectives and engage in open-minded dialogue.\\n    \\\\item Diverse perspectives: Seek out multiple viewpoints to challenge one's own biases and assumptions.\\n\\\\end{itemize}\\n\\nBy incorporating these strategies into daily life, individuals can reduce the impact of biases and fallacies on their decision-making processes.\\n\\n\\\\section{Media Literacy and Information Evaluation}\\n\\nDeveloping media literacy skills is crucial for evaluating information effectively. This includes:\\n\\n\\\\begin{itemize}\\n    \\\\item Identifying credible sources: Recognize trustworthy sources of information.\\n    \\\\item Evaluating evidence: Assess the quality and relevance of evidence presented in arguments.\\n    \\\\item Avoiding emotional appeals: Be aware of how emotions are used to manipulate opinions or decisions.\\n    \\\\item Seeking diverse perspectives: Consult multiple sources to challenge one's own views.\\n\\\\end{itemize}\\n\\nBy cultivating these skills, individuals can make more informed decisions based on accurate information.\\n\\n\\\\section{Self-Awareness and Reflection}\\n\\nRecognizing personal biases and fallacies is an essential step in mitigating their impact. This involves:\\n\\n\\\\begin{itemize}\\n    \\\\item Self-reflection: Regularly assess one's own thoughts, feelings, and behaviors.\\n    \\\\item Identifying cognitive biases: Recognize common biases that affect decision-making.\\n    \\\\item Challenging assumptions: Question personal beliefs and assumptions to broaden perspectives.\\n    \\\\item Developing emotional intelligence: Cultivate self-awareness of emotions and their impact on decisions.\\n\\\\end{itemize}\\n\\nBy acknowledging and addressing personal biases and fallacies, individuals can make more informed, objective decisions.\\n\\n\\\\section{Conclusion}\\n\\nMitigating biases and fallacies requires a combination of critical thinking techniques, media literacy skills, and self-awareness. By incorporating these strategies into daily life, individuals can improve their decision-making processes and navigate complex information landscapes effectively.\\n\\n<|tex_end|>\""
      ]
     },
     "execution_count": 32,
     "metadata": {},
     "output_type": "execute_result"
    }
   ],
   "source": [
    "result"
   ]
  },
  {
   "cell_type": "markdown",
   "metadata": {
    "id": "r2LSx8U7PgLB"
   },
   "source": [
    "## Graph Tree Visualization"
   ]
  },
  {
   "cell_type": "code",
   "execution_count": 33,
   "metadata": {
    "colab": {
     "base_uri": "https://localhost:8080/",
     "height": 783
    },
    "id": "zslTqJiALTtk",
    "outputId": "25eceaf9-73af-4a7f-80a5-909543a81e20"
   },
   "outputs": [
    {
     "name": "stdout",
     "output_type": "stream",
     "text": [
      "The arrows starting from 'book' represent chapters, with sections below them and subsections below the sections.\n",
      "These nodes contain information such as the title and summary of each chapter or section.\n",
      "Additionally, the end nodes marked in red circles hold information on the content of the text.\n"
     ]
    },
    {
     "data": {
      "image/png": "[encoded data removed]",
      "text/plain": [
       "<Figure size 6000x3000 with 1 Axes>"
      ]
     },
     "metadata": {},
     "output_type": "display_data"
    }
   ],
   "source": [
    "pos = graphviz_layout(book_graph, prog=\"dot\")\n",
    "\n",
    "# matplotlib settings\n",
    "fig = plt.figure(figsize=(20, 10), dpi=300)\n",
    "ax = fig.add_subplot(1, 1, 1)\n",
    "\n",
    "# Color the leaf nodes (content nodes) in red\n",
    "node_color_list = [\"r\" if \"p\" in s else \"w\" for s in list(book_graph.nodes)]\n",
    "\n",
    "# draw the network\n",
    "nx.draw(book_graph,\n",
    "        ax=ax,\n",
    "        pos=pos,\n",
    "        with_labels=True,\n",
    "        node_size=300,\n",
    "        node_color=node_color_list,\n",
    "        alpha=0.3,\n",
    "        node_shape='.',\n",
    "        width=0.5)\n",
    "\n",
    "print(\"The arrows starting from 'book' represent chapters, with sections below them and subsections below the sections.\\nThese nodes contain information such as the title and summary of each chapter or section.\\nAdditionally, the end nodes marked in red circles hold information on the content of the text.\")"
   ]
  },
  {
   "cell_type": "markdown",
   "metadata": {
    "id": "Of2bOA5hPs0Q"
   },
   "source": [
    "## latexmkrc Generation"
   ]
  },
  {
   "cell_type": "code",
   "execution_count": 27,
   "metadata": {
    "colab": {
     "base_uri": "https://localhost:8080/"
    },
    "id": "pYXVeE97MhsD",
    "outputId": "9f6229a9-27f6-403b-859d-1f4c4a010be0"
   },
   "outputs": [
    {
     "name": "stdout",
     "output_type": "stream",
     "text": [
      ".latexmkrc file has been created successfully at /Users/hissain/.latexmkrc\n"
     ]
    }
   ],
   "source": [
    "# Get the path of the home directory\n",
    "home_dir = os.path.expanduser(\"~\")\n",
    "\n",
    "# Create the path for the .latexmkrc file\n",
    "latexmkrc_path = os.path.join(home_dir, \".latexmkrc\")\n",
    "\n",
    "# Contents of the latexmkrc file\n",
    "content = '''$latex = 'pdflatex -synctex=1 -halt-on-error -interaction=nonstopmode %O %S';\n",
    "$bibtex = 'bibtex %O %S';\n",
    "$biber = 'biber %O %S';\n",
    "$makeindex = 'makeindex %O -o %D %S';\n",
    "$dvipdf = 'dvipdfmx %O -o %D %S';\n",
    "\n",
    "$max_repeat = 5;\n",
    "$pdf_mode = 1;'''\n",
    "\n",
    "# Create the file and write the content\n",
    "try:\n",
    "    with open(latexmkrc_path, \"w\") as file:\n",
    "        file.write(content)\n",
    "    print(f\".latexmkrc file has been created successfully at {latexmkrc_path}\")\n",
    "except IOError as e:\n",
    "    print(f\"An error occurred while creating the file: {e}\")"
   ]
  },
  {
   "cell_type": "markdown",
   "metadata": {
    "id": "iJzQSz1qPxtj"
   },
   "source": [
    "## LaTeX Generation Styles Setting"
   ]
  },
  {
   "cell_type": "code",
   "execution_count": 37,
   "metadata": {
    "id": "RtEA6rVWPv1R"
   },
   "outputs": [],
   "source": [
    "# Adding preamble and title\n",
    "doc.packages.append(Package('amsmath'))\n",
    "doc.packages.append(Package('amssymb'))\n",
    "doc.packages.append(Package('amsfonts'))\n",
    "doc.packages.append(Package('mathtools'))\n",
    "doc.packages.append(Package('bm'))\n",
    "doc.packages.append(Package('physics'))\n",
    "doc.packages.append(Package('inputenc', options=\"utf8\"))\n",
    "doc.packages.append(Package('listings'))\n",
    "doc.packages.append(Package('jvlisting'))\n",
    "doc.packages.append(Package('color'))\n",
    "doc.packages.append(Package('underscore', options=\"strings\"))\n",
    "\n",
    "# Adding title, author, and date to the preamble\n",
    "doc.preamble.append(Command(\"title\", book_graph.nodes[book_node_name][\"title\"]))\n",
    "doc.preamble.append(Command(\"author\", book_author))\n",
    "doc.preamble.append(Command(\"date\", NoEscape(r\"\\today\")))\n",
    "\n",
    "# Generating the title and table of contents\n",
    "doc.append(NoEscape(r\"\\maketitle\"))  # Generates the title with author and date\n",
    "doc.append(NoEscape(r\"\\tableofcontents\"))\n",
    "\n",
    "# Setting up custom lstset for listings\n",
    "doc.append(NoEscape(r'\\lstset{backgroundcolor={\\color[gray]{.90}}, breaklines=true, breakindent=10pt, basicstyle=\\ttfamily\\scriptsize, commentstyle={\\itshape \\color[cmyk]{1,0.4,1,0}}, classoffset=0, keywordstyle={\\bfseries \\color[cmyk]{0,1,0,0}}, stringstyle={\\ttfamily \\color[rgb]{0,0,1}}, frame=TBrl, framesep=5pt, numbers=left, stepnumber=1, numberstyle=\\tiny, tabsize=4, captionpos=t}'))"
   ]
  },
  {
   "cell_type": "code",
   "execution_count": 42,
   "metadata": {
    "id": "yN9GMsGGRX3i"
   },
   "outputs": [],
   "source": [
    "# Arrange nodes containing the main text content in order\n",
    "content_str_list = extract_content_list(list(book_graph.nodes))\n",
    "sorted_content_str_list = sort_strings(content_str_list)\n",
    "\n",
    "# Add main content\n",
    "for heading_number_str in sorted_content_str_list:\n",
    "    heading_number = custom_sort_key(heading_number_str)\n",
    "\n",
    "    # Add chapter title\n",
    "    if len(heading_number[1:]) == 0 or all(x == 1 for x in heading_number[1:]):\n",
    "        node_name = \"-\".join(map(str, heading_number[0:1]))\n",
    "        with doc.create(Chapter(book_graph.nodes[node_name][\"title\"], label=False)):\n",
    "            doc.append(NoEscape(book_graph.nodes[node_name][\"summary\"].replace(\"\\\\\\\\\",\"\\\\\")))\n",
    "\n",
    "    # Add section title\n",
    "    if (len(heading_number[2:]) == 0 and len(heading_number[:2]) > 1) or (len(heading_number[2:]) > 0 and all(x == 1 for x in heading_number[2:])):\n",
    "        node_name = \"-\".join(map(str, heading_number[0:2]))\n",
    "        with doc.create(Section(book_graph.nodes[node_name][\"title\"], label=False)):\n",
    "            doc.append(NoEscape(book_graph.nodes[node_name][\"summary\"].replace(\"\\\\\\\\\",\"\\\\\")))\n",
    "\n",
    "    # Add subsection title\n",
    "    if (len(heading_number[3:]) == 0 and len(heading_number[:3]) > 2) or (len(heading_number[3:]) > 0 and all(x == 1 for x in heading_number[3:])):\n",
    "        node_name = \"-\".join(map(str, heading_number[0:3]))\n",
    "        with doc.create(Subsection(book_graph.nodes[node_name][\"title\"], label=False)):\n",
    "            doc.append(NoEscape(book_graph.nodes[node_name][\"summary\"].replace(\"\\\\\\\\\",\"\\\\\")))\n",
    "\n",
    "    # Add main text content\n",
    "    tex_file_path = book_graph.nodes[heading_number_str][\"content_file_path\"]\n",
    "    try:\n",
    "        with open(tex_file_path, \"r\", encoding='UTF-8') as file:\n",
    "            tex_content = file.read()\n",
    "            tex_content.replace('\\&', '\\\\&')\n",
    "            doc.append(NoEscape(tex_content))\n",
    "    except Exception as e:\n",
    "        print(e)"
   ]
  },
  {
   "cell_type": "markdown",
   "metadata": {
    "id": "58jBeL42P2SF"
   },
   "source": [
    "## PDF Generation"
   ]
  },
  {
   "cell_type": "code",
   "execution_count": 43,
   "metadata": {
    "colab": {
     "base_uri": "https://localhost:8080/"
    },
    "id": "DclfbWmyP2d2",
    "outputId": "8312337f-855c-4e70-ea10-958136f0e04b"
   },
   "outputs": [
    {
     "name": "stdout",
     "output_type": "stream",
     "text": [
      "Latexmk: This is Latexmk, John Collins, 17 March 2019, version: 4.63b.\n",
      "Rule 'pdflatex': The following rules & subrules became out-of-date:\n",
      "      'pdflatex'\n",
      "------------\n",
      "Run number 1 of rule 'pdflatex'\n",
      "------------\n",
      "------------\n",
      "Running 'pdflatex  --interaction=nonstopmode -recorder  \"/Users/hissain/git/github/llmexp/books_prof/bias/Common Biases and Fallacies: A Critical Examination.tex\"'\n",
      "------------\n",
      "Latexmk: applying rule 'pdflatex'...\n",
      "This is pdfTeX, Version 3.14159265-2.6-1.40.20 (TeX Live 2019) (preloaded format=pdflatex)\n",
      " restricted \\write18 enabled.\n",
      "entering extended mode\n",
      "\n",
      "(/Users/hissain/git/github/llmexp/books_prof/bias/Common Biases and Fallacies: \n",
      "A Critical Examination.tex\n",
      "LaTeX2e <2018-12-01>\n",
      "(/usr/local/texlive/2019/texmf-dist/tex/latex/base/report.cls\n",
      "Document Class: report 2018/09/03 v1.4i Standard LaTeX document class\n",
      "(/usr/local/texlive/2019/texmf-dist/tex/latex/base/size10.clo))\n",
      "(/usr/local/texlive/2019/texmf-dist/tex/latex/base/fontenc.sty\n",
      "(/usr/local/texlive/2019/texmf-dist/tex/latex/base/t1enc.def))\n",
      "(/usr/local/texlive/2019/texmf-dist/tex/latex/base/inputenc.sty)\n",
      "(/usr/local/texlive/2019/texmf-dist/tex/latex/lm/lmodern.sty)\n",
      "(/usr/local/texlive/2019/texmf-dist/tex/latex/base/textcomp.sty\n",
      "(/usr/local/texlive/2019/texmf-dist/tex/latex/base/ts1enc.def\n",
      "(/usr/local/texlive/2019/texmf-dist/tex/latex/base/ts1enc.dfu)))\n",
      "(/usr/local/texlive/2019/texmf-dist/tex/latex/lastpage/lastpage.sty)\n",
      "(/usr/local/texlive/2019/texmf-dist/tex/latex/geometry/geometry.sty\n",
      "(/usr/local/texlive/2019/texmf-dist/tex/latex/graphics/keyval.sty)\n",
      "(/usr/local/texlive/2019/texmf-dist/tex/generic/oberdiek/ifpdf.sty)\n",
      "(/usr/local/texlive/2019/texmf-dist/tex/generic/oberdiek/ifvtex.sty)\n",
      "(/usr/local/texlive/2019/texmf-dist/tex/generic/ifxetex/ifxetex.sty))\n",
      "(/usr/local/texlive/2019/texmf-dist/tex/latex/amsmath/amsmath.sty\n",
      "For additional information on amsmath, use the `?' option.\n",
      "(/usr/local/texlive/2019/texmf-dist/tex/latex/amsmath/amstext.sty\n",
      "(/usr/local/texlive/2019/texmf-dist/tex/latex/amsmath/amsgen.sty))\n",
      "(/usr/local/texlive/2019/texmf-dist/tex/latex/amsmath/amsbsy.sty)\n",
      "(/usr/local/texlive/2019/texmf-dist/tex/latex/amsmath/amsopn.sty))\n",
      "(/usr/local/texlive/2019/texmf-dist/tex/latex/amsfonts/amssymb.sty\n",
      "(/usr/local/texlive/2019/texmf-dist/tex/latex/amsfonts/amsfonts.sty))\n",
      "(/usr/local/texlive/2019/texmf-dist/tex/latex/mathtools/mathtools.sty\n",
      "(/usr/local/texlive/2019/texmf-dist/tex/latex/tools/calc.sty)\n",
      "(/usr/local/texlive/2019/texmf-dist/tex/latex/mathtools/mhsetup.sty))\n",
      "(/usr/local/texlive/2019/texmf-dist/tex/latex/tools/bm.sty)\n",
      "(/usr/local/texlive/2019/texmf-dist/tex/latex/physics/physics.sty\n",
      "(/usr/local/texlive/2019/texmf-dist/tex/latex/l3packages/xparse/xparse.sty\n",
      "(/usr/local/texlive/2019/texmf-dist/tex/latex/l3kernel/expl3.sty\n",
      "(/usr/local/texlive/2019/texmf-dist/tex/latex/l3kernel/expl3-code.tex)\n",
      "(/usr/local/texlive/2019/texmf-dist/tex/latex/l3kernel/l3pdfmode.def))))\n",
      "(/usr/local/texlive/2019/texmf-dist/tex/latex/listings/listings.sty\n",
      "(/usr/local/texlive/2019/texmf-dist/tex/latex/listings/lstmisc.sty)\n",
      "(/usr/local/texlive/2019/texmf-dist/tex/latex/listings/listings.cfg))\n",
      "(/usr/local/texlive/2019/texmf-dist/tex/latex/jvlisting/jvlisting.sty)\n",
      "(/usr/local/texlive/2019/texmf-dist/tex/latex/graphics/color.sty\n",
      "(/usr/local/texlive/2019/texmf-dist/tex/latex/graphics-cfg/color.cfg)\n",
      "(/usr/local/texlive/2019/texmf-dist/tex/latex/graphics-def/pdftex.def))\n",
      "(/usr/local/texlive/2019/texmf-dist/tex/latex/underscore/underscore.sty)\n",
      "(./Common Biases and Fallacies: A Critical Examination.aux)\n",
      "(/usr/local/texlive/2019/texmf-dist/tex/latex/base/ts1cmr.fd)\n",
      "(/usr/local/texlive/2019/texmf-dist/tex/latex/lm/t1lmr.fd)\n",
      "*geometry* driver: auto-detecting\n",
      "*geometry* detected driver: pdftex\n",
      "(/usr/local/texlive/2019/texmf-dist/tex/latex/graphics/graphicx.sty\n",
      "(/usr/local/texlive/2019/texmf-dist/tex/latex/graphics/graphics.sty\n",
      "(/usr/local/texlive/2019/texmf-dist/tex/latex/graphics/trig.sty)\n",
      "(/usr/local/texlive/2019/texmf-dist/tex/latex/graphics-cfg/graphics.cfg)))\n",
      "(/usr/local/texlive/2019/texmf-dist/tex/context/base/mkii/supp-pdf.mkii\n",
      "[Loading MPS to PDF converter (version 2006.09.02).]\n",
      ") (/usr/local/texlive/2019/texmf-dist/tex/latex/oberdiek/epstopdf-base.sty\n",
      "(/usr/local/texlive/2019/texmf-dist/tex/generic/oberdiek/infwarerr.sty)\n",
      "(/usr/local/texlive/2019/texmf-dist/tex/latex/oberdiek/grfext.sty\n",
      "(/usr/local/texlive/2019/texmf-dist/tex/generic/oberdiek/kvdefinekeys.sty\n",
      "(/usr/local/texlive/2019/texmf-dist/tex/generic/oberdiek/ltxcmds.sty)))\n",
      "(/usr/local/texlive/2019/texmf-dist/tex/latex/oberdiek/kvoptions.sty\n",
      "(/usr/local/texlive/2019/texmf-dist/tex/generic/oberdiek/kvsetkeys.sty\n",
      "(/usr/local/texlive/2019/texmf-dist/tex/generic/oberdiek/etexcmds.sty\n",
      "(/usr/local/texlive/2019/texmf-dist/tex/generic/oberdiek/ifluatex.sty))))\n",
      "(/usr/local/texlive/2019/texmf-dist/tex/generic/oberdiek/pdftexcmds.sty)\n",
      "(/usr/local/texlive/2019/texmf-dist/tex/latex/latexconfig/epstopdf-sys.cfg))\n",
      "(/usr/local/texlive/2019/texmf-dist/tex/latex/lm/ot1lmr.fd)\n",
      "(/usr/local/texlive/2019/texmf-dist/tex/latex/lm/omllmm.fd)\n",
      "(/usr/local/texlive/2019/texmf-dist/tex/latex/lm/omslmsy.fd)\n",
      "(/usr/local/texlive/2019/texmf-dist/tex/latex/lm/omxlmex.fd)\n",
      "(/usr/local/texlive/2019/texmf-dist/tex/latex/amsfonts/umsa.fd)\n",
      "(/usr/local/texlive/2019/texmf-dist/tex/latex/amsfonts/umsb.fd) [1{/usr/local/t\n",
      "exlive/2019/texmf-var/fonts/map/pdftex/updmap/pdftex.map}]\n",
      "No file \"Common Biases and Fallacies: A Critical Examination\".toc.\n",
      "[1]\n",
      "Chapter 1.\n",
      "[2]\n",
      "Chapter 2.\n",
      "[3] [4]\n",
      "Chapter 3.\n",
      "[5]\n",
      "Chapter 4.\n",
      "! Misplaced alignment tab character &.\n",
      "l.96 ...ing to the Dual-Process Theory (Kahneman &\n",
      "                                                   Tversky, 1979), there are...\n",
      "\n",
      "! Misplaced alignment tab character &.\n",
      "l.107 Kahneman, D., &\n",
      "                      Tversky, A. (1979). Prospect theory: An analysis of de...\n",
      "\n",
      "[6] [7]\n",
      "Chapter 5.\n",
      "[8])\n",
      "Runaway argument?\n",
      "{Motivated reasoning**: The tendency to interpret evidence in a way t\\ETC.\n",
      "! File ended while scanning use of \\emph .\n",
      "<inserted text> \n",
      "                \\par \n",
      "<*> ... and Fallacies: A Critical Examination.tex\"\n",
      "                                                  \n",
      "! Emergency stop.\n",
      "<*> ... and Fallacies: A Critical Examination.tex\"\n",
      "                                                  \n",
      "!  ==> Fatal error occurred, no output PDF file produced!\n",
      "Transcript written on \"Common Biases and Fallacies: A Critical Examination.log\"\n",
      ".\n",
      "Latexmk: Missing input file: 'Common Biases and Fallacies: A Critical Examination.toc' from line\n",
      "  'No file \"Common Biases and Fallacies: A Critical Examination\".toc.'\n",
      "Latexmk: Use the -f option to force complete processing,\n",
      " unless error was exceeding maximum runs, or warnings treated as errors.\n",
      "=== TeX engine is 'pdfTeX'\n",
      "Latexmk: Errors, so I did not complete making targets\n",
      "\n"
     ]
    }
   ],
   "source": [
    "# Compilation. A file named /content/textbook.pdf will be created\n",
    "n_displayed_line = 10\n",
    "isErrorOccured = False\n",
    "\n",
    "try:\n",
    "    doc.generate_pdf(book_node[\"title\"], compiler=\"latexmk\", clean_tex=False)\n",
    "except:\n",
    "    log_file_path = book_node[\"title\"] + \".log\"\n",
    "\n",
    "    # Read the contents of the log file\n",
    "    with open(log_file_path, \"r\", encoding=\"utf-8\", errors=\"ignore\") as file:\n",
    "        lines = file.readlines()\n",
    "\n",
    "    # Define error output pattern (file-line-error option format)\n",
    "    pattern = r'([a-zA-Z0-9_.]+):(\\d+): (.+)'\n",
    "\n",
    "    for i, line in enumerate(lines):\n",
    "        match = re.search(pattern, line)\n",
    "        if match:\n",
    "            isErrorOccured = True\n",
    "            print(f\"Line: {match.group(2)}\")\n",
    "            print(f\"Message: \\n  {match.group(3)}\")\n",
    "            for j in range(i+1, min(i+n_displayed_line, len(lines))):\n",
    "                print(lines[j].strip())\n",
    "            print(\"-\" * 40)"
   ]
  },
  {
   "cell_type": "markdown",
   "metadata": {
    "id": "xam6V7GySM4p"
   },
   "source": [
    "## Markdown Generation"
   ]
  },
  {
   "cell_type": "code",
   "execution_count": 31,
   "metadata": {
    "id": "HO3zD-07Bn1_"
   },
   "outputs": [],
   "source": [
    "def clean_markdown_content(content):\n",
    "    # Remove the part before the first heading (LaTeX settings section)\n",
    "    content = content.split('#', 1)[1]\n",
    "\n",
    "    # Remove % only when it has whitespace before or after\n",
    "    content = re.sub(r\"(?<=\\s)%|%(?=\\s)\", \"\", content)\n",
    "\n",
    "    # Remove % only when it appears at the end of a line\n",
    "    content = re.sub(r\"%\\s*$\", \"\", content)\n",
    "\n",
    "    # Replace multiple newlines with a single newline\n",
    "    content = re.sub(r\"\\n{2,}\", \"\\n\\n\", content)\n",
    "\n",
    "    return content\n",
    "\n",
    "def convert_to_latex_to_katex(content):\n",
    "    # Convert align and align* environments\n",
    "    content = re.sub(r'\\\\begin{align\\*?}', r'$$\\n\\\\begin{aligned}', content)\n",
    "    content = re.sub(r'\\\\end{align\\*?}', r'\\\\end{aligned}\\n$$', content)\n",
    "\n",
    "    # Convert equation and equation* environments\n",
    "    content = re.sub(r'\\\\begin{equation\\*?}', r'$$', content)\n",
    "    content = re.sub(r'\\\\end{equation\\*?}', r'$$', content)\n",
    "\n",
    "    return content\n",
    "\n",
    "def transform_code_blocks(content):\n",
    "\n",
    "    # Extract and handle language option\n",
    "    def replace_lstlisting(match):\n",
    "        options = match.group(1)\n",
    "        code = match.group(2)\n",
    "        # Search for language option\n",
    "        lang_match = re.search(r'language=([a-zA-Z]+)', options)\n",
    "        lang = lang_match.group(1) if lang_match else ''\n",
    "        # Convert to Markdown format\n",
    "        return f'```{lang}\\n{code}\\n```'\n",
    "\n",
    "    # Conversion process for lstlisting\n",
    "    content = re.sub(r'\\\\begin{lstlisting}\\[(.*?)\\](.*?)\\\\end{lstlisting}', replace_lstlisting, content, flags=re.DOTALL)\n",
    "\n",
    "    return content"
   ]
  },
  {
   "cell_type": "code",
   "execution_count": 25,
   "metadata": {
    "colab": {
     "base_uri": "https://localhost:8080/",
     "height": 35
    },
    "id": "MXiU2T1gSPpf",
    "outputId": "de628cbf-da5f-417c-8b0d-8977e577e19e"
   },
   "outputs": [],
   "source": [
    "# if md_output:\n",
    "#     %pip install latex2markdown\n",
    "#     import latex2markdown\n",
    "\n",
    "#     with open(book_node[\"title\"] + \".tex\", \"r\") as f:\n",
    "#         latex_string = f.read()\n",
    "\n",
    "#     # Convert LaTeX to Markdown\n",
    "#     processed_latex_str = transform_code_blocks(latex_string)\n",
    "#     l2m = latex2markdown.LaTeX2Markdown(processed_latex_str)\n",
    "#     markdown_string = l2m.to_markdown()\n",
    "\n",
    "#     # Format the Markdown text\n",
    "#     cleaned_md_str = clean_markdown_content(markdown_string)\n",
    "#     katex_md_str = convert_to_latex_to_katex(cleaned_md_str)\n",
    "\n",
    "#     with open(book_node[\"title\"] + \".md\", \"w\") as f:\n",
    "#         f.write(katex_md_str)\n",
    "#     files.download(book_node[\"title\"] + \".md\")"
   ]
  }
 ],
 "metadata": {
  "colab": {
   "include_colab_link": true,
   "provenance": []
  },
  "kernelspec": {
   "display_name": "Python 3 (ipykernel)",
   "language": "python",
   "name": "python3"
  },
  "language_info": {
   "codemirror_mode": {
    "name": "ipython",
    "version": 3
   },
   "file_extension": ".py",
   "mimetype": "text/x-python",
   "name": "python",
   "nbconvert_exporter": "python",
   "pygments_lexer": "ipython3",
   "version": "3.11.5"
  }
 },
 "nbformat": 4,
 "nbformat_minor": 1
}
